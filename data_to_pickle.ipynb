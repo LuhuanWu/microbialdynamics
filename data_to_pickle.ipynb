{
 "cells": [
  {
   "cell_type": "code",
   "execution_count": 1,
   "metadata": {
    "collapsed": true
   },
   "outputs": [],
   "source": [
    "import numpy as np\n",
    "import pandas as pd"
   ]
  },
  {
   "cell_type": "code",
   "execution_count": 2,
   "metadata": {
    "collapsed": true
   },
   "outputs": [],
   "source": [
    "file1 = \"data/taur-events.csv\"\n",
    "file2 = \"data/taur-otu-table-15tpts.csv\""
   ]
  },
  {
   "cell_type": "code",
   "execution_count": 3,
   "metadata": {
    "collapsed": true
   },
   "outputs": [],
   "source": [
    "f1 = pd.read_csv(file1)\n",
    "f2 = pd.read_csv(file2, header=None)"
   ]
  },
  {
   "cell_type": "code",
   "execution_count": 4,
   "metadata": {
    "collapsed": true
   },
   "outputs": [],
   "source": [
    "data1 = f1.to_numpy()\n",
    "data2 = f2.to_numpy()"
   ]
  },
  {
   "cell_type": "code",
   "execution_count": 5,
   "metadata": {
    "collapsed": true
   },
   "outputs": [],
   "source": [
    "pid = np.array(f1['patientID'])"
   ]
  },
  {
   "cell_type": "markdown",
   "metadata": {},
   "source": [
    "### obs"
   ]
  },
  {
   "cell_type": "code",
   "execution_count": 6,
   "metadata": {
    "collapsed": true
   },
   "outputs": [],
   "source": [
    "measure_pid = f2.loc[0:0, 1:]\n",
    "measure_pid = np.array(measure_pid, dtype=int)\n",
    "measure_pid = measure_pid.reshape((-1))\n",
    "f2pid = np.unique(measure_pid)"
   ]
  },
  {
   "cell_type": "code",
   "execution_count": 7,
   "metadata": {
    "collapsed": false
   },
   "outputs": [
    {
     "name": "stdout",
     "output_type": "stream",
     "text": [
      "21 patients with id [ 26  31  97 447 515 530 531 537 551 642 694 697 698 704 708 721 747 753\n",
      " 763 765 769]\n"
     ]
    }
   ],
   "source": [
    "print(\"{} patients with id {}\".format(len(f2pid), f2pid))"
   ]
  },
  {
   "cell_type": "code",
   "execution_count": 8,
   "metadata": {
    "collapsed": false
   },
   "outputs": [
    {
     "name": "stdout",
     "output_type": "stream",
     "text": [
      "count shape (measures, microbio speicies): (405, 770)\n"
     ]
    }
   ],
   "source": [
    "count = data2[2:-1, 1:].T.astype(int)\n",
    "print(\"count shape (measures, microbio speicies):\", count.shape)\n",
    "count_sum_across_spieces = np.sum(count, axis=1, keepdims=True)\n",
    "percentage = count / count_sum_across_spieces"
   ]
  },
  {
   "cell_type": "code",
   "execution_count": 9,
   "metadata": {
    "collapsed": false
   },
   "outputs": [
    {
     "name": "stdout",
     "output_type": "stream",
     "text": [
      "top_k_spieces_idx: [281 291 411 326 284 441 731  15  25 261]\n",
      "top  0, idx  281, percentage_sum 98.14, name Bacteria;Firmicutes;Bacilli;Lactobacillales;Enterococcaceae;Enterococcus\n",
      "top  1, idx  291, percentage_sum 60.05, name Bacteria;Firmicutes;Bacilli;Lactobacillales;Streptococcaceae;Streptococcus\n",
      "top  2, idx  411, percentage_sum 34.52, name Bacteria;Firmicutes;Erysipelotrichia;Erysipelotrichales;Erysipelotrichaceae;Erysipelatoclostridium\n",
      "top  3, idx  326, percentage_sum 31.39, name Bacteria;Firmicutes;Clostridia;Clostridiales;Lachnospiraceae;Blautia\n",
      "top  4, idx  284, percentage_sum 18.89, name Bacteria;Firmicutes;Bacilli;Lactobacillales;Lactobacillaceae;Lactobacillus\n",
      "top  5, idx  441, percentage_sum 12.88, name Bacteria;Firmicutes;Negativicutes;Veillonellales;Veillonellaceae;Veillonella\n",
      "top  6, idx  731, percentage_sum 12.48, name Bacteria;Verrucomicrobia;Verrucomicrobiae;Verrucomicrobiales;Akkermansiaceae;Akkermansia\n",
      "top  7, idx   15, percentage_sum 11.00, name Bacteria;Actinobacteria;Actinobacteria;Actinomycetales;Actinomycetaceae;Actinomyces\n",
      "top  8, idx   25, percentage_sum 10.38, name Bacteria;Actinobacteria;Actinobacteria;Bifidobacteriales;Bifidobacteriaceae;Bifidobacterium\n",
      "top  9, idx  261, percentage_sum  8.40, name Bacteria;Firmicutes;Bacilli;Bacillales;Staphylococcaceae;Staphylococcus\n"
     ]
    }
   ],
   "source": [
    "percentage_sum_across_measures = np.sum(percentage, axis=0)\n",
    "spieces_name = data2[2:-1, 0]\n",
    "k = 10\n",
    "top_k_spieces_idx = np.argsort(percentage_sum_across_measures)[-k:][::-1]\n",
    "print(\"top_k_spieces_idx:\", top_k_spieces_idx)\n",
    "for i, idx in enumerate(top_k_spieces_idx):\n",
    "    print(\"top {:>2}, idx {:>4}, percentage_sum {:>5.2f}, name {}\".format(i, idx, percentage_sum_across_measures[idx], spieces_name[idx]))"
   ]
  },
  {
   "cell_type": "code",
   "execution_count": 12,
   "metadata": {
    "collapsed": false
   },
   "outputs": [
    {
     "name": "stdout",
     "output_type": "stream",
     "text": [
      "[ -5  -3   5   6  14  16  18  19  20  22  25  26  27  28  29  30  32  33\n",
      "  34  36  -3   0   4   5   6   7   8  10  11  13  19  21  22  31  32  33\n",
      "  34  35  36  37  38  39  40  41  42  43  -6  -2   1   2   3   4   5   6\n",
      "   8   9  10  12  13  14  15  16  22  -9  -8  -7  -6  -5  -4  -3  -2  -1\n",
      "   0   2   3   4   5   7   9  10  11  12  13  -7  -6  -4  -3  -2  -1   0\n",
      "   2   3   4   5   6   7   8   9  10  12  14  15  20  21  -3  -2  -1   0\n",
      "   2   3   5   6   7  10  12  13  14  22  28  29  31  -5   0   1   4   8\n",
      "  10  12  13  14  16  18  25  31  33  34  36  37  39  41  42  43  44  47\n",
      "  48  50  51  52   1   2   3   4   7   8  10  12  13  16  17  18  20  21\n",
      "  25  27  28  -4  -3  -2  -1   0   1   2   3   4   5   6   7   8   9  10\n",
      "  11  13  16  20  21  26 -13  -6  -2  -1   0   1   2   4   5   6   7   8\n",
      "   9  11  16  18  19  -6  -3  -2  -1   0   1   3   4   5   6   7  10  11\n",
      "  12  13  -4  -2  -1   0   4   5   8  10  11  13  15  16  19  21  23  27\n",
      "  -7  -6  -4  -3  -2  -1   0   1   4   5   6   7  10  11  12  13  15  17\n",
      "  18  -9  -8  -7  -4  -3  -2  -1   0   1   2   3   4   5   6   7  10  11\n",
      "  15  16  17  18  25  30  36  40  -9  -8  -7  -6  -5  -4  -3  -2  -1   1\n",
      "   3   4   5   6   7   8  10  11  13  15  -6   0   1   7   9  11  12  13\n",
      "  14  16  19  23  26  28  29  32  33  36  -2  -1   0   4   5   7   8  10\n",
      "  11  12  13  14  18  19  20  21  22  -5  -3  -1   0   1  11  13  19  20\n",
      "  21  24  25  26  28  32  -5  -4  -3  -1   0   3   4   5   6   7  10  11\n",
      "  12  13  14  16  17  18  19  20  21 -10  -9  -7  -6  -5  -4  -3  -2  -1\n",
      "   0   3   4   7   8   9  10  11  12  13  14  -6  -3  -2  -1   0   1   6\n",
      "   7   8  11  12  13  14  17  18  19]\n"
     ]
    }
   ],
   "source": [
    "print(dates)"
   ]
  },
  {
   "cell_type": "code",
   "execution_count": 11,
   "metadata": {
    "collapsed": false
   },
   "outputs": [
    {
     "name": "stdout",
     "output_type": "stream",
     "text": [
      "21 (20, 12)\n"
     ]
    }
   ],
   "source": [
    "obs = []\n",
    "\n",
    "dates = data2[1, 1:].astype(int)\n",
    "percentage_obs = np.zeros((percentage.shape[0], k + 2))\n",
    "percentage_obs[:, 0] = dates\n",
    "percentage_obs[:, 1:-1] = percentage[:, top_k_spieces_idx]\n",
    "percentage_obs[:, -1] = 1 - np.sum(percentage_obs[:, 1:], axis=-1)\n",
    "\n",
    "pid_measure_start = 0\n",
    "for pid in f2pid:\n",
    "    patient_obs = []\n",
    "    for i in range(pid_measure_start, len(measure_pid)):\n",
    "        if measure_pid[i] != pid:\n",
    "            pid_measure_start = i\n",
    "            break\n",
    "        patient_obs.append(percentage_obs[i])\n",
    "    obs.append(np.asarray(patient_obs))\n",
    "print(len(obs), obs[0].shape)"
   ]
  },
  {
   "cell_type": "markdown",
   "metadata": {},
   "source": [
    "### Input"
   ]
  },
  {
   "cell_type": "code",
   "execution_count": null,
   "metadata": {
    "collapsed": true
   },
   "outputs": [],
   "source": [
    "event_pid, event, event_start, event_end = data1.T\n",
    "event_pid = np.array(event_pid, dtype=int)\n",
    "event_start = np.array(event_start, dtype=int)\n",
    "event_end = np.array(event_end, dtype=int)\n",
    "unique_event = list(np.unique(event))\n",
    "num_event = len(unique_event)\n",
    "print(\"total {} kinds of events: {}\".format(num_event, unique_event))"
   ]
  },
  {
   "cell_type": "code",
   "execution_count": null,
   "metadata": {
    "collapsed": true
   },
   "outputs": [],
   "source": [
    "Input = []\n",
    "for pid in f2pid:\n",
    "    patient_event_idxs = np.where(event_pid == pid)[0]\n",
    "    input_start = min(event_start[patient_event_idxs])\n",
    "    input_end = max(event_end[patient_event_idxs])\n",
    "    input_len = input_end - input_start + 1\n",
    "    patient_input = np.zeros((input_len, num_event + 1))\n",
    "    patient_input[:, 0] = np.arange(input_start, input_end + 1)\n",
    "    for event_idx in patient_event_idxs:\n",
    "        patient_event = event[event_idx]\n",
    "        event_id = unique_event.index(patient_event) + 1\n",
    "        event_start_idx = event_start[event_idx] - input_start\n",
    "        event_end_idx = event_end[event_idx] - input_start + 1\n",
    "        patient_input[event_start_idx:event_end_idx, event_id] = np.ones(event_end_idx - event_start_idx)\n",
    "    Input.append(patient_input)\n",
    "print(len(Input), Input[0].shape)"
   ]
  },
  {
   "cell_type": "markdown",
   "metadata": {},
   "source": [
    "### split into train & test and save"
   ]
  },
  {
   "cell_type": "code",
   "execution_count": null,
   "metadata": {
    "collapsed": true
   },
   "outputs": [],
   "source": [
    "import os, pickle\n",
    "n_train = 17\n",
    "data = {}\n",
    "data[\"Ytrain\"] = obs[:n_train]\n",
    "data[\"Ytest\"] = obs[n_train:]\n",
    "data[\"Vtrain\"] = Input[:n_train]\n",
    "data[\"Vtest\"] = Input[n_train:]\n",
    "with open(os.path.join(\"data\", \"microbio.p\"), \"wb\") as f:\n",
    "    pickle.dump(data, f)"
   ]
  }
 ],
 "metadata": {
  "kernelspec": {
   "display_name": "Python 3",
   "language": "python",
   "name": "python3"
  },
  "language_info": {
   "codemirror_mode": {
    "name": "ipython",
    "version": 3
   },
   "file_extension": ".py",
   "mimetype": "text/x-python",
   "name": "python",
   "nbconvert_exporter": "python",
   "pygments_lexer": "ipython3",
   "version": "3.7.2"
  }
 },
 "nbformat": 4,
 "nbformat_minor": 2
}
