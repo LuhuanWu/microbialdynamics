{
 "cells": [
  {
   "cell_type": "code",
   "execution_count": 2,
   "metadata": {
    "collapsed": true
   },
   "outputs": [],
   "source": [
    "import numpy as np\n",
    "import pandas as pd"
   ]
  },
  {
   "cell_type": "code",
   "execution_count": 5,
   "metadata": {
    "collapsed": true
   },
   "outputs": [],
   "source": [
    "file1 = \"data/taur-events.csv\"\n",
    "file2 = \"data/taur-otu-table-15tpts.csv\""
   ]
  },
  {
   "cell_type": "code",
   "execution_count": 34,
   "metadata": {
    "collapsed": false
   },
   "outputs": [],
   "source": [
    "f1 = pd.read_csv(file1)\n",
    "f2 = pd.read_csv(file2, header=None)"
   ]
  },
  {
   "cell_type": "code",
   "execution_count": 13,
   "metadata": {
    "collapsed": false
   },
   "outputs": [],
   "source": [
    "data1 = f1.to_numpy()\n",
    "data2 = f2.to_numpy()"
   ]
  },
  {
   "cell_type": "code",
   "execution_count": 43,
   "metadata": {
    "collapsed": false
   },
   "outputs": [],
   "source": [
    "pid = np.array(f1['patientID'])"
   ]
  },
  {
   "cell_type": "code",
   "execution_count": 139,
   "metadata": {
    "collapsed": false
   },
   "outputs": [],
   "source": [
    "f2pid = f2.loc[0:0, 1:]"
   ]
  },
  {
   "cell_type": "code",
   "execution_count": 145,
   "metadata": {
    "collapsed": false
   },
   "outputs": [],
   "source": [
    "f2pid = np.array(f2pid, dtype=int)"
   ]
  },
  {
   "cell_type": "code",
   "execution_count": 149,
   "metadata": {
    "collapsed": false
   },
   "outputs": [],
   "source": [
    "f2pid = f2pid.reshape((-1))"
   ]
  },
  {
   "cell_type": "markdown",
   "metadata": {},
   "source": [
    "- step 1. get index slices"
   ]
  },
  {
   "cell_type": "code",
   "execution_count": 154,
   "metadata": {
    "collapsed": true
   },
   "outputs": [],
   "source": [
    "slice_idx = []"
   ]
  },
  {
   "cell_type": "code",
   "execution_count": 156,
   "metadata": {
    "collapsed": false
   },
   "outputs": [],
   "source": [
    "for i in range(1, len(f2pid)-1):\n",
    "    if f2pid[i] != f2pid[i-1]:\n",
    "        slice_idx.append(i)"
   ]
  },
  {
   "cell_type": "code",
   "execution_count": 181,
   "metadata": {
    "collapsed": true
   },
   "outputs": [],
   "source": [
    "slice_idx = [0] + slice_idx"
   ]
  },
  {
   "cell_type": "code",
   "execution_count": 184,
   "metadata": {
    "collapsed": true
   },
   "outputs": [],
   "source": [
    "slice_idx.append(405)"
   ]
  },
  {
   "cell_type": "code",
   "execution_count": 194,
   "metadata": {
    "collapsed": true
   },
   "outputs": [],
   "source": [
    "dfs = []"
   ]
  },
  {
   "cell_type": "code",
   "execution_count": 195,
   "metadata": {
    "collapsed": false
   },
   "outputs": [
    {
     "name": "stdout",
     "output_type": "stream",
     "text": [
      "1 21\n",
      "21 47\n",
      "47 64\n",
      "64 84\n",
      "84 105\n",
      "105 122\n",
      "122 149\n",
      "149 166\n",
      "166 187\n",
      "187 204\n",
      "204 219\n",
      "219 235\n",
      "235 254\n",
      "254 279\n",
      "279 299\n",
      "299 317\n",
      "317 334\n",
      "334 349\n",
      "349 370\n",
      "370 390\n",
      "390 406\n"
     ]
    }
   ],
   "source": [
    "for i in range(0,len(slice_idx)-1):\n",
    "    print(slice_idx[i]+1, slice_idx[i+1]+1)"
   ]
  },
  {
   "cell_type": "markdown",
   "metadata": {},
   "source": [
    "- step 2. get sliced dataframe\n"
   ]
  },
  {
   "cell_type": "code",
   "execution_count": 196,
   "metadata": {
    "collapsed": true
   },
   "outputs": [],
   "source": [
    "for i in range(0, len(slice_idx)-1):\n",
    "    idx1 = slice_idx[i] + 1\n",
    "    idx2 = slice_idx[i+1] + 1\n",
    "    df = f2[f2.columns[idx1 : idx2]]\n",
    "    dfs.append(df)"
   ]
  },
  {
   "cell_type": "code",
   "execution_count": 239,
   "metadata": {
    "collapsed": true
   },
   "outputs": [],
   "source": [
    "np_dfs = []\n",
    "for df in dfs:\n",
    "    np_df = np.array(df[2:-1], dtype=int)\n",
    "    np_dfs.append(np_df)"
   ]
  },
  {
   "cell_type": "code",
   "execution_count": 245,
   "metadata": {
    "collapsed": false
   },
   "outputs": [
    {
     "data": {
      "text/plain": [
       "(770, 20)"
      ]
     },
     "execution_count": 245,
     "metadata": {},
     "output_type": "execute_result"
    }
   ],
   "source": [
    "np_dfs[0].shape"
   ]
  },
  {
   "cell_type": "markdown",
   "metadata": {},
   "source": [
    "- step 3. for each dataframe, compute the top-n microbial, and select the corresponding data"
   ]
  },
  {
   "cell_type": "code",
   "execution_count": 285,
   "metadata": {
    "collapsed": true
   },
   "outputs": [],
   "source": [
    "n = 5"
   ]
  },
  {
   "cell_type": "code",
   "execution_count": 313,
   "metadata": {
    "collapsed": false
   },
   "outputs": [],
   "source": [
    "def get_top_n(df, n):\n",
    "    col_sum = df.sum(axis=0)\n",
    "    # normalized along each column\n",
    "    normalized_df = df / col_sum\n",
    "    # sum across measures (columns)\n",
    "    out = np.sum(normalized_df, axis=1)\n",
    "    top_n_idx = np.argsort(out)[-n:]\n",
    "    top_n_data = df[top_n_idx]\n",
    "    return top_n_idx, top_n_data"
   ]
  },
  {
   "cell_type": "code",
   "execution_count": 314,
   "metadata": {
    "collapsed": false
   },
   "outputs": [],
   "source": [
    "top_n_indices = []\n",
    "top_n_datas = []\n",
    "for df in np_dfs:\n",
    "    top_n_idx, top_n_data = get_top_n(df, n)\n",
    "    top_n_indices.append(top_n_idx)\n",
    "    top_n_datas.append(top_n_data)"
   ]
  },
  {
   "cell_type": "markdown",
   "metadata": {},
   "source": [
    "check the percentage of zeros in each microdial for each patient.\n",
    "\n",
    "Perhaps we want to filter out the microdial that has missing entry percentage > 0.4"
   ]
  },
  {
   "cell_type": "code",
   "execution_count": 328,
   "metadata": {
    "collapsed": false
   },
   "outputs": [
    {
     "name": "stdout",
     "output_type": "stream",
     "text": [
      "0.4\n",
      "0.0\n",
      "0.0\n",
      "0.05\n",
      "0.0\n",
      "0.38461538461538464\n",
      "0.11538461538461539\n",
      "0.19230769230769232\n",
      "0.038461538461538464\n",
      "0.0\n",
      "0.35294117647058826\n",
      "0.23529411764705882\n",
      "0.23529411764705882\n",
      "0.058823529411764705\n",
      "0.0\n",
      "0.35\n",
      "0.0\n",
      "0.25\n",
      "0.5\n",
      "0.0\n",
      "0.23809523809523808\n",
      "0.09523809523809523\n",
      "0.0\n",
      "0.19047619047619047\n",
      "0.0\n",
      "0.11764705882352941\n",
      "0.11764705882352941\n",
      "0.0\n",
      "0.0\n",
      "0.0\n",
      "0.18518518518518517\n",
      "0.8518518518518519\n",
      "0.5185185185185185\n",
      "0.6296296296296297\n",
      "0.0\n",
      "0.11764705882352941\n",
      "0.4117647058823529\n",
      "0.058823529411764705\n",
      "0.058823529411764705\n",
      "0.0\n",
      "0.47619047619047616\n",
      "0.2857142857142857\n",
      "0.0\n",
      "0.14285714285714285\n",
      "0.047619047619047616\n",
      "0.0\n",
      "0.058823529411764705\n",
      "0.0\n",
      "0.058823529411764705\n",
      "0.0\n",
      "0.0\n",
      "0.0\n",
      "0.4666666666666667\n",
      "0.0\n",
      "0.0\n",
      "0.1875\n",
      "0.0625\n",
      "0.0\n",
      "0.0625\n",
      "0.0625\n",
      "0.42105263157894735\n",
      "0.2631578947368421\n",
      "0.42105263157894735\n",
      "0.2631578947368421\n",
      "0.0\n",
      "0.52\n",
      "0.52\n",
      "0.28\n",
      "0.4\n",
      "0.32\n",
      "0.2\n",
      "0.05\n",
      "0.0\n",
      "0.4\n",
      "0.25\n",
      "0.05555555555555555\n",
      "0.1111111111111111\n",
      "0.0\n",
      "0.05555555555555555\n",
      "0.05555555555555555\n",
      "0.29411764705882354\n",
      "0.47058823529411764\n",
      "0.0\n",
      "0.0\n",
      "0.0\n",
      "0.0\n",
      "0.0\n",
      "0.06666666666666667\n",
      "0.0\n",
      "0.0\n",
      "0.0\n",
      "0.0\n",
      "0.0\n",
      "0.0\n",
      "0.0\n",
      "0.0\n",
      "0.0\n",
      "0.0\n",
      "0.0\n",
      "0.0\n",
      "0.375\n",
      "0.0625\n",
      "0.125\n",
      "0.25\n",
      "0.0\n"
     ]
    }
   ],
   "source": [
    "for d in top_n_datas:\n",
    "    for row in d:\n",
    "        print(np.sum(row == 0) / len(row))"
   ]
  },
  {
   "cell_type": "code",
   "execution_count": null,
   "metadata": {
    "collapsed": true
   },
   "outputs": [],
   "source": []
  }
 ],
 "metadata": {
  "kernelspec": {
   "display_name": "SMC_venv",
   "language": "python",
   "name": "smc_venv"
  },
  "language_info": {
   "codemirror_mode": {
    "name": "ipython",
    "version": 3
   },
   "file_extension": ".py",
   "mimetype": "text/x-python",
   "name": "python",
   "nbconvert_exporter": "python",
   "pygments_lexer": "ipython3",
   "version": "3.6.8"
  }
 },
 "nbformat": 4,
 "nbformat_minor": 2
}
