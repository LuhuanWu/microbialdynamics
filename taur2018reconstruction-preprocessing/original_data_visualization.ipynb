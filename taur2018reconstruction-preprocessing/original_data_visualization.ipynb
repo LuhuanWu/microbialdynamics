{
 "cells": [
  {
   "cell_type": "code",
   "execution_count": 7,
   "metadata": {
    "collapsed": true
   },
   "outputs": [],
   "source": [
    "import sys\n",
    "sys.path.append(\"/Users/leah/Columbia/courses/19summer/microbialdynamics\")"
   ]
  },
  {
   "cell_type": "code",
   "execution_count": 14,
   "metadata": {
    "collapsed": true
   },
   "outputs": [],
   "source": [
    "import numpy as np\n",
    "import pandas as pd\n",
    "import matplotlib.pyplot as plt\n",
    "import seaborn as sns\n",
    "import pickle\n",
    "\n",
    "import os\n",
    "\n",
    "%matplotlib inline"
   ]
  },
  {
   "cell_type": "code",
   "execution_count": 4,
   "metadata": {
    "collapsed": true
   },
   "outputs": [],
   "source": [
    "dat = np.loadtxt(\"taur-otu-table-filtered.csv\", delimiter=\",\", dtype=str)"
   ]
  },
  {
   "cell_type": "code",
   "execution_count": 5,
   "metadata": {
    "collapsed": false
   },
   "outputs": [
    {
     "data": {
      "text/plain": [
       "(773, 1158)"
      ]
     },
     "execution_count": 5,
     "metadata": {},
     "output_type": "execute_result"
    }
   ],
   "source": [
    "dat.shape"
   ]
  },
  {
   "cell_type": "code",
   "execution_count": 9,
   "metadata": {
    "collapsed": false
   },
   "outputs": [
    {
     "data": {
      "text/plain": [
       "array(['day', '-9', '-4', ..., '17', '18', '19'], dtype='<U125')"
      ]
     },
     "execution_count": 9,
     "metadata": {},
     "output_type": "execute_result"
    }
   ],
   "source": [
    "dat[1]"
   ]
  },
  {
   "cell_type": "markdown",
   "metadata": {},
   "source": [
    "# select top K obs"
   ]
  },
  {
   "cell_type": "code",
   "execution_count": 10,
   "metadata": {
    "collapsed": true
   },
   "outputs": [],
   "source": [
    "file2 = \"taur-otu-table-filtered.csv\""
   ]
  },
  {
   "cell_type": "code",
   "execution_count": 13,
   "metadata": {
    "collapsed": false
   },
   "outputs": [],
   "source": [
    "f2 = pd.read_csv(file2, header=None)"
   ]
  },
  {
   "cell_type": "code",
   "execution_count": 14,
   "metadata": {
    "collapsed": true
   },
   "outputs": [],
   "source": [
    "data2 = f2.to_numpy()"
   ]
  },
  {
   "cell_type": "code",
   "execution_count": 15,
   "metadata": {
    "collapsed": true
   },
   "outputs": [],
   "source": [
    "measure_pid = f2.loc[0:0, 1:]\n",
    "measure_pid = np.array(measure_pid, dtype=int)\n",
    "measure_pid = measure_pid.reshape((-1))\n",
    "f2pid = np.unique(measure_pid)"
   ]
  },
  {
   "cell_type": "code",
   "execution_count": 16,
   "metadata": {
    "collapsed": false
   },
   "outputs": [
    {
     "name": "stdout",
     "output_type": "stream",
     "text": [
      "185 patients with id [  1   2  10  12  13  20  25  26  31  38  44  53  59  64  65  66  68  69\n",
      "  70  74  75  76  88  93  96  97 113 115 121 126 137 146 151 155 166 167\n",
      " 169 170 174 177 181 184 218 226 234 235 239 240 243 248 250 255 257 259\n",
      " 263 267 270 272 279 283 286 294 295 302 304 305 306 315 321 327 329 333\n",
      " 341 347 348 361 364 366 369 372 378 383 386 389 402 410 413 416 423 429\n",
      " 436 444 447 448 449 460 462 463 466 467 480 491 495 497 498 500 501 502\n",
      " 503 504 505 506 507 508 512 515 516 523 529 530 531 534 536 537 545 546\n",
      " 551 552 559 565 566 572 577 590 593 600 602 604 605 606 608 620 622 623\n",
      " 631 635 641 642 656 657 662 663 664 666 667 675 683 684 689 690 691 694\n",
      " 697 698 704 705 706 708 710 715 718 721 723 725 736 738 746 747 748 750\n",
      " 753 756 763 765 769]\n"
     ]
    }
   ],
   "source": [
    "print(\"{} patients with id {}\".format(len(f2pid), f2pid))"
   ]
  },
  {
   "cell_type": "code",
   "execution_count": 17,
   "metadata": {
    "collapsed": false
   },
   "outputs": [
    {
     "name": "stdout",
     "output_type": "stream",
     "text": [
      "count shape (measures, microbio speicies): (1157, 770)\n"
     ]
    }
   ],
   "source": [
    "count = data2[2:-1, 1:].T.astype(int)\n",
    "print(\"count shape (measures, microbio speicies):\", count.shape)\n",
    "count_sum_across_spieces = np.sum(count, axis=1, keepdims=True)\n",
    "percentage = count / count_sum_across_spieces"
   ]
  },
  {
   "cell_type": "code",
   "execution_count": 18,
   "metadata": {
    "collapsed": false
   },
   "outputs": [
    {
     "name": "stdout",
     "output_type": "stream",
     "text": [
      "top_k_spieces_idx: [281 291 411 326 284 731  15  25 386 126]\n",
      "top  0, idx  281, percentage_sum 223.82, name Bacteria;Firmicutes;Bacilli;Lactobacillales;Enterococcaceae;Enterococcus\n",
      "top  1, idx  291, percentage_sum 139.93, name Bacteria;Firmicutes;Bacilli;Lactobacillales;Streptococcaceae;Streptococcus\n",
      "top  2, idx  411, percentage_sum 127.12, name Bacteria;Firmicutes;Erysipelotrichia;Erysipelotrichales;Erysipelotrichaceae;Erysipelatoclostridium\n",
      "top  3, idx  326, percentage_sum 110.75, name Bacteria;Firmicutes;Clostridia;Clostridiales;Lachnospiraceae;Blautia\n",
      "top  4, idx  284, percentage_sum 55.71, name Bacteria;Firmicutes;Bacilli;Lactobacillales;Lactobacillaceae;Lactobacillus\n",
      "top  5, idx  731, percentage_sum 37.63, name Bacteria;Verrucomicrobia;Verrucomicrobiae;Verrucomicrobiales;Akkermansiaceae;Akkermansia\n",
      "top  6, idx   15, percentage_sum 30.37, name Bacteria;Actinobacteria;Actinobacteria;Actinomycetales;Actinomycetaceae;Actinomyces\n",
      "top  7, idx   25, percentage_sum 27.04, name Bacteria;Actinobacteria;Actinobacteria;Bifidobacteriales;Bifidobacteriaceae;Bifidobacterium\n",
      "top  8, idx  386, percentage_sum 25.01, name Bacteria;Firmicutes;Clostridia;Clostridiales;Ruminococcaceae;Ruminococcus\n",
      "top  9, idx  126, percentage_sum 23.90, name Bacteria;Bacteroidetes;Bacteroidia;Bacteroidales;Bacteroidaceae;Bacteroides\n"
     ]
    }
   ],
   "source": [
    "percentage_sum_across_measures = np.sum(percentage, axis=0)\n",
    "spieces_name = data2[2:-1, 0]\n",
    "k = 10\n",
    "top_k_spieces_idx = np.argsort(percentage_sum_across_measures)[-k:][::-1]\n",
    "print(\"top_k_spieces_idx:\", top_k_spieces_idx)\n",
    "for i, idx in enumerate(top_k_spieces_idx):\n",
    "    print(\"top {:>2}, idx {:>4}, percentage_sum {:>5.2f}, name {}\".format(i, idx, percentage_sum_across_measures[idx], spieces_name[idx]))"
   ]
  },
  {
   "cell_type": "code",
   "execution_count": 20,
   "metadata": {
    "collapsed": false
   },
   "outputs": [
    {
     "name": "stdout",
     "output_type": "stream",
     "text": [
      "185 (3, 12)\n"
     ]
    }
   ],
   "source": [
    "obs = []\n",
    "\n",
    "dates = data2[1, 1:].astype(int)\n",
    "percentage_obs = np.zeros((percentage.shape[0], k + 2))\n",
    "percentage_obs[:, 0] = dates\n",
    "percentage_obs[:, 1:-1] = percentage[:, top_k_spieces_idx]\n",
    "percentage_obs[:, -1] = 1 - np.sum(percentage_obs[:, 1:], axis=-1)\n",
    "\n",
    "pid_measure_start = 0\n",
    "for pid in f2pid:\n",
    "    patient_obs = []\n",
    "    for i in range(pid_measure_start, len(measure_pid)):\n",
    "        if measure_pid[i] != pid:\n",
    "            pid_measure_start = i\n",
    "            break\n",
    "        patient_obs.append(percentage_obs[i])\n",
    "    obs.append(np.asarray(patient_obs))\n",
    "print(len(obs), obs[0].shape)"
   ]
  },
  {
   "cell_type": "code",
   "execution_count": 23,
   "metadata": {
    "collapsed": false
   },
   "outputs": [
    {
     "data": {
      "text/plain": [
       "list"
      ]
     },
     "execution_count": 23,
     "metadata": {},
     "output_type": "execute_result"
    }
   ],
   "source": [
    "type(obs)"
   ]
  },
  {
   "cell_type": "code",
   "execution_count": 69,
   "metadata": {
    "collapsed": false
   },
   "outputs": [
    {
     "data": {
      "text/plain": [
       "array([[-9.00000000e+00,  1.12367021e-01,  2.28723404e-02,\n",
       "         1.86170213e-03,  3.19414894e-01,  1.02792553e-01,\n",
       "         0.00000000e+00,  5.31914894e-04,  3.98936170e-04,\n",
       "         3.49734043e-02,  5.18617021e-03,  3.99601064e-01],\n",
       "       [-4.00000000e+00,  1.50390625e-01,  1.85546875e-02,\n",
       "         0.00000000e+00,  2.89062500e-01,  1.63085938e-01,\n",
       "         0.00000000e+00,  9.76562500e-04,  4.68750000e-02,\n",
       "         8.78906250e-02,  8.78906250e-03,  2.34375000e-01],\n",
       "       [ 3.00000000e+00,  9.88185342e-01,  2.21524829e-03,\n",
       "         3.69208049e-04,  9.23020122e-04,  1.84604024e-04,\n",
       "         0.00000000e+00,  3.69208049e-04,  0.00000000e+00,\n",
       "         5.53812073e-04,  0.00000000e+00,  7.19955695e-03]])"
      ]
     },
     "execution_count": 69,
     "metadata": {},
     "output_type": "execute_result"
    }
   ],
   "source": []
  },
  {
   "cell_type": "code",
   "execution_count": 24,
   "metadata": {
    "collapsed": false
   },
   "outputs": [],
   "source": [
    "num_observed_days = np.array([ob.shape[0] for ob in obs])"
   ]
  },
  {
   "cell_type": "code",
   "execution_count": 25,
   "metadata": {
    "collapsed": false
   },
   "outputs": [
    {
     "data": {
      "text/plain": [
       "array([ 3,  3,  3,  5,  3,  4,  3, 20, 26,  4,  3,  4,  6,  3,  3,  3,  6,\n",
       "        5,  3,  3,  6,  3,  3, 12,  5, 17,  4,  4,  3,  5,  4,  6,  3,  5,\n",
       "        4,  5,  8,  4,  4,  3,  4,  3,  4,  3,  4,  3,  6,  3,  3,  5,  3,\n",
       "        5,  4, 14,  3,  3,  3,  3,  3,  3,  3,  5,  3,  3,  3,  4,  3,  4,\n",
       "        3,  4,  3,  5,  3,  3,  3,  3,  3,  5,  4,  5,  3,  3,  3,  4,  3,\n",
       "        7,  3,  3,  4,  9, 11,  3, 20,  3,  4,  5,  3, 12,  4,  4, 10,  4,\n",
       "        6,  3,  3,  4, 10,  6,  4, 14,  4,  3,  4,  3,  3, 21,  4, 10,  4,\n",
       "       17, 27,  3,  3, 17,  3,  3, 21,  4,  3,  4,  7,  3,  4,  4,  6,  4,\n",
       "        5,  3,  7,  5,  3,  5,  5,  4,  3,  3,  3, 17,  3,  3,  5,  4,  4,\n",
       "        7,  4,  3,  3,  3,  3,  4,  3, 15, 16, 19, 25,  3,  3, 20,  9, 10,\n",
       "       14, 18,  5, 14,  3,  3,  8, 17, 10,  9, 15, 13, 21, 20, 16])"
      ]
     },
     "execution_count": 25,
     "metadata": {},
     "output_type": "execute_result"
    }
   ],
   "source": [
    "num_observed_days"
   ]
  },
  {
   "cell_type": "code",
   "execution_count": 30,
   "metadata": {
    "collapsed": false
   },
   "outputs": [
    {
     "data": {
      "image/png": "[encoded data removed]",
      "text/plain": [
       "<Figure size 432x288 with 1 Axes>"
      ]
     },
     "metadata": {
      "needs_background": "light"
     },
     "output_type": "display_data"
    }
   ],
   "source": [
    "plt.hist(num_observed_days, bins=50);"
   ]
  },
  {
   "cell_type": "code",
   "execution_count": 34,
   "metadata": {
    "collapsed": false
   },
   "outputs": [
    {
     "data": {
      "text/plain": [
       "array([20, 26,  6,  6,  6, 12, 17,  6,  8,  6, 14,  7,  9, 11, 20, 12, 10,\n",
       "        6, 10,  6, 14, 21, 10, 17, 27, 17, 21,  7,  6,  7, 17,  7, 15, 16,\n",
       "       19, 25, 20,  9, 10, 14, 18, 14,  8, 17, 10,  9, 15, 13, 21, 20, 16])"
      ]
     },
     "execution_count": 34,
     "metadata": {},
     "output_type": "execute_result"
    }
   ],
   "source": [
    "num_observed_days[num_observed_days>5]"
   ]
  },
  {
   "cell_type": "code",
   "execution_count": 33,
   "metadata": {
    "collapsed": false
   },
   "outputs": [
    {
     "data": {
      "text/plain": [
       "51"
      ]
     },
     "execution_count": 33,
     "metadata": {},
     "output_type": "execute_result"
    }
   ],
   "source": [
    "len(num_observed_days[num_observed_days>5])"
   ]
  },
  {
   "cell_type": "code",
   "execution_count": 35,
   "metadata": {
    "collapsed": false
   },
   "outputs": [
    {
     "data": {
      "text/plain": [
       "43"
      ]
     },
     "execution_count": 35,
     "metadata": {},
     "output_type": "execute_result"
    }
   ],
   "source": [
    "len(num_observed_days[num_observed_days>6])"
   ]
  },
  {
   "cell_type": "code",
   "execution_count": 36,
   "metadata": {
    "collapsed": false
   },
   "outputs": [
    {
     "data": {
      "text/plain": [
       "39"
      ]
     },
     "execution_count": 36,
     "metadata": {},
     "output_type": "execute_result"
    }
   ],
   "source": [
    "len(num_observed_days[num_observed_days>7])"
   ]
  },
  {
   "cell_type": "code",
   "execution_count": 37,
   "metadata": {
    "collapsed": false
   },
   "outputs": [
    {
     "data": {
      "text/plain": [
       "37"
      ]
     },
     "execution_count": 37,
     "metadata": {},
     "output_type": "execute_result"
    }
   ],
   "source": [
    "len(num_observed_days[num_observed_days>8])"
   ]
  },
  {
   "cell_type": "code",
   "execution_count": 38,
   "metadata": {
    "collapsed": false
   },
   "outputs": [
    {
     "data": {
      "text/plain": [
       "34"
      ]
     },
     "execution_count": 38,
     "metadata": {},
     "output_type": "execute_result"
    }
   ],
   "source": [
    "len(num_observed_days[num_observed_days>9])"
   ]
  },
  {
   "cell_type": "code",
   "execution_count": 39,
   "metadata": {
    "collapsed": false
   },
   "outputs": [
    {
     "data": {
      "text/plain": [
       "29"
      ]
     },
     "execution_count": 39,
     "metadata": {},
     "output_type": "execute_result"
    }
   ],
   "source": [
    "len(num_observed_days[num_observed_days>10])"
   ]
  },
  {
   "cell_type": "code",
   "execution_count": 40,
   "metadata": {
    "collapsed": false
   },
   "outputs": [
    {
     "data": {
      "text/plain": [
       "list"
      ]
     },
     "execution_count": 40,
     "metadata": {},
     "output_type": "execute_result"
    }
   ],
   "source": [
    "type(obs)"
   ]
  },
  {
   "cell_type": "code",
   "execution_count": 70,
   "metadata": {
    "collapsed": true
   },
   "outputs": [],
   "source": [
    "import pickle"
   ]
  },
  {
   "cell_type": "code",
   "execution_count": 145,
   "metadata": {
    "collapsed": false
   },
   "outputs": [],
   "source": [
    "data_dir = \"/Users/leah/Columbia/courses/19summer/microbialdynamics/data/count_microbio.p\"\n",
    "\n",
    "with open(data_dir, \"rb\") as f:\n",
    "    data = pickle.load(f)"
   ]
  },
  {
   "cell_type": "code",
   "execution_count": 146,
   "metadata": {
    "collapsed": false
   },
   "outputs": [
    {
     "data": {
      "text/plain": [
       "dict_keys(['Ytrain', 'Ytest', 'Vtrain', 'Vtest', 'counts_train', 'counts_test'])"
      ]
     },
     "execution_count": 146,
     "metadata": {},
     "output_type": "execute_result"
    }
   ],
   "source": [
    "data.keys()"
   ]
  },
  {
   "cell_type": "code",
   "execution_count": 147,
   "metadata": {
    "collapsed": false
   },
   "outputs": [],
   "source": [
    "obs_train = data['Ytrain']\n",
    "obs_test = data['Ytest']\n",
    "inputs_train = data['Vtrain']\n",
    "inputs_test = data['Vtest']"
   ]
  },
  {
   "cell_type": "code",
   "execution_count": 148,
   "metadata": {
    "collapsed": false
   },
   "outputs": [],
   "source": [
    "obs = obs_train + obs_test\n",
    "inputs = inputs_train + inputs_test"
   ]
  },
  {
   "cell_type": "code",
   "execution_count": 149,
   "metadata": {
    "collapsed": true
   },
   "outputs": [],
   "source": [
    "def interpolate_datapoint(obs, input):\n",
    "    \"\"\"\n",
    "\n",
    "    :param obs: (n_obs, Dy + 1), [:, 0] records t of all obs\n",
    "    :return:\n",
    "    obs: (time, Dy)\n",
    "    mask: (time, )\n",
    "    time_interval: (time, )\n",
    "    \"\"\"\n",
    "    days = obs[:, 0].astype(int)\n",
    "    time = days[-1] - days[0] + 1\n",
    "\n",
    "    mask = np.ones((time, ), dtype=bool)\n",
    "    time_interval = np.zeros((time, ))\n",
    "\n",
    "    i = 0\n",
    "    for t in np.arange(days[0], days[-1] + 1):\n",
    "        idx = t - days[0]\n",
    "        if t == days[i]:\n",
    "            i = i + 1\n",
    "            time_interval[idx] = 0\n",
    "        else:\n",
    "            mask[t - days[0]] = False\n",
    "            time_interval[idx] = time_interval[idx - 1] + 1\n",
    "\n",
    "    # obs\n",
    "    Dy = obs.shape[1] - 1\n",
    "\n",
    "    interpolated_obs = np.zeros((time, Dy))\n",
    "    last_valid_value = np.ones(Dy) / Dy\n",
    "    i = 0\n",
    "    for t in np.arange(days[0], days[-1] + 1):\n",
    "        if t == days[i]:\n",
    "            smoothed_obs = obs[i, 1:]\n",
    "            interpolated_obs[t - days[0]] = smoothed_obs\n",
    "            last_valid_value = smoothed_obs\n",
    "            i += 1\n",
    "        else:\n",
    "            interpolated_obs[t - days[0]] = last_valid_value\n",
    "            \n",
    "    # inputs\n",
    "    Dv = input.shape[1] - 1\n",
    "    interpolated_input = np.zeros((time, Dv))\n",
    "    for day_input in input:\n",
    "        day = int(day_input[0])\n",
    "        if days[0] <= day <= days[-1]:\n",
    "            interpolated_input[day - days[0]] = day_input[1:]\n",
    "\n",
    "    return interpolated_obs, interpolated_input, mask, time_interval"
   ]
  },
  {
   "cell_type": "code",
   "execution_count": 132,
   "metadata": {
    "collapsed": true
   },
   "outputs": [],
   "source": [
    "def interpolate_data(batch_obs, batch_inputs):\n",
    "    \n",
    "    interpolated_batch_obs = []\n",
    "    interpolated_batch_inputs = []\n",
    "    batch_mask = []\n",
    "    batch_time_interval = []\n",
    "\n",
    "    for obs, inputs in zip(batch_obs, batch_inputs):\n",
    "        obs, inputs, mask, time_interval = interpolate_datapoint(obs, inputs)\n",
    "\n",
    "        interpolated_batch_obs.append(obs)\n",
    "        interpolated_batch_inputs.append(inputs)\n",
    "        batch_mask.append(mask)\n",
    "        batch_time_interval.append(time_interval)\n",
    "        \n",
    "\n",
    "    return interpolated_batch_obs, interpolated_batch_inputs, batch_mask, batch_time_interval"
   ]
  },
  {
   "cell_type": "code",
   "execution_count": 133,
   "metadata": {
    "collapsed": false
   },
   "outputs": [],
   "source": [
    "new_obs, new_inputs, masks, time_interval = interpolate_data(obs, inputs)"
   ]
  },
  {
   "cell_type": "code",
   "execution_count": 134,
   "metadata": {
    "collapsed": false
   },
   "outputs": [
    {
     "data": {
      "text/plain": [
       "list"
      ]
     },
     "execution_count": 134,
     "metadata": {},
     "output_type": "execute_result"
    }
   ],
   "source": [
    "type(new_obs)"
   ]
  },
  {
   "cell_type": "code",
   "execution_count": 135,
   "metadata": {
    "collapsed": false
   },
   "outputs": [
    {
     "data": {
      "text/plain": [
       "108"
      ]
     },
     "execution_count": 135,
     "metadata": {},
     "output_type": "execute_result"
    }
   ],
   "source": [
    "len(new_obs)"
   ]
  },
  {
   "cell_type": "code",
   "execution_count": 136,
   "metadata": {
    "collapsed": true
   },
   "outputs": [],
   "source": [
    "def bar_plot(ax, obs, mask, to_normalize=True,):\n",
    "    if to_normalize:\n",
    "            obs = obs / np.sum(obs, axis=-1, keepdims=True)\n",
    "\n",
    "    time, Dy = obs.shape\n",
    "\n",
    "    # make missing obs = 0\n",
    "    masked_obs = np.zeros_like(obs)\n",
    "    masked_obs[mask] = obs[mask]\n",
    "    \n",
    "    ax.set_xlabel(\"Time\")\n",
    "    bottom = np.zeros(time)\n",
    "    for j in range(Dy):\n",
    "        ax.bar(np.arange(time), masked_obs[:, j], bottom=bottom, edgecolor='white')\n",
    "        bottom += masked_obs[:, j]\n",
    "\n",
    "    ax.set_xticks(np.arange(time))\n",
    "    sns.despine()\n",
    "    \n",
    "def input_plot(ax, inputs):\n",
    "    time, Dv = inputs.shape\n",
    "    \n",
    "    for j in range(Dv):\n",
    "        has_inputs = inputs[:,j]== 1\n",
    "        idx = np.arange(time)[has_inputs]\n",
    "        ax.bar(idx, [1 for _ in idx], bottom=[j for _ in idx], color='blue')\n",
    "    \n",
    "    ax.set_xticks(np.arange(time))\n",
    "    ax.set_yticks(np.arange(Dv))\n",
    "    sns.despine()\n",
    "\n",
    "    \n",
    "def plot_inputs_and_obs(obs, input, mask, to_normalize=True):\n",
    "    plt.figure(figsize=(15,10))\n",
    "\n",
    "    ax1= plt.subplot(2,1,1)\n",
    "    input_plot(ax1, input)\n",
    "    ax1.grid()\n",
    "\n",
    "    ax2 = plt.subplot(2,1,2, sharex = ax1)\n",
    "    bar_plot(ax2, obs, mask, to_normalize=to_normalize)\n",
    "    ax2.grid()"
   ]
  },
  {
   "cell_type": "code",
   "execution_count": 137,
   "metadata": {
    "collapsed": true
   },
   "outputs": [],
   "source": [
    "rslt_dir = \"visualizations/microbio_longer/\"\n",
    "\n",
    "if not os.path.exists(rslt_dir):\n",
    "    os.mkdir(rslt_dir)"
   ]
  },
  {
   "cell_type": "code",
   "execution_count": 138,
   "metadata": {
    "collapsed": false
   },
   "outputs": [],
   "source": [
    "for i in range(len(new_obs)):\n",
    "    plot_inputs_and_obs(new_obs[i], new_inputs[i], masks[i])\n",
    "    plt.savefig(rslt_dir + \"sample_{}\".format(i))\n",
    "    plt.close()"
   ]
  },
  {
   "cell_type": "code",
   "execution_count": 54,
   "metadata": {
    "collapsed": false
   },
   "outputs": [
    {
     "data": {
      "text/plain": [
       "185"
      ]
     },
     "execution_count": 54,
     "metadata": {},
     "output_type": "execute_result"
    }
   ],
   "source": [
    "len(masks)"
   ]
  },
  {
   "cell_type": "code",
   "execution_count": 57,
   "metadata": {
    "collapsed": false
   },
   "outputs": [
    {
     "data": {
      "text/plain": [
       "185"
      ]
     },
     "execution_count": 57,
     "metadata": {},
     "output_type": "execute_result"
    }
   ],
   "source": [
    "len(new_obs)"
   ]
  },
  {
   "cell_type": "code",
   "execution_count": 139,
   "metadata": {
    "collapsed": false
   },
   "outputs": [
    {
     "data": {
      "text/plain": [
       "(20, 16)"
      ]
     },
     "execution_count": 139,
     "metadata": {},
     "output_type": "execute_result"
    }
   ],
   "source": [
    "new_inputs[0].shape"
   ]
  },
  {
   "cell_type": "code",
   "execution_count": 140,
   "metadata": {
    "collapsed": false
   },
   "outputs": [
    {
     "data": {
      "text/plain": [
       "(20, 17)"
      ]
     },
     "execution_count": 140,
     "metadata": {},
     "output_type": "execute_result"
    }
   ],
   "source": [
    "inputs[0].shape"
   ]
  },
  {
   "cell_type": "code",
   "execution_count": 126,
   "metadata": {
    "collapsed": false
   },
   "outputs": [
    {
     "data": {
      "text/plain": [
       "array([0., 0., 0., 0., 0., 0., 0., 0., 0., 0., 0., 0., 0., 0., 0., 0.])"
      ]
     },
     "execution_count": 126,
     "metadata": {},
     "output_type": "execute_result"
    }
   ],
   "source": [
    "new_inputs[0][0]"
   ]
  },
  {
   "cell_type": "code",
   "execution_count": 141,
   "metadata": {
    "collapsed": false
   },
   "outputs": [
    {
     "data": {
      "text/plain": [
       "90"
      ]
     },
     "execution_count": 141,
     "metadata": {},
     "output_type": "execute_result"
    }
   ],
   "source": [
    "len(obs_train)"
   ]
  },
  {
   "cell_type": "code",
   "execution_count": 150,
   "metadata": {
    "collapsed": false
   },
   "outputs": [
    {
     "data": {
      "text/plain": [
       "18"
      ]
     },
     "execution_count": 150,
     "metadata": {},
     "output_type": "execute_result"
    }
   ],
   "source": [
    "len(obs_test)"
   ]
  },
  {
   "cell_type": "code",
   "execution_count": 15,
   "metadata": {
    "collapsed": true
   },
   "outputs": [],
   "source": [
    "data_dir = \"/Users/leah/Columbia/courses/19summer/microbialdynamics/data/clv/diff_percentage/clv_count_Dx_6_obsp_06.p\""
   ]
  },
  {
   "cell_type": "code",
   "execution_count": 16,
   "metadata": {
    "collapsed": false
   },
   "outputs": [],
   "source": [
    "with open(data_dir, \"rb\") as f:\n",
    "    data = pickle.load(f)\n",
    "    f.close()"
   ]
  },
  {
   "cell_type": "code",
   "execution_count": 17,
   "metadata": {
    "collapsed": false
   },
   "outputs": [
    {
     "data": {
      "text/plain": [
       "dict_keys(['Xtrain', 'Xtest', 'Ytrain', 'Ytest', 'Vtrain', 'Vtest', 'counts_train', 'counts_test', 'A', 'g', 'W1', 'W2', 'f_cov', 'N'])"
      ]
     },
     "execution_count": 17,
     "metadata": {},
     "output_type": "execute_result"
    }
   ],
   "source": [
    "data.keys()"
   ]
  },
  {
   "cell_type": "code",
   "execution_count": 18,
   "metadata": {
    "collapsed": false
   },
   "outputs": [
    {
     "data": {
      "text/plain": [
       "200"
      ]
     },
     "execution_count": 18,
     "metadata": {},
     "output_type": "execute_result"
    }
   ],
   "source": [
    "len(data['Ytrain'])"
   ]
  },
  {
   "cell_type": "code",
   "execution_count": 19,
   "metadata": {
    "collapsed": false
   },
   "outputs": [
    {
     "data": {
      "text/plain": [
       "200"
      ]
     },
     "execution_count": 19,
     "metadata": {},
     "output_type": "execute_result"
    }
   ],
   "source": [
    "len(data['counts_train'])"
   ]
  },
  {
   "cell_type": "code",
   "execution_count": 21,
   "metadata": {
    "collapsed": false
   },
   "outputs": [
    {
     "data": {
      "text/plain": [
       "(27,)"
      ]
     },
     "execution_count": 21,
     "metadata": {},
     "output_type": "execute_result"
    }
   ],
   "source": [
    "data['counts_train'][0].shape"
   ]
  },
  {
   "cell_type": "code",
   "execution_count": 25,
   "metadata": {
    "collapsed": false
   },
   "outputs": [
    {
     "data": {
      "text/plain": [
       "(27, 8)"
      ]
     },
     "execution_count": 25,
     "metadata": {},
     "output_type": "execute_result"
    }
   ],
   "source": [
    "data['Ytrain'][0].shape"
   ]
  },
  {
   "cell_type": "code",
   "execution_count": 34,
   "metadata": {
    "collapsed": false
   },
   "outputs": [],
   "source": [
    "for i in range(len(data['Ytrain'])):\n",
    "    assert(np.all(data['Ytrain'][i][:,1:].sum(axis=-1) == data['counts_train'][i]))"
   ]
  },
  {
   "cell_type": "code",
   "execution_count": 35,
   "metadata": {
    "collapsed": true
   },
   "outputs": [],
   "source": [
    "for i in range(len(data['Ytest'])):\n",
    "    assert(np.all(data['Ytest'][i][:,1:].sum(axis=-1) == data['counts_test'][i]))"
   ]
  },
  {
   "cell_type": "code",
   "execution_count": 36,
   "metadata": {
    "collapsed": true
   },
   "outputs": [],
   "source": [
    "x = np.array([1,2])"
   ]
  },
  {
   "cell_type": "code",
   "execution_count": 37,
   "metadata": {
    "collapsed": true
   },
   "outputs": [],
   "source": [
    "y = x"
   ]
  },
  {
   "cell_type": "code",
   "execution_count": 39,
   "metadata": {
    "collapsed": false
   },
   "outputs": [
    {
     "data": {
      "text/plain": [
       "True"
      ]
     },
     "execution_count": 39,
     "metadata": {},
     "output_type": "execute_result"
    }
   ],
   "source": [
    "y is x"
   ]
  },
  {
   "cell_type": "code",
   "execution_count": 40,
   "metadata": {
    "collapsed": false
   },
   "outputs": [
    {
     "data": {
      "text/plain": [
       "array([ True,  True])"
      ]
     },
     "execution_count": 40,
     "metadata": {},
     "output_type": "execute_result"
    }
   ],
   "source": [
    "y == x"
   ]
  },
  {
   "cell_type": "code",
   "execution_count": 41,
   "metadata": {
    "collapsed": true
   },
   "outputs": [],
   "source": [
    "y = np.array(x)"
   ]
  },
  {
   "cell_type": "code",
   "execution_count": 42,
   "metadata": {
    "collapsed": false
   },
   "outputs": [
    {
     "data": {
      "text/plain": [
       "array([ True,  True])"
      ]
     },
     "execution_count": 42,
     "metadata": {},
     "output_type": "execute_result"
    }
   ],
   "source": [
    "y == x"
   ]
  },
  {
   "cell_type": "code",
   "execution_count": 43,
   "metadata": {
    "collapsed": false
   },
   "outputs": [
    {
     "data": {
      "text/plain": [
       "False"
      ]
     },
     "execution_count": 43,
     "metadata": {},
     "output_type": "execute_result"
    }
   ],
   "source": [
    "y is x"
   ]
  },
  {
   "cell_type": "code",
   "execution_count": 44,
   "metadata": {
    "collapsed": true
   },
   "outputs": [],
   "source": [
    "def test_l(obs):\n",
    "    obs[0] = 1\n",
    "    obs[1] = 2\n",
    "    return obs"
   ]
  },
  {
   "cell_type": "code",
   "execution_count": 45,
   "metadata": {
    "collapsed": true
   },
   "outputs": [],
   "source": [
    "obs = [2,3]"
   ]
  },
  {
   "cell_type": "code",
   "execution_count": 46,
   "metadata": {
    "collapsed": true
   },
   "outputs": [],
   "source": [
    "out = test_l(obs)"
   ]
  },
  {
   "cell_type": "code",
   "execution_count": 47,
   "metadata": {
    "collapsed": false
   },
   "outputs": [
    {
     "data": {
      "text/plain": [
       "[1, 2]"
      ]
     },
     "execution_count": 47,
     "metadata": {},
     "output_type": "execute_result"
    }
   ],
   "source": [
    "out"
   ]
  },
  {
   "cell_type": "code",
   "execution_count": 48,
   "metadata": {
    "collapsed": false
   },
   "outputs": [
    {
     "data": {
      "text/plain": [
       "[1, 2]"
      ]
     },
     "execution_count": 48,
     "metadata": {},
     "output_type": "execute_result"
    }
   ],
   "source": [
    "obs"
   ]
  },
  {
   "cell_type": "code",
   "execution_count": 49,
   "metadata": {
    "collapsed": true
   },
   "outputs": [],
   "source": [
    "sttr = \"haha_Dx_2\""
   ]
  },
  {
   "cell_type": "code",
   "execution_count": 55,
   "metadata": {
    "collapsed": false
   },
   "outputs": [
    {
     "data": {
      "text/plain": [
       "5"
      ]
     },
     "execution_count": 55,
     "metadata": {},
     "output_type": "execute_result"
    }
   ],
   "source": [
    "sttr.find(\"Dx\")"
   ]
  },
  {
   "cell_type": "code",
   "execution_count": 59,
   "metadata": {
    "collapsed": false
   },
   "outputs": [
    {
     "data": {
      "text/plain": [
       "2"
      ]
     },
     "execution_count": 59,
     "metadata": {},
     "output_type": "execute_result"
    }
   ],
   "source": [
    "int(sttr[5+3])"
   ]
  },
  {
   "cell_type": "code",
   "execution_count": null,
   "metadata": {
    "collapsed": true
   },
   "outputs": [],
   "source": []
  }
 ],
 "metadata": {
  "kernelspec": {
   "display_name": "SMC_venv",
   "language": "python",
   "name": "smc_venv"
  },
  "language_info": {
   "codemirror_mode": {
    "name": "ipython",
    "version": 3
   },
   "file_extension": ".py",
   "mimetype": "text/x-python",
   "name": "python",
   "nbconvert_exporter": "python",
   "pygments_lexer": "ipython3",
   "version": "3.6.8"
  }
 },
 "nbformat": 4,
 "nbformat_minor": 2
}
