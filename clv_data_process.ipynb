{
 "cells": [
  {
   "cell_type": "code",
   "execution_count": 1,
   "metadata": {
    "collapsed": true
   },
   "outputs": [],
   "source": [
    "import pickle\n",
    "import numpy as np\n",
    "from scipy.special import logsumexp"
   ]
  },
  {
   "cell_type": "code",
   "execution_count": 2,
   "metadata": {
    "collapsed": true
   },
   "outputs": [],
   "source": [
    "def simulate_clv(ndays, A, g, N):\n",
    "    \"\"\"Simulates data under compositional Lotka-Volterra.\n",
    "        \n",
    "        Let p = (p_1, ..., p_D) be the relative proportions\n",
    "        of D taxa (species).\n",
    "\n",
    "        Let x = alr(p), the additive log-ratio of p. Note \n",
    "        x is in R^{D-1} and p is in S^D.\n",
    "\n",
    "        The state space model is:\n",
    "            x_t ~ Normal(x_{t-1} + g + Ap_{t-1}, e)\n",
    "        \n",
    "        The observation model is:\n",
    "            y_t ~ Multinomial(C_t, p_t = alr^{-1}(x_t))\n",
    "\n",
    "        The count parameter C_t is chosen to simulate the\n",
    "        varying sequencing depths observed across real samples.\n",
    "\n",
    "\n",
    "    Parameters\n",
    "    ----------\n",
    "        ntaxa  : number of species to simulate\n",
    "        ndays  : number of days to simulate\n",
    "        ss_var : state space variance\n",
    "\n",
    "    Returns\n",
    "    -------\n",
    "        x  : an ndays by ntaxa-1 matrix of latent states\n",
    "        y  : an ndays by ntaxa matrix of observed sequencing counts\n",
    "        A  : simulated interaction matrix A in R^{D-1 x D}\n",
    "        g  : simulated growth rate vector g in R^{D-1}\n",
    "        mu : initial mean\n",
    "\n",
    "    \"\"\"\n",
    "    mu = np.random.normal(loc=0,scale=0.1)\n",
    "\n",
    "    latent_dim = A.shape[0]\n",
    "    x = []\n",
    "    y = []\n",
    "    mu  = np.random.multivariate_normal(mean=np.zeros(latent_dim), cov=np.eye(latent_dim))\n",
    "    for t in range(ndays):\n",
    "        xt = mu\n",
    "\n",
    "        # increase dimension by 1\n",
    "        xt1 = np.concatenate((xt, np.array([0])))\n",
    "        pt = np.exp(xt1 - logsumexp(xt1))\n",
    "\n",
    "        # simulate total number of reads with over-dispersion\n",
    "        logN = np.random.normal(loc=np.log(N), scale=0.5)\n",
    "        Nt = np.random.poisson(np.exp(logN))\n",
    "        yt = np.random.multinomial(Nt, pt).astype(float)\n",
    "\n",
    "        x.append(xt)\n",
    "        y.append(yt)\n",
    "\n",
    "        mu  = xt + g + A.dot(pt)\n",
    "    return x, y"
   ]
  },
  {
   "cell_type": "code",
   "execution_count": 3,
   "metadata": {
    "collapsed": true
   },
   "outputs": [],
   "source": [
    "ntaxa = 11\n",
    "ndays = 50\n",
    "n_train, n_test = 200, 40\n",
    "A  = np.random.normal(loc=0,scale=0.2,size=(ntaxa-1, ntaxa))\n",
    "g  = np.random.normal(loc=0,scale=0.1,size=ntaxa-1)\n",
    "N  = 10000 # sequencing reads parameter"
   ]
  },
  {
   "cell_type": "code",
   "execution_count": 35,
   "metadata": {
    "collapsed": true
   },
   "outputs": [],
   "source": [
    "x_train = []\n",
    "x_test = []\n",
    "y_train = []\n",
    "y_test = []\n",
    "v_train = []\n",
    "v_test = []\n",
    "for i in range(n_train + n_test):\n",
    "    x, y = simulate_clv(ndays, A, g, N)\n",
    "    x, y = np.asarray(x), np.asarray(y)\n",
    "    #y = y / np.sum(y, axis=-1, keepdims=True)\n",
    "    y = np.concatenate([np.arange(ndays)[:, np.newaxis], y], axis=-1)\n",
    "    v = np.stack([np.arange(ndays), np.zeros(ndays)], axis=-1)[:,:1]\n",
    "    if i < n_train:\n",
    "        x_train.append(x)\n",
    "        y_train.append(y)\n",
    "        v_train.append(v)\n",
    "    else:\n",
    "        x_test.append(x)\n",
    "        y_test.append(y)\n",
    "        v_test.append(v)\n"
   ]
  },
  {
   "cell_type": "code",
   "execution_count": 47,
   "metadata": {
    "collapsed": true
   },
   "outputs": [],
   "source": [
    "counts_train = []\n",
    "for single_obs in y_train:\n",
    "    single_counts = single_obs[:,1:].sum(axis=-1)\n",
    "    counts_train.append(single_counts)"
   ]
  },
  {
   "cell_type": "code",
   "execution_count": 49,
   "metadata": {
    "collapsed": false
   },
   "outputs": [],
   "source": [
    "counts_test = []\n",
    "for single_obs in y_test:\n",
    "    single_counts = single_obs[:,1:].sum(axis=-1)\n",
    "    counts_test.append(single_counts)"
   ]
  },
  {
   "cell_type": "code",
   "execution_count": 50,
   "metadata": {
    "collapsed": true
   },
   "outputs": [],
   "source": [
    "res = {\"Xtrain\": x_train, \"Xtest\": x_test,\n",
    "       \"Ytrain\": y_train, \"Ytest\": y_test,\n",
    "       \"Vtrain\": v_train, \"Vtest\": v_test,\n",
    "       \"counts_train\": counts_train, \"counts_test\": counts_test}"
   ]
  },
  {
   "cell_type": "code",
   "execution_count": 7,
   "metadata": {
    "collapsed": false
   },
   "outputs": [],
   "source": [
    "from src.rslts_saving.rslts_saving import plot_obs_bar_plot"
   ]
  },
  {
   "cell_type": "code",
   "execution_count": 11,
   "metadata": {
    "collapsed": false
   },
   "outputs": [],
   "source": [
    "plot_obs_bar_plot(res['Ytrain'][0:5], to_normalize=False, rslt_dir=\"clv_data_train_count\")"
   ]
  },
  {
   "cell_type": "code",
   "execution_count": 12,
   "metadata": {
    "collapsed": true
   },
   "outputs": [],
   "source": [
    "plot_obs_bar_plot(res['Ytrain'][-5:], to_normalize=False, rslt_dir=\"clv_data_train_2_count\")"
   ]
  },
  {
   "cell_type": "code",
   "execution_count": null,
   "metadata": {
    "collapsed": true
   },
   "outputs": [],
   "source": []
  },
  {
   "cell_type": "code",
   "execution_count": 51,
   "metadata": {
    "collapsed": true
   },
   "outputs": [],
   "source": [
    "with open(\"data/count_clv.p\", \"wb\") as f:\n",
    "    pickle.dump(res, f)"
   ]
  },
  {
   "cell_type": "code",
   "execution_count": null,
   "metadata": {
    "collapsed": true
   },
   "outputs": [],
   "source": []
  }
 ],
 "metadata": {
  "kernelspec": {
   "display_name": "SMC_venv",
   "language": "python",
   "name": "smc_venv"
  },
  "language_info": {
   "codemirror_mode": {
    "name": "ipython",
    "version": 3
   },
   "file_extension": ".py",
   "mimetype": "text/x-python",
   "name": "python",
   "nbconvert_exporter": "python",
   "pygments_lexer": "ipython3",
   "version": "3.6.8"
  }
 },
 "nbformat": 4,
 "nbformat_minor": 2
}
