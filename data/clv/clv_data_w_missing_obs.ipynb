{
 "cells": [
  {
   "cell_type": "code",
   "execution_count": 7,
   "metadata": {},
   "outputs": [],
   "source": [
    "import pickle\n",
    "import numpy as np"
   ]
  },
  {
   "cell_type": "code",
   "execution_count": 8,
   "metadata": {},
   "outputs": [
    {
     "data": {
      "text/plain": [
       "dict_keys(['Xtrain', 'Xtest', 'Ytrain', 'Ytest', 'Vtrain', 'Vtest'])"
      ]
     },
     "execution_count": 8,
     "metadata": {},
     "output_type": "execute_result"
    }
   ],
   "source": [
    "with open(\"clv.p\", \"rb\") as f:\n",
    "    d = pickle.load(f)\n",
    "d.keys()"
   ]
  },
  {
   "cell_type": "code",
   "execution_count": 9,
   "metadata": {},
   "outputs": [
    {
     "name": "stdout",
     "output_type": "stream",
     "text": [
      "(200, 50, 10) (40, 50, 10) (200, 50, 11) (40, 50, 11)\n"
     ]
    }
   ],
   "source": [
    "y_train = np.asarray(d['Ytrain'])[:, :, 1:]\n",
    "y_test = np.asarray(d['Ytest'])[:, :, 1:]\n",
    "x_train = np.asarray(d['Xtrain'])\n",
    "x_test = np.asarray(d['Xtest'])\n",
    "print(x_train.shape, x_test.shape, y_train.shape, y_test.shape)"
   ]
  },
  {
   "cell_type": "code",
   "execution_count": 10,
   "metadata": {},
   "outputs": [
    {
     "name": "stdout",
     "output_type": "stream",
     "text": [
      "(200, 50, 12) (40, 50, 12)\n",
      "[[0.         0.03971509 0.03259227 0.01165551 0.03518239 0.0271962\n",
      "  0.10446795 0.11677099 0.22123894 0.19857544 0.16814159 0.04446363]\n",
      " [1.         0.06498527 0.03617452 0.01353093 0.03958027 0.02779823\n",
      "  0.08330265 0.10272459 0.21281296 0.22505523 0.14552651 0.04850884]\n",
      " [2.         0.09050996 0.03512327 0.01621074 0.04593043 0.02668018\n",
      "  0.07007768 0.08578183 0.21496116 0.22154677 0.14758528 0.04559271]]\n"
     ]
    }
   ],
   "source": [
    "y_train_day = np.tile(np.arange(50)[np.newaxis, :], (len(y_train), 1))\n",
    "y_train_day = y_train_day[:, :, np.newaxis]\n",
    "y_train_new = np.concatenate((y_train_day, y_train), axis=-1)\n",
    "y_test_day = np.tile(np.arange(50)[np.newaxis, :], (len(y_test), 1))\n",
    "y_test_day = y_test_day[:, :, np.newaxis]\n",
    "y_test_new = np.concatenate((y_test_day, y_test), axis=-1)\n",
    "print(y_train_new.shape, y_test_new.shape)\n",
    "print(y_train_new[0, :3, :])"
   ]
  },
  {
   "cell_type": "code",
   "execution_count": 11,
   "metadata": {},
   "outputs": [
    {
     "name": "stdout",
     "output_type": "stream",
     "text": [
      "(200, 40, 12) (40, 40, 12)\n",
      "(200, 30, 12) (40, 30, 12)\n",
      "(200, 25, 12) (40, 25, 12)\n",
      "(200, 20, 12) (40, 20, 12)\n"
     ]
    }
   ],
   "source": [
    "# 20 % missing obs\n",
    "T = y_train_new.shape[1]\n",
    "for obs_percentage in [0.8, 0.6, 0.5, 0.4]:\n",
    "    y_train_tmp = []\n",
    "    y_test_tmp = []\n",
    "    for y in y_train_new:\n",
    "        obsed_days = np.random.choice(np.arange(T), int(T * obs_percentage), replace=False)\n",
    "        obsed_days = np.sort(obsed_days)\n",
    "        y_train_tmp.append(y[obsed_days])\n",
    "    for y in y_test_new:\n",
    "        obsed_days = np.random.choice(np.arange(T), int(T * obs_percentage), replace=False)\n",
    "        obsed_days = np.sort(obsed_days)\n",
    "        y_test_tmp.append(y[obsed_days])\n",
    "    y_train_tmp = np.stack(y_train_tmp)\n",
    "    y_test_tmp = np.stack(y_test_tmp)\n",
    "    print(y_train_tmp.shape, y_test_tmp.shape)\n",
    "    days = np.arange(T)[np.newaxis, :, np.newaxis]\n",
    "    v_train = np.concatenate([np.tile(days, (len(y_train_new), 1, 1)), np.zeros((len(y_train_new), T, 1))], axis=-1)\n",
    "    v_test = np.concatenate([np.tile(days, (len(y_test_new), 1, 1)), np.zeros((len(y_test_new), T, 1))], axis=-1)\n",
    "    with open(\"clv_{}_obs.p\".format(obs_percentage), \"wb\") as f:\n",
    "        pickle.dump({'Ytrain': y_train_tmp, 'Ytest': y_test_tmp, 'Vtrain': v_train, 'Vtest': v_test}, f)"
   ]
  },
  {
   "cell_type": "code",
   "execution_count": 12,
   "metadata": {},
   "outputs": [
    {
     "name": "stdout",
     "output_type": "stream",
     "text": [
      "[[0. 0.]\n",
      " [1. 0.]\n",
      " [2. 0.]\n",
      " [3. 0.]\n",
      " [4. 0.]\n",
      " [5. 0.]\n",
      " [6. 0.]\n",
      " [7. 0.]\n",
      " [8. 0.]\n",
      " [9. 0.]]\n"
     ]
    }
   ],
   "source": [
    "print(v_train[0, :10])"
   ]
  }
 ],
 "metadata": {
  "kernelspec": {
   "display_name": "Python 3",
   "language": "python",
   "name": "python3"
  },
  "language_info": {
   "codemirror_mode": {
    "name": "ipython",
    "version": 3
   },
   "file_extension": ".py",
   "mimetype": "text/x-python",
   "name": "python",
   "nbconvert_exporter": "python",
   "pygments_lexer": "ipython3",
   "version": "3.6.2"
  }
 },
 "nbformat": 4,
 "nbformat_minor": 2
}
