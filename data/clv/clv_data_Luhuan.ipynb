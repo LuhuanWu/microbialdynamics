{
 "cells": [
  {
   "cell_type": "code",
   "execution_count": 1,
   "metadata": {},
   "outputs": [],
   "source": [
    "import pickle\n",
    "import numpy as np\n",
    "from scipy.special import logsumexp\n",
    "\n",
    "import matplotlib.pyplot as plt\n",
    "import seaborn as sns"
   ]
  },
  {
   "cell_type": "code",
   "execution_count": 2,
   "metadata": {},
   "outputs": [],
   "source": [
    "# generate binary input vector\n",
    "def simulate_single_input(time, Dv):\n",
    "    inputs = np.zeros((time, Dv))\n",
    "    \n",
    "    number_of_non_zero_dimenions = np.random.choice([7,8,9,10,11,12], 1)[0]\n",
    "    \n",
    "    non_zero_dimensions = np.random.choice(Dv, number_of_non_zero_dimenions)\n",
    "    \n",
    "    for k in non_zero_dimensions:\n",
    "        start = np.random.choice(time-1, 1)[0]\n",
    "        end = start + 1 +  np.random.choice(time-1-start ,1)[0]\n",
    "        inputs[start:end, k] = np.ones(end-start)\n",
    "    return inputs\n",
    "    "
   ]
  },
  {
   "cell_type": "code",
   "execution_count": 3,
   "metadata": {},
   "outputs": [],
   "source": [
    "def simulate_clv_with_inputs(Wv, bv, W1, b1, W2, b2, N, inputs):\n",
    "    \"\"\"Simulates data under compositional Lotka-Volterra.\n",
    "        \n",
    "        Let p = (p_1, ..., p_D) be the relative proportions\n",
    "        of D taxa (species).\n",
    "\n",
    "        Let x = alr(p), the additive log-ratio of p. Note \n",
    "        x is in R^{D-1} (log-space) and p is in S^D (simplex).\n",
    "\n",
    "        The state space model is:\n",
    "            x_t ~ Normal(f(x_{t-1} + g + Ap_{t-1}, input_{t-1}), e)\n",
    "        \n",
    "        The observation model is:\n",
    "            y_t ~ Multinomial(C_t, p_t = alr^{-1}(x_t))\n",
    "\n",
    "        The count parameter C_t is chosen to simulate the\n",
    "        varying sequencing depths observed across real samples.\n",
    "\n",
    "\n",
    "    Parameters\n",
    "    ----------\n",
    "        ntaxa  : number of species to simulate\n",
    "        ndays  : number of days to simulate\n",
    "        ss_var : state space variance\n",
    "\n",
    "    Returns\n",
    "    -------\n",
    "        x  : an ndays by ntaxa-1 matrix of latent states\n",
    "        y  : an ndays by ntaxa matrix of observed sequencing counts\n",
    "        A  : simulated interaction matrix A in R^{D-1 x D}\n",
    "        g  : simulated growth rate vector g in R^{D-1}\n",
    "        mu : initial mean\n",
    "\n",
    "    \"\"\"\n",
    "    ndays, input_dim = inputs.shape\n",
    "    input_embedding_dim = Wv.shape[0]\n",
    "    latent_dim = W1.shape[1] - input_embedding_dim\n",
    "    \n",
    "    x = []\n",
    "    y_count = []\n",
    "    y_percentage = []\n",
    "    \n",
    "    # modify the mu\n",
    "    mu  = np.random.multivariate_normal(mean=np.zeros(latent_dim), cov=np.eye(latent_dim))\n",
    "    for t in range(ndays):\n",
    "        xt = mu\n",
    "\n",
    "        # increase dimension by 1\n",
    "        xt1 = np.concatenate((xt, np.array([0])))\n",
    "        pt = np.exp(xt1 - logsumexp(xt1))\n",
    "\n",
    "        # simulate total number of reads with over-dispersion\n",
    "        logN = np.random.normal(loc=np.log(N), scale=0.5)\n",
    "        Nt = np.random.poisson(np.exp(logN))\n",
    "        yt_count = np.random.multinomial(Nt, pt).astype(float)\n",
    "        yt_percentage = yt_count / np.sum(yt_count)\n",
    "\n",
    "        x.append(xt)\n",
    "        y_count.append(yt_count)\n",
    "        y_percentage.append(yt_percentage)\n",
    "\n",
    "        transition_noise = np.random.multivariate_normal(mean=np.zeros(latent_dim), cov=0.1 * np.eye(latent_dim))\n",
    "        vt = inputs[t]\n",
    "        # Wg: (Dx, Dv), Wa: (Dx, Dv)\n",
    "        vt_embedding = Wv.dot(vt) + bv\n",
    "        xt_vt = np.concatenate([xt, vt_embedding], axis=-1)\n",
    "        layer1 = np.clip(W1.dot(xt_vt) + b1, 0, np.inf)\n",
    "        mu = W2.dot(layer1) + b2\n",
    "    return np.array(x), np.array(y_count), np.array(y_percentage)"
   ]
  },
  {
   "cell_type": "code",
   "execution_count": 4,
   "metadata": {},
   "outputs": [],
   "source": [
    "ntaxa = 11\n",
    "ninput = 15\n",
    "ninput_embedding = 8\n",
    "n_hidden = 10\n",
    "ndays = 30\n",
    "n_train, n_test = 17, 4\n",
    "Wv = np.random.normal(loc=3, scale=0.2, size=(ninput_embedding, ninput))\n",
    "bv = np.random.normal(loc=2, scale=0.2, size=(ninput_embedding,))\n",
    "W1 = np.random.normal(loc=1, scale=0.2, size=(n_hidden, ninput_embedding + ntaxa - 1))\n",
    "b1 = np.random.normal(loc=2, scale=0.5, size=(n_hidden))\n",
    "W2 = np.random.normal(loc=1, scale=0.2, size=(ntaxa-1, n_hidden))\n",
    "b2 = np.random.normal(loc=2, scale=0.5, size=(ntaxa-1))\n",
    "N = 10000 # sequencing reads parameter"
   ]
  },
  {
   "cell_type": "code",
   "execution_count": 5,
   "metadata": {},
   "outputs": [],
   "source": [
    "list_of_ndays = [42, 47, 29, 23, 29, 35, 58, 28, 31, 33, 20, 32, 26, 50, 25, 43, 25, 38, 27, 25, 26]"
   ]
  },
  {
   "cell_type": "code",
   "execution_count": 6,
   "metadata": {},
   "outputs": [],
   "source": [
    "batch_inputs = [simulate_single_input(100, ninput) for _ in range(n_train+n_test)]"
   ]
  },
  {
   "cell_type": "code",
   "execution_count": 7,
   "metadata": {},
   "outputs": [],
   "source": [
    "# create data with missing observation\n",
    "x_train = []\n",
    "x_test = []\n",
    "y_count_train = []\n",
    "y_count_test = []\n",
    "y_percentage_train = []\n",
    "y_percentage_test = []\n",
    "v_train = []\n",
    "v_test = []\n",
    "days = np.arange(ndays)[:, np.newaxis]\n",
    "for i in range(n_train + n_test):\n",
    "    x, y_count, y_percentage = simulate_clv_with_inputs(Wv, bv, W1, b1, W2, b2, N, batch_inputs[i])\n",
    "    \n",
    "    # select days\n",
    "    ndays = list_of_ndays[i]\n",
    "    start = np.random.choice(100 - list_of_ndays[i], 1)[0]\n",
    "    end = start + ndays\n",
    "    # make missing observations, the first day cannot be missing\n",
    "    obs_percentage = np.random.choice([0.4,0.5,0.6,0.7,0.8], p=[0.1,0.2,0.2,0.2,0.3])\n",
    "    obsed_days = np.random.choice(np.arange(1, ndays), int(ndays * obs_percentage), replace=False)\n",
    "    obsed_days = np.sort(np.concatenate(([0],obsed_days)))\n",
    "    \n",
    "    y_percentage = y_percentage[obsed_days]\n",
    "    x = x[obsed_days]\n",
    "    y_count = y_count[obsed_days]\n",
    "    \n",
    "    days = np.arange(ndays)[:, np.newaxis]\n",
    "    y_count = np.concatenate([days[obsed_days], y_count], axis=-1)\n",
    "    y_percentage = np.concatenate([days[obsed_days], y_percentage], axis=-1)\n",
    "    v = np.concatenate([days, batch_inputs[i][start:end]], axis=-1)\n",
    "    if i < n_train:\n",
    "        x_train.append(x)\n",
    "        y_count_train.append(y_count)\n",
    "        y_percentage_train.append(y_percentage)\n",
    "        v_train.append(v)\n",
    "    else:\n",
    "        x_test.append(x)\n",
    "        y_count_test.append(y_count)\n",
    "        y_percentage_test.append(y_percentage)\n",
    "        v_test.append(v)"
   ]
  },
  {
   "cell_type": "code",
   "execution_count": 8,
   "metadata": {},
   "outputs": [],
   "source": [
    "p_data = {}\n",
    "p_data[\"Xtrain\"] = x_train\n",
    "p_data[\"Xtest\"] = x_test\n",
    "p_data[\"Ytrain\"] = y_percentage_train\n",
    "p_data[\"Ytest\"] = y_percentage_test\n",
    "p_data[\"Vtrain\"] = v_train\n",
    "p_data[\"Vtest\"] = v_test\n"
   ]
  },
  {
   "cell_type": "code",
   "execution_count": 9,
   "metadata": {},
   "outputs": [],
   "source": [
    "extra_inputs_train = [None for _ in range(len(y_percentage_train))]\n",
    "extra_inputs_test = [None for _ in range(len(y_percentage_test))]"
   ]
  },
  {
   "cell_type": "code",
   "execution_count": 10,
   "metadata": {},
   "outputs": [],
   "source": [
    "hidden_train, hidden_test, obs_train, obs_test, input_train, input_test = x_train, x_test, y_percentage_train, y_percentage_test, v_train, v_test"
   ]
  },
  {
   "cell_type": "code",
   "execution_count": 13,
   "metadata": {},
   "outputs": [],
   "source": [
    "import sys\n",
    "sys.path.append(\"../..\")"
   ]
  },
  {
   "cell_type": "code",
   "execution_count": 14,
   "metadata": {},
   "outputs": [],
   "source": [
    "from src.utils.data_interpolation import interpolate_data"
   ]
  },
  {
   "cell_type": "code",
   "execution_count": 15,
   "metadata": {},
   "outputs": [
    {
     "ename": "TypeError",
     "evalue": "interpolate_data() takes 7 positional arguments but 9 were given",
     "output_type": "error",
     "traceback": [
      "\u001b[1;31m---------------------------------------------------------------------------\u001b[0m",
      "\u001b[1;31mTypeError\u001b[0m                                 Traceback (most recent call last)",
      "\u001b[1;32m<ipython-input-15-84d43804bfaf>\u001b[0m in \u001b[0;36m<module>\u001b[1;34m\u001b[0m\n\u001b[0;32m      1\u001b[0m \u001b[0mhidden_train\u001b[0m\u001b[1;33m,\u001b[0m \u001b[0mhidden_test\u001b[0m\u001b[1;33m,\u001b[0m \u001b[0mobs_train\u001b[0m\u001b[1;33m,\u001b[0m \u001b[0mobs_test\u001b[0m\u001b[1;33m,\u001b[0m \u001b[0minput_train\u001b[0m\u001b[1;33m,\u001b[0m \u001b[0minput_test\u001b[0m\u001b[1;33m,\u001b[0m \u001b[0m_mask_train\u001b[0m\u001b[1;33m,\u001b[0m \u001b[0m_mask_test\u001b[0m\u001b[1;33m,\u001b[0m \u001b[0mtime_interval_train\u001b[0m\u001b[1;33m,\u001b[0m \u001b[0mtime_interval_test\u001b[0m\u001b[1;33m,\u001b[0m \u001b[0mextra_inputs_train\u001b[0m\u001b[1;33m,\u001b[0m \u001b[0mextra_input_test\u001b[0m \u001b[1;33m=\u001b[0m\u001b[0;31m \u001b[0m\u001b[0;31m\\\u001b[0m\u001b[1;33m\u001b[0m\u001b[0m\n\u001b[0;32m      2\u001b[0m                 interpolate_data(hidden_train, hidden_test, obs_train, obs_test, input_train, input_test,\n\u001b[1;32m----> 3\u001b[1;33m                                  extra_inputs_train, extra_inputs_test, False)\n\u001b[0m\u001b[0;32m      4\u001b[0m \u001b[1;33m\u001b[0m\u001b[0m\n\u001b[0;32m      5\u001b[0m \u001b[1;33m\u001b[0m\u001b[0m\n",
      "\u001b[1;31mTypeError\u001b[0m: interpolate_data() takes 7 positional arguments but 9 were given"
     ]
    }
   ],
   "source": [
    "hidden_train, hidden_test, obs_train, obs_test, input_train, input_test, _mask_train, _mask_test, time_interval_train, time_interval_test, extra_inputs_train, extra_input_test = \\\n",
    "                interpolate_data(hidden_train, hidden_test, obs_train, obs_test, input_train, input_test,\n",
    "                                 extra_inputs_train, extra_inputs_test, False)\n",
    "\n",
    "\n",
    "masks = _mask_train + _mask_test\n",
    "obs = obs_train + obs_test\n",
    "inputs = input_train + input_test"
   ]
  },
  {
   "cell_type": "code",
   "execution_count": null,
   "metadata": {},
   "outputs": [],
   "source": [
    "def bar_plot(ax, obs, mask, to_normalize=True,):\n",
    "    if to_normalize:\n",
    "            obs = obs / np.sum(obs, axis=-1, keepdims=True)\n",
    "\n",
    "    time, Dy = obs.shape\n",
    "\n",
    "    # make missing obs = 0\n",
    "    masked_obs = np.zeros_like(obs)\n",
    "    masked_obs[mask] = obs[mask]\n",
    "    \n",
    "    ax.set_xlabel(\"Time\")\n",
    "    bottom = np.zeros(time)\n",
    "    for j in range(Dy):\n",
    "        ax.bar(np.arange(time), masked_obs[:, j], bottom=bottom, edgecolor='white')\n",
    "        bottom += masked_obs[:, j]\n",
    "\n",
    "    ax.set_xticks(np.arange(time))\n",
    "    sns.despine()\n",
    "    \n",
    "\n",
    "def input_plot(ax, inputs):\n",
    "    time, Dv = inputs.shape\n",
    "    \n",
    "    for j in range(Dv):\n",
    "        has_inputs = inputs[:,j]== 1\n",
    "        idx = np.arange(time)[has_inputs]\n",
    "        ax.bar(idx, [1 for _ in idx], bottom=[j for _ in idx], color='blue')\n",
    "    \n",
    "    ax.set_xticks(np.arange(time))\n",
    "    ax.set_yticks(np.arange(Dv))\n",
    "    sns.despine()\n",
    "        "
   ]
  },
  {
   "cell_type": "code",
   "execution_count": null,
   "metadata": {},
   "outputs": [],
   "source": [
    "def plot_inputs_and_obs(i):\n",
    "    plt.figure(figsize=(15,10))\n",
    "\n",
    "    ax1= plt.subplot(2,1,1)\n",
    "    input_plot(ax1, inputs[i])\n",
    "    ax1.grid()\n",
    "\n",
    "    ax2 = plt.subplot(2,1,2, sharex = ax1)\n",
    "    bar_plot(ax2, obs[i], masks[i])\n",
    "    ax2.grid()"
   ]
  },
  {
   "cell_type": "code",
   "execution_count": null,
   "metadata": {},
   "outputs": [],
   "source": [
    "plot_inputs_and_obs(12)"
   ]
  }
 ],
 "metadata": {
  "kernelspec": {
   "display_name": "Python 3",
   "language": "python",
   "name": "python3"
  },
  "language_info": {
   "codemirror_mode": {
    "name": "ipython",
    "version": 3
   },
   "file_extension": ".py",
   "mimetype": "text/x-python",
   "name": "python",
   "nbconvert_exporter": "python",
   "pygments_lexer": "ipython3",
   "version": "3.6.2"
  }
 },
 "nbformat": 4,
 "nbformat_minor": 2
}
