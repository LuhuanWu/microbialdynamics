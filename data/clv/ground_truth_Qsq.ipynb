{
 "cells": [
  {
   "cell_type": "code",
   "execution_count": 11,
   "metadata": {
    "collapsed": true
   },
   "outputs": [],
   "source": [
    "import sys\n",
    "sys.path.append('/Users/leah/Columbia/courses/19summer/microbialdynamics')"
   ]
  },
  {
   "cell_type": "code",
   "execution_count": 12,
   "metadata": {
    "collapsed": false
   },
   "outputs": [],
   "source": [
    "import os\n",
    "import pickle\n",
    "import numpy as np\n",
    "from scipy.special import logsumexp\n",
    "\n",
    "import matplotlib.pyplot as plt\n",
    "import seaborn as sns\n",
    "\n",
    "import scipy\n",
    "\n",
    "from src.utils.data_loader import load_data\n",
    "from src.utils.data_interpolation import interpolate_data\n",
    "from src.utils.available_data import DATA_DIR_DICT, PERCENTAGE_DATA_DICT, COUNT_DATA_DICT"
   ]
  },
  {
   "cell_type": "code",
   "execution_count": 41,
   "metadata": {
    "collapsed": false
   },
   "outputs": [],
   "source": [
    "# x is log additive ratio\n",
    "def x_to_p(x):\n",
    "    # x shape (T, Dx)\n",
    "    # return p shape (T, Dx+1)\n",
    "    T, Dx = x.shape\n",
    "   \n",
    "    x = np.concatenate((x, np.zeros((T, 1))), axis=-1)  # (T, Dx + 1)\n",
    "    p = np.exp(x - logsumexp(x, axis=-1, keepdims=True))  # (T, Dx + 1) \n",
    "    \n",
    "    assert p.shape == (T, Dx+1)\n",
    "    return p"
   ]
  },
  {
   "cell_type": "code",
   "execution_count": 42,
   "metadata": {
    "collapsed": true
   },
   "outputs": [],
   "source": [
    "def compute_mse(yhat, ytrue):\n",
    "    \"\"\"\n",
    "    yhat: (T, Dy)\n",
    "    ytrue: (T, Dy)\n",
    "    return: mse: ()\n",
    "            var: (Dy, )\n",
    "    \"\"\"\n",
    "    \n",
    "    time = yhat.shape[0]\n",
    "    \n",
    "    mse = np.sum((yhat - ytrue)**2)  \n",
    "    \n",
    "    mean = np.mean(ytrue, axis=0)  # (Dy,)\n",
    "    var = np.sum((ytrue - mean)**2, axis=0)  # (Dy, )\n",
    "    return time, mse, mean, var    \n",
    "    "
   ]
  },
  {
   "cell_type": "code",
   "execution_count": 53,
   "metadata": {
    "collapsed": true
   },
   "outputs": [],
   "source": [
    "def compute_Rsq(mse_and_stuff, Dy):\n",
    "    combined_MSE = np.zeros((1, ))             # combined MSE_ks across all batches\n",
    "    combined_y_means = np.zeros((Dy, ))        # combined y_means across all batches\n",
    "    combined_y_vars = np.zeros((Dy, ))         # combined y_vars across all batches\n",
    "    \n",
    "    i = 0\n",
    "    for time, mse, mean, var in mse_and_stuff:\n",
    "        combined_MSE +=  mse\n",
    "        \n",
    "        n1 = time * i\n",
    "        n2 = time\n",
    "        \n",
    "        combined_y_means_new = (n1 * combined_y_means + n2 * mean) / (n1 + n2)\n",
    "        \n",
    "        combined_y_vars = combined_y_vars + var + n1 * (combined_y_means - combined_y_means_new)**2 + n2 * (mean - combined_y_means_new)**2\n",
    "\n",
    "        combined_y_means = combined_y_means_new\n",
    "        \n",
    "        i += 1\n",
    "    \n",
    "    combined_y_vars = np.sum(combined_y_vars, axis=0)\n",
    "    R_square = 1 - combined_MSE / combined_y_vars\n",
    "\n",
    "    return R_square        \n",
    "    "
   ]
  },
  {
   "cell_type": "code",
   "execution_count": 54,
   "metadata": {
    "collapsed": false
   },
   "outputs": [],
   "source": [
    "def compute_0step_Rsq(datatype, Dx):\n",
    "    # load hidden states\n",
    "    general_data_dir = \"/Users/leah/Columbia/courses/19summer/microbialdynamics/\"\n",
    "\n",
    "    data_dir = DATA_DIR_DICT[datatype]\n",
    "    data_dir = os.path.join(general_data_dir, data_dir)\n",
    "    Dy = Dx + 1\n",
    "\n",
    "    hidden_train, hidden_test, obs_train, obs_test, input_train, input_test, extra_inputs_train, extra_inputs_test = load_data(data_dir, Dx, False, training_sample_idx=None)\n",
    "    \n",
    "    ytrue = [obs[:,1:] for obs in obs_train]\n",
    "    if datatype in COUNT_DATA_DICT:\n",
    "        for i, y in enumerate(ytrue):\n",
    "            # (T, Dy)\n",
    "            ytrue[i] = y / np.sum(y, axis=-1, keepdims=True)\n",
    "    \n",
    "    # percentage Rsq\n",
    "    percentages = list(map(x_to_p, hidden_train))\n",
    "    mse_and_stuff = list(map(compute_mse, percentages, ytrue))    \n",
    "    percentage_Rsq = compute_Rsq(mse_and_stuff, Dy)\n",
    "    \n",
    "    # log percentage Rsq\n",
    "    log_percentages = [np.log(p + 1e-6)/(1+Dy*1e-6) for p in percentages]\n",
    "    log_ytrue = [np.log(y + 1e-6) / (1+Dy*1e-6) for y in ytrue]\n",
    "    logp_mse_and_stuff = list(map(compute_mse, log_percentages, log_ytrue))    \n",
    "    logp_Rsq = compute_Rsq(logp_mse_and_stuff, Dy)\n",
    "    \n",
    "    # aitchison distance Rsq\n",
    "    a_hat = [log_p - np.mean(log_p, axis=-1, keepdims=True) for log_p in log_percentages]\n",
    "    a_true = [log_y - np.mean(log_y, axis=-1, keepdims=True) for log_y in log_ytrue]\n",
    "    a_mse_and_stuff = list(map(compute_mse, a_hat, a_true))\n",
    "    a_Rsq = compute_Rsq(a_mse_and_stuff, Dy)\n",
    "    \n",
    "    return percentage_Rsq, logp_Rsq, a_Rsq\n",
    "    "
   ]
  },
  {
   "cell_type": "code",
   "execution_count": 55,
   "metadata": {
    "collapsed": false
   },
   "outputs": [
    {
     "name": "stdout",
     "output_type": "stream",
     "text": [
      "clv_percentage_Dx_1_scale_1\n",
      "(array([0.99983612]), array([0.99875555]), array([0.99917602]))\n",
      "clv_percentage_Dx_1_scale_4\n",
      "(array([0.99988045]), array([0.99914898]), array([0.99945849]))\n",
      "clv_percentage_Dx_2_scale_1\n",
      "(array([0.99987877]), array([0.99801643]), array([0.99844716]))\n",
      "clv_percentage_Dx_2_scale_4\n",
      "(array([0.99989443]), array([0.99802962]), array([0.99846378]))\n",
      "clv_percentage_Dx_3_scale_1\n",
      "(array([0.99982129]), array([0.99795202]), array([0.99822008]))\n",
      "clv_percentage_Dx_3_scale_4\n",
      "(array([0.99984437]), array([0.99729484]), array([0.99764174]))\n",
      "clv_percentage_Dx_4_scale_1\n",
      "(array([0.99977171]), array([0.99742618]), array([0.99766459]))\n",
      "clv_percentage_Dx_4_scale_4\n",
      "(array([0.99980869]), array([0.99736649]), array([0.99754418]))\n",
      "clv_percentage_Dx_5_scale_1\n",
      "(array([0.99981361]), array([0.99671276]), array([0.9968332]))\n",
      "clv_percentage_Dx_5_scale_4\n",
      "(array([0.99984744]), array([0.99546355]), array([0.99534022]))\n",
      "clv_percentage_Dx_6_scale_1\n",
      "(array([0.99975625]), array([0.99646927]), array([0.99650997]))\n",
      "clv_percentage_Dx_6_scale_4\n",
      "(array([0.99973919]), array([0.99605156]), array([0.99603012]))\n",
      "clv_percentage_Dx_7_scale_1\n",
      "(array([0.99977651]), array([0.99506502]), array([0.99484456]))\n",
      "clv_percentage_Dx_7_scale_4\n",
      "(array([0.99977162]), array([0.99363405]), array([0.99349504]))\n",
      "clv_percentage_Dx_8_scale_1\n",
      "(array([0.99976604]), array([0.9917884]), array([0.99150131]))\n",
      "clv_percentage_Dx_8_scale_4\n",
      "(array([0.99978939]), array([0.99359715]), array([0.99295343]))\n",
      "clv_percentage_Dx_9_scale_1\n",
      "(array([0.99975347]), array([0.99423557]), array([0.9937871]))\n",
      "clv_percentage_Dx_9_scale_4\n",
      "(array([0.99978013]), array([0.99279248]), array([0.992006]))\n",
      "clv_percentage_Dx_10_scale_1\n",
      "(array([0.99975782]), array([0.99220842]), array([0.99134327]))\n",
      "clv_percentage_Dx_10_scale_4\n",
      "(array([0.99974096]), array([0.99070597]), array([0.98997831]))\n"
     ]
    }
   ],
   "source": [
    "# test\n",
    "for Dx in range(1, 11):\n",
    "    for scale in [1, 4]:\n",
    "        datadir = \"clv_percentage_Dx_{}_scale_{}\".format(Dx, scale)\n",
    "        print(datadir)\n",
    "        print(compute_0step_Rsq(datadir, Dx))"
   ]
  },
  {
   "cell_type": "code",
   "execution_count": 56,
   "metadata": {
    "collapsed": false
   },
   "outputs": [
    {
     "name": "stdout",
     "output_type": "stream",
     "text": [
      "clv_count_Dx_1_scale_1\n",
      "(array([0.99983612]), array([0.99875555]), array([0.99917602]))\n",
      "clv_count_Dx_1_scale_4\n",
      "(array([0.99988045]), array([0.99914898]), array([0.99945849]))\n",
      "clv_count_Dx_2_scale_1\n",
      "(array([0.99987877]), array([0.99801643]), array([0.99844716]))\n",
      "clv_count_Dx_2_scale_4\n",
      "(array([0.99989443]), array([0.99802962]), array([0.99846378]))\n",
      "clv_count_Dx_3_scale_1\n",
      "(array([0.99982129]), array([0.99795202]), array([0.99822008]))\n",
      "clv_count_Dx_3_scale_4\n",
      "(array([0.99984437]), array([0.99729484]), array([0.99764174]))\n",
      "clv_count_Dx_4_scale_1\n",
      "(array([0.99977171]), array([0.99742618]), array([0.99766459]))\n",
      "clv_count_Dx_4_scale_4\n",
      "(array([0.99980869]), array([0.99736649]), array([0.99754418]))\n",
      "clv_count_Dx_5_scale_1\n",
      "(array([0.99981361]), array([0.99671276]), array([0.9968332]))\n",
      "clv_count_Dx_5_scale_4\n",
      "(array([0.99984744]), array([0.99546355]), array([0.99534022]))\n",
      "clv_count_Dx_6_scale_1\n",
      "(array([0.99975625]), array([0.99646927]), array([0.99650997]))\n",
      "clv_count_Dx_6_scale_4\n",
      "(array([0.99973919]), array([0.99605156]), array([0.99603012]))\n",
      "clv_count_Dx_7_scale_1\n",
      "(array([0.99977651]), array([0.99506502]), array([0.99484456]))\n",
      "clv_count_Dx_7_scale_4\n",
      "(array([0.99977162]), array([0.99363405]), array([0.99349504]))\n",
      "clv_count_Dx_8_scale_1\n",
      "(array([0.99976604]), array([0.9917884]), array([0.99150131]))\n",
      "clv_count_Dx_8_scale_4\n",
      "(array([0.99978939]), array([0.99359715]), array([0.99295343]))\n",
      "clv_count_Dx_9_scale_1\n",
      "(array([0.99975347]), array([0.99423557]), array([0.9937871]))\n",
      "clv_count_Dx_9_scale_4\n",
      "(array([0.99978013]), array([0.99279248]), array([0.992006]))\n",
      "clv_count_Dx_10_scale_1\n",
      "(array([0.99975782]), array([0.99220842]), array([0.99134327]))\n",
      "clv_count_Dx_10_scale_4\n",
      "(array([0.99974096]), array([0.99070597]), array([0.98997831]))\n"
     ]
    }
   ],
   "source": [
    "# test\n",
    "for Dx in range(1, 11):\n",
    "    for scale in [1, 4]:\n",
    "        datadir = \"clv_count_Dx_{}_scale_{}\".format(Dx, scale)\n",
    "        print(datadir)\n",
    "        print(compute_0step_Rsq(datadir, Dx))"
   ]
  },
  {
   "cell_type": "code",
   "execution_count": 58,
   "metadata": {
    "collapsed": false
   },
   "outputs": [],
   "source": [
    "import tensorflow as tf"
   ]
  },
  {
   "cell_type": "code",
   "execution_count": 59,
   "metadata": {
    "collapsed": false
   },
   "outputs": [
    {
     "data": {
      "text/plain": [
       "<tf.Tensor 'zeros:0' shape=(2, 2, 1) dtype=float32>"
      ]
     },
     "execution_count": 59,
     "metadata": {},
     "output_type": "execute_result"
    }
   ],
   "source": [
    "tf.zeros((2,2,1))"
   ]
  },
  {
   "cell_type": "code",
   "execution_count": 63,
   "metadata": {
    "collapsed": false
   },
   "outputs": [],
   "source": [
    "t1 = [np.array([1,2]), np.array([2,3])]"
   ]
  },
  {
   "cell_type": "code",
   "execution_count": 64,
   "metadata": {
    "collapsed": true
   },
   "outputs": [],
   "source": [
    "t2 = []"
   ]
  },
  {
   "cell_type": "code",
   "execution_count": 65,
   "metadata": {
    "collapsed": true
   },
   "outputs": [],
   "source": [
    "for i in range(len(t1)):\n",
    "    t2.append(t1[i])\n",
    "    t1[i] = t1[i] + 1"
   ]
  },
  {
   "cell_type": "code",
   "execution_count": 66,
   "metadata": {
    "collapsed": false
   },
   "outputs": [
    {
     "data": {
      "text/plain": [
       "[array([1, 2]), array([2, 3])]"
      ]
     },
     "execution_count": 66,
     "metadata": {},
     "output_type": "execute_result"
    }
   ],
   "source": [
    "t2"
   ]
  },
  {
   "cell_type": "code",
   "execution_count": 67,
   "metadata": {
    "collapsed": false
   },
   "outputs": [
    {
     "data": {
      "text/plain": [
       "[array([2, 3]), array([3, 4])]"
      ]
     },
     "execution_count": 67,
     "metadata": {},
     "output_type": "execute_result"
    }
   ],
   "source": [
    "t1"
   ]
  },
  {
   "cell_type": "code",
   "execution_count": null,
   "metadata": {
    "collapsed": true
   },
   "outputs": [],
   "source": []
  }
 ],
 "metadata": {
  "kernelspec": {
   "display_name": "SMC_venv",
   "language": "python",
   "name": "smc_venv"
  },
  "language_info": {
   "codemirror_mode": {
    "name": "ipython",
    "version": 3
   },
   "file_extension": ".py",
   "mimetype": "text/x-python",
   "name": "python",
   "nbconvert_exporter": "python",
   "pygments_lexer": "ipython3",
   "version": "3.6.8"
  }
 },
 "nbformat": 4,
 "nbformat_minor": 2
}
