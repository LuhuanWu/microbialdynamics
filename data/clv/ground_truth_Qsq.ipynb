{
 "cells": [
  {
   "cell_type": "code",
   "execution_count": 5,
   "metadata": {
    "collapsed": true
   },
   "outputs": [],
   "source": [
    "import sys\n",
    "sys.path.append('/Users/leah/Columbia/courses/19summer/microbialdynamics')"
   ]
  },
  {
   "cell_type": "code",
   "execution_count": 69,
   "metadata": {
    "collapsed": true
   },
   "outputs": [],
   "source": [
    "import os\n",
    "import pickle\n",
    "import numpy as np\n",
    "from scipy.special import logsumexp\n",
    "\n",
    "import matplotlib.pyplot as plt\n",
    "import seaborn as sns\n",
    "\n",
    "import scipy\n",
    "\n",
    "from src.utils.data_loader import load_data\n",
    "from src.utils.data_interpolation import interpolate_data\n",
    "from src.utils.available_data import DATA_DIR_DICT, PERCENTAGE_DATA_TYPE, COUNT_DATA_TYPE"
   ]
  },
  {
   "cell_type": "code",
   "execution_count": 84,
   "metadata": {
    "collapsed": false
   },
   "outputs": [],
   "source": [
    "# x is log additive ratio\n",
    "def x_to_p(x):\n",
    "    # x shape (T, Dx)\n",
    "    # return p shape (T, Dx+1)\n",
    "    T, Dx = x.shape\n",
    "    p_11 = 1 / (1 + np.sum(np.exp(x), axis=-1, keepdims=True)) # (T, 1)\n",
    "    p_first10 = p_11 * np.exp(x)  # (T, 10)\n",
    "    p = np.concatenate((p_first10, p_11), axis=1)\n",
    "    assert p.shape == (T, Dx+1)\n",
    "    return p"
   ]
  },
  {
   "cell_type": "code",
   "execution_count": 162,
   "metadata": {
    "collapsed": true
   },
   "outputs": [],
   "source": [
    "def compute_mse(yhat, ytrue):\n",
    "    \"\"\"\n",
    "    yhat: (T, Dy)\n",
    "    ytrue: (T, Dy)\n",
    "    return: mse: ()\n",
    "            var: (Dy, )\n",
    "    \"\"\"\n",
    "    \n",
    "    time = yhat.shape[0]\n",
    "    \n",
    "    mse = np.sum((yhat - ytrue)**2)  \n",
    "    \n",
    "    mean = np.mean(ytrue, axis=0)  # (Dy,)\n",
    "    var = np.sum((ytrue - mean)**2, axis=0)  # (Dy, )\n",
    "    return time, mse, mean, var    \n",
    "    "
   ]
  },
  {
   "cell_type": "code",
   "execution_count": 166,
   "metadata": {
    "collapsed": true
   },
   "outputs": [],
   "source": [
    "def compute_Rsq(mse_and_stuff, Dy):\n",
    "    combined_MSE = np.zeros((1, ))             # combined MSE_ks across all batches\n",
    "    combined_y_means = np.zeros((Dy, ))        # combined y_means across all batches\n",
    "    combined_y_vars = np.zeros((Dy, ))         # combined y_vars across all batches\n",
    "    \n",
    "    i = 0\n",
    "    for time, mse, mean, var in mse_and_stuff:\n",
    "        combined_MSE +=  mse\n",
    "        \n",
    "        n1 = time * i\n",
    "        n2 = time\n",
    "        \n",
    "        combined_y_means_new = (n1 * combined_y_means + n2 * mean) / (n1 + n2)\n",
    "        \n",
    "        combined_y_vars = combined_y_vars + var + n1 * (combined_y_means - combined_y_means_new)**2 + n2 * (mean - combined_y_means_new)**2\n",
    "\n",
    "        combined_y_means = combined_y_means_new\n",
    "        \n",
    "        i += 1\n",
    "    \n",
    "    combined_y_vars = np.mean(combined_y_vars, axis=0)\n",
    "    R_square = 1 - combined_MSE / combined_y_vars\n",
    "\n",
    "    return R_square        \n",
    "    "
   ]
  },
  {
   "cell_type": "code",
   "execution_count": 179,
   "metadata": {
    "collapsed": false
   },
   "outputs": [],
   "source": [
    "def compute_0step_Rsq(datatype, Dx):\n",
    "    # load hidden states\n",
    "    general_data_dir = \"/Users/leah/Columbia/courses/19summer/microbialdynamics/\"\n",
    "\n",
    "    data_dir = DATA_DIR_DICT[datatype]\n",
    "    data_dir = os.path.join(general_data_dir, data_dir)\n",
    "    Dy = Dx + 1\n",
    "\n",
    "    hidden_train, hidden_test, obs_train, obs_test, input_train, input_test, extra_inputs_train, extra_inputs_test = load_data(data_dir, Dx, False, training_sample_idx=None)\n",
    "    \n",
    "    ytrue = [obs[:,1:] for obs in obs_train]\n",
    "    if datatype in COUNT_DATA_TYPE:\n",
    "        for i, y in enumerate(ytrue):\n",
    "            # (T, Dy)\n",
    "            ytrue[i] = y / np.sum(y, axis=-1, keepdims=True)\n",
    "    \n",
    "    # percentage Rsq\n",
    "    percentages = list(map(x_to_p, hidden_train))\n",
    "    mse_and_stuff = list(map(compute_mse, percentages, ytrue))    \n",
    "    percentage_Rsq = compute_Rsq(mse_and_stuff, Dy)\n",
    "    \n",
    "    # log percentage Rsq\n",
    "    log_percentages = [np.log(p + 1e-6)/(1+Dy*1e-6) for p in percentages]\n",
    "    log_ytrue = [np.log(y + 1e-6) / (1+Dy*1e-6) for y in ytrue]\n",
    "    logp_mse_and_stuff = list(map(compute_mse, log_percentages, log_ytrue))    \n",
    "    logp_Rsq = compute_Rsq(logp_mse_and_stuff, Dy)\n",
    "    \n",
    "    # aitchison distance Rsq\n",
    "    a_hat = [log_p - np.mean(log_p, axis=-1, keepdims=True) for log_p in log_percentages]\n",
    "    a_true = [log_y - np.mean(log_y, axis=-1, keepdims=True) for log_y in log_ytrue]\n",
    "    a_mse_and_stuff = list(map(compute_mse, a_hat, a_true))\n",
    "    a_Rsq = compute_Rsq(a_mse_and_stuff, Dy)\n",
    "    \n",
    "    return percentage_Rsq, logp_Rsq, a_Rsq\n",
    "    "
   ]
  },
  {
   "cell_type": "code",
   "execution_count": 183,
   "metadata": {
    "collapsed": false
   },
   "outputs": [
    {
     "data": {
      "text/plain": [
       "(array([0.99738031]), array([0.91086985]), array([0.89838453]))"
      ]
     },
     "execution_count": 183,
     "metadata": {},
     "output_type": "execute_result"
    }
   ],
   "source": [
    "# test\n",
    "compute_0step_Rsq(\"clv_percentage_Dx_10\", 10)"
   ]
  },
  {
   "cell_type": "code",
   "execution_count": 187,
   "metadata": {
    "collapsed": false
   },
   "outputs": [
    {
     "data": {
      "text/plain": [
       "(array([0.99788918]), array([0.92473272]), array([0.91639834]))"
      ]
     },
     "execution_count": 187,
     "metadata": {},
     "output_type": "execute_result"
    }
   ],
   "source": [
    "compute_0step_Rsq(\"clv_percentage_Dx_9\", 9)"
   ]
  },
  {
   "cell_type": "code",
   "execution_count": 188,
   "metadata": {
    "collapsed": false
   },
   "outputs": [
    {
     "data": {
      "text/plain": [
       "(array([0.99781533]), array([0.94504468]), array([0.94267271]))"
      ]
     },
     "execution_count": 188,
     "metadata": {},
     "output_type": "execute_result"
    }
   ],
   "source": [
    "compute_0step_Rsq(\"clv_percentage_Dx_8\", 8)"
   ]
  },
  {
   "cell_type": "code",
   "execution_count": 189,
   "metadata": {
    "collapsed": false
   },
   "outputs": [
    {
     "data": {
      "text/plain": [
       "(array([0.99819219]), array([0.95310108]), array([0.94942788]))"
      ]
     },
     "execution_count": 189,
     "metadata": {},
     "output_type": "execute_result"
    }
   ],
   "source": [
    "compute_0step_Rsq(\"clv_percentage_Dx_7\", 7)"
   ]
  },
  {
   "cell_type": "code",
   "execution_count": 190,
   "metadata": {
    "collapsed": false
   },
   "outputs": [
    {
     "data": {
      "text/plain": [
       "(array([0.99879243]), array([0.95748554]), array([0.95536178]))"
      ]
     },
     "execution_count": 190,
     "metadata": {},
     "output_type": "execute_result"
    }
   ],
   "source": [
    "compute_0step_Rsq(\"clv_percentage_Dx_6\", 6)"
   ]
  },
  {
   "cell_type": "code",
   "execution_count": 191,
   "metadata": {
    "collapsed": false
   },
   "outputs": [
    {
     "data": {
      "text/plain": [
       "(array([0.99881425]), array([0.98112929]), array([0.98172766]))"
      ]
     },
     "execution_count": 191,
     "metadata": {},
     "output_type": "execute_result"
    }
   ],
   "source": [
    "compute_0step_Rsq(\"clv_percentage_Dx_5\", 5)"
   ]
  },
  {
   "cell_type": "code",
   "execution_count": 192,
   "metadata": {
    "collapsed": false
   },
   "outputs": [
    {
     "data": {
      "text/plain": [
       "(array([0.99925052]), array([0.98267365]), array([0.98312838]))"
      ]
     },
     "execution_count": 192,
     "metadata": {},
     "output_type": "execute_result"
    }
   ],
   "source": [
    "compute_0step_Rsq(\"clv_percentage_Dx_4\", 4)"
   ]
  },
  {
   "cell_type": "code",
   "execution_count": null,
   "metadata": {
    "collapsed": true
   },
   "outputs": [],
   "source": []
  }
 ],
 "metadata": {
  "kernelspec": {
   "display_name": "SMC_venv",
   "language": "python",
   "name": "smc_venv"
  },
  "language_info": {
   "codemirror_mode": {
    "name": "ipython",
    "version": 3
   },
   "file_extension": ".py",
   "mimetype": "text/x-python",
   "name": "python",
   "nbconvert_exporter": "python",
   "pygments_lexer": "ipython3",
   "version": "3.6.8"
  }
 },
 "nbformat": 4,
 "nbformat_minor": 2
}
