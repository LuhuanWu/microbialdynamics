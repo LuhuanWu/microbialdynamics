{
 "cells": [
  {
   "cell_type": "code",
   "execution_count": 55,
   "metadata": {
    "collapsed": true
   },
   "outputs": [],
   "source": [
    "import pickle\n",
    "import numpy as np\n",
    "import biom\n",
    "import csv"
   ]
  },
  {
   "cell_type": "code",
   "execution_count": 2,
   "metadata": {
    "collapsed": true
   },
   "outputs": [],
   "source": [
    "with open (\"oral_medium.p\", \"rb\") as f:\n",
    "    d = pickle.load(f)"
   ]
  },
  {
   "cell_type": "code",
   "execution_count": 3,
   "metadata": {
    "collapsed": false
   },
   "outputs": [
    {
     "data": {
      "text/plain": [
       "dict_keys(['theta', 'Ytrain', 'Ytest', 'Vtrain', 'Vtest'])"
      ]
     },
     "execution_count": 3,
     "metadata": {},
     "output_type": "execute_result"
    }
   ],
   "source": [
    "d.keys()"
   ]
  },
  {
   "cell_type": "code",
   "execution_count": 4,
   "metadata": {
    "collapsed": false
   },
   "outputs": [
    {
     "data": {
      "text/plain": [
       "(20, 21)"
      ]
     },
     "execution_count": 4,
     "metadata": {},
     "output_type": "execute_result"
    }
   ],
   "source": [
    "d['theta'].shape"
   ]
  },
  {
   "cell_type": "code",
   "execution_count": 5,
   "metadata": {
    "collapsed": false
   },
   "outputs": [
    {
     "data": {
      "text/plain": [
       "dtype('float64')"
      ]
     },
     "execution_count": 5,
     "metadata": {},
     "output_type": "execute_result"
    }
   ],
   "source": [
    "d['theta'].dtype"
   ]
  },
  {
   "cell_type": "code",
   "execution_count": 130,
   "metadata": {
    "collapsed": false
   },
   "outputs": [
    {
     "data": {
      "text/plain": [
       "22"
      ]
     },
     "execution_count": 130,
     "metadata": {},
     "output_type": "execute_result"
    }
   ],
   "source": [
    "len(d['Ytrain'])"
   ]
  },
  {
   "cell_type": "code",
   "execution_count": 131,
   "metadata": {
    "collapsed": false
   },
   "outputs": [
    {
     "data": {
      "text/plain": [
       "6"
      ]
     },
     "execution_count": 131,
     "metadata": {},
     "output_type": "execute_result"
    }
   ],
   "source": [
    "len(d['Ytest'])"
   ]
  },
  {
   "cell_type": "markdown",
   "metadata": {},
   "source": [
    "# top 20 taxa + the rest\n",
    "\n",
    "\n",
    "Note: we set the rest of taxa (i.e. top 21, 22, ....)  to be taxa0"
   ]
  },
  {
   "cell_type": "code",
   "execution_count": 6,
   "metadata": {
    "collapsed": false
   },
   "outputs": [],
   "source": [
    "theta = np.zeros((20, 21))"
   ]
  },
  {
   "cell_type": "code",
   "execution_count": 7,
   "metadata": {
    "collapsed": true
   },
   "outputs": [],
   "source": [
    "theta[0,0] = 1\n",
    "theta[0, 1:] = -1"
   ]
  },
  {
   "cell_type": "code",
   "execution_count": 8,
   "metadata": {
    "collapsed": true
   },
   "outputs": [],
   "source": [
    "theta[1,1:4] = 1\n",
    "theta[1, 4:] = -1"
   ]
  },
  {
   "cell_type": "code",
   "execution_count": 9,
   "metadata": {
    "collapsed": true
   },
   "outputs": [],
   "source": [
    "theta[2,1] = 1\n",
    "theta[2,2:4] = -1"
   ]
  },
  {
   "cell_type": "code",
   "execution_count": 10,
   "metadata": {
    "collapsed": true
   },
   "outputs": [],
   "source": [
    "theta[3, 4] = 1\n",
    "theta[3, 5:] = -1"
   ]
  },
  {
   "cell_type": "code",
   "execution_count": 11,
   "metadata": {
    "collapsed": true
   },
   "outputs": [],
   "source": [
    "theta[4, 2] = 1\n",
    "theta[4, 3] = -1"
   ]
  },
  {
   "cell_type": "code",
   "execution_count": 12,
   "metadata": {
    "collapsed": true
   },
   "outputs": [],
   "source": [
    "theta[5, 5] = 1\n",
    "theta[5, 6:9] = -1"
   ]
  },
  {
   "cell_type": "code",
   "execution_count": 13,
   "metadata": {
    "collapsed": true
   },
   "outputs": [],
   "source": [
    "theta[6, 4:9] = 1\n",
    "theta[6, 9:] = -1"
   ]
  },
  {
   "cell_type": "code",
   "execution_count": 14,
   "metadata": {
    "collapsed": true
   },
   "outputs": [],
   "source": [
    "theta[7, 6] = 1\n",
    "theta[7, 7:9] = -1"
   ]
  },
  {
   "cell_type": "code",
   "execution_count": 15,
   "metadata": {
    "collapsed": true
   },
   "outputs": [],
   "source": [
    "theta[8, 9] = 1\n",
    "theta[8, 10:] = -1"
   ]
  },
  {
   "cell_type": "code",
   "execution_count": 16,
   "metadata": {
    "collapsed": true
   },
   "outputs": [],
   "source": [
    "theta[9, 7] = 1\n",
    "theta[9, 8] = -1"
   ]
  },
  {
   "cell_type": "code",
   "execution_count": 17,
   "metadata": {
    "collapsed": true
   },
   "outputs": [],
   "source": [
    "theta[10, 10:13] = 1\n",
    "theta[10, 13:] = -1"
   ]
  },
  {
   "cell_type": "code",
   "execution_count": 18,
   "metadata": {
    "collapsed": true
   },
   "outputs": [],
   "source": [
    "theta[11, 10] = 1\n",
    "theta[11, 11:13] = -1"
   ]
  },
  {
   "cell_type": "code",
   "execution_count": 19,
   "metadata": {
    "collapsed": true
   },
   "outputs": [],
   "source": [
    "theta[12, 13:15] = 1\n",
    "theta[12, 15:] = -1"
   ]
  },
  {
   "cell_type": "code",
   "execution_count": 20,
   "metadata": {
    "collapsed": true
   },
   "outputs": [],
   "source": [
    "theta[13, 11] = 1\n",
    "theta[13, 12] = -1"
   ]
  },
  {
   "cell_type": "code",
   "execution_count": 21,
   "metadata": {
    "collapsed": true
   },
   "outputs": [],
   "source": [
    "theta[14, 13] = 1\n",
    "theta[14, 13] = -1"
   ]
  },
  {
   "cell_type": "code",
   "execution_count": 22,
   "metadata": {
    "collapsed": true
   },
   "outputs": [],
   "source": [
    "theta[15, 15] = 1\n",
    "theta[15, 16:] = -1"
   ]
  },
  {
   "cell_type": "code",
   "execution_count": 23,
   "metadata": {
    "collapsed": true
   },
   "outputs": [],
   "source": [
    "theta[16, 16:18] = 1\n",
    "theta[16, 18:] = -1"
   ]
  },
  {
   "cell_type": "code",
   "execution_count": 24,
   "metadata": {
    "collapsed": true
   },
   "outputs": [],
   "source": [
    "theta[17, 16] = 1\n",
    "theta[17, 17] = -1"
   ]
  },
  {
   "cell_type": "code",
   "execution_count": 25,
   "metadata": {
    "collapsed": true
   },
   "outputs": [],
   "source": [
    "theta[18, 18] = 1\n",
    "theta[18, 19:] = -1"
   ]
  },
  {
   "cell_type": "code",
   "execution_count": 26,
   "metadata": {
    "collapsed": true
   },
   "outputs": [],
   "source": [
    "theta[19, 19] = 1\n",
    "theta[19, 20] = -1"
   ]
  },
  {
   "cell_type": "code",
   "execution_count": 27,
   "metadata": {
    "collapsed": true
   },
   "outputs": [],
   "source": [
    "num_taxa = 20"
   ]
  },
  {
   "cell_type": "code",
   "execution_count": 28,
   "metadata": {
    "collapsed": true
   },
   "outputs": [],
   "source": [
    "table = biom.load_table(\"all.biom\")"
   ]
  },
  {
   "cell_type": "code",
   "execution_count": 29,
   "metadata": {
    "collapsed": true
   },
   "outputs": [],
   "source": [
    "data = table._data.toarray().T"
   ]
  },
  {
   "cell_type": "code",
   "execution_count": 30,
   "metadata": {
    "collapsed": false
   },
   "outputs": [
    {
     "data": {
      "text/plain": [
       "(1050, 6400)"
      ]
     },
     "execution_count": 30,
     "metadata": {},
     "output_type": "execute_result"
    }
   ],
   "source": [
    "data.shape"
   ]
  },
  {
   "cell_type": "code",
   "execution_count": 35,
   "metadata": {
    "collapsed": false
   },
   "outputs": [],
   "source": [
    "sample_ids = table.ids()\n",
    "taxon_ids = table.ids(axis=\"observation\")"
   ]
  },
  {
   "cell_type": "code",
   "execution_count": 100,
   "metadata": {
    "collapsed": true
   },
   "outputs": [],
   "source": [
    "data_norm = data / data.sum(axis=-1, keepdims=True)\n",
    "data_sum = np.sum(data_norm, axis=0) / np.sum(data_norm)\n",
    "sel_idxes = [idx for i, idx in enumerate(np.argsort(-data_sum)) if i < num_taxa]\n",
    "sel_taxon_ids = taxon_ids[sel_idxes]"
   ]
  },
  {
   "cell_type": "markdown",
   "metadata": {},
   "source": [
    "# Change the order of selected idxes to match the ordering in phylogenetic tree"
   ]
  },
  {
   "cell_type": "code",
   "execution_count": 102,
   "metadata": {
    "collapsed": false
   },
   "outputs": [
    {
     "name": "stdout",
     "output_type": "stream",
     "text": [
      "original odering: [17, 15, 19, 62, 11, 106, 54, 117, 1, 9, 14, 23, 154, 24, 12, 5, 135, 141, 3, 124]\n"
     ]
    }
   ],
   "source": [
    "print(\"original odering:\", sel_idxes)"
   ]
  },
  {
   "cell_type": "code",
   "execution_count": 103,
   "metadata": {
    "collapsed": false
   },
   "outputs": [],
   "source": [
    "sel_idxes = [154, 54, 124, 3, 135,19, 15, 23, 62, 12, 117, 5, 14, 24, 106, 11, 141,1, 17, 9]"
   ]
  },
  {
   "cell_type": "code",
   "execution_count": 104,
   "metadata": {
    "collapsed": false
   },
   "outputs": [
    {
     "data": {
      "text/plain": [
       "20"
      ]
     },
     "execution_count": 104,
     "metadata": {},
     "output_type": "execute_result"
    }
   ],
   "source": [
    "len(sel_idxes)"
   ]
  },
  {
   "cell_type": "markdown",
   "metadata": {},
   "source": [
    "## note: the first taxa, i.e. taxa 0, is the rest of the taxa"
   ]
  },
  {
   "cell_type": "code",
   "execution_count": 105,
   "metadata": {
    "collapsed": false
   },
   "outputs": [
    {
     "name": "stdout",
     "output_type": "stream",
     "text": [
      "host MA's sample 19231 at time 4:09:40 doesn't exist\n",
      "host MA's sample 19244 at time 4:16:40 doesn't exist\n",
      "host MA's sample 19274 at time 5:11:45 doesn't exist\n",
      "host ME's sample 19813 at time 1:15:00 doesn't exist\n",
      "host ME's sample 19884 at time 3:15:02 doesn't exist\n",
      "host MO's sample 19368 at time 1:19:40 doesn't exist\n",
      "host MO's sample 19395 at time 2:17:35 doesn't exist\n",
      "host MO's sample 19520 at time 5:21:05 doesn't exist\n",
      "host MS's sample 19657 at time 3:12:00 doesn't exist\n",
      "host MS's sample 19688 at time 4:10:07 doesn't exist\n",
      "host MS's sample 19696 at time 4:13:07 doesn't exist\n",
      "host MS's sample 19715 at time 4:23:30 doesn't exist\n"
     ]
    }
   ],
   "source": [
    "trajs, inputs = [], []\n",
    "traj, Input = None, None\n",
    "others = []\n",
    "foods = []\n",
    "current_host_id = None\n",
    "\n",
    "with open(\"map.onlymedtime.txt\") as tsv:\n",
    "    tsv_reader = csv.DictReader(tsv, delimiter=\"\\t\")\n",
    "    for i, line in enumerate(tsv_reader):\n",
    "        sampled_id = line[\"#SampleID\"]\n",
    "        host_id = line[\"hostid\"]\n",
    "        conttime = int(line[\"conttime\"])\n",
    "\n",
    "        drink = line[\"drink\"]\n",
    "        eat = line[\"eat\"]\n",
    "        sleep = line[\"sleep\"]\n",
    "        other = line[\"other\"]\n",
    "\n",
    "        if sampled_id not in sample_ids:\n",
    "            print(\"host {}'s sample {} at time {} doesn't exist\".format(host_id, sampled_id, line[\"dayhourmin\"]))\n",
    "        else:\n",
    "            if host_id != current_host_id:\n",
    "                if traj is not None:\n",
    "                    trajs.append(np.array(traj))\n",
    "                    inputs.append(np.array(Input))\n",
    "                traj, Input = [], []\n",
    "                traj_start = conttime // 30\n",
    "\n",
    "            time_idx = float(conttime // 30 - traj_start)\n",
    "\n",
    "            # observations (counts)\n",
    "            row_idx = np.where(sample_ids == sampled_id)[0][0]\n",
    "            sel_taxon_counts = data[row_idx][sel_idxes]                    # (num_taxa,)\n",
    "            remain_counts = data[row_idx].sum() - sel_taxon_counts.sum()   # scalar\n",
    "            y = np.concatenate([[time_idx], [remain_counts], sel_taxon_counts])  # NOTE: first remain_counts, then selected counts\n",
    "            traj.append(y)\n",
    "\n",
    "            # inputs [drink, eat, sleep] all 0/1\n",
    "            inputs.append([time_idx, drink != \"\", eat != \"\", sleep != \"\"])\n",
    "\n",
    "            if other != \"\":\n",
    "                others.append(other)\n",
    "            if eat != \"\":\n",
    "                foods.append(eat)\n"
   ]
  },
  {
   "cell_type": "code",
   "execution_count": 106,
   "metadata": {
    "collapsed": false
   },
   "outputs": [
    {
     "data": {
      "text/plain": [
       "1707"
      ]
     },
     "execution_count": 106,
     "metadata": {},
     "output_type": "execute_result"
    }
   ],
   "source": [
    "len(inputs)"
   ]
  },
  {
   "cell_type": "code",
   "execution_count": 107,
   "metadata": {
    "collapsed": false
   },
   "outputs": [
    {
     "data": {
      "text/plain": [
       "853"
      ]
     },
     "execution_count": 107,
     "metadata": {},
     "output_type": "execute_result"
    }
   ],
   "source": [
    "len(trajs)"
   ]
  },
  {
   "cell_type": "code",
   "execution_count": null,
   "metadata": {
    "collapsed": false
   },
   "outputs": [],
   "source": []
  },
  {
   "cell_type": "markdown",
   "metadata": {},
   "source": [
    "# TOP 15 taxa"
   ]
  },
  {
   "cell_type": "code",
   "execution_count": 114,
   "metadata": {
    "collapsed": true
   },
   "outputs": [],
   "source": [
    "theta = np.zeros((15, 16))"
   ]
  },
  {
   "cell_type": "code",
   "execution_count": 115,
   "metadata": {
    "collapsed": true
   },
   "outputs": [],
   "source": [
    "theta[0, 0] = 1\n",
    "theta[0, 1:] = -1\n",
    "theta[1, 1:3] = 1\n",
    "theta[1, 3:] = -1\n",
    "theta[2, 1] = 1\n",
    "theta[2, 2] = -1\n",
    "theta[3, 3:5] = 1\n",
    "theta[3, 5:] = -1\n",
    "theta[4, 3] = 1\n",
    "theta[4, 4:6] = -1\n",
    "theta[5, 6] = 1\n",
    "theta[5, 7:] = -1\n",
    "theta[6, 4] = 1\n",
    "theta[6, 5] = -1\n",
    "theta[7, 7:9] = 1\n",
    "theta[8, 9:] = -1\n",
    "theta[8, 7] = 1\n",
    "theta[8, 8] = -1\n",
    "theta[9, 9:11] = 1\n",
    "theta[9, 11:] = -1\n",
    "theta[10, 9] = 1\n",
    "theta[10, 10] = -1\n",
    "theta[11, 11] = 1\n",
    "theta[11, 12:] = -1\n",
    "theta[12, 12] = 1\n",
    "theta[12, 13:] = -1\n",
    "theta[13, 13] = 1\n",
    "theta[13, 14:] = -1\n",
    "theta[14, 14] = 1\n",
    "theta[14, 15] = -1"
   ]
  },
  {
   "cell_type": "code",
   "execution_count": 116,
   "metadata": {
    "collapsed": true
   },
   "outputs": [],
   "source": [
    "num_taxa = 15"
   ]
  },
  {
   "cell_type": "code",
   "execution_count": 117,
   "metadata": {
    "collapsed": true
   },
   "outputs": [],
   "source": [
    "data_norm = data / data.sum(axis=-1, keepdims=True)\n",
    "data_sum = np.sum(data_norm, axis=0) / np.sum(data_norm)\n",
    "sel_idxes = [idx for i, idx in enumerate(np.argsort(-data_sum)) if i < num_taxa]\n",
    "sel_taxon_ids = taxon_ids[sel_idxes]"
   ]
  },
  {
   "cell_type": "markdown",
   "metadata": {},
   "source": [
    "# Change the order of selected idxes to match the ordering in phylogenetic tree"
   ]
  },
  {
   "cell_type": "code",
   "execution_count": 118,
   "metadata": {
    "collapsed": false
   },
   "outputs": [
    {
     "name": "stdout",
     "output_type": "stream",
     "text": [
      "original odering: [17, 15, 19, 62, 11, 106, 54, 117, 1, 9, 14, 23, 154, 24, 12]\n"
     ]
    }
   ],
   "source": [
    "print(\"original odering:\", sel_idxes)"
   ]
  },
  {
   "cell_type": "code",
   "execution_count": 119,
   "metadata": {
    "collapsed": false
   },
   "outputs": [
    {
     "data": {
      "text/plain": [
       "15"
      ]
     },
     "execution_count": 119,
     "metadata": {},
     "output_type": "execute_result"
    }
   ],
   "source": [
    "len(sel_idxes)"
   ]
  },
  {
   "cell_type": "code",
   "execution_count": 120,
   "metadata": {
    "collapsed": true
   },
   "outputs": [],
   "source": [
    "sel_idxes = [54, 154, 19, 15, 23, 62, 117, 12, 14, 24, 106, 11, 1, 17, 9]"
   ]
  },
  {
   "cell_type": "code",
   "execution_count": 121,
   "metadata": {
    "collapsed": false
   },
   "outputs": [
    {
     "data": {
      "text/plain": [
       "15"
      ]
     },
     "execution_count": 121,
     "metadata": {},
     "output_type": "execute_result"
    }
   ],
   "source": [
    "len(sel_idxes)"
   ]
  },
  {
   "cell_type": "code",
   "execution_count": null,
   "metadata": {
    "collapsed": true
   },
   "outputs": [],
   "source": []
  },
  {
   "cell_type": "code",
   "execution_count": null,
   "metadata": {
    "collapsed": true
   },
   "outputs": [],
   "source": []
  },
  {
   "cell_type": "markdown",
   "metadata": {},
   "source": [
    "# TOP 10 taxa"
   ]
  },
  {
   "cell_type": "code",
   "execution_count": 112,
   "metadata": {
    "collapsed": true
   },
   "outputs": [],
   "source": [
    "theta = np.zeros((10, 11))"
   ]
  },
  {
   "cell_type": "code",
   "execution_count": 113,
   "metadata": {
    "collapsed": true
   },
   "outputs": [],
   "source": [
    "theta[0, 0] = 1\n",
    "theta[0, 1:] = -1\n",
    "theta[1, 1] = 1\n",
    "theta[1, 2:] = -1\n",
    "theta[2, 2:4] = 1\n",
    "theta[2, 4:] = -1\n",
    "theta[3, 2] = 1\n",
    "theta[3, 3] = -1\n",
    "theta[4, 4] = 1\n",
    "theta[4, 5:] = -1\n",
    "theta[5, 5] = 1\n",
    "theta[5, 6:] = -1\n",
    "theta[6, 6:8] = 1\n",
    "theta[6, 8:] = -1\n",
    "theta[7, 6] = 1\n",
    "theta[7, 7] = -1\n",
    "theta[8, 8] = 1\n",
    "theta[8, 9:] = -1\n",
    "theta[9, 9] = 1\n",
    "theta[9, 10] = -1"
   ]
  },
  {
   "cell_type": "code",
   "execution_count": 124,
   "metadata": {
    "collapsed": true
   },
   "outputs": [],
   "source": [
    "num_taxa = 10"
   ]
  },
  {
   "cell_type": "code",
   "execution_count": 125,
   "metadata": {
    "collapsed": true
   },
   "outputs": [],
   "source": [
    "data_norm = data / data.sum(axis=-1, keepdims=True)\n",
    "data_sum = np.sum(data_norm, axis=0) / np.sum(data_norm)\n",
    "sel_idxes = [idx for i, idx in enumerate(np.argsort(-data_sum)) if i < num_taxa]\n",
    "sel_taxon_ids = taxon_ids[sel_idxes]"
   ]
  },
  {
   "cell_type": "markdown",
   "metadata": {},
   "source": [
    "# Change the order of selected idxes to match the ordering in phylogenetic tree"
   ]
  },
  {
   "cell_type": "code",
   "execution_count": 126,
   "metadata": {
    "collapsed": false
   },
   "outputs": [
    {
     "name": "stdout",
     "output_type": "stream",
     "text": [
      "original odering: [17, 15, 19, 62, 11, 106, 54, 117, 1, 9]\n"
     ]
    }
   ],
   "source": [
    "print(\"original odering:\", sel_idxes)"
   ]
  },
  {
   "cell_type": "code",
   "execution_count": 127,
   "metadata": {
    "collapsed": false
   },
   "outputs": [
    {
     "data": {
      "text/plain": [
       "10"
      ]
     },
     "execution_count": 127,
     "metadata": {},
     "output_type": "execute_result"
    }
   ],
   "source": [
    "len(sel_idxes)"
   ]
  },
  {
   "cell_type": "code",
   "execution_count": 128,
   "metadata": {
    "collapsed": true
   },
   "outputs": [],
   "source": [
    "sel_idxes = [54, 15, 19, 117, 62, 11, 106, 9, 17, 1]"
   ]
  },
  {
   "cell_type": "code",
   "execution_count": 129,
   "metadata": {
    "collapsed": false
   },
   "outputs": [
    {
     "data": {
      "text/plain": [
       "10"
      ]
     },
     "execution_count": 129,
     "metadata": {},
     "output_type": "execute_result"
    }
   ],
   "source": [
    "len(sel_idxes)"
   ]
  },
  {
   "cell_type": "code",
   "execution_count": null,
   "metadata": {
    "collapsed": true
   },
   "outputs": [],
   "source": []
  },
  {
   "cell_type": "code",
   "execution_count": null,
   "metadata": {
    "collapsed": true
   },
   "outputs": [],
   "source": []
  }
 ],
 "metadata": {
  "kernelspec": {
   "display_name": "ptc",
   "language": "python",
   "name": "ptc"
  },
  "language_info": {
   "codemirror_mode": {
    "name": "ipython",
    "version": 3
   },
   "file_extension": ".py",
   "mimetype": "text/x-python",
   "name": "python",
   "nbconvert_exporter": "python",
   "pygments_lexer": "ipython3",
   "version": "3.7.3"
  }
 },
 "nbformat": 4,
 "nbformat_minor": 2
}
