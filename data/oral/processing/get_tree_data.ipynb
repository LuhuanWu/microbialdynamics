{
 "cells": [
  {
   "cell_type": "code",
   "execution_count": 1,
   "metadata": {},
   "outputs": [],
   "source": [
    "import pickle\n",
    "import numpy as np\n",
    "import biom\n",
    "import csv"
   ]
  },
  {
   "cell_type": "code",
   "execution_count": 2,
   "metadata": {},
   "outputs": [],
   "source": [
    "with open (\"oral_medium.p\", \"rb\") as f:\n",
    "    d = pickle.load(f)"
   ]
  },
  {
   "cell_type": "code",
   "execution_count": 3,
   "metadata": {},
   "outputs": [
    {
     "data": {
      "text/plain": [
       "dict_keys(['theta', 'Ytrain', 'Ytest', 'Vtrain', 'Vtest'])"
      ]
     },
     "execution_count": 3,
     "metadata": {},
     "output_type": "execute_result"
    }
   ],
   "source": [
    "d.keys()"
   ]
  },
  {
   "cell_type": "code",
   "execution_count": 4,
   "metadata": {},
   "outputs": [
    {
     "data": {
      "text/plain": [
       "(20, 21)"
      ]
     },
     "execution_count": 4,
     "metadata": {},
     "output_type": "execute_result"
    }
   ],
   "source": [
    "d['theta'].shape"
   ]
  },
  {
   "cell_type": "code",
   "execution_count": 5,
   "metadata": {},
   "outputs": [
    {
     "data": {
      "text/plain": [
       "dtype('float64')"
      ]
     },
     "execution_count": 5,
     "metadata": {},
     "output_type": "execute_result"
    }
   ],
   "source": [
    "d['theta'].dtype"
   ]
  },
  {
   "cell_type": "code",
   "execution_count": 6,
   "metadata": {},
   "outputs": [
    {
     "data": {
      "text/plain": [
       "22"
      ]
     },
     "execution_count": 6,
     "metadata": {},
     "output_type": "execute_result"
    }
   ],
   "source": [
    "len(d['Ytrain'])"
   ]
  },
  {
   "cell_type": "code",
   "execution_count": 7,
   "metadata": {},
   "outputs": [
    {
     "data": {
      "text/plain": [
       "6"
      ]
     },
     "execution_count": 7,
     "metadata": {},
     "output_type": "execute_result"
    }
   ],
   "source": [
    "len(d['Ytest'])"
   ]
  },
  {
   "cell_type": "markdown",
   "metadata": {},
   "source": [
    "# top 20 taxa + the rest\n",
    "\n",
    "\n",
    "Note: we set the rest of taxa (i.e. top 21, 22, ....)  to be taxa0"
   ]
  },
  {
   "cell_type": "code",
   "execution_count": 8,
   "metadata": {},
   "outputs": [],
   "source": [
    "theta = np.zeros((20, 21))"
   ]
  },
  {
   "cell_type": "code",
   "execution_count": 9,
   "metadata": {},
   "outputs": [],
   "source": [
    "theta[0, 0] = 1\n",
    "theta[0, 1:] = -1"
   ]
  },
  {
   "cell_type": "code",
   "execution_count": 10,
   "metadata": {},
   "outputs": [],
   "source": [
    "theta[1, 1:4] = 1\n",
    "theta[1, 4:] = -1"
   ]
  },
  {
   "cell_type": "code",
   "execution_count": 11,
   "metadata": {},
   "outputs": [],
   "source": [
    "theta[2, 1] = 1\n",
    "theta[2, 2:4] = -1"
   ]
  },
  {
   "cell_type": "code",
   "execution_count": 12,
   "metadata": {},
   "outputs": [],
   "source": [
    "theta[3, 4] = 1\n",
    "theta[3, 5:] = -1"
   ]
  },
  {
   "cell_type": "code",
   "execution_count": 13,
   "metadata": {},
   "outputs": [],
   "source": [
    "theta[4, 2] = 1\n",
    "theta[4, 3] = -1"
   ]
  },
  {
   "cell_type": "code",
   "execution_count": 14,
   "metadata": {},
   "outputs": [],
   "source": [
    "theta[5, 5] = 1\n",
    "theta[5, 6:9] = -1"
   ]
  },
  {
   "cell_type": "code",
   "execution_count": 15,
   "metadata": {},
   "outputs": [],
   "source": [
    "theta[6, 5:9] = 1\n",
    "theta[6, 9:] = -1"
   ]
  },
  {
   "cell_type": "code",
   "execution_count": 16,
   "metadata": {},
   "outputs": [],
   "source": [
    "theta[7, 6] = 1\n",
    "theta[7, 7:9] = -1"
   ]
  },
  {
   "cell_type": "code",
   "execution_count": 17,
   "metadata": {},
   "outputs": [],
   "source": [
    "theta[8, 9] = 1\n",
    "theta[8, 10:] = -1"
   ]
  },
  {
   "cell_type": "code",
   "execution_count": 18,
   "metadata": {},
   "outputs": [],
   "source": [
    "theta[9, 7] = 1\n",
    "theta[9, 8] = -1"
   ]
  },
  {
   "cell_type": "code",
   "execution_count": 19,
   "metadata": {},
   "outputs": [],
   "source": [
    "theta[10, 10:13] = 1\n",
    "theta[10, 13:] = -1"
   ]
  },
  {
   "cell_type": "code",
   "execution_count": 20,
   "metadata": {},
   "outputs": [],
   "source": [
    "theta[11, 10] = 1\n",
    "theta[11, 11:13] = -1"
   ]
  },
  {
   "cell_type": "code",
   "execution_count": 21,
   "metadata": {},
   "outputs": [],
   "source": [
    "theta[12, 13:15] = 1\n",
    "theta[12, 15:] = -1"
   ]
  },
  {
   "cell_type": "code",
   "execution_count": 22,
   "metadata": {},
   "outputs": [],
   "source": [
    "theta[13, 11] = 1\n",
    "theta[13, 12] = -1"
   ]
  },
  {
   "cell_type": "code",
   "execution_count": 23,
   "metadata": {},
   "outputs": [],
   "source": [
    "theta[14, 13] = 1\n",
    "theta[14, 14] = -1"
   ]
  },
  {
   "cell_type": "code",
   "execution_count": 24,
   "metadata": {},
   "outputs": [],
   "source": [
    "theta[15, 15] = 1\n",
    "theta[15, 16:] = -1"
   ]
  },
  {
   "cell_type": "code",
   "execution_count": 25,
   "metadata": {},
   "outputs": [],
   "source": [
    "theta[16, 16:18] = 1\n",
    "theta[16, 18:] = -1"
   ]
  },
  {
   "cell_type": "code",
   "execution_count": 26,
   "metadata": {},
   "outputs": [],
   "source": [
    "theta[17, 16] = 1\n",
    "theta[17, 17] = -1"
   ]
  },
  {
   "cell_type": "code",
   "execution_count": 27,
   "metadata": {},
   "outputs": [],
   "source": [
    "theta[18, 18] = 1\n",
    "theta[18, 19:] = -1"
   ]
  },
  {
   "cell_type": "code",
   "execution_count": 28,
   "metadata": {},
   "outputs": [],
   "source": [
    "theta[19, 19] = 1\n",
    "theta[19, 20] = -1"
   ]
  },
  {
   "cell_type": "code",
   "execution_count": 29,
   "metadata": {},
   "outputs": [],
   "source": [
    "num_taxa = 20"
   ]
  },
  {
   "cell_type": "code",
   "execution_count": 30,
   "metadata": {},
   "outputs": [],
   "source": [
    "table = biom.load_table(\"all.biom\")"
   ]
  },
  {
   "cell_type": "code",
   "execution_count": 31,
   "metadata": {},
   "outputs": [],
   "source": [
    "data = table._data.toarray().T"
   ]
  },
  {
   "cell_type": "code",
   "execution_count": 32,
   "metadata": {},
   "outputs": [
    {
     "data": {
      "text/plain": [
       "(1050, 6400)"
      ]
     },
     "execution_count": 32,
     "metadata": {},
     "output_type": "execute_result"
    }
   ],
   "source": [
    "data.shape"
   ]
  },
  {
   "cell_type": "code",
   "execution_count": 33,
   "metadata": {},
   "outputs": [],
   "source": [
    "sample_ids = table.ids()\n",
    "taxon_ids = table.ids(axis=\"observation\")"
   ]
  },
  {
   "cell_type": "code",
   "execution_count": 34,
   "metadata": {},
   "outputs": [],
   "source": [
    "data_norm = data / data.sum(axis=-1, keepdims=True)\n",
    "data_sum = np.sum(data_norm, axis=0) / np.sum(data_norm)\n",
    "sel_idxes = [idx for i, idx in enumerate(np.argsort(-data_sum)) if i < num_taxa]\n",
    "sel_taxon_ids = taxon_ids[sel_idxes]"
   ]
  },
  {
   "cell_type": "markdown",
   "metadata": {},
   "source": [
    "# Change the order of selected idxes to match the ordering in phylogenetic tree"
   ]
  },
  {
   "cell_type": "code",
   "execution_count": 35,
   "metadata": {},
   "outputs": [
    {
     "name": "stdout",
     "output_type": "stream",
     "text": [
      "original odering: [17, 15, 19, 62, 11, 106, 54, 117, 1, 9, 14, 23, 154, 24, 12, 5, 135, 141, 3, 124]\n"
     ]
    }
   ],
   "source": [
    "print(\"original odering:\", sel_idxes)"
   ]
  },
  {
   "cell_type": "code",
   "execution_count": 36,
   "metadata": {},
   "outputs": [],
   "source": [
    "sel_idxes = [154, 54, 124, 3, 135,19, 15, 23, 62, 12, 117, 5, 14, 24, 106, 11, 141,1, 17, 9]"
   ]
  },
  {
   "cell_type": "code",
   "execution_count": 37,
   "metadata": {},
   "outputs": [
    {
     "data": {
      "text/plain": [
       "20"
      ]
     },
     "execution_count": 37,
     "metadata": {},
     "output_type": "execute_result"
    }
   ],
   "source": [
    "len(sel_idxes)"
   ]
  },
  {
   "cell_type": "markdown",
   "metadata": {},
   "source": [
    "## note: the first taxa, i.e. taxa 0, is the rest of the taxa"
   ]
  },
  {
   "cell_type": "code",
   "execution_count": 38,
   "metadata": {},
   "outputs": [],
   "source": [
    "def get_traj_and_input(data, sel_idxes):\n",
    "    trajs, inputs = [], []\n",
    "    traj, Input, timestamps, prev_time_idx, prev_timestamp = [], [], [], None, None\n",
    "    others = []\n",
    "    foods = []\n",
    "    current_host_id = None\n",
    "\n",
    "    tmp = []\n",
    "    tmp_ = {}\n",
    "\n",
    "    with open(\"map.onlymedtime.txt\") as tsv:\n",
    "        tsv_reader = csv.DictReader(tsv, delimiter=\"\\t\")\n",
    "        for i, line in enumerate(tsv_reader):\n",
    "            sampled_id = line[\"#SampleID\"]\n",
    "            host_id = line[\"hostid\"]\n",
    "            conttime = int(line[\"conttime\"])\n",
    "\n",
    "            drink = line[\"drink\"]\n",
    "            eat = line[\"eat\"]\n",
    "            sleep = line[\"sleep\"]\n",
    "            other = line[\"other\"]\n",
    "\n",
    "            tmp_[line[\"body site\"]] = tmp_.get(line[\"body site\"], 0) + 1\n",
    "\n",
    "            if sampled_id not in sample_ids:\n",
    "                # print(\"host {}'s sample {} at time {} doesn't exist\".format(host_id, sampled_id, line[\"dayhourmin\"]))\n",
    "                continue\n",
    "            if line[\"body site\"] != \"saliva\":\n",
    "                continue\n",
    "\n",
    "            sample_interval = 15\n",
    "            time_idx = conttime // sample_interval\n",
    "            traj_terminate = False\n",
    "\n",
    "            if host_id != current_host_id:\n",
    "                traj_terminate = True\n",
    "                # print(\"host_id:\", host_id)\n",
    "\n",
    "            if prev_time_idx is not None:\n",
    "                cur_timestamp = line[\"dayhourmin\"]\n",
    "                if time_idx == prev_time_idx:\n",
    "                    # print(\"host {} had two samples at time {} and {}, ignore the 2nd one\".format(\n",
    "                    #     host_id, prev_timestamp, cur_timestamp))\n",
    "                    continue\n",
    "                elif time_idx - prev_time_idx > 2 * 60 / sample_interval and line[\"hour\"]:\n",
    "                    # print(prev_timestamp, cur_timestamp)\n",
    "                    traj_terminate = True\n",
    "            prev_time_idx, prev_timestamp = time_idx, line[\"dayhourmin\"]\n",
    "\n",
    "            if traj_terminate:\n",
    "                if len(traj) > 4:\n",
    "                    traj, Input, timestamps = np.array(traj), np.array(Input), np.array(timestamps) - timestamps[0]\n",
    "                    traj = np.concatenate([timestamps[:, None], traj], axis=-1)\n",
    "                    Input = np.concatenate([timestamps[:-1, None], Input[1:, :]], axis=-1)\n",
    "                    trajs.append(traj)\n",
    "                    inputs.append(Input)\n",
    "                current_host_id = host_id\n",
    "                traj, Input, timestamps, prev_time_idx, prev_timestamp = [], [], [], None, None\n",
    "\n",
    "            # observations (counts)\n",
    "            assert len(np.where(sample_ids == sampled_id)[0]) == 1\n",
    "            row_idx = np.where(sample_ids == sampled_id)[0][0]\n",
    "            sel_taxon_counts = data[row_idx][sel_idxes]                    # (num_taxa,)\n",
    "            remain_counts = data[row_idx].sum() - sel_taxon_counts.sum()   # scalar\n",
    "            y = np.concatenate([sel_taxon_counts, [remain_counts]])\n",
    "            traj.append(y)\n",
    "\n",
    "            # inputs [drink, eat, sleep] all 0/1\n",
    "            Input.append([drink != \"\", eat != \"\", sleep != \"\"])\n",
    "\n",
    "            timestamps.append(time_idx)\n",
    "\n",
    "            if other != \"\":\n",
    "                others.append(other)\n",
    "            if eat != \"\":\n",
    "                foods.append(eat)\n",
    "\n",
    "    if traj is not None:\n",
    "        traj, Input, timestamps = np.array(traj), np.array(Input), np.array(timestamps)\n",
    "        traj = np.concatenate([timestamps[:, None], traj], axis=-1)\n",
    "        Input = np.concatenate([timestamps[:-1, None], Input[1:, :]], axis=-1)\n",
    "        trajs.append(traj)\n",
    "        inputs.append(Input)\n",
    "\n",
    "    # print(set(tmp))\n",
    "    # print(tmp_)\n",
    "\n",
    "    # print(\"\\nfoods includes:\")\n",
    "    # for food in set(foods):\n",
    "    #     print(food)\n",
    "\n",
    "    # print(\"\\nothers includes:\")\n",
    "    # for other in set(others):\n",
    "    #     print(other)\n",
    "\n",
    "    return trajs, inputs"
   ]
  },
  {
   "cell_type": "code",
   "execution_count": 39,
   "metadata": {},
   "outputs": [],
   "source": [
    "def save_data(trajs, inputs):\n",
    "    idx = list(range(len(trajs)))\n",
    "    n_train = int(len(trajs) * 0.8)\n",
    "    total_num = np.sum([len(traj) for traj in trajs])\n",
    "    while True:\n",
    "        np.random.shuffle(idx)\n",
    "        train_idx = idx[:n_train]\n",
    "        test_idx = idx[n_train:]\n",
    "        train_num = np.sum([len(trajs[idx]) for idx in train_idx])\n",
    "        test_num = np.sum([len(trajs[idx]) for idx in test_idx])\n",
    "        if 0.75 <= train_num / total_num <= 0.8:\n",
    "            break\n",
    "\n",
    "    c_data = {}\n",
    "    c_data['theta'] = theta\n",
    "    c_data['Ytrain'] = [trajs[idx] for idx in train_idx]  # count\n",
    "    c_data['Ytest'] = [trajs[idx] for idx in test_idx]\n",
    "    c_data['Vtrain'] = [inputs[idx] for idx in train_idx]\n",
    "    c_data['Vtest'] = [inputs[idx] for idx in test_idx]\n",
    "\n",
    "    Dy = len(trajs[0][0]) - 1\n",
    "    with open(\"oral_{}_taxa.p\".format(Dy), \"wb\") as f:\n",
    "        pickle.dump(c_data, f)\n",
    "\n",
    "    # stats\n",
    "    print(\"Num of trajs\", len(trajs))\n",
    "    print(\"Num of total timestamps\", total_num)\n",
    "    print(\"Num of train timestamps\", train_num)\n",
    "    print(\"Num of test timestamps\", test_num)"
   ]
  },
  {
   "cell_type": "code",
   "execution_count": 40,
   "metadata": {},
   "outputs": [],
   "source": [
    "trajs, inputs = get_traj_and_input(data, sel_idxes)"
   ]
  },
  {
   "cell_type": "code",
   "execution_count": 41,
   "metadata": {},
   "outputs": [
    {
     "data": {
      "text/plain": [
       "28"
      ]
     },
     "execution_count": 41,
     "metadata": {},
     "output_type": "execute_result"
    }
   ],
   "source": [
    "len(inputs)"
   ]
  },
  {
   "cell_type": "code",
   "execution_count": 42,
   "metadata": {},
   "outputs": [
    {
     "data": {
      "text/plain": [
       "28"
      ]
     },
     "execution_count": 42,
     "metadata": {},
     "output_type": "execute_result"
    }
   ],
   "source": [
    "len(trajs)"
   ]
  },
  {
   "cell_type": "code",
   "execution_count": 43,
   "metadata": {},
   "outputs": [
    {
     "name": "stdout",
     "output_type": "stream",
     "text": [
      "Num of trajs 28\n",
      "Num of total timestamps 817\n",
      "Num of train timestamps 622\n",
      "Num of test timestamps 195\n"
     ]
    }
   ],
   "source": [
    "save_data(trajs, inputs)"
   ]
  },
  {
   "cell_type": "markdown",
   "metadata": {},
   "source": [
    "# TOP 15 taxa"
   ]
  },
  {
   "cell_type": "code",
   "execution_count": 44,
   "metadata": {},
   "outputs": [],
   "source": [
    "theta = np.zeros((15, 16))"
   ]
  },
  {
   "cell_type": "code",
   "execution_count": 45,
   "metadata": {},
   "outputs": [],
   "source": [
    "theta[0, 0] = 1\n",
    "theta[0, 1:] = -1\n",
    "theta[1, 1:3] = 1\n",
    "theta[1, 3:] = -1\n",
    "theta[2, 1] = 1\n",
    "theta[2, 2] = -1\n",
    "theta[3, 3:6] = 1\n",
    "theta[3, 6:] = -1\n",
    "theta[4, 3] = 1\n",
    "theta[4, 4:6] = -1\n",
    "theta[5, 6] = 1\n",
    "theta[5, 7:] = -1\n",
    "theta[6, 4] = 1\n",
    "theta[6, 5] = -1\n",
    "theta[7, 7:9] = 1\n",
    "theta[7, 9:] = -1\n",
    "theta[8, 7] = 1\n",
    "theta[8, 8] = -1\n",
    "theta[9, 9:11] = 1\n",
    "theta[9, 11:] = -1\n",
    "theta[10, 9] = 1\n",
    "theta[10, 10] = -1\n",
    "theta[11, 11] = 1\n",
    "theta[11, 12:] = -1\n",
    "theta[12, 12] = 1\n",
    "theta[12, 13:] = -1\n",
    "theta[13, 13] = 1\n",
    "theta[13, 14:] = -1\n",
    "theta[14, 14] = 1\n",
    "theta[14, 15] = -1"
   ]
  },
  {
   "cell_type": "code",
   "execution_count": 46,
   "metadata": {},
   "outputs": [],
   "source": [
    "num_taxa = 15"
   ]
  },
  {
   "cell_type": "code",
   "execution_count": 47,
   "metadata": {},
   "outputs": [],
   "source": [
    "data_norm = data / data.sum(axis=-1, keepdims=True)\n",
    "data_sum = np.sum(data_norm, axis=0) / np.sum(data_norm)\n",
    "sel_idxes = [idx for i, idx in enumerate(np.argsort(-data_sum)) if i < num_taxa]\n",
    "sel_taxon_ids = taxon_ids[sel_idxes]"
   ]
  },
  {
   "cell_type": "markdown",
   "metadata": {},
   "source": [
    "# Change the order of selected idxes to match the ordering in phylogenetic tree"
   ]
  },
  {
   "cell_type": "code",
   "execution_count": 48,
   "metadata": {},
   "outputs": [
    {
     "name": "stdout",
     "output_type": "stream",
     "text": [
      "original odering: [17, 15, 19, 62, 11, 106, 54, 117, 1, 9, 14, 23, 154, 24, 12]\n"
     ]
    }
   ],
   "source": [
    "print(\"original odering:\", sel_idxes)"
   ]
  },
  {
   "cell_type": "code",
   "execution_count": 49,
   "metadata": {},
   "outputs": [
    {
     "data": {
      "text/plain": [
       "15"
      ]
     },
     "execution_count": 49,
     "metadata": {},
     "output_type": "execute_result"
    }
   ],
   "source": [
    "len(sel_idxes)"
   ]
  },
  {
   "cell_type": "code",
   "execution_count": 50,
   "metadata": {},
   "outputs": [],
   "source": [
    "sel_idxes = [54, 154, 19, 15, 23, 62, 117, 12, 14, 24, 106, 11, 1, 17, 9]"
   ]
  },
  {
   "cell_type": "code",
   "execution_count": 51,
   "metadata": {},
   "outputs": [
    {
     "data": {
      "text/plain": [
       "15"
      ]
     },
     "execution_count": 51,
     "metadata": {},
     "output_type": "execute_result"
    }
   ],
   "source": [
    "len(sel_idxes)"
   ]
  },
  {
   "cell_type": "code",
   "execution_count": 52,
   "metadata": {},
   "outputs": [
    {
     "name": "stdout",
     "output_type": "stream",
     "text": [
      "Num of trajs 28\n",
      "Num of total timestamps 817\n",
      "Num of train timestamps 614\n",
      "Num of test timestamps 203\n"
     ]
    }
   ],
   "source": [
    "trajs, inputs = get_traj_and_input(data, sel_idxes)\n",
    "save_data(trajs, inputs)"
   ]
  },
  {
   "cell_type": "markdown",
   "metadata": {},
   "source": [
    "# TOP 10 taxa"
   ]
  },
  {
   "cell_type": "code",
   "execution_count": 53,
   "metadata": {},
   "outputs": [],
   "source": [
    "theta = np.zeros((10, 11))"
   ]
  },
  {
   "cell_type": "code",
   "execution_count": 54,
   "metadata": {},
   "outputs": [],
   "source": [
    "theta[0, 0] = 1\n",
    "theta[0, 1:] = -1\n",
    "theta[1, 1] = 1\n",
    "theta[1, 2:] = -1\n",
    "theta[2, 2:4] = 1\n",
    "theta[2, 4:] = -1\n",
    "theta[3, 2] = 1\n",
    "theta[3, 3] = -1\n",
    "theta[4, 4] = 1\n",
    "theta[4, 5:] = -1\n",
    "theta[5, 5] = 1\n",
    "theta[5, 6:] = -1\n",
    "theta[6, 6:8] = 1\n",
    "theta[6, 8:] = -1\n",
    "theta[7, 6] = 1\n",
    "theta[7, 7] = -1\n",
    "theta[8, 8] = 1\n",
    "theta[8, 9:] = -1\n",
    "theta[9, 9] = 1\n",
    "theta[9, 10] = -1"
   ]
  },
  {
   "cell_type": "code",
   "execution_count": 55,
   "metadata": {},
   "outputs": [],
   "source": [
    "num_taxa = 10"
   ]
  },
  {
   "cell_type": "code",
   "execution_count": 56,
   "metadata": {},
   "outputs": [],
   "source": [
    "data_norm = data / data.sum(axis=-1, keepdims=True)\n",
    "data_sum = np.sum(data_norm, axis=0) / np.sum(data_norm)\n",
    "sel_idxes = [idx for i, idx in enumerate(np.argsort(-data_sum)) if i < num_taxa]\n",
    "sel_taxon_ids = taxon_ids[sel_idxes]"
   ]
  },
  {
   "cell_type": "markdown",
   "metadata": {},
   "source": [
    "# Change the order of selected idxes to match the ordering in phylogenetic tree"
   ]
  },
  {
   "cell_type": "code",
   "execution_count": 57,
   "metadata": {},
   "outputs": [
    {
     "name": "stdout",
     "output_type": "stream",
     "text": [
      "original odering: [17, 15, 19, 62, 11, 106, 54, 117, 1, 9]\n"
     ]
    }
   ],
   "source": [
    "print(\"original odering:\", sel_idxes)"
   ]
  },
  {
   "cell_type": "code",
   "execution_count": 58,
   "metadata": {},
   "outputs": [
    {
     "data": {
      "text/plain": [
       "10"
      ]
     },
     "execution_count": 58,
     "metadata": {},
     "output_type": "execute_result"
    }
   ],
   "source": [
    "len(sel_idxes)"
   ]
  },
  {
   "cell_type": "code",
   "execution_count": 59,
   "metadata": {},
   "outputs": [],
   "source": [
    "sel_idxes = [54, 15, 19, 117, 62, 11, 106, 9, 17, 1]"
   ]
  },
  {
   "cell_type": "code",
   "execution_count": 60,
   "metadata": {},
   "outputs": [
    {
     "data": {
      "text/plain": [
       "10"
      ]
     },
     "execution_count": 60,
     "metadata": {},
     "output_type": "execute_result"
    }
   ],
   "source": [
    "len(sel_idxes)"
   ]
  },
  {
   "cell_type": "code",
   "execution_count": 61,
   "metadata": {},
   "outputs": [
    {
     "name": "stdout",
     "output_type": "stream",
     "text": [
      "Num of trajs 28\n",
      "Num of total timestamps 817\n",
      "Num of train timestamps 635\n",
      "Num of test timestamps 182\n"
     ]
    }
   ],
   "source": [
    "trajs, inputs = get_traj_and_input(data, sel_idxes)\n",
    "save_data(trajs, inputs)"
   ]
  },
  {
   "cell_type": "code",
   "execution_count": null,
   "metadata": {},
   "outputs": [],
   "source": []
  }
 ],
 "metadata": {
  "kernelspec": {
   "display_name": "Python 3",
   "language": "python",
   "name": "python3"
  },
  "language_info": {
   "codemirror_mode": {
    "name": "ipython",
    "version": 3
   },
   "file_extension": ".py",
   "mimetype": "text/x-python",
   "name": "python",
   "nbconvert_exporter": "python",
   "pygments_lexer": "ipython3",
   "version": "3.6.2"
  }
 },
 "nbformat": 4,
 "nbformat_minor": 2
}
