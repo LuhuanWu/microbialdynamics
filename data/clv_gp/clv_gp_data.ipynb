{
 "cells": [
  {
   "cell_type": "code",
   "execution_count": 1,
   "metadata": {},
   "outputs": [],
   "source": [
    "import GPy\n",
    "import pickle\n",
    "import numpy as np\n",
    "from scipy.special import logsumexp\n",
    "\n",
    "import matplotlib.pyplot as plt\n",
    "import seaborn as sns"
   ]
  },
  {
   "cell_type": "code",
   "execution_count": 2,
   "metadata": {},
   "outputs": [],
   "source": [
    "# generate binary input vector\n",
    "def simulate_single_input(time, Dv):\n",
    "    inputs = np.zeros((time, Dv))\n",
    "    if Dv > 0:\n",
    "\n",
    "        number_of_non_zero_dimenions = np.random.choice(np.arange(3,8), 1)[0]\n",
    "\n",
    "        non_zero_dimensions = np.random.choice(Dv - 1, number_of_non_zero_dimenions, replace=False)\n",
    "\n",
    "        for k in non_zero_dimensions:\n",
    "            start = np.random.choice(time - 1, 1)[0]\n",
    "            end = start + 1 + np.random.choice(np.arange(40, 60),1)[0]\n",
    "            end = min(end, time)\n",
    "            inputs[start:end, k] = np.ones(end-start)\n",
    "\n",
    "        # surgery is at the last axis\n",
    "        start = np.random.randint(int(0.3 * time), int(0.6 * time))\n",
    "        end = time\n",
    "        inputs[start:end, -1] = np.ones(end-start)\n",
    "    \n",
    "    return inputs"
   ]
  },
  {
   "cell_type": "code",
   "execution_count": 3,
   "metadata": {},
   "outputs": [],
   "source": [
    "def simulate_clv_with_inputs(A, g, Wv, f_cov, N, inputs, X_cov, beta):\n",
    "    #  Wv: (Dx, Dv), W1 (Dx, Dv), W2 (1, Dx+1)\n",
    "    # x_t + g_t + Wv v_t + (A+ A(v_t)) * p_t where A(v_t) = (W1 * vt) * W2\n",
    "    latent_dim = A.shape[0]\n",
    "    ndays, input_dim = inputs.shape\n",
    "    x_mean = []\n",
    "    y_count = []\n",
    "    y_percentage = []\n",
    "\n",
    "    mu = np.random.multivariate_normal(mean=np.zeros(latent_dim), cov=2 * np.eye(latent_dim))\n",
    "    # simulate hidden alpha\n",
    "    for t in range(ndays):\n",
    "        xt = mu\n",
    "        x_mean.append(xt)\n",
    "\n",
    "        # increase dimension by 1\n",
    "        xt1 = np.concatenate((xt, np.array([0])))\n",
    "        pt = np.exp(xt1 - logsumexp(xt1))\n",
    "\n",
    "        transition_noise = np.random.multivariate_normal(mean=np.zeros(latent_dim), cov=np.diag(f_cov))\n",
    "        vt = inputs[t]\n",
    "\n",
    "        mu = xt + g + Wv.dot(vt) + A.dot(pt) + transition_noise\n",
    "    \n",
    "    x_mean = np.array(x_mean)\n",
    "    X = np.zeros_like(x_mean)\n",
    "    for i in range(x_mean.shape[1]):\n",
    "        X[:, i] = np.random.multivariate_normal(x_mean[:, i], X_cov)\n",
    "\n",
    "    for xt in X:\n",
    "        xt1 = np.concatenate((xt, np.array([0])))\n",
    "        pt = np.exp(xt1 - logsumexp(xt1))\n",
    "        pt = beta.dot(pt)\n",
    "\n",
    "        # simulate total number of reads with over-dispersion\n",
    "        logN = np.random.normal(loc=np.log(N), scale=0.5)\n",
    "        Nt = np.random.poisson(np.exp(logN))\n",
    "\n",
    "        yt_count = np.random.multinomial(Nt, pt).astype(float)\n",
    "        yt_percentage = yt_count / np.sum(yt_count)\n",
    "\n",
    "        y_count.append(yt_count)\n",
    "        y_percentage.append(yt_percentage)\n",
    "\n",
    "    return np.array(X), np.array(y_count), np.array(y_percentage)"
   ]
  },
  {
   "cell_type": "code",
   "execution_count": 4,
   "metadata": {
    "scrolled": false
   },
   "outputs": [
    {
     "name": "stdout",
     "output_type": "stream",
     "text": [
      "A\n",
      "-0.13  0.45 -0.29  0.19  0.43\n",
      "-0.20 -0.55  0.06 -0.12  0.41\n",
      " 0.18 -0.16 -0.49  0.29  0.62\n",
      "-0.51  0.15 -0.24 -0.31  0.24\n",
      "-0.27 -0.10 -0.13 -0.01 -0.76\n",
      "g\n",
      "0.010 0.001 0.013 0.019 0.005\n",
      "Wv\n",
      "\n",
      "\n",
      "\n",
      "\n",
      "\n",
      "f_cov\n",
      "0.000 0.000 0.000 0.000\n"
     ]
    }
   ],
   "source": [
    "Dx = 5\n",
    "Dy = 2 * Dx\n",
    "Dv = 0  # including surgery\n",
    "n_train, n_test = 720, 20\n",
    "time = 60\n",
    "sparsity = 3\n",
    "\n",
    "# interaction\n",
    "A  = np.random.normal(loc=0, scale=0.3, size=(Dx, Dx))\n",
    "for i in range(Dx):\n",
    "    A[i, i] = -np.abs(A[i, i])\n",
    "    for j in range(i + 1, Dx):\n",
    "        A[i, j] = -np.sign(A[j, i]) * np.abs(A[i, j])\n",
    "\n",
    "# inputs\n",
    "Wv = np.random.normal(loc=0, scale=0.02, size=(Dx, Dv))\n",
    "if Dv > 0:\n",
    "    Wv[:, -1] = -np.abs(Wv[:, -1])\n",
    "for i in range(Dv - 1):\n",
    "    n_zero_items = int(Dx * 0.75)\n",
    "    idxs = np.random.choice(np.arange(Dx), n_zero_items, replace=False)\n",
    "    Wv[idxs, i] = np.zeros_like(idxs)\n",
    "\n",
    "g = np.random.gamma(shape=1.1, scale=0.01, size=(Dx,))\n",
    "f_cov = np.abs(np.random.normal(loc=0, scale=0.0, size=(Dx - 1,)))\n",
    "N = 10000 # sequencing reads parameter\n",
    "\n",
    "beta = np.zeros((Dy, Dx))\n",
    "for i in range(Dx):\n",
    "    beta[:, i] = np.ones(Dy) * 0.05 * Dy / (Dy - 2) ** 2\n",
    "    beta[2 * i, i] = 0.6\n",
    "    beta[2 * i + 1, i] = 0.3\n",
    "\n",
    "k_var = 0.0\n",
    "k_len = 1\n",
    "kernel = GPy.kern.RBF(1, variance=k_var, lengthscale=k_len)\n",
    "\n",
    "print(\"A\\n\" + \"\\n\".join([\" \".join([\"{:>5.2f}\".format(ele) for ele in row]) for row in A]))\n",
    "print(\"g\\n\" + \" \".join([\"{:>5.3f}\".format(ele) for ele in g]))\n",
    "print(\"Wv\\n\" + \"\\n\".join([\" \".join([\"{:>5.2f}\".format(ele) for ele in row]) for row in Wv]))\n",
    "print(\"f_cov\\n\" + \" \".join([\"{:>5.3f}\".format(ele) for ele in f_cov]))\n",
    "\n",
    "A_r = A[:-1] - A[-1:]\n",
    "g_r = g[:-1] - g[-1:]\n",
    "Wv_r = Wv[:-1] - Wv[-1:]"
   ]
  },
  {
   "cell_type": "code",
   "execution_count": 5,
   "metadata": {},
   "outputs": [],
   "source": [
    "overwrite_params = True\n",
    "if overwrite_params:\n",
    "    with open(\"data/clv_count_Dx_5_Dy_10_ntrain_20_obp_10_noinput.p\", \"rb\") as f:\n",
    "        d = pickle.load(f)\n",
    "    A = d[\"A\"]\n",
    "    g = d[\"g\"]\n",
    "    Wv = d[\"Wv\"]\n",
    "    f_cov = d[\"f_cov\"]\n",
    "    N = d[\"N\"]\n",
    "    k_var = d[\"k_var\"]\n",
    "    k_len = d[\"k_len\"]\n",
    "    beta = d[\"beta\"]\n",
    "    \n",
    "    A_r = A[:-1] - A[-1:]\n",
    "    g_r = g[:-1] - g[-1:]\n",
    "    Wv_r = Wv[:-1] - Wv[-1:]\n",
    "    k_var = 0.1\n",
    "    k_len = 1\n",
    "    kernel = GPy.kern.RBF(1, variance=k_var, lengthscale=k_len)"
   ]
  },
  {
   "cell_type": "code",
   "execution_count": 6,
   "metadata": {},
   "outputs": [],
   "source": [
    "# create data with missing observation\n",
    "x_train = []\n",
    "x_test = []\n",
    "y_count_train = []\n",
    "y_count_test = []\n",
    "y_percentage_train = []\n",
    "y_percentage_test = []\n",
    "v_train = []\n",
    "v_test = []\n",
    "\n",
    "batch_inputs = [simulate_single_input(time, Dv) for _ in range(n_train + n_test)]\n",
    "X_cov = kernel.K(np.arange(time)[:, np.newaxis])\n",
    "\n",
    "for i in range(n_train + n_test):\n",
    "    v = batch_inputs[i]  # (time, Dv)\n",
    "    x, y_count, y_percentage = simulate_clv_with_inputs(A_r, g_r, Wv_r, f_cov, N, v, X_cov, beta)\n",
    "    \n",
    "    # make missing observations, the first day cannot be missing\n",
    "    # obs_percentage = 1.0 / sparsity\n",
    "    # if int(time * obs_percentage) == time:\n",
    "    #     obsed_days = np.arange(time)\n",
    "    # else:\n",
    "    #     obsed_days = np.random.choice(np.arange(1, time), int(time * obs_percentage) - 1, replace=False)\n",
    "    #     obsed_days = np.sort(np.concatenate(([0], obsed_days)))\n",
    "    obsed_days = [x for x in range(time) if x % sparsity == 0]\n",
    "\n",
    "    y_percentage = y_percentage[obsed_days]\n",
    "    x = x[obsed_days]\n",
    "    y_count = y_count[obsed_days]\n",
    "\n",
    "    days = np.arange(time)[:, np.newaxis]\n",
    "    y_count = np.concatenate([days[obsed_days], y_count], axis=-1)\n",
    "    y_percentage = np.concatenate([days[obsed_days], y_percentage], axis=-1)\n",
    "    v = np.concatenate([days, v], axis=-1)\n",
    "\n",
    "    if i < n_train:\n",
    "        x_train.append(x)\n",
    "        y_count_train.append(y_count)\n",
    "        y_percentage_train.append(y_percentage)\n",
    "        v_train.append(v)\n",
    "    else:\n",
    "        x_test.append(x)\n",
    "        y_count_test.append(y_count)\n",
    "        y_percentage_test.append(y_percentage)\n",
    "        v_test.append(v)"
   ]
  },
  {
   "cell_type": "code",
   "execution_count": 7,
   "metadata": {},
   "outputs": [],
   "source": [
    "counts_train = []\n",
    "for single_obs in y_count_train:\n",
    "    single_counts = single_obs[:,1:].sum(axis=-1)\n",
    "    counts_train.append(single_counts)\n",
    "    \n",
    "counts_test = []\n",
    "for single_obs in y_count_test:\n",
    "    single_counts = single_obs[:,1:].sum(axis=-1)\n",
    "    counts_test.append(single_counts)"
   ]
  },
  {
   "cell_type": "code",
   "execution_count": 8,
   "metadata": {},
   "outputs": [],
   "source": [
    "c_data = {}\n",
    "c_data[\"Xtrain\"] = x_train\n",
    "c_data[\"Xtest\"] = x_test\n",
    "c_data[\"Ytrain\"] = y_count_train\n",
    "c_data[\"Ytest\"] = y_count_test\n",
    "c_data[\"Vtrain\"] = v_train\n",
    "c_data[\"Vtest\"] = v_test\n",
    "c_data[\"counts_train\"] = counts_train\n",
    "c_data[\"counts_test\"] = counts_test\n",
    "\n",
    "c_data[\"A\"] = A\n",
    "c_data[\"g\"] = g\n",
    "c_data[\"Wv\"] = Wv\n",
    "c_data[\"f_cov\"] = f_cov\n",
    "c_data[\"N\"] = N\n",
    "c_data[\"k_var\"] = k_var\n",
    "c_data[\"k_len\"] = k_len\n",
    "c_data[\"beta\"] = beta\n",
    "\n",
    "with open(\"changing_sparsity/clv_gp_Dx_{}_Dy_{}_Dv_{}_s_{}_ntrain_{}.p\".format(Dx, Dy, Dv, sparsity, n_train), \"wb\") as f:\n",
    "    pickle.dump(c_data, f)"
   ]
  },
  {
   "cell_type": "markdown",
   "metadata": {},
   "source": [
    "# visualize the data"
   ]
  },
  {
   "cell_type": "code",
   "execution_count": 9,
   "metadata": {},
   "outputs": [],
   "source": [
    "import sys\n",
    "sys.path.append(\"../..\")"
   ]
  },
  {
   "cell_type": "code",
   "execution_count": 10,
   "metadata": {},
   "outputs": [],
   "source": [
    "from src.utils.data_interpolation import interpolate_data"
   ]
  },
  {
   "cell_type": "code",
   "execution_count": 11,
   "metadata": {},
   "outputs": [],
   "source": [
    "hidden_train, hidden_test, obs_train, obs_test, input_train, input_test = x_train, x_test, y_percentage_train, y_percentage_test, v_train, v_test"
   ]
  },
  {
   "cell_type": "code",
   "execution_count": 12,
   "metadata": {},
   "outputs": [],
   "source": [
    "extra_inputs_train = [None for _ in range(len(obs_train))]\n",
    "extra_inputs_test = [None for _ in range(len(obs_test))]"
   ]
  },
  {
   "cell_type": "code",
   "execution_count": 13,
   "metadata": {},
   "outputs": [],
   "source": [
    "hidden_train, hidden_test, obs_train, obs_test, input_train, input_test, _mask_train, _mask_test, time_interval_train, time_interval_test, extra_inputs_train, extra_input_test = \\\n",
    "    interpolate_data(hidden_train, hidden_test, obs_train, obs_test, input_train, input_test,\n",
    "                     extra_inputs_train, extra_inputs_test, interpolation_type=None)\n",
    "\n",
    "\n",
    "masks = _mask_train + _mask_test\n",
    "obs = obs_train + obs_test\n",
    "inputs = input_train + input_test"
   ]
  },
  {
   "cell_type": "code",
   "execution_count": 14,
   "metadata": {},
   "outputs": [],
   "source": [
    "# count data\n",
    "c_hidden_train, c_hidden_test, c_obs_train, c_obs_test, c_input_train, c_input_test, c_extra_inputs_train, c_extra_inputs_test = x_train, x_test, y_count_train, y_count_test, v_train, v_test, counts_train, counts_test"
   ]
  },
  {
   "cell_type": "code",
   "execution_count": 15,
   "metadata": {},
   "outputs": [],
   "source": [
    "c_hidden_train, c_hidden_test, c_obs_train, c_obs_test, c_input_train, c_input_test, c_mask_train, c_mask_test, time_interval_train, time_interval_test, c_extra_inputs_train, c_extra_input_test = \\\n",
    "                interpolate_data(c_hidden_train, c_hidden_test, c_obs_train, c_obs_test, c_input_train, c_input_test,\n",
    "                                 c_extra_inputs_train, c_extra_inputs_test)\n",
    "\n",
    "\n",
    "c_masks = c_mask_train + c_mask_test\n",
    "c_obs = c_obs_train + c_obs_test\n",
    "c_inputs = c_input_train + c_input_test"
   ]
  },
  {
   "cell_type": "code",
   "execution_count": 16,
   "metadata": {},
   "outputs": [],
   "source": [
    "def bar_plot(ax, obs, mask, to_normalize=True):\n",
    "    if to_normalize:\n",
    "            obs = obs / np.sum(obs, axis=-1, keepdims=True)\n",
    "\n",
    "    time, Dy = obs.shape\n",
    "\n",
    "    # make missing obs = 0\n",
    "    masked_obs = np.zeros_like(obs)\n",
    "    masked_obs[mask] = obs[mask]\n",
    "    \n",
    "    ax.set_xlabel(\"Time\")\n",
    "    bottom = np.zeros(time)\n",
    "    for j in range(Dy):\n",
    "        ax.bar(np.arange(time), masked_obs[:, j], bottom=bottom, edgecolor='white')\n",
    "        bottom += masked_obs[:, j]\n",
    "\n",
    "    ax.set_xticks(np.arange(time))\n",
    "    sns.despine()\n",
    "    \n",
    "\n",
    "def input_plot(ax, inputs):\n",
    "    time, Dv = inputs.shape\n",
    "    \n",
    "    for j in range(Dv):\n",
    "        has_inputs = inputs[:,j]== 1\n",
    "        idx = np.arange(time)[has_inputs]\n",
    "        ax.bar(idx, [1 for _ in idx], bottom=[j for _ in idx], color='blue')\n",
    "    \n",
    "    ax.set_xticks(np.arange(time))\n",
    "    ax.set_yticks(np.arange(Dv))\n",
    "    sns.despine()"
   ]
  },
  {
   "cell_type": "code",
   "execution_count": 17,
   "metadata": {},
   "outputs": [],
   "source": [
    "def plot_inputs_and_obs(inputs, masks, i, to_normalize=True):\n",
    "    if inputs[0].shape[1] == 0:\n",
    "        plt.figure(figsize=(15,5))\n",
    "\n",
    "        ax2 = plt.gca()\n",
    "        bar_plot(ax2, obs[i], masks[i], to_normalize=to_normalize)\n",
    "        ax2.grid()\n",
    "    else:\n",
    "        plt.figure(figsize=(15,10))\n",
    "\n",
    "        ax1= plt.subplot(2,1,1)\n",
    "        input_plot(ax1, inputs[i])\n",
    "        ax1.grid()\n",
    "\n",
    "        ax2 = plt.subplot(2,1,2, sharex = ax1)\n",
    "        bar_plot(ax2, obs[i], masks[i], to_normalize=to_normalize)\n",
    "        ax2.grid()"
   ]
  },
  {
   "cell_type": "code",
   "execution_count": 18,
   "metadata": {
    "scrolled": false
   },
   "outputs": [
    {
     "data": {
      "image/png": "[encoded data removed]",
      "text/plain": [
       "<Figure size 1080x360 with 1 Axes>"
      ]
     },
     "metadata": {
      "needs_background": "light"
     },
     "output_type": "display_data"
    },
    {
     "data": {
      "image/png": "[encoded data removed]",
      "text/plain": [
       "<Figure size 1080x360 with 1 Axes>"
      ]
     },
     "metadata": {
      "needs_background": "light"
     },
     "output_type": "display_data"
    },
    {
     "data": {
      "image/png": "[encoded data removed]",
      "text/plain": [
       "<Figure size 1080x360 with 1 Axes>"
      ]
     },
     "metadata": {
      "needs_background": "light"
     },
     "output_type": "display_data"
    },
    {
     "data": {
      "image/png": "[encoded data removed]",
      "text/plain": [
       "<Figure size 1080x360 with 1 Axes>"
      ]
     },
     "metadata": {
      "needs_background": "light"
     },
     "output_type": "display_data"
    },
    {
     "data": {
      "image/png": "[encoded data removed]",
      "text/plain": [
       "<Figure size 1080x360 with 1 Axes>"
      ]
     },
     "metadata": {
      "needs_background": "light"
     },
     "output_type": "display_data"
    }
   ],
   "source": [
    "for i in range(5):\n",
    "    plot_inputs_and_obs(inputs, masks, i)"
   ]
  }
 ],
 "metadata": {
  "kernelspec": {
   "display_name": "Python 3",
   "language": "python",
   "name": "python3"
  },
  "language_info": {
   "codemirror_mode": {
    "name": "ipython",
    "version": 3
   },
   "file_extension": ".py",
   "mimetype": "text/x-python",
   "name": "python",
   "nbconvert_exporter": "python",
   "pygments_lexer": "ipython3",
   "version": "3.6.2"
  }
 },
 "nbformat": 4,
 "nbformat_minor": 2
}
