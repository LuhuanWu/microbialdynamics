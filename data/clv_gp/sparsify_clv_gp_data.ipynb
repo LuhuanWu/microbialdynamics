{
 "cells": [
  {
   "cell_type": "code",
   "execution_count": 1,
   "metadata": {},
   "outputs": [],
   "source": [
    "import GPy\n",
    "import pickle\n",
    "import numpy as np\n",
    "from scipy.special import logsumexp\n",
    "\n",
    "import matplotlib.pyplot as plt\n",
    "import seaborn as sns"
   ]
  },
  {
   "cell_type": "code",
   "execution_count": 2,
   "metadata": {
    "collapsed": true
   },
   "outputs": [],
   "source": [
    "# generate binary input vector\n",
    "def simulate_single_input(time, Dv):\n",
    "    inputs = np.zeros((time, Dv))\n",
    "    if Dv > 0:\n",
    "\n",
    "        number_of_non_zero_dimenions = np.random.choice(np.arange(3,8), 1)[0]\n",
    "\n",
    "        non_zero_dimensions = np.random.choice(Dv - 1, number_of_non_zero_dimenions, replace=False)\n",
    "\n",
    "        for k in non_zero_dimensions:\n",
    "            start = np.random.choice(time - 1, 1)[0]\n",
    "            end = start + 1 + np.random.choice(np.arange(40, 60),1)[0]\n",
    "            end = min(end, time)\n",
    "            inputs[start:end, k] = np.ones(end-start)\n",
    "\n",
    "        # surgery is at the last axis\n",
    "        start = np.random.randint(int(0.3 * time), int(0.6 * time))\n",
    "        end = time\n",
    "        inputs[start:end, -1] = np.ones(end-start)\n",
    "    \n",
    "    return inputs"
   ]
  },
  {
   "cell_type": "code",
   "execution_count": 3,
   "metadata": {
    "collapsed": true
   },
   "outputs": [],
   "source": [
    "def simulate_clv_with_inputs(A, g, Wv, f_cov, N, inputs, X_cov, beta):\n",
    "    #  Wv: (Dx, Dv), W1 (Dx, Dv), W2 (1, Dx+1)\n",
    "    # x_t + g_t + Wv v_t + (A+ A(v_t)) * p_t where A(v_t) = (W1 * vt) * W2\n",
    "    latent_dim = A.shape[0]\n",
    "    ndays, input_dim = inputs.shape\n",
    "    x_mean = []\n",
    "    y_count = []\n",
    "    y_percentage = []\n",
    "\n",
    "    mu = np.random.multivariate_normal(mean=np.zeros(latent_dim), cov=2 * np.eye(latent_dim))\n",
    "    # simulate hidden alpha\n",
    "    for t in range(ndays):\n",
    "        xt = mu\n",
    "        x_mean.append(xt)\n",
    "\n",
    "        # increase dimension by 1\n",
    "        xt1 = np.concatenate((xt, np.array([0])))\n",
    "        pt = np.exp(xt1 - logsumexp(xt1))\n",
    "\n",
    "        transition_noise = np.random.multivariate_normal(mean=np.zeros(latent_dim), cov=np.diag(f_cov))\n",
    "        vt = inputs[t]\n",
    "\n",
    "        mu = xt + g + Wv.dot(vt) + A.dot(pt) + transition_noise\n",
    "    \n",
    "    x_mean = np.array(x_mean)\n",
    "    X = np.zeros_like(x_mean)\n",
    "    for i in range(x_mean.shape[1]):\n",
    "        X[:, i] = np.random.multivariate_normal(x_mean[:, i], X_cov)\n",
    "\n",
    "    for xt in X:\n",
    "        xt1 = np.concatenate((xt, np.array([0])))\n",
    "        pt = np.exp(xt1 - logsumexp(xt1))\n",
    "        pt = beta.dot(pt)\n",
    "\n",
    "        # simulate total number of reads with over-dispersion\n",
    "        logN = np.random.normal(loc=np.log(N), scale=0.5)\n",
    "        Nt = np.random.poisson(np.exp(logN))\n",
    "\n",
    "        yt_count = np.random.multinomial(Nt, pt).astype(float)\n",
    "        yt_percentage = yt_count / np.sum(yt_count)\n",
    "\n",
    "        y_count.append(yt_count)\n",
    "        y_percentage.append(yt_percentage)\n",
    "\n",
    "    return np.array(X), np.array(y_count), np.array(y_percentage)"
   ]
  },
  {
   "cell_type": "code",
   "execution_count": 50,
   "metadata": {},
   "outputs": [
    {
     "name": "stdout",
     "output_type": "stream",
     "text": [
      "A\n",
      "-0.07 -0.19  0.22 -0.12 -0.46\n",
      " 0.32 -0.14  0.39 -1.08 -0.05\n",
      "-0.13 -0.36 -0.19  0.13 -0.02\n",
      " 0.13  0.07 -0.02 -0.28  0.02\n",
      " 0.12  0.10  0.01 -0.35 -0.08\n",
      "g\n",
      "0.003 0.005 0.004 0.007 0.010\n",
      "Wv\n",
      "\n",
      "\n",
      "\n",
      "\n",
      "\n",
      "f_cov\n",
      "0.000 0.000 0.000 0.000\n"
     ]
    }
   ],
   "source": [
    "Dx = 5\n",
    "Dy = 2 * Dx\n",
    "Dv = 0  # including surgery\n",
    "n_train, n_test = 600, 150\n",
    "time = 90\n",
    "obs_percentage = 1\n",
    "\n",
    "# interaction\n",
    "A  = np.random.normal(loc=0, scale=0.3, size=(Dx, Dx))\n",
    "for i in range(Dx):\n",
    "    A[i, i] = -np.abs(A[i, i])\n",
    "    for j in range(i + 1, Dx):\n",
    "        A[i, j] = -np.sign(A[j, i]) * np.abs(A[i, j])\n",
    "\n",
    "# inputs\n",
    "Wv = np.random.normal(loc=0, scale=0.02, size=(Dx, Dv))\n",
    "if Dv > 0:\n",
    "    Wv[:, -1] = -np.abs(Wv[:, -1])\n",
    "for i in range(Dv - 1):\n",
    "    n_zero_items = int(Dx * 0.75)\n",
    "    idxs = np.random.choice(np.arange(Dx), n_zero_items, replace=False)\n",
    "    Wv[idxs, i] = np.zeros_like(idxs)\n",
    "\n",
    "g = np.random.gamma(shape=1.1, scale=0.01, size=(Dx,))\n",
    "f_cov = np.abs(np.random.normal(loc=0, scale=0.0, size=(Dx - 1,)))\n",
    "N = 10000 # sequencing reads parameter\n",
    "\n",
    "beta = np.zeros((Dy, Dx))\n",
    "for i in range(Dx):\n",
    "    beta[:, i] = np.ones(Dy) * (1-0.6-0.3)/(Dy-2)\n",
    "    beta[2 * i, i] = 0.6\n",
    "    beta[2 * i + 1, i] = 0.3\n",
    "\n",
    "k_var = 0.0\n",
    "k_len = 1\n",
    "kernel = GPy.kern.RBF(1, variance=k_var, lengthscale=k_len)\n",
    "\n",
    "print(\"A\\n\" + \"\\n\".join([\" \".join([\"{:>5.2f}\".format(ele) for ele in row]) for row in A]))\n",
    "print(\"g\\n\" + \" \".join([\"{:>5.3f}\".format(ele) for ele in g]))\n",
    "print(\"Wv\\n\" + \"\\n\".join([\" \".join([\"{:>5.2f}\".format(ele) for ele in row]) for row in Wv]))\n",
    "print(\"f_cov\\n\" + \" \".join([\"{:>5.3f}\".format(ele) for ele in f_cov]))\n",
    "\n",
    "A_r = A[:-1] - A[-1:]\n",
    "g_r = g[:-1] - g[-1:]\n",
    "Wv_r = Wv[:-1] - Wv[-1:]"
   ]
  },
  {
   "cell_type": "code",
   "execution_count": 51,
   "metadata": {},
   "outputs": [],
   "source": [
    "overwrite_params = True\n",
    "if overwrite_params:\n",
    "    with open(\"data/clv_count_Dx_5_Dy_10_ntrain_20_obp_10_noinput.p\", \"rb\") as f:\n",
    "        d = pickle.load(f)\n",
    "    A = d[\"A\"]\n",
    "    g = d[\"g\"]\n",
    "    Wv = d[\"Wv\"]\n",
    "    f_cov = d[\"f_cov\"]\n",
    "    N = d[\"N\"]\n",
    "    k_var = d[\"k_var\"]\n",
    "    k_len = d[\"k_len\"]\n",
    "    beta = d[\"beta\"]\n",
    "    \n",
    "    A_r = A[:-1] - A[-1:]\n",
    "    g_r = g[:-1] - g[-1:]\n",
    "    Wv_r = Wv[:-1] - Wv[-1:]\n",
    "    k_var = 0.1\n",
    "    k_len = 1\n",
    "    kernel = GPy.kern.RBF(1, variance=k_var, lengthscale=k_len)"
   ]
  },
  {
   "cell_type": "code",
   "execution_count": 52,
   "metadata": {
    "collapsed": true
   },
   "outputs": [],
   "source": [
    "n_sparsity = 1/3"
   ]
  },
  {
   "cell_type": "code",
   "execution_count": 53,
   "metadata": {
    "collapsed": true
   },
   "outputs": [],
   "source": [
    "selected_time = [3*k for k in range(30)]"
   ]
  },
  {
   "cell_type": "code",
   "execution_count": 54,
   "metadata": {},
   "outputs": [
    {
     "data": {
      "text/plain": [
       "[0,\n",
       " 3,\n",
       " 6,\n",
       " 9,\n",
       " 12,\n",
       " 15,\n",
       " 18,\n",
       " 21,\n",
       " 24,\n",
       " 27,\n",
       " 30,\n",
       " 33,\n",
       " 36,\n",
       " 39,\n",
       " 42,\n",
       " 45,\n",
       " 48,\n",
       " 51,\n",
       " 54,\n",
       " 57,\n",
       " 60,\n",
       " 63,\n",
       " 66,\n",
       " 69,\n",
       " 72,\n",
       " 75,\n",
       " 78,\n",
       " 81,\n",
       " 84,\n",
       " 87]"
      ]
     },
     "execution_count": 54,
     "metadata": {},
     "output_type": "execute_result"
    }
   ],
   "source": [
    "selected_time"
   ]
  },
  {
   "cell_type": "code",
   "execution_count": 55,
   "metadata": {},
   "outputs": [],
   "source": [
    "# create data with missing observation\n",
    "x_train = []\n",
    "x_test = []\n",
    "y_count_train = []\n",
    "y_count_test = []\n",
    "y_percentage_train = []\n",
    "y_percentage_test = []\n",
    "v_train = []\n",
    "v_test = []\n",
    "\n",
    "batch_inputs = [simulate_single_input(time, Dv) for _ in range(n_train + n_test)]\n",
    "X_cov = kernel.K(np.arange(time)[:, np.newaxis])\n",
    "\n",
    "\n",
    "for i in range(n_train + n_test):\n",
    "    v = batch_inputs[i]  # (time, Dv)\n",
    "    x, y_count, y_percentage = simulate_clv_with_inputs(A_r, g_r, Wv_r, f_cov, N, v, X_cov, beta)\n",
    "    \n",
    "    # make missing observations, the first day cannot be missing\n",
    "    #if int(time * obs_percentage) == time:\n",
    "     #   obsed_days = np.arange(time)\n",
    "    #else:\n",
    "     #   obsed_days = np.random.choice(np.arange(1, time), int(time * obs_percentage) - 1, replace=False)\n",
    "      #  obsed_days = np.sort(np.concatenate(([0], obsed_days)))\n",
    "\n",
    "    #y_percentage = y_percentage[obsed_days]\n",
    "    #x = x[obsed_days]\n",
    "    #y_count = y_count[obsed_days]\n",
    "    \n",
    "    y_percentage = y_percentage[selected_time]\n",
    "    x = x[selected_time]\n",
    "    y_count = y_count[selected_time]\n",
    "    v = v[selected_time]\n",
    "    \n",
    "    days = np.arange(len(selected_time))[:, np.newaxis]\n",
    "    y_count = np.concatenate([days, y_count], axis=-1)\n",
    "    y_percentage = np.concatenate([days, y_percentage], axis=-1)\n",
    "    v = np.concatenate([days, v], axis=-1)\n",
    "    \n",
    "    \n",
    "    if i < n_train:\n",
    "        x_train.append(x)\n",
    "        y_count_train.append(y_count)\n",
    "        y_percentage_train.append(y_percentage)\n",
    "        v_train.append(v)\n",
    "    else:\n",
    "        x_test.append(x)\n",
    "        y_count_test.append(y_count)\n",
    "        y_percentage_test.append(y_percentage)\n",
    "        v_test.append(v)"
   ]
  },
  {
   "cell_type": "code",
   "execution_count": 56,
   "metadata": {
    "collapsed": true
   },
   "outputs": [],
   "source": [
    "counts_train = []\n",
    "for single_obs in y_count_train:\n",
    "    single_counts = single_obs[:,1:].sum(axis=-1)\n",
    "    counts_train.append(single_counts)\n",
    "    \n",
    "counts_test = []\n",
    "for single_obs in y_count_test:\n",
    "    single_counts = single_obs[:,1:].sum(axis=-1)\n",
    "    counts_test.append(single_counts)"
   ]
  },
  {
   "cell_type": "code",
   "execution_count": 58,
   "metadata": {},
   "outputs": [
    {
     "data": {
      "text/plain": [
       "600"
      ]
     },
     "execution_count": 58,
     "metadata": {},
     "output_type": "execute_result"
    }
   ],
   "source": [
    "len(x_train)"
   ]
  },
  {
   "cell_type": "code",
   "execution_count": 57,
   "metadata": {},
   "outputs": [
    {
     "data": {
      "text/plain": [
       "(30, 4)"
      ]
     },
     "execution_count": 57,
     "metadata": {},
     "output_type": "execute_result"
    }
   ],
   "source": [
    "x_train[0].shape"
   ]
  },
  {
   "cell_type": "code",
   "execution_count": 59,
   "metadata": {},
   "outputs": [],
   "source": [
    "c_data = {}\n",
    "c_data[\"Xtrain\"] = x_train\n",
    "c_data[\"Xtest\"] = x_test\n",
    "c_data[\"Ytrain\"] = y_count_train\n",
    "c_data[\"Ytest\"] = y_count_test\n",
    "c_data[\"Vtrain\"] = v_train\n",
    "c_data[\"Vtest\"] = v_test\n",
    "c_data[\"counts_train\"] = counts_train\n",
    "c_data[\"counts_test\"] = counts_test\n",
    "\n",
    "c_data[\"A\"] = A\n",
    "c_data[\"g\"] = g\n",
    "c_data[\"Wv\"] = Wv\n",
    "c_data[\"f_cov\"] = f_cov\n",
    "c_data[\"N\"] = N\n",
    "c_data[\"k_var\"] = k_var\n",
    "c_data[\"k_len\"] = k_len\n",
    "c_data[\"beta\"] = beta\n",
    "\n",
    "with open(\"data/clv_gp_Dx_{}_Dy_{}_Dv_{}_ntrain_{}_sparse_{:0.2f}_ls_{}.p\".format(Dx, Dy, Dv, n_train, n_sparsity, k_len), \"wb\") as f:\n",
    "    pickle.dump(c_data, f)"
   ]
  },
  {
   "cell_type": "code",
   "execution_count": 49,
   "metadata": {},
   "outputs": [
    {
     "data": {
      "text/plain": [
       "1800"
      ]
     },
     "execution_count": 49,
     "metadata": {},
     "output_type": "execute_result"
    }
   ],
   "source": []
  },
  {
   "cell_type": "code",
   "execution_count": null,
   "metadata": {
    "collapsed": true
   },
   "outputs": [],
   "source": []
  }
 ],
 "metadata": {
  "kernelspec": {
   "display_name": "Python 3",
   "language": "python",
   "name": "python3"
  },
  "language_info": {
   "codemirror_mode": {
    "name": "ipython",
    "version": 3
   },
   "file_extension": ".py",
   "mimetype": "text/x-python",
   "name": "python",
   "nbconvert_exporter": "python",
   "pygments_lexer": "ipython3",
   "version": "3.6.2"
  }
 },
 "nbformat": 4,
 "nbformat_minor": 2
}
