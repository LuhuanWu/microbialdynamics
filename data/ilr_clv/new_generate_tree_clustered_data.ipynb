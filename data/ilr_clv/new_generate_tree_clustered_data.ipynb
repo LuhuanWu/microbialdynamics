{
 "cells": [
  {
   "cell_type": "code",
   "execution_count": 1,
   "metadata": {
    "collapsed": false
   },
   "outputs": [],
   "source": [
    "import numpy as np\n",
    "import matplotlib.pyplot as plt\n",
    "import seaborn as sns"
   ]
  },
  {
   "cell_type": "markdown",
   "metadata": {},
   "source": [
    "# define ilr and inverse ilr"
   ]
  },
  {
   "cell_type": "code",
   "execution_count": 2,
   "metadata": {
    "collapsed": true
   },
   "outputs": [],
   "source": [
    "def get_n_plus_and_n_minus(theta, w):\n",
    "    Dm1, D = theta.shape\n",
    "    n_plus = np.empty(Dm1, dtype=np.float)\n",
    "    n_minus = np.empty(Dm1, dtype=np.float)\n",
    "    for i in range(Dm1):\n",
    "        n_plus[i] = np.sum(w[theta[i]==1])\n",
    "        n_minus[i] = np.sum(w[theta[i]==-1])\n",
    "    return n_plus, n_minus"
   ]
  },
  {
   "cell_type": "code",
   "execution_count": 3,
   "metadata": {
    "collapsed": true
   },
   "outputs": [],
   "source": [
    "def get_psi(theta, n_plus, n_minus):\n",
    "    m, n = theta.shape\n",
    "    psi = np.zeros_like(theta, dtype=np.float)\n",
    "    for i in range(m):\n",
    "        for j in range(n):\n",
    "            if theta[i, j] == 1:\n",
    "                psi[i, j] = 1/n_plus[i] * np.sqrt(n_plus[i] * n_minus[i] / (n_plus[i] + n_minus[i]))\n",
    "            elif theta[i, j] == -1:\n",
    "                psi[i, j] = -1/n_minus[i] * np.sqrt(n_plus[i] * n_minus[i] / (n_plus[i] + n_minus[i]))\n",
    "    return psi"
   ]
  },
  {
   "cell_type": "code",
   "execution_count": 4,
   "metadata": {
    "collapsed": true
   },
   "outputs": [],
   "source": [
    "def log_geometric_mean(y, w):\n",
    "    return np.sum(w * np.log(y), axis=-1)/np.sum(w, axis=-1)"
   ]
  },
  {
   "cell_type": "code",
   "execution_count": 5,
   "metadata": {
    "collapsed": true
   },
   "outputs": [],
   "source": [
    "def ilr_transform(x, w, theta, n_plus, n_minus):\n",
    "    \"\"\"\n",
    "    x: (D, ), w: (D, ), theta: (D-1, D), n_plus: (D-1, ), n_minuse: (D-1, )\n",
    "    return ystar: (D-1, )\n",
    "    \"\"\"\n",
    "    D, = x.shape\n",
    "    y = x / w\n",
    "\n",
    "    # compute log geometric mean ratio\n",
    "    log_gm_ratio = np.empty((D-1,), dtype=np.float)\n",
    "    for i in range(D-1):\n",
    "        plus_idx = theta[i] == 1\n",
    "        loggp_yi_plus = log_geometric_mean(y[plus_idx], w[plus_idx])\n",
    "            \n",
    "        minus_idx = theta[i] == -1\n",
    "        loggp_yi_minus = log_geometric_mean(y[minus_idx], w[minus_idx])\n",
    "         \n",
    "        log_gm_ratio[i] = loggp_yi_plus - loggp_yi_minus\n",
    "    \n",
    "    normalizing_constant = np.sqrt(n_plus * n_minus / (n_plus + n_minus))  # (D-1, )\n",
    "    \n",
    "    ystar = normalizing_constant * log_gm_ratio\n",
    "    return ystar"
   ]
  },
  {
   "cell_type": "code",
   "execution_count": 6,
   "metadata": {
    "collapsed": true
   },
   "outputs": [],
   "source": [
    "def inverse_ilr_transform(ystar, psi, w):\n",
    "    \"\"\"\n",
    "    ystar: (D-1,), psi: (D-1, D), w: (D, )\n",
    "    return: x: (D,)\n",
    "    \"\"\"\n",
    "    \n",
    "    # (1, D-1) * (D-1, D) -> (1, D)\n",
    "    exp_ystar_psi = np.exp(np.matmul(ystar[None,], psi))\n",
    "    exp_ystar_psi = exp_ystar_psi.squeeze(0)\n",
    "    \n",
    "    y = exp_ystar_psi / np.sum(exp_ystar_psi)\n",
    "    x = y * w / np.sum(y * w)\n",
    "    return x"
   ]
  },
  {
   "cell_type": "markdown",
   "metadata": {},
   "source": [
    "## test inverse transformation"
   ]
  },
  {
   "cell_type": "code",
   "execution_count": 7,
   "metadata": {
    "collapsed": false
   },
   "outputs": [
    {
     "name": "stdout",
     "output_type": "stream",
     "text": [
      "x_recon =  [0.07142857 0.14285714 0.21428571 0.28571429 0.17857143 0.10714286]\n",
      "x =  [0.07142857 0.14285714 0.21428571 0.28571429 0.17857143 0.10714286]\n",
      "past test!\n"
     ]
    }
   ],
   "source": [
    "def test_inv_ilr_transform():\n",
    "    # tree structrue\n",
    "    theta = np.array([[+1,-1,-1,0,0,0], \n",
    "                     [0,+1,-1,0,0,0],\n",
    "                     [+1,+1,+1,-1,-1,-1,],\n",
    "                     [0,0,0,+1,-1,0],\n",
    "                     [0,0,0,+1,+1,-1]])\n",
    "    # counts\n",
    "    c = np.array([10, 20, 30, 40, 25, 15], dtype=np.float)\n",
    "    x = c / c.sum()\n",
    "    # weights\n",
    "    w = np.array([2.1, 3.2, 3, 5, 10, 2])\n",
    "    \n",
    "    # ilr transformation\n",
    "    n_plus, n_minus = get_n_plus_and_n_minus(theta, w)\n",
    "    psi = get_psi(theta, n_plus, n_minus)\n",
    "    ystar = ilr_transform(x, w, theta, n_plus, n_minus)\n",
    "    \n",
    "    x_recon = inverse_ilr_transform(ystar, psi, w)\n",
    "    \n",
    "    assert ((x_recon - x) < 1e-12).all()\n",
    "    print(\"x_recon = \", x_recon)\n",
    "    print(\"x = \", x)\n",
    "    print(\"past test!\")\n",
    "    \n",
    "test_inv_ilr_transform()"
   ]
  },
  {
   "cell_type": "markdown",
   "metadata": {},
   "source": [
    "# dynamics"
   ]
  },
  {
   "cell_type": "markdown",
   "metadata": {},
   "source": [
    "For any **inner** node $i$,\n",
    "* The probability that $y_i^*$ will change is: $p(i\\ breaks) = \\left[\\prod_{a \\in a_i} b_a \\right] \\cdot b_i$, where $a_i$ are node $i$'s ancestors.\n",
    "* Conditioning on that $y_i^*$ will change, then $a_i$ are bound to break. The remaing consideration is, for any node $j (j \\neq i)$ that is not in $a_i$, the probability that node $j$ represents a group, i.e., j doesn't break but node $j$'s ancestors break:\n",
    "\n",
    "$$p(j\\ represents\\ group| i\\ breaks) = \\prod_{k \\in a_j \\cap \\neg (a_i \\cup \\{i\\})} b_k \\cdot (1 - b_j)$$, \n",
    "\n",
    "where $\\neg U$ represents nodes are not in set $U$.\n",
    "\n",
    "Note, if $a_j \\cap \\neg (a_i \\cup \\{i\\})=\\emptyset$, there are three cases:\n",
    "\n",
    "case 1. $i$ is the parent of $j$, then $p(j\\ represents\\ group| i\\ breaks) = 1-b_j$\n",
    "\n",
    "case 2. $i$ and $j$ has the same parent, then $p(j\\ represents\\ group| i\\ breaks) = 1-b_j$.\n",
    "\n",
    "case 3. $j$ is the parent of $i$, then $p(j\\ represents\\ group| i\\ breaks) = 0$.\n",
    "\n",
    "* Then $y_i^*$'s change rate will be\n",
    "$$\\frac{dy_i^*}{dt} = p(i\\ breaks) \\cdot (g_i + \\sum_{j\\in \\neg (a_i \\cup \\{i\\})} p(j\\ represents\\ group | i\\ breaks) \\cdot A_{ij} \\cdot r_j),$$\n",
    "where $r_j$ is the relative abundance of node $j$."
   ]
  },
  {
   "cell_type": "markdown",
   "metadata": {},
   "source": [
    "### tree data structure setup"
   ]
  },
  {
   "cell_type": "code",
   "execution_count": 8,
   "metadata": {
    "collapsed": true
   },
   "outputs": [],
   "source": [
    "class Tree(object):\n",
    "    def __init__(self, parent=None, left=None, right=None, node_idx=None, inode_idx=None, taxon_idx=None, b=0.5):\n",
    "        self.left = left\n",
    "        self.right = right\n",
    "        self.parent = parent\n",
    "        self.b = b  # break score\n",
    "        self.inode_idx = inode_idx  #internal node (not taxon)\n",
    "        self.taxon_idx = taxon_idx \n",
    "        self.node_idx = node_idx \n",
    "        #if node is internal node, node_idx=inode_idx; elif node is taxon, node_idx = num_inodes + taxon_idx\n",
    "    \n",
    "    def __repr__(self):\n",
    "        return \"tree at \" + self.name()\n",
    "        \n",
    "    def is_taxon(self):\n",
    "        return self.left is None and self.right is None\n",
    "    \n",
    "    def print_tree(self, level=0):\n",
    "        name = self.name()\n",
    "        print(\"   \" * level + name)\n",
    "        if self.left is not None:\n",
    "            self.left.print_tree(level+1)\n",
    "        if self.right is not None:\n",
    "            self.right.print_tree(level+1)\n",
    "\n",
    "    def name(self):\n",
    "        if self.is_taxon():\n",
    "            name = \"node {} taxon {}\".format(self.node_idx, self.taxon_idx)\n",
    "        else:\n",
    "            name = \"node {} inode {}\".format(self.node_idx, self.inode_idx)\n",
    "        return name"
   ]
  },
  {
   "cell_type": "code",
   "execution_count": 9,
   "metadata": {
    "collapsed": true
   },
   "outputs": [],
   "source": [
    "def convert_theta_to_tree(theta):\n",
    "    n_node = theta.shape[0] + theta.shape[1]\n",
    "    node_reference = [0] * n_node  # placeholder\n",
    "    root = convert_theta_to_tree_helper(theta, node_reference, None)\n",
    "    return root, node_reference\n",
    "\n",
    "def convert_theta_to_tree_helper(theta, node_reference, parent, is_left_child=True):\n",
    "    # find and return parent's left/right child node\n",
    "    if parent is None:\n",
    "        n_taxa = theta.shape[1]\n",
    "        node_taxa = np.arange(n_taxa)\n",
    "    else:\n",
    "        parent_taxon_idx = parent.inode_idx\n",
    "        assert parent_taxon_idx is not None\n",
    "        theta_node = theta[parent_taxon_idx]\n",
    "        if is_left_child:\n",
    "            node_taxa = np.where(theta_node == +1)[0]\n",
    "        else:\n",
    "            node_taxa = np.where(theta_node == -1)[0]\n",
    "    \n",
    "    if len(node_taxa) == 1:\n",
    "        taxon_idx = node_taxa[0]\n",
    "        n_inode = theta.shape[0]  # number of internal nodes\n",
    "        node_idx = n_inode + taxon_idx\n",
    "        child = Tree(parent=parent, taxon_idx=taxon_idx, node_idx=node_idx, b=0)  # taxon nodes cannot break\n",
    "        node_reference[node_idx] = child\n",
    "    else:\n",
    "        inode_idx = -1\n",
    "        for i, theta_i in enumerate(theta):\n",
    "            leaves = np.where(theta_i != 0)[0]\n",
    "            if len(leaves) == len(node_taxa) and (leaves == node_taxa).all():\n",
    "                inode_idx = i\n",
    "                break\n",
    "        \n",
    "        child = Tree(parent=parent, inode_idx=inode_idx, node_idx=inode_idx)\n",
    "        child.left = convert_theta_to_tree_helper(theta, node_reference, child, is_left_child=True)\n",
    "        child.right = convert_theta_to_tree_helper(theta, node_reference, child, is_left_child=False)\n",
    "        node_reference[inode_idx] = child\n",
    "\n",
    "    return child"
   ]
  },
  {
   "cell_type": "code",
   "execution_count": 10,
   "metadata": {
    "collapsed": true
   },
   "outputs": [],
   "source": [
    "def get_p_i(n_inode, root):\n",
    "    p_i = np.empty(n_inode)\n",
    "    get_p_i_helper(p_i, root, 1)\n",
    "    return p_i\n",
    "\n",
    "def get_p_i_helper(p_i, node, p_ancestors_break):\n",
    "    if node.is_taxon():\n",
    "        return\n",
    "    node_idx = node.node_idx\n",
    "    p_ancestors_break *= node.b\n",
    "    p_i[node_idx] = p_ancestors_break\n",
    "    get_p_i_helper(p_i, node.left, p_ancestors_break)\n",
    "    get_p_i_helper(p_i, node.right, p_ancestors_break)"
   ]
  },
  {
   "cell_type": "code",
   "execution_count": 11,
   "metadata": {
    "collapsed": false
   },
   "outputs": [],
   "source": [
    "def get_p_j_given_i(n_node, n_inode, root):\n",
    "    p_j_given_i = np.empty((n_inode, n_node))\n",
    "    get_p_j_given_i_helper(p_j_given_i, n_node, root, root)\n",
    "    return p_j_given_i\n",
    "\n",
    "def get_p_j_given_i_helper(p_j_given_i, n_node, root, node):\n",
    "    # node: inode i\n",
    "    if node.is_taxon():\n",
    "        return\n",
    "    b_copy = node.b\n",
    "    node.b = 1\n",
    "    p_j_given_inode = np.empty(n_node)\n",
    "    # iterate over j=0:n_node-1\n",
    "    get_p_j_given_inode_helper(p_j_given_inode, root, 1)\n",
    "    get_p_j_given_i_helper(p_j_given_i, n_node, root, node.left)\n",
    "    get_p_j_given_i_helper(p_j_given_i, n_node, root, node.right)\n",
    "\n",
    "    inode_idx = node.inode_idx\n",
    "    p_j_given_i[inode_idx] = p_j_given_inode\n",
    "    node.b = b_copy\n",
    "    \n",
    "def get_p_j_given_inode_helper(p_j_given_inode, node, p_ancestors_break):\n",
    "    if node is None:\n",
    "        return\n",
    "    node_idx = node.node_idx\n",
    "    p_j_given_inode[node_idx] = p_ancestors_break * (1 - node.b)\n",
    "    get_p_j_given_inode_helper(p_j_given_inode, node.left, p_ancestors_break * node.b)\n",
    "    get_p_j_given_inode_helper(p_j_given_inode, node.right, p_ancestors_break * node.b)"
   ]
  },
  {
   "cell_type": "code",
   "execution_count": 12,
   "metadata": {
    "collapsed": true
   },
   "outputs": [],
   "source": [
    "def set_b(reference, bs):\n",
    "    for i, b in enumerate(bs):\n",
    "        reference[i].b = b"
   ]
  },
  {
   "cell_type": "code",
   "execution_count": 13,
   "metadata": {
    "collapsed": false
   },
   "outputs": [
    {
     "name": "stdout",
     "output_type": "stream",
     "text": [
      "pass test!\n"
     ]
    }
   ],
   "source": [
    "def test_dynamics():\n",
    "    theta3 = np.array([[+1, -1, 0,0,0,0,0, 0], \n",
    "                  [+1, +1, -1, -1, -1, 0,0,0],\n",
    "                  [0,0,+1, -1, -1, 0,0,0],\n",
    "                  [0,0,0,+1, -1, 0, 0, 0], \n",
    "                  [+1, +1, +1, +1, +1, -1, -1, -1],\n",
    "                  [0, 0, 0 ,0 ,0, +1, -1, -1], \n",
    "                  [0, 0, 0, 0, 0, 0, +1, -1]])\n",
    "    # get tree\n",
    "    root3, reference3 = convert_theta_to_tree(theta3)\n",
    "    \n",
    "    b3 = np.array([0., 1, 1, 0, 1, 1, 0])\n",
    "    set_b(reference3, b3)\n",
    "    \n",
    "    p_i3_true = np.array([0., 1, 1, 0, 1, 1, 0])\n",
    "    p_j_given_i3_true = np.array([[0, 0, 0, 1, 0,0, 1, 1, 1, 1, 0,0,1,0,0], \n",
    "                             [1, 0, 0, 1, 0, 0, 1, 0, 0, 1, 0, 0, 1, 0, 0,],\n",
    "                             [1, 0, 0, 1, 0, 0, 1, 0, 0, 1, 0, 0, 1, 0, 0],\n",
    "                             [1, 0, 0, 0, 0, 0, 1, 0, 0, 1, 1, 1, 1, 0, 0],\n",
    "                             [1, 0, 0, 1, 0, 0, 1, 0, 0, 1, 0, 0, 1, 0, 0],\n",
    "                             [1, 0, 0, 1, 0, 0, 1, 0, 0, 1, 0, 0, 1, 0, 0],\n",
    "                             [1, 0, 0, 1, 0, 0, 0, 0, 0, 1, 0, 0, 1, 1, 1]])\n",
    "    \n",
    "    p_i3 = get_p_i(theta3.shape[0], root3)\n",
    "    p_j_given_i3 = get_p_j_given_i(theta3.shape[0]+theta3.shape[1], theta3.shape[0], root3)\n",
    "    assert (p_i3 == p_i3_true).all()\n",
    "    assert (p_j_given_i3 == p_j_given_i3_true).all()\n",
    "    print(\"pass test!\")\n",
    "\n",
    "test_dynamics()"
   ]
  },
  {
   "cell_type": "code",
   "execution_count": 14,
   "metadata": {
    "collapsed": false
   },
   "outputs": [
    {
     "name": "stdout",
     "output_type": "stream",
     "text": [
      "mask_for_soft_A =  [[0.      0.576   0.      0.0648  0.648   0.72    0.144   0.144   0.0072\n",
      "  0.0072  0.072  ]\n",
      " [0.      0.      0.      0.01296 0.1296  0.144   0.144   0.144   0.00144\n",
      "  0.00144 0.0144 ]\n",
      " [0.18    0.576   0.      0.081   0.81    0.72    0.144   0.144   0.009\n",
      "  0.009   0.09   ]\n",
      " [0.0018  0.00576 0.      0.      0.      0.0072  0.00144 0.00144 0.009\n",
      "  0.009   0.009  ]\n",
      " [0.018   0.0576  0.      0.081   0.      0.072   0.0144  0.0144  0.009\n",
      "  0.009   0.09   ]]\n",
      "mask_for_hard_A =  [[0. 1. 0. 0. 1. 1. 0. 0. 0. 0. 0.]\n",
      " [0. 0. 0. 0. 0. 0. 0. 0. 0. 0. 0.]\n",
      " [0. 1. 0. 0. 1. 1. 0. 0. 0. 0. 0.]\n",
      " [0. 0. 0. 0. 0. 0. 0. 0. 0. 0. 0.]\n",
      " [0. 0. 0. 0. 0. 0. 0. 0. 0. 0. 0.]]\n"
     ]
    }
   ],
   "source": [
    "def test_soft_bs():\n",
    "    soft_bs = np.array([0.8, 0.2, 0.9, 0.1, 0.1])\n",
    "    hard_bs = np.array([1, 0, 1, 0, 0])\n",
    "    \n",
    "    # tree structue\n",
    "    theta = np.array([[+1,-1,-1,0,0,0], \n",
    "                 [0,+1,-1,0,0,0],\n",
    "                 [+1,+1,+1,-1,-1,-1,],\n",
    "                 [0,0,0,+1,-1,0],\n",
    "                 [0,0,0,+1,+1,-1]])\n",
    "    \n",
    "    # get tree\n",
    "    root, reference = convert_theta_to_tree(theta)\n",
    "    n_inode = theta.shape[0]\n",
    "    n_node = theta.shape[0] + theta.shape[1]\n",
    "    \n",
    "    np.random.seed(10)\n",
    "    # dynamics parameter\n",
    "    g = np.random.randn(n_inode)\n",
    "    A = np.random.randn(n_inode, n_node) * 10\n",
    "    \n",
    "    # use soft bs\n",
    "    set_b(reference, soft_bs)\n",
    "    p_i = get_p_i(n_inode, root)\n",
    "    p_j_given_i = get_p_j_given_i(n_node, n_inode, root)\n",
    "    mask_for_soft_A = p_i[:, None] * p_j_given_i\n",
    "    true_soft_A = mask_for_soft_A * A\n",
    "    print(\"mask_for_soft_A = \", mask_for_soft_A)\n",
    "    #print(\"true_soft_A = \", true_soft_A)\n",
    "    \n",
    "    # use hard bs\n",
    "    set_b(reference, hard_bs)\n",
    "    p_i = get_p_i(n_inode, root)\n",
    "    p_j_given_i = get_p_j_given_i(n_node, n_inode, root)\n",
    "    mask_for_hard_A = p_i[:, None] * p_j_given_i\n",
    "    true_hard_A = mask_for_hard_A * A\n",
    "    print(\"mask_for_hard_A = \", mask_for_hard_A)\n",
    "    #print(\"true_hard_A = \", true_hard_A)\n",
    "\n",
    "test_soft_bs()"
   ]
  },
  {
   "cell_type": "code",
   "execution_count": 15,
   "metadata": {
    "collapsed": true
   },
   "outputs": [],
   "source": [
    "def get_inode_relative_abundance(root, x_t, n_inode):\n",
    "    r_t_inode = np.empty(n_inode)\n",
    "    get_inode_relative_abundance_helper(r_t_inode, root, x_t)\n",
    "    return r_t_inode\n",
    "    \n",
    "def get_inode_relative_abundance_helper(r_t_inode, node, x_t):\n",
    "    if node.is_taxon():\n",
    "        return x_t[node.taxon_idx]\n",
    "    inode_idx = node.inode_idx\n",
    "    left_r_t = get_inode_relative_abundance_helper(r_t_inode, node.left, x_t)\n",
    "    right_r_t = get_inode_relative_abundance_helper(r_t_inode, node.right, x_t)\n",
    "    inode_r_t = left_r_t + right_r_t\n",
    "    r_t_inode[inode_idx] = inode_r_t\n",
    "    return inode_r_t    \n",
    "\n",
    "def simulate(root, psi, g, A, p_i, p_j_given_i, N, n_days, init_y_star, transition_sigma=0.0):\n",
    "    def transition_step(ystar_t):\n",
    "        \"\"\"\n",
    "        ystar_t: (D-1, )\n",
    "        return ystar_tp1: (D-1,)\n",
    "        \"\"\"\n",
    "        # (1, D-1) * (D-1, D) -> (1, D)\n",
    "        Dm1, = ystar_t.shape\n",
    "        x_t = inverse_ilr_transform(ystar_t, psi, w)\n",
    "        r_t_inode = get_inode_relative_abundance(root, x_t, len(ystar_t))\n",
    "        r_t = np.concatenate([r_t_inode, x_t])\n",
    "        ystar_tp1 = ystar_t + p_i * (g + (A * p_j_given_i).dot(r_t)) + transition_sigma * np.random.randn(Dm1)\n",
    "       \n",
    "        return ystar_tp1\n",
    "\n",
    "    def emission_step(ystar_t):\n",
    "        \"\"\"\n",
    "        ystar_t: (D-1, )\n",
    "        return c_t: (D)\n",
    "        \"\"\"\n",
    "        x_t = inverse_ilr_transform(ystar_t, psi, w)\n",
    "        logN = np.random.normal(loc=np.log(N), scale=0.5)\n",
    "        N_t = np.random.poisson(np.exp(logN))\n",
    "        c_t= np.random.multinomial(N_t, x_t).astype(float)\n",
    "        return x_t, c_t\n",
    "\n",
    "    n_inode, n_node = A.shape\n",
    "    n_taxa = n_node - n_inode\n",
    "    \n",
    "    #y_star = np.random.randn(n_inode) * init_variance\n",
    "    y_star = init_y_star\n",
    "\n",
    "    Y = []\n",
    "    X = []\n",
    "    C = []\n",
    "    for _ in range(n_days):\n",
    "        x, c = emission_step(y_star)\n",
    "        Y.append(y_star)\n",
    "        X.append(x)\n",
    "        C.append(c)\n",
    "        y_star = transition_step(y_star)\n",
    "        \n",
    "    return np.array(Y), np.array(X), np.array(C)"
   ]
  },
  {
   "cell_type": "markdown",
   "metadata": {},
   "source": [
    "# Simulate data"
   ]
  },
  {
   "cell_type": "code",
   "execution_count": 16,
   "metadata": {
    "collapsed": false
   },
   "outputs": [
    {
     "name": "stdout",
     "output_type": "stream",
     "text": [
      "node 2 inode 2\n",
      "   node 0 inode 0\n",
      "      node 5 taxon 0\n",
      "      node 1 inode 1\n",
      "         node 6 taxon 1\n",
      "         node 7 taxon 2\n",
      "   node 4 inode 4\n",
      "      node 3 inode 3\n",
      "         node 8 taxon 3\n",
      "         node 9 taxon 4\n",
      "      node 10 taxon 5\n"
     ]
    }
   ],
   "source": [
    "# tree structure\n",
    "\"\"\"\n",
    "theta = np.array([[+1, -1, 0,0,0,0,0, 0], \n",
    "              [+1, +1, -1, -1, -1, 0,0,0],\n",
    "              [0,0,+1, -1, -1, 0,0,0],\n",
    "              [0,0,0,+1, -1, 0, 0, 0], \n",
    "              [+1, +1, +1, +1, +1, -1, -1, -1],\n",
    "              [0, 0, 0 ,0 ,0, +1, -1, -1], \n",
    "              [0, 0, 0, 0, 0, 0, +1, -1]])\n",
    "\"\"\"\n",
    "theta = np.array([[+1,-1,-1,0,0,0], \n",
    "                     [0,+1,-1,0,0,0],\n",
    "                     [+1,+1,+1,-1,-1,-1,],\n",
    "                     [0,0,0,+1,-1,0],\n",
    "                     [0,0,0,+1,+1,-1]])\n",
    "\n",
    "n_taxon = theta.shape[1]\n",
    "\n",
    "w = np.ones(n_taxon)\n",
    "\n",
    "# ilr transformation\n",
    "n_plus, n_minus = get_n_plus_and_n_minus(theta, w)\n",
    "psi = get_psi(theta, n_plus, n_minus)\n",
    "# get tree\n",
    "root, reference = convert_theta_to_tree(theta)\n",
    "root.print_tree()"
   ]
  },
  {
   "cell_type": "code",
   "execution_count": 17,
   "metadata": {
    "collapsed": true
   },
   "outputs": [],
   "source": [
    "# set break scores\n",
    "#bs = np.array([0, 1, 1, 0, 1, 1, 0])\n",
    "bs = np.array([1. ,0, 1, 0, 0])\n",
    "set_b(reference, bs)"
   ]
  },
  {
   "cell_type": "code",
   "execution_count": 18,
   "metadata": {
    "collapsed": false
   },
   "outputs": [],
   "source": [
    "# calcualte probs\n",
    "n_inode = theta.shape[0]\n",
    "n_node = theta.shape[0] + theta.shape[1]\n",
    "p_i = get_p_i(n_inode, root)\n",
    "p_j_given_i = get_p_j_given_i(n_node, n_inode, root)"
   ]
  },
  {
   "cell_type": "code",
   "execution_count": 19,
   "metadata": {
    "collapsed": true
   },
   "outputs": [],
   "source": [
    "n_taxa = theta.shape[1]"
   ]
  },
  {
   "cell_type": "code",
   "execution_count": 20,
   "metadata": {
    "collapsed": true
   },
   "outputs": [],
   "source": [
    "# set dynamics parameters\n",
    "np.random.seed(10)\n",
    "g = np.random.randn(n_inode) * 0.01\n",
    "A = np.random.randn(n_inode, n_node) * 0.3"
   ]
  },
  {
   "cell_type": "code",
   "execution_count": 21,
   "metadata": {
    "collapsed": false
   },
   "outputs": [],
   "source": [
    "N = 10000\n",
    "n_train, n_test = 300, 10\n",
    "\n",
    "n_days = 30\n",
    "days = np.arange(n_days)[:,None]"
   ]
  },
  {
   "cell_type": "code",
   "execution_count": 22,
   "metadata": {
    "collapsed": false
   },
   "outputs": [],
   "source": [
    "x_train = []\n",
    "y_train = []\n",
    "input_train = []\n",
    "\n",
    "init_variance = 1\n",
    "transition_sigma = 0.2\n",
    "\n",
    "for i in range(n_train):\n",
    "    # init y_star\n",
    "    x = np.random.randn(n_taxa) * init_variance\n",
    "    x = np.exp(x) / np.sum(np.exp(x))\n",
    "    init_y_star = ilr_transform(x, w, theta, n_plus, n_minus)\n",
    "    \n",
    "    Y, X, C = simulate(root, psi, g, A, p_i, p_j_given_i, N, n_days, init_y_star, transition_sigma)\n",
    "    C_with_date_stamp = np.concatenate([days, C], axis=-1)\n",
    "    x_train.append(Y)\n",
    "    y_train.append(C_with_date_stamp)\n",
    "    input_train.append(days)\n",
    "    \n",
    "x_test = []\n",
    "y_test = []\n",
    "input_test = []\n",
    "for i in range(n_test):\n",
    "     # init y_star\n",
    "    x = np.random.randn(n_taxa) * init_variance\n",
    "    x = np.exp(x) / np.sum(np.exp(x))\n",
    "    init_y_star = ilr_transform(x, w, theta, n_plus, n_minus)\n",
    "    \n",
    "    Y, X, C = simulate(root, psi, g, A, p_i, p_j_given_i, N, n_days, init_y_star, transition_sigma)\n",
    "    C_with_date_stamp = np.concatenate([days, C], axis=-1)\n",
    "    x_test.append(Y)\n",
    "    y_test.append(C_with_date_stamp)\n",
    "    input_test.append(days)"
   ]
  },
  {
   "cell_type": "markdown",
   "metadata": {},
   "source": [
    "# save"
   ]
  },
  {
   "cell_type": "code",
   "execution_count": 23,
   "metadata": {
    "collapsed": true
   },
   "outputs": [],
   "source": [
    "import pickle"
   ]
  },
  {
   "cell_type": "code",
   "execution_count": null,
   "metadata": {
    "collapsed": false
   },
   "outputs": [],
   "source": [
    "masked_A = p_i[:, None] * p_j_given_i * A"
   ]
  },
  {
   "cell_type": "code",
   "execution_count": null,
   "metadata": {
    "collapsed": false
   },
   "outputs": [],
   "source": [
    "masked_g = p_i * g"
   ]
  },
  {
   "cell_type": "code",
   "execution_count": null,
   "metadata": {
    "collapsed": false
   },
   "outputs": [],
   "source": [
    "c_data = {}\n",
    "\n",
    "c_data['theta'] = theta\n",
    "c_data[\"b\"] = bs\n",
    "\n",
    "c_data['Ytrain'] = y_train  # count\n",
    "c_data['Ytest'] = y_test\n",
    "c_data['Xtrain'] = x_train # ystar\n",
    "c_data['Xtest'] = x_test\n",
    "\n",
    "c_data['Vtrain'] = input_train\n",
    "c_data['Vtest'] = input_test\n",
    "\n",
    "c_data[\"A\"] = A\n",
    "c_data[\"g\"] = g\n",
    "c_data[\"masked_A\"] = masked_A\n",
    "c_data[\"mased_g\"] = masked_g\n",
    "c_data[\"p_i\"] = p_i\n",
    "c_data[\"p_j_given_i\"] = p_j_given_i\n",
    "\n",
    "with open(\"six_taxa.p\", \"wb\") as f:\n",
    "    pickle.dump(c_data, f)"
   ]
  },
  {
   "cell_type": "markdown",
   "metadata": {},
   "source": [
    "# visualize data"
   ]
  },
  {
   "cell_type": "code",
   "execution_count": null,
   "metadata": {
    "collapsed": false
   },
   "outputs": [],
   "source": [
    "import sys\n",
    "sys.path.append(\"../..\")\n",
    "from src.utils.data_interpolation import interpolate_data"
   ]
  },
  {
   "cell_type": "code",
   "execution_count": null,
   "metadata": {
    "collapsed": false
   },
   "outputs": [],
   "source": [
    "obs_train, obs_test = [], []\n",
    "for y in y_train:\n",
    "    days, counts = y[:, :1], y[:, 1:]\n",
    "    perc = counts / counts.sum(axis=-1, keepdims=True)\n",
    "    obs_train.append(np.concatenate([days, perc], axis=-1))\n",
    "for y in y_test:\n",
    "    days, counts = y[:, :1], y[:, 1:]\n",
    "    perc = counts / counts.sum(axis=-1, keepdims=True)\n",
    "    obs_test.append(np.concatenate([days, perc], axis=-1))\n",
    "extra_inputs_train = [None for _ in range(len(obs_train))]\n",
    "extra_inputs_test = [None for _ in range(len(obs_test))]\n"
   ]
  },
  {
   "cell_type": "code",
   "execution_count": null,
   "metadata": {
    "collapsed": true
   },
   "outputs": [],
   "source": [
    "def bar_plot(ax, obs, mask, to_normalize=True):\n",
    "    if to_normalize:\n",
    "        obs = obs / np.sum(obs, axis=-1, keepdims=True)\n",
    "\n",
    "    time, Dy = obs.shape\n",
    "\n",
    "    # make missing obs = 0\n",
    "    masked_obs = np.zeros_like(obs)\n",
    "    masked_obs[mask] = obs[mask]\n",
    "    \n",
    "    ax.set_xlabel(\"Time\")\n",
    "    bottom = np.zeros(time)\n",
    "    for j in range(Dy):\n",
    "        ax.bar(np.arange(time), masked_obs[:, j], bottom=bottom, edgecolor='white')\n",
    "        bottom += masked_obs[:, j]\n",
    "\n",
    "    ax.set_xticks(np.arange(time))\n",
    "    sns.despine()\n",
    "    \n",
    "\n",
    "def input_plot(ax, inputs):\n",
    "    time, Dv = inputs.shape\n",
    "    \n",
    "    for j in range(Dv):\n",
    "        has_inputs = inputs[:,j]== 1\n",
    "        idx = np.arange(time)[has_inputs]\n",
    "        ax.bar(idx, [1 for _ in idx], bottom=[j for _ in idx], color='blue')\n",
    "    \n",
    "    ax.set_xticks(np.arange(time))\n",
    "    ax.set_yticks(np.arange(Dv))\n",
    "    sns.despine()"
   ]
  },
  {
   "cell_type": "code",
   "execution_count": null,
   "metadata": {
    "collapsed": true
   },
   "outputs": [],
   "source": [
    "def plot_inputs_and_obs(inputs, obs, masks, i, to_normalize=True):\n",
    "    if inputs[0].shape[1] == 0:\n",
    "        plt.figure(figsize=(15,5))\n",
    "\n",
    "        ax2 = plt.gca()\n",
    "        bar_plot(ax2, obs[i], masks[i], to_normalize=to_normalize)\n",
    "        ax2.grid()\n",
    "    else:\n",
    "        plt.figure(figsize=(15,10))\n",
    "\n",
    "        ax1= plt.subplot(2,1,1)\n",
    "        input_plot(ax1, inputs[i])\n",
    "        ax1.grid()\n",
    "\n",
    "        ax2 = plt.subplot(2,1,2, sharex = ax1)\n",
    "        bar_plot(ax2, obs[i], masks[i], to_normalize=to_normalize)\n",
    "        ax2.grid()"
   ]
  },
  {
   "cell_type": "code",
   "execution_count": null,
   "metadata": {
    "collapsed": false
   },
   "outputs": [],
   "source": [
    "hidden_train, hidden_test = x_train, x_test"
   ]
  },
  {
   "cell_type": "code",
   "execution_count": null,
   "metadata": {
    "collapsed": false
   },
   "outputs": [],
   "source": [
    "hidden_train, hidden_test, obs_train, obs_test, input_train, input_test, _mask_train, _mask_test, time_interval_train, time_interval_test, extra_inputs_train, extra_input_test = \\\n",
    "    interpolate_data(hidden_train, hidden_test, obs_train, obs_test, input_train, input_test,\n",
    "                     extra_inputs_train, extra_inputs_test, interpolation_type=None)\n",
    "\n",
    "masks = _mask_train + _mask_test\n",
    "obs = obs_train + obs_test\n",
    "inputs = input_train + input_test"
   ]
  },
  {
   "cell_type": "code",
   "execution_count": null,
   "metadata": {
    "collapsed": false
   },
   "outputs": [
    {
     "name": "stderr",
     "output_type": "stream",
     "text": [
      "/Users/leah/Columbia/courses/19Spring/research/VISMC/SMC_venv/lib/python3.6/site-packages/matplotlib/pyplot.py:514: RuntimeWarning: More than 20 figures have been opened. Figures created through the pyplot interface (`matplotlib.pyplot.figure`) are retained until explicitly closed and may consume too much memory. (To control this warning, see the rcParam `figure.max_open_warning`).\n",
      "  max_open_warning, RuntimeWarning)\n"
     ]
    }
   ],
   "source": [
    "for i in range(0, 30):\n",
    "    plot_inputs_and_obs(inputs, obs, masks, i)"
   ]
  },
  {
   "cell_type": "markdown",
   "metadata": {
    "collapsed": true
   },
   "source": [
    "# create another dataset"
   ]
  },
  {
   "cell_type": "code",
   "execution_count": null,
   "metadata": {
    "collapsed": false
   },
   "outputs": [],
   "source": [
    "theta2 = np.array([[+1, -1, 0,0,0,0,0, 0], \n",
    "                  [+1, +1, -1, -1, -1, 0,0,0],\n",
    "                  [0,0,+1, -1, -1, 0,0,0],\n",
    "                  [0,0,0,+1, -1, 0, 0, 0], \n",
    "                  [+1, +1, +1, +1, +1, -1, -1, -1],\n",
    "                  [0, 0, 0 ,0 ,0, +1, -1, -1], \n",
    "                  [0, 0, 0, 0, 0, 0, +1, -1]])\n",
    "# get tree\n",
    "root2, reference2 = convert_theta_to_tree(theta2)\n",
    "\n",
    "b2 = np.array([0., 1, 0, 1, 1, 1, 0])\n",
    "set_b(reference2, b2)\n",
    "root2.print_tree()"
   ]
  },
  {
   "cell_type": "code",
   "execution_count": null,
   "metadata": {
    "collapsed": true
   },
   "outputs": [],
   "source": [
    "n_taxon2 = theta2.shape[1]\n",
    "\n",
    "w2 = np.ones(n_taxon2)\n",
    "\n",
    "# ilr transformation\n",
    "n_plus2, n_minus2 = get_n_plus_and_n_minus(theta2, w2)\n",
    "psi2 = get_psi(theta2, n_plus2, n_minus2)"
   ]
  },
  {
   "cell_type": "code",
   "execution_count": null,
   "metadata": {
    "collapsed": true
   },
   "outputs": [],
   "source": [
    "# calcualte probs\n",
    "n_inode2 = theta2.shape[0]\n",
    "n_node2 = theta2.shape[0] + theta2.shape[1]\n",
    "p_i2 = get_p_i(n_inode2, root2)\n",
    "p_j_given_i2 = get_p_j_given_i(n_node2, n_inode2, root2)\n",
    "n_taxon2 = theta2.shape[1]"
   ]
  },
  {
   "cell_type": "code",
   "execution_count": null,
   "metadata": {
    "collapsed": true
   },
   "outputs": [],
   "source": [
    "# set dynamics parameters\n",
    "np.random.seed(10)\n",
    "g2 = np.random.randn(n_inode2) * 0.01\n",
    "A2 = np.random.randn(n_inode2, n_node2) * 0.1"
   ]
  },
  {
   "cell_type": "code",
   "execution_count": null,
   "metadata": {
    "collapsed": true
   },
   "outputs": [],
   "source": [
    "x_train2 = []\n",
    "y_train2 = []\n",
    "input_train2 = []\n",
    "\n",
    "init_variance = 1\n",
    "transition_sigma = 0.2\n",
    "\n",
    "for i in range(n_train):\n",
    "    # init y_star\n",
    "    x = np.random.randn(n_taxa) * init_variance\n",
    "    x = np.exp(x) / np.sum(np.exp(x))\n",
    "    init_y_star = ilr_transform(x, w, theta, n_plus, n_minus)\n",
    "    \n",
    "    Y, X, C = simulate(root, psi, g, A, p_i, p_j_given_i, N, n_days, init_y_star, transition_sigma)\n",
    "    C_with_date_stamp = np.concatenate([days, C], axis=-1)\n",
    "    x_train2.append(Y)\n",
    "    y_train2.append(C_with_date_stamp)\n",
    "    input_train2.append(days)\n",
    "    \n",
    "x_test2 = []\n",
    "y_test2 = []\n",
    "input_test2 = []\n",
    "for i in range(n_test):\n",
    "     # init y_star\n",
    "    x = np.random.randn(n_taxa) * init_variance\n",
    "    x = np.exp(x) / np.sum(np.exp(x))\n",
    "    init_y_star = ilr_transform(x, w, theta, n_plus, n_minus)\n",
    "    \n",
    "    Y, X, C = simulate(root, psi, g, A, p_i, p_j_given_i, N, n_days, init_y_star, transition_sigma)\n",
    "    C_with_date_stamp = np.concatenate([days, C], axis=-1)\n",
    "    x_test2.append(Y)\n",
    "    y_test2.append(C_with_date_stamp)\n",
    "    input_test2.append(days)"
   ]
  },
  {
   "cell_type": "markdown",
   "metadata": {},
   "source": [
    "# save"
   ]
  },
  {
   "cell_type": "code",
   "execution_count": null,
   "metadata": {
    "collapsed": false
   },
   "outputs": [],
   "source": [
    "masked_A2 = p_i2[:, None] * p_j_given_i2 * A2\n",
    "masked_g2 = p_i2 * g2"
   ]
  },
  {
   "cell_type": "code",
   "execution_count": null,
   "metadata": {
    "collapsed": false
   },
   "outputs": [],
   "source": [
    "c_data2 = {}\n",
    "\n",
    "c_data2['theta'] = theta2\n",
    "c_data2[\"b\"] = b2\n",
    "\n",
    "c_data2['Ytrain'] = y_train2  # count\n",
    "c_data2['Ytest'] = y_test2\n",
    "c_data2['Xtrain'] = x_train2 # ystar\n",
    "c_data2['Xtest'] = x_test2\n",
    "\n",
    "c_data2['Vtrain'] = input_train2\n",
    "c_data2['Vtest'] = input_test2\n",
    "\n",
    "c_data2[\"A\"] = A2\n",
    "c_data2[\"g\"] = g2\n",
    "c_data2[\"masked_A\"] = masked_A2\n",
    "c_data2[\"masekd_g\"] = masked_g2\n",
    "\n",
    "with open(\"eight_taxa.p\", \"wb\") as f:\n",
    "    pickle.dump(c_data2, f)"
   ]
  },
  {
   "cell_type": "code",
   "execution_count": null,
   "metadata": {
    "collapsed": false
   },
   "outputs": [],
   "source": [
    "b2"
   ]
  },
  {
   "cell_type": "markdown",
   "metadata": {},
   "source": [
    "# visualize"
   ]
  },
  {
   "cell_type": "code",
   "execution_count": null,
   "metadata": {
    "collapsed": true
   },
   "outputs": [],
   "source": [
    "obs_train2, obs_test2 = [], []\n",
    "for y in y_train2:\n",
    "    days, counts = y[:, :1], y[:, 1:]\n",
    "    perc = counts / counts.sum(axis=-1, keepdims=True)\n",
    "    obs_train2.append(np.concatenate([days, perc], axis=-1))\n",
    "for y in y_test2:\n",
    "    days, counts = y[:, :1], y[:, 1:]\n",
    "    perc = counts / counts.sum(axis=-1, keepdims=True)\n",
    "    obs_test2.append(np.concatenate([days, perc], axis=-1))\n",
    "extra_inputs_train2 = [None for _ in range(len(obs_train2))]\n",
    "extra_inputs_test2 = [None for _ in range(len(obs_test2))]\n",
    "\n",
    "hidden_train2, hidden_test2 = x_train2, x_test2\n",
    "\n",
    "hidden_train2, hidden_test2, obs_train2, obs_test2, input_train2, input_test2, _mask_train2, _mask_test2, time_interval_train2, time_interval_test2, extra_inputs_train2, extra_input_test2 = \\\n",
    "    interpolate_data(hidden_train2, hidden_test2, obs_train2, obs_test2, input_train2, input_test2,\n",
    "                     extra_inputs_train2, extra_inputs_test2, interpolation_type=None)\n",
    "\n",
    "masks2 = _mask_train2 + _mask_test2\n",
    "obs2 = obs_train2 + obs_test2\n",
    "inputs2 = input_train2 + input_test2"
   ]
  },
  {
   "cell_type": "code",
   "execution_count": null,
   "metadata": {
    "collapsed": false
   },
   "outputs": [],
   "source": [
    "for i in range(0, 30):\n",
    "    plot_inputs_and_obs(inputs2, obs2, masks2, i)"
   ]
  },
  {
   "cell_type": "code",
   "execution_count": null,
   "metadata": {
    "collapsed": true
   },
   "outputs": [],
   "source": []
  },
  {
   "cell_type": "code",
   "execution_count": null,
   "metadata": {
    "collapsed": true
   },
   "outputs": [],
   "source": []
  }
 ],
 "metadata": {
  "kernelspec": {
   "display_name": "SMC_venv",
   "language": "python",
   "name": "smc_venv"
  },
  "language_info": {
   "codemirror_mode": {
    "name": "ipython",
    "version": 3
   },
   "file_extension": ".py",
   "mimetype": "text/x-python",
   "name": "python",
   "nbconvert_exporter": "python",
   "pygments_lexer": "ipython3",
   "version": "3.6.8"
  }
 },
 "nbformat": 4,
 "nbformat_minor": 2
}
