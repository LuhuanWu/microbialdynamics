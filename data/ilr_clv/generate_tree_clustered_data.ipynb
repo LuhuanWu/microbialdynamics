{
 "cells": [
  {
   "cell_type": "code",
   "execution_count": 1,
   "metadata": {},
   "outputs": [],
   "source": [
    "# import torch\n",
    "import numpy as np"
   ]
  },
  {
   "cell_type": "markdown",
   "metadata": {},
   "source": [
    "# define tree and cluster\n",
    "\n",
    "\n"
   ]
  },
  {
   "cell_type": "code",
   "execution_count": 2,
   "metadata": {},
   "outputs": [],
   "source": [
    "# tree structrue\n",
    "theta = np.array([[+1,-1,-1,0,0,0], \n",
    "                 [0,+1,-1,0,0,0],\n",
    "                 [+1,+1,+1,-1,-1,-1,],\n",
    "                 [0,0,0,+1,-1,0],\n",
    "                 [0,0,0,+1,+1,-1]])"
   ]
  },
  {
   "cell_type": "markdown",
   "metadata": {},
   "source": [
    "# define ilr and inverse ilr"
   ]
  },
  {
   "cell_type": "code",
   "execution_count": 3,
   "metadata": {},
   "outputs": [
    {
     "data": {
      "text/plain": [
       "array([1., 1.], dtype=float32)"
      ]
     },
     "execution_count": 3,
     "metadata": {},
     "output_type": "execute_result"
    }
   ],
   "source": [
    "np.empty(2, dtype=np.float32)"
   ]
  },
  {
   "cell_type": "code",
   "execution_count": 4,
   "metadata": {},
   "outputs": [],
   "source": [
    "def get_n_plus_and_n_minus(theta, w):\n",
    "    Dm1, D = theta.shape\n",
    "    n_plus = np.empty(Dm1, dtype=np.float)\n",
    "    n_minus = np.empty(Dm1, dtype=np.float)\n",
    "    for i in range(Dm1):\n",
    "        n_plus[i] = np.sum(w[theta[i]==1])\n",
    "        n_minus[i] = np.sum(w[theta[i]==-1])\n",
    "    return n_plus, n_minus"
   ]
  },
  {
   "cell_type": "code",
   "execution_count": 5,
   "metadata": {},
   "outputs": [],
   "source": [
    "def get_psi(theta, n_plus, n_minus):\n",
    "    m, n = theta.shape\n",
    "    psi = np.zeros_like(theta, dtype=np.float)\n",
    "    for i in range(m):\n",
    "        for j in range(n):\n",
    "            if theta[i, j] == 1:\n",
    "                psi[i, j] = 1/n_plus[i] * np.sqrt(n_plus[i] * n_minus[i] / (n_plus[i] + n_minus[i]))\n",
    "            elif theta[i, j] == -1:\n",
    "                psi[i, j] = -1/n_minus[i] * np.sqrt(n_plus[i] * n_minus[i] / (n_plus[i] + n_minus[i]))\n",
    "    return psi"
   ]
  },
  {
   "cell_type": "code",
   "execution_count": 6,
   "metadata": {},
   "outputs": [],
   "source": [
    "def log_geometric_mean(y, w):\n",
    "    return np.sum(w * np.log(y), axis=-1)/np.sum(w, axis=-1)"
   ]
  },
  {
   "cell_type": "code",
   "execution_count": 7,
   "metadata": {},
   "outputs": [],
   "source": [
    "def ilr_transform(x, w, theta, n_plus, n_minus):\n",
    "    \"\"\"\n",
    "    x: (D, ), w: (D, ), theta: (D-1, D), n_plus: (D-1, ), n_minuse: (D-1, )\n",
    "    return ystar: (D-1, )\n",
    "    \"\"\"\n",
    "    D, = x.shape\n",
    "    y = x / w\n",
    "\n",
    "    # compute log geometric mean ratio\n",
    "    log_gm_ratio = np.empty((D-1,), dtype=np.float)\n",
    "    for i in range(D-1):\n",
    "        plus_idx = theta[i] == 1\n",
    "        loggp_yi_plus = log_geometric_mean(y[plus_idx], w[plus_idx])\n",
    "            \n",
    "        minus_idx = theta[i] == -1\n",
    "        loggp_yi_minus = log_geometric_mean(y[minus_idx], w[minus_idx])\n",
    "         \n",
    "        log_gm_ratio[i] = loggp_yi_plus - loggp_yi_minus\n",
    "    \n",
    "    normalizing_constant = np.sqrt(n_plus * n_minus / (n_plus + n_minus))  # (D-1, )\n",
    "    \n",
    "    ystar = normalizing_constant * log_gm_ratio\n",
    "    return ystar"
   ]
  },
  {
   "cell_type": "code",
   "execution_count": 8,
   "metadata": {},
   "outputs": [],
   "source": [
    "def inverse_ilr_transform(ystar, psi, w):\n",
    "    \"\"\"\n",
    "    ystar: (D-1,), psi: (D-1, D), w: (D, )\n",
    "    return: x: (D,)\n",
    "    \"\"\"\n",
    "    \n",
    "    # (1, D-1) * (D-1, D) -> (1, D)\n",
    "    exp_ystar_psi = np.exp(np.matmul(ystar[None,], psi))\n",
    "    exp_ystar_psi = exp_ystar_psi.squeeze(0)\n",
    "    \n",
    "    y = exp_ystar_psi / np.sum(exp_ystar_psi)\n",
    "    x = y * w / np.sum(y * w)\n",
    "    return x"
   ]
  },
  {
   "cell_type": "markdown",
   "metadata": {},
   "source": [
    "# data"
   ]
  },
  {
   "cell_type": "code",
   "execution_count": 9,
   "metadata": {},
   "outputs": [],
   "source": [
    "# counts\n",
    "c = np.array([10, 20, 30, 40, 25, 15], dtype=np.float)\n",
    "\n",
    "x = c / c.sum()\n",
    "# weights\n",
    "w = np.array([2.1, 3.2, 3, 5, 10, 2])"
   ]
  },
  {
   "cell_type": "code",
   "execution_count": 10,
   "metadata": {},
   "outputs": [],
   "source": [
    "# ilr transformation\n",
    "n_plus, n_minus = get_n_plus_and_n_minus(theta, w)\n",
    "psi = get_psi(theta, n_plus, n_minus)\n",
    "ystar = ilr_transform(x, w, theta, n_plus, n_minus)"
   ]
  },
  {
   "cell_type": "code",
   "execution_count": 11,
   "metadata": {},
   "outputs": [
    {
     "data": {
      "text/plain": [
       "array([-0.62542566, -0.58484527,  1.28946544,  2.12361312, -0.94436926])"
      ]
     },
     "execution_count": 11,
     "metadata": {},
     "output_type": "execute_result"
    }
   ],
   "source": [
    "ystar"
   ]
  },
  {
   "cell_type": "code",
   "execution_count": 12,
   "metadata": {},
   "outputs": [],
   "source": [
    "x_recon = inverse_ilr_transform(ystar, psi, w)"
   ]
  },
  {
   "cell_type": "code",
   "execution_count": 13,
   "metadata": {},
   "outputs": [
    {
     "data": {
      "text/plain": [
       "array([0.07142857, 0.14285714, 0.21428571, 0.28571429, 0.17857143,\n",
       "       0.10714286])"
      ]
     },
     "execution_count": 13,
     "metadata": {},
     "output_type": "execute_result"
    }
   ],
   "source": [
    "x_recon"
   ]
  },
  {
   "cell_type": "code",
   "execution_count": 14,
   "metadata": {},
   "outputs": [
    {
     "data": {
      "text/plain": [
       "array([0.07142857, 0.14285714, 0.21428571, 0.28571429, 0.17857143,\n",
       "       0.10714286])"
      ]
     },
     "execution_count": 14,
     "metadata": {},
     "output_type": "execute_result"
    }
   ],
   "source": [
    "x"
   ]
  },
  {
   "cell_type": "markdown",
   "metadata": {},
   "source": [
    "# dynamics"
   ]
  },
  {
   "cell_type": "markdown",
   "metadata": {},
   "source": [
    "For any **inner** node $i$,\n",
    "* The probability that $y_i^*$ will change is: $p(i\\ breaks) = \\left[\\prod_{a \\in a_i} b_a \\right] \\cdot b_i$, where $a_i$ are node $i$'s ancestors.\n",
    "* Conditioning on that $y_i^*$ will change, then $a_i$ are bound to break. The remaing consideration is, for any node $j (j \\neq i)$ that is not in $a_i$, the probability that node $j$ represents a group, i.e., j doesn't break but node $j$'s ancestors break: $p(j\\ represents\\ group| i\\ breaks) = \\prod_{k \\in a_j \\cap \\neg (a_i \\cup \\{i\\})} b_k \\cdot (1 - b_j)$, where $\\neg U$ represents nodes are not in set $U$.\n",
    "* Then $y_i^*$'s change rate will be\n",
    "$$\\frac{dy_i^*}{dt} = p(i\\ breaks) \\cdot (g_i + \\sum_{j\\in \\neg (a_i \\cup \\{i\\})} p(j\\ represents\\ group | i\\ breaks) \\cdot A_{ij} \\cdot r_j),$$\n",
    "where $r_j$ is the relative abundance of node $j$."
   ]
  },
  {
   "cell_type": "markdown",
   "metadata": {},
   "source": [
    "### tree data structure setup"
   ]
  },
  {
   "cell_type": "code",
   "execution_count": 15,
   "metadata": {},
   "outputs": [],
   "source": [
    "class Tree(object):\n",
    "    def __init__(self, parent=None, left=None, right=None, node_idx=None, inode_idx=None, taxon_idx=None, b=0.5):\n",
    "        self.left = left\n",
    "        self.right = right\n",
    "        self.parent = parent\n",
    "        self.b = b\n",
    "        self.inode_idx = inode_idx\n",
    "        self.taxon_idx = taxon_idx\n",
    "        self.node_idx = node_idx\n",
    "\n",
    "    def is_taxon(self):\n",
    "        return self.left is None and self.right is None\n",
    "    \n",
    "    def print_tree(self, level=0):\n",
    "        name = self.name()\n",
    "        print(\"   \" * level + name)\n",
    "        if self.left is not None:\n",
    "            self.left.print_tree(level+1)\n",
    "        if self.right is not None:\n",
    "            self.right.print_tree(level+1)\n",
    "\n",
    "    def name(self):\n",
    "        if self.is_taxon():\n",
    "            name = \"node {} taxon {}\".format(self.node_idx, self.taxon_idx)\n",
    "        else:\n",
    "            name = \"node {} inode {}\".format(self.node_idx, self.inode_idx)\n",
    "        return name"
   ]
  },
  {
   "cell_type": "code",
   "execution_count": 16,
   "metadata": {},
   "outputs": [],
   "source": [
    "def convert_theta_to_tree(theta):\n",
    "    n_node = theta.shape[0] + theta.shape[1]\n",
    "    node_reference = [0] * n_node  # placeholder\n",
    "    root = convert_theta_to_tree_helper(theta, node_reference, None)\n",
    "    return root, node_reference\n",
    "\n",
    "def convert_theta_to_tree_helper(theta, node_reference, parent, is_left_child=True):\n",
    "    # find and return parent's left/right child node\n",
    "    if parent is None:\n",
    "        n_taxa = theta.shape[1]\n",
    "        node_taxa = np.arange(n_taxa)\n",
    "    else:\n",
    "        parent_taxon_idx = parent.inode_idx\n",
    "        assert parent_taxon_idx is not None\n",
    "        theta_node = theta[parent_taxon_idx]\n",
    "        if is_left_child:\n",
    "            node_taxa = np.where(theta_node == +1)[0]\n",
    "        else:\n",
    "            node_taxa = np.where(theta_node == -1)[0]\n",
    "\n",
    "    if len(node_taxa) == 1:\n",
    "        taxon_idx = node_taxa[0]\n",
    "        n_inode = theta.shape[0]\n",
    "        node_idx = n_inode + taxon_idx\n",
    "        child = Tree(parent=parent, taxon_idx=taxon_idx, node_idx=node_idx, b=0)  # taxon nodes cannot break\n",
    "        node_reference[node_idx] = child\n",
    "    else:\n",
    "        inode_idx = -1\n",
    "        for i, theta_i in enumerate(theta):\n",
    "            leaves = np.where(theta_i != 0)[0]\n",
    "            if len(leaves) == len(node_taxa) and (leaves == node_taxa).all():\n",
    "                inode_idx = i\n",
    "                break\n",
    "        assert inode_idx != -1, \"cannot find the child whose leaves should be {}\".format(node_taxa)\n",
    "\n",
    "        child = Tree(parent=parent, inode_idx=inode_idx, node_idx=inode_idx)\n",
    "        child.left = convert_theta_to_tree_helper(theta, node_reference, child, is_left_child=True)\n",
    "        child.right = convert_theta_to_tree_helper(theta, node_reference, child, is_left_child=False)\n",
    "        node_reference[inode_idx] = child\n",
    "\n",
    "    return child"
   ]
  },
  {
   "cell_type": "code",
   "execution_count": 17,
   "metadata": {},
   "outputs": [],
   "source": [
    "root, reference = convert_theta_to_tree(theta)"
   ]
  },
  {
   "cell_type": "code",
   "execution_count": 18,
   "metadata": {},
   "outputs": [
    {
     "name": "stdout",
     "output_type": "stream",
     "text": [
      "node 2 inode 2\n",
      "   node 0 inode 0\n",
      "      node 5 taxon 0\n",
      "      node 1 inode 1\n",
      "         node 6 taxon 1\n",
      "         node 7 taxon 2\n",
      "   node 4 inode 4\n",
      "      node 3 inode 3\n",
      "         node 8 taxon 3\n",
      "         node 9 taxon 4\n",
      "      node 10 taxon 5\n"
     ]
    }
   ],
   "source": [
    "root.print_tree()"
   ]
  },
  {
   "cell_type": "code",
   "execution_count": 19,
   "metadata": {},
   "outputs": [
    {
     "name": "stdout",
     "output_type": "stream",
     "text": [
      "node 0 inode 0\n",
      "node 1 inode 1\n",
      "node 2 inode 2\n",
      "node 3 inode 3\n",
      "node 4 inode 4\n",
      "node 5 taxon 0\n",
      "node 6 taxon 1\n",
      "node 7 taxon 2\n",
      "node 8 taxon 3\n",
      "node 9 taxon 4\n",
      "node 10 taxon 5\n"
     ]
    }
   ],
   "source": [
    "for node in reference:\n",
    "    print(node.name())"
   ]
  },
  {
   "cell_type": "code",
   "execution_count": 20,
   "metadata": {},
   "outputs": [],
   "source": [
    "def get_p_i(n_inode, root):\n",
    "    p_i = np.empty(n_inode)\n",
    "    get_p_i_helper(p_i, root, 1)\n",
    "    return p_i\n",
    "\n",
    "def get_p_i_helper(p_i, node, p_ancestors_break):\n",
    "    if node.is_taxon():\n",
    "        return\n",
    "    node_idx = node.node_idx\n",
    "    p_ancestors_break *= node.b\n",
    "    p_i[node_idx] = p_ancestors_break\n",
    "    get_p_i_helper(p_i, node.left, p_ancestors_break)\n",
    "    get_p_i_helper(p_i, node.right, p_ancestors_break)"
   ]
  },
  {
   "cell_type": "code",
   "execution_count": 21,
   "metadata": {},
   "outputs": [],
   "source": [
    "def get_p_j_given_i(n_node, n_inode, root):\n",
    "    p_j_given_i = np.empty((n_inode, n_node))\n",
    "    get_p_j_given_i_helper(p_j_given_i, n_node, root, root)\n",
    "    return p_j_given_i\n",
    "\n",
    "def get_p_j_given_i_helper(p_j_given_i, n_node, root, node):\n",
    "    # node: inode i\n",
    "    if node.is_taxon():\n",
    "        return\n",
    "    b_copy = node.b\n",
    "    node.b = 1\n",
    "\n",
    "    p_j_given_inode = np.empty(n_node)\n",
    "    get_p_j_given_inode_helper(p_j_given_inode, root, 1)\n",
    "    get_p_j_given_i_helper(p_j_given_i, n_node, root, node.left)\n",
    "    get_p_j_given_i_helper(p_j_given_i, n_node, root, node.right)\n",
    "\n",
    "    inode_idx = node.inode_idx\n",
    "    p_j_given_i[inode_idx] = p_j_given_inode\n",
    "    node.b = b_copy\n",
    "    \n",
    "def get_p_j_given_inode_helper(p_j_given_inode, node, p_ancestors_break):\n",
    "    if node is None:\n",
    "        return\n",
    "    node_idx = node.node_idx\n",
    "    p_j_given_inode[node_idx] = p_ancestors_break * (1 - node.b)\n",
    "    get_p_j_given_inode_helper(p_j_given_inode, node.left, p_ancestors_break * node.b)\n",
    "    get_p_j_given_inode_helper(p_j_given_inode, node.right, p_ancestors_break * node.b)"
   ]
  },
  {
   "cell_type": "code",
   "execution_count": 22,
   "metadata": {},
   "outputs": [],
   "source": [
    "reference[0].b = 1.0\n",
    "reference[1].b = 0.0\n",
    "reference[2].b = 1.0\n",
    "reference[3].b = 0.0\n",
    "reference[4].b = 0.0"
   ]
  },
  {
   "cell_type": "code",
   "execution_count": 23,
   "metadata": {},
   "outputs": [],
   "source": [
    "n_inode = theta.shape[0]\n",
    "n_node = theta.shape[0] + theta.shape[1]\n",
    "p_i = get_p_i(n_inode, root)\n",
    "p_j_given_i = get_p_j_given_i(n_node, n_inode, root)"
   ]
  },
  {
   "cell_type": "code",
   "execution_count": 24,
   "metadata": {},
   "outputs": [
    {
     "name": "stdout",
     "output_type": "stream",
     "text": [
      "[1. 0. 1. 0. 0.]\n",
      "[[0. 1. 0. 0. 1. 1. 0. 0. 0. 0. 0.]\n",
      " [0. 0. 0. 0. 1. 1. 1. 1. 0. 0. 0.]\n",
      " [0. 1. 0. 0. 1. 1. 0. 0. 0. 0. 0.]\n",
      " [0. 1. 0. 0. 0. 1. 0. 0. 1. 1. 1.]\n",
      " [0. 1. 0. 1. 0. 1. 0. 0. 0. 0. 1.]]\n"
     ]
    }
   ],
   "source": [
    "print(p_i)\n",
    "print(p_j_given_i)"
   ]
  },
  {
   "cell_type": "code",
   "execution_count": 25,
   "metadata": {},
   "outputs": [],
   "source": [
    "np.random.seed(10)"
   ]
  },
  {
   "cell_type": "code",
   "execution_count": 26,
   "metadata": {},
   "outputs": [],
   "source": [
    "g = np.random.randn(n_inode)\n",
    "A = np.random.randn(n_inode, n_node) * 10"
   ]
  },
  {
   "cell_type": "code",
   "execution_count": 27,
   "metadata": {},
   "outputs": [],
   "source": [
    "def get_inode_relative_abundance(root, x_t, n_inode):\n",
    "    r_t_inode = np.empty(n_inode)\n",
    "    get_inode_relative_abundance_helper(r_t_inode, root, x_t)\n",
    "    return r_t_inode\n",
    "    \n",
    "def get_inode_relative_abundance_helper(r_t_inode, node, x_t):\n",
    "    if node.is_taxon():\n",
    "        return x_t[node.taxon_idx]\n",
    "    inode_idx = node.inode_idx\n",
    "    left_r_t = get_inode_relative_abundance_helper(r_t_inode, node.left, x_t)\n",
    "    right_r_t = get_inode_relative_abundance_helper(r_t_inode, node.right, x_t)\n",
    "    inode_r_t = left_r_t + right_r_t\n",
    "    r_t_inode[inode_idx] = inode_r_t\n",
    "    return inode_r_t    \n",
    "\n",
    "def simulate(root, g, A, p_i, p_j_given_i, N, n_days):\n",
    "    def transition_step(ystar_t):\n",
    "        \"\"\"\n",
    "        ystar_t: (D-1, )\n",
    "        return ystar_tp1: (D-1,)\n",
    "        \"\"\"\n",
    "        # (1, D-1) * (D-1, D) -> (1, D)\n",
    "        x_t = inverse_ilr_transform(ystar_t, psi, w)\n",
    "        r_t_inode = get_inode_relative_abundance(root, x_t, len(ystar_t))\n",
    "        r_t = np.concatenate([r_t_inode, x_t])\n",
    "        ystar_tp1 = ystar_t + p_i * (g + (A * p_j_given_i).dot(r_t))\n",
    "        return ystar_tp1\n",
    "\n",
    "    def emission_step(ystar_t):\n",
    "        \"\"\"\n",
    "        ystar_t: (D-1, )\n",
    "        return c_t: (D)\n",
    "        \"\"\"\n",
    "        x_t = inverse_ilr_transform(ystar_t, psi, w)\n",
    "        logN = np.random.normal(loc=np.log(N), scale=0.5)\n",
    "        N_t = np.random.poisson(np.exp(logN))\n",
    "        c_t= np.random.multinomial(N_t, x_t).astype(float)\n",
    "        return x_t, c_t\n",
    "\n",
    "    n_inode, n_node = A.shape\n",
    "    n_taxa = n_node - n_inode\n",
    "    y_star = np.random.randn(n_inode) * 5\n",
    "\n",
    "    Y = []\n",
    "    X = []\n",
    "    C = []\n",
    "    for _ in range(n_days):\n",
    "        x, c = emission_step(y_star)\n",
    "        Y.append(y_star)\n",
    "        X.append(x)\n",
    "        C.append(c)\n",
    "        y_star = transition_step(y_star)\n",
    "        \n",
    "    return np.array(Y), np.array(X), np.array(C)"
   ]
  },
  {
   "cell_type": "code",
   "execution_count": 28,
   "metadata": {},
   "outputs": [
    {
     "data": {
      "text/plain": [
       "(array([[ -1.16091128,  -2.5086445 ,   5.64392577,  -3.48905015,\n",
       "          -0.40561092],\n",
       "        [  2.35687703,  -2.5086445 ,   1.29389737,  -3.48905015,\n",
       "          -0.40561092],\n",
       "        [  4.80635792,  -2.5086445 ,  -3.00435898,  -3.48905015,\n",
       "          -0.40561092],\n",
       "        [  6.39837318,  -2.5086445 ,  -7.85695902,  -3.48905015,\n",
       "          -0.40561092],\n",
       "        [  6.80911115,  -2.5086445 , -13.97729704,  -3.48905015,\n",
       "          -0.40561092],\n",
       "        [  6.4843133 ,  -2.5086445 , -20.91582922,  -3.48905015,\n",
       "          -0.40561092],\n",
       "        [  6.07388166,  -2.5086445 , -27.94988416,  -3.48905015,\n",
       "          -0.40561092],\n",
       "        [  5.65962595,  -2.5086445 , -34.98819712,  -3.48905015,\n",
       "          -0.40561092],\n",
       "        [  5.24521675,  -2.5086445 , -42.02668048,  -3.48905015,\n",
       "          -0.40561092],\n",
       "        [  4.83080141,  -2.5086445 , -49.06517063,  -3.48905015,\n",
       "          -0.40561092]]),\n",
       " array([[6.84654353e-02, 9.93787361e-02, 6.99552328e-01, 8.05569279e-03,\n",
       "         1.08913901e-01, 1.56339070e-02],\n",
       "        [3.12233694e-01, 2.73215192e-02, 1.92323158e-01, 2.84384952e-02,\n",
       "         3.84491755e-01, 5.51913783e-02],\n",
       "        [3.08007214e-01, 3.81263946e-03, 2.68381438e-02, 4.01766768e-02,\n",
       "         5.43193333e-01, 7.79719936e-02],\n",
       "        [1.33108093e-01, 4.62206710e-04, 3.25359119e-03, 5.24381446e-02,\n",
       "         7.08969800e-01, 1.01768165e-01],\n",
       "        [1.45370720e-02, 3.63651077e-05, 2.55983289e-04, 5.98493364e-02,\n",
       "         8.09169972e-01, 1.16151271e-01],\n",
       "        [6.43510675e-04, 2.08635261e-06, 1.46863694e-05, 6.07101146e-02,\n",
       "         8.20807795e-01, 1.17821807e-01],\n",
       "        [2.56425251e-05, 1.15374644e-07, 8.12151609e-07, 6.07486129e-02,\n",
       "         8.21328295e-01, 1.17896522e-01],\n",
       "        [1.01701657e-06, 6.36973319e-09, 4.48381802e-08, 6.07501621e-02,\n",
       "         8.21349241e-01, 1.17899528e-01],\n",
       "        [4.03286375e-08, 3.51644324e-10, 2.47531429e-09, 6.07502244e-02,\n",
       "         8.21350083e-01, 1.17899649e-01],\n",
       "        [1.59917429e-09, 1.94126509e-11, 1.36650612e-10, 6.07502269e-02,\n",
       "         8.21350117e-01, 1.17899654e-01]]),\n",
       " array([[5.4200e+02, 7.7800e+02, 5.2790e+03, 5.8000e+01, 8.4000e+02,\n",
       "         1.3000e+02],\n",
       "        [1.8810e+03, 1.4100e+02, 1.1390e+03, 1.9800e+02, 2.2600e+03,\n",
       "         3.2300e+02],\n",
       "        [2.0420e+03, 3.0000e+01, 1.7300e+02, 2.6300e+02, 3.6690e+03,\n",
       "         5.5100e+02],\n",
       "        [3.7270e+03, 9.0000e+00, 6.8000e+01, 1.4150e+03, 1.9708e+04,\n",
       "         2.7570e+03],\n",
       "        [1.5700e+02, 0.0000e+00, 0.0000e+00, 6.3400e+02, 8.7120e+03,\n",
       "         1.2440e+03],\n",
       "        [1.2000e+01, 0.0000e+00, 0.0000e+00, 1.1840e+03, 1.5214e+04,\n",
       "         2.1720e+03],\n",
       "        [0.0000e+00, 0.0000e+00, 0.0000e+00, 2.0040e+03, 2.7985e+04,\n",
       "         4.0410e+03],\n",
       "        [0.0000e+00, 0.0000e+00, 0.0000e+00, 5.4000e+02, 7.0890e+03,\n",
       "         9.7500e+02],\n",
       "        [0.0000e+00, 0.0000e+00, 0.0000e+00, 3.3900e+02, 4.1820e+03,\n",
       "         5.6700e+02],\n",
       "        [0.0000e+00, 0.0000e+00, 0.0000e+00, 1.0010e+03, 1.3098e+04,\n",
       "         1.9150e+03]]))"
      ]
     },
     "execution_count": 28,
     "metadata": {},
     "output_type": "execute_result"
    }
   ],
   "source": [
    "N, n_days = 10000, 10\n",
    "simulate(root, g, A, p_i, p_j_given_i, N, n_days)"
   ]
  },
  {
   "cell_type": "code",
   "execution_count": 29,
   "metadata": {},
   "outputs": [],
   "source": [
    "def get_nodes_x(x):\n",
    "    nodes_x = np.array([x[0], x[1:3].sum(), x[3:6].sum()])\n",
    "    return nodes_x"
   ]
  }
 ],
 "metadata": {
  "kernelspec": {
   "display_name": "Python 3",
   "language": "python",
   "name": "python3"
  },
  "language_info": {
   "codemirror_mode": {
    "name": "ipython",
    "version": 3
   },
   "file_extension": ".py",
   "mimetype": "text/x-python",
   "name": "python",
   "nbconvert_exporter": "python",
   "pygments_lexer": "ipython3",
   "version": "3.6.2"
  }
 },
 "nbformat": 4,
 "nbformat_minor": 2
}
