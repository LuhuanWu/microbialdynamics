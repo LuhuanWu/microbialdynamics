{
 "cells": [
  {
   "cell_type": "code",
   "execution_count": 501,
   "metadata": {},
   "outputs": [],
   "source": [
    "import numpy as np\n",
    "import matplotlib.pyplot as plt\n",
    "import seaborn as sns"
   ]
  },
  {
   "cell_type": "markdown",
   "metadata": {},
   "source": [
    "# define ilr and inverse ilr"
   ]
  },
  {
   "cell_type": "code",
   "execution_count": 502,
   "metadata": {},
   "outputs": [],
   "source": [
    "def get_n_plus_and_n_minus(theta, w):\n",
    "    Dm1, D = theta.shape\n",
    "    n_plus = np.empty(Dm1, dtype=np.float)\n",
    "    n_minus = np.empty(Dm1, dtype=np.float)\n",
    "    for i in range(Dm1):\n",
    "        n_plus[i] = np.sum(w[theta[i]==1])\n",
    "        n_minus[i] = np.sum(w[theta[i]==-1])\n",
    "    return n_plus, n_minus"
   ]
  },
  {
   "cell_type": "code",
   "execution_count": 503,
   "metadata": {},
   "outputs": [],
   "source": [
    "def get_psi(theta, n_plus, n_minus):\n",
    "    m, n = theta.shape\n",
    "    psi = np.zeros_like(theta, dtype=np.float)\n",
    "    for i in range(m):\n",
    "        for j in range(n):\n",
    "            if theta[i, j] == 1:\n",
    "                psi[i, j] = 1/n_plus[i] * np.sqrt(n_plus[i] * n_minus[i] / (n_plus[i] + n_minus[i]))\n",
    "            elif theta[i, j] == -1:\n",
    "                psi[i, j] = -1/n_minus[i] * np.sqrt(n_plus[i] * n_minus[i] / (n_plus[i] + n_minus[i]))\n",
    "    return psi"
   ]
  },
  {
   "cell_type": "code",
   "execution_count": 504,
   "metadata": {},
   "outputs": [],
   "source": [
    "def log_geometric_mean(y, w):\n",
    "    return np.sum(w * np.log(y), axis=-1)/np.sum(w, axis=-1)"
   ]
  },
  {
   "cell_type": "code",
   "execution_count": 505,
   "metadata": {},
   "outputs": [],
   "source": [
    "def ilr_transform(x, w, theta, n_plus, n_minus):\n",
    "    \"\"\"\n",
    "    x: (D, ), w: (D, ), theta: (D-1, D), n_plus: (D-1, ), n_minuse: (D-1, )\n",
    "    return ystar: (D-1, )\n",
    "    \"\"\"\n",
    "    D, = x.shape\n",
    "    y = x / w\n",
    "\n",
    "    # compute log geometric mean ratio\n",
    "    log_gm_ratio = np.empty((D-1,), dtype=np.float)\n",
    "    for i in range(D-1):\n",
    "        plus_idx = theta[i] == 1\n",
    "        loggp_yi_plus = log_geometric_mean(y[plus_idx], w[plus_idx])\n",
    "            \n",
    "        minus_idx = theta[i] == -1\n",
    "        loggp_yi_minus = log_geometric_mean(y[minus_idx], w[minus_idx])\n",
    "         \n",
    "        log_gm_ratio[i] = loggp_yi_plus - loggp_yi_minus\n",
    "    \n",
    "    normalizing_constant = np.sqrt(n_plus * n_minus / (n_plus + n_minus))  # (D-1, )\n",
    "    \n",
    "    ystar = normalizing_constant * log_gm_ratio\n",
    "    return ystar"
   ]
  },
  {
   "cell_type": "code",
   "execution_count": 506,
   "metadata": {},
   "outputs": [],
   "source": [
    "def inverse_ilr_transform(ystar, psi, w):\n",
    "    \"\"\"\n",
    "    ystar: (D-1,), psi: (D-1, D), w: (D, )\n",
    "    return: x: (D,)\n",
    "    \"\"\"\n",
    "    \n",
    "    # (1, D-1) * (D-1, D) -> (1, D)\n",
    "    exp_ystar_psi = np.exp(np.matmul(ystar[None,], psi))\n",
    "    exp_ystar_psi = exp_ystar_psi.squeeze(0)\n",
    "    \n",
    "    y = exp_ystar_psi / np.sum(exp_ystar_psi)\n",
    "    x = y * w / np.sum(y * w)\n",
    "    return x"
   ]
  },
  {
   "cell_type": "markdown",
   "metadata": {},
   "source": [
    "## test inverse transformation"
   ]
  },
  {
   "cell_type": "code",
   "execution_count": 507,
   "metadata": {},
   "outputs": [
    {
     "name": "stdout",
     "output_type": "stream",
     "text": [
      "x_recon =  [0.07142857 0.14285714 0.21428571 0.28571429 0.17857143 0.10714286]\n",
      "x =  [0.07142857 0.14285714 0.21428571 0.28571429 0.17857143 0.10714286]\n",
      "past test!\n"
     ]
    }
   ],
   "source": [
    "def test_inv_ilr_transform():\n",
    "    # tree structrue\n",
    "    theta = np.array([[+1,-1,-1,0,0,0], \n",
    "                     [0,+1,-1,0,0,0],\n",
    "                     [+1,+1,+1,-1,-1,-1,],\n",
    "                     [0,0,0,+1,-1,0],\n",
    "                     [0,0,0,+1,+1,-1]])\n",
    "    # counts\n",
    "    c = np.array([10, 20, 30, 40, 25, 15], dtype=np.float)\n",
    "    x = c / c.sum()\n",
    "    # weights\n",
    "    w = np.array([2.1, 3.2, 3, 5, 10, 2])\n",
    "    \n",
    "    # ilr transformation\n",
    "    n_plus, n_minus = get_n_plus_and_n_minus(theta, w)\n",
    "    psi = get_psi(theta, n_plus, n_minus)\n",
    "    ystar = ilr_transform(x, w, theta, n_plus, n_minus)\n",
    "    \n",
    "    x_recon = inverse_ilr_transform(ystar, psi, w)\n",
    "    \n",
    "    assert ((x_recon - x) < 1e-12).all()\n",
    "    print(\"x_recon = \", x_recon)\n",
    "    print(\"x = \", x)\n",
    "    print(\"past test!\")\n",
    "    \n",
    "test_inv_ilr_transform()"
   ]
  },
  {
   "cell_type": "markdown",
   "metadata": {},
   "source": [
    "# dynamics"
   ]
  },
  {
   "cell_type": "markdown",
   "metadata": {},
   "source": [
    "For any **inner** node $i$, $y_i^*$ will change either according between-group interaction or in-group interaction.\n",
    "1. For between-group interaction,\n",
    "   * The probability that $y_i^*$ will change according to between-group interaction is: $p(i \\text{ break}) = \\left[\\prod_{a \\in a_i} b_a \\right] \\cdot b_i$, where $a_i$ are node $i$'s ancestors.\n",
    "   * Conditioning on that $y_i^*$ will change according to between-group interaction, then $a_i$ are bound to break. The remaing consideration is, for any node $j (j \\neq i)$ that is not in $a_i$, the probability that node $j$ represents a group, i.e., j doesn't break but node $j$'s ancestors break:\n",
    "   $$p(j \\text{ represent group}| i \\text{ break}) = \\prod_{k \\in a_j \\cap \\neg (a_i \\cup \\{i\\})} b_k \\cdot (1 - b_j),$$ where $\\neg U$ represents nodes are not in set $U$.\n",
    "   * Note, if $a_j \\cap \\neg (a_i \\cup \\{i\\})=\\emptyset$, there are three cases:\n",
    "\n",
    "    * $i$ is the parent of $j$, then $p(j \\text{ represent group}| i \\text{ break}) = 1-b_j$\n",
    "\n",
    "    * $i$ and $j$ has the same parent, then $p(j \\text{ represent group}| i \\text{ break}) = 1-b_j$.\n",
    "\n",
    "    * $j$ is the parent of $i$, then $p(j \\text{ represent group}| i \\text{ break}) = 0$.\n",
    "\n",
    "   * Then $y_i^*$'s between-group interaction change rate will be \n",
    "   $$\\frac{dy_i^*}{dt} = p(i \\text{ break}) \\cdot (g_i + \\sum_{j\\in \\neg (a_i \\cup \\{i\\})} p(j \\text{ represent group}| i \\text{ break}) \\cdot A_{ij} \\cdot r_j),$$ where $r_j$ is the relative abundance of node $j$.\n",
    "\n",
    "2. For in-group interaction,\n",
    "   * If inode $i$ will change according to in-group interaction, notice that it could only be affected by taxon node and other inodes will have no effect on $i$.\n",
    "   * The remaining thing is to determine the probability that each taxon node $j$ will affect $i$, which is the probability that taxon node $j$ and inode $i$ are in the same group. To be in the same group, their common ancestor must not break, and the probability is\n",
    "   $$p(j \\text{ in same group as } i| i \\text{ not break}) = 1 - \\prod_{k \\in a_j \\cap (a_i \\cup \\{i\\})} b_k $$\n",
    "   * Meanwhile, for growth rate, we only need to consider the probability that inode $i$ will not break: $p(i \\text{ not break}) = 1 - p(i \\text{ break}) = 1 - \\left[\\prod_{a \\in a_i} b_a \\right] \\cdot b_i$\n",
    "   * Then $y_i^*$'s between-group interaction change rate will be \n",
    "   $$\\frac{dy_i^*}{dt} = p(i \\text{ not break}) \\cdot g_i + \\sum_{j\\in \\text{taxa}} p(j \\text{ in same group as } i| i \\text{ not break}) \\cdot A_{ij} \\cdot r_j,$$ where $r_j$ is the relative abundance of node $j$."
   ]
  },
  {
   "cell_type": "markdown",
   "metadata": {},
   "source": [
    "### tree data structure setup"
   ]
  },
  {
   "cell_type": "code",
   "execution_count": 508,
   "metadata": {},
   "outputs": [],
   "source": [
    "class Tree(object):\n",
    "    def __init__(self, parent=None, left=None, right=None, node_idx=None, inode_idx=None, taxon_idx=None, b=0.5):\n",
    "        self.left = left\n",
    "        self.right = right\n",
    "        self.parent = parent\n",
    "        self.b = b  # break score\n",
    "        self.inode_idx = inode_idx  #internal node (not taxon)\n",
    "        self.taxon_idx = taxon_idx \n",
    "        self.node_idx = node_idx \n",
    "        #if node is internal node, node_idx=inode_idx; elif node is taxon, node_idx = num_inodes + taxon_idx\n",
    "    \n",
    "    def __repr__(self):\n",
    "        return \"tree at \" + self.name()\n",
    "        \n",
    "    def is_taxon(self):\n",
    "        return self.left is None and self.right is None\n",
    "    \n",
    "    def print_tree(self, level=0):\n",
    "        name = self.name()\n",
    "        print(\"   \" * level + name)\n",
    "        if self.left is not None:\n",
    "            self.left.print_tree(level+1)\n",
    "        if self.right is not None:\n",
    "            self.right.print_tree(level+1)\n",
    "\n",
    "    def name(self):\n",
    "        if self.is_taxon():\n",
    "            name = \"node {} taxon {}\".format(self.node_idx, self.taxon_idx)\n",
    "        else:\n",
    "            name = \"node {} inode {}\".format(self.node_idx, self.inode_idx)\n",
    "        return name"
   ]
  },
  {
   "cell_type": "code",
   "execution_count": 509,
   "metadata": {},
   "outputs": [],
   "source": [
    "def convert_theta_to_tree(theta):\n",
    "    n_node = theta.shape[0] + theta.shape[1]\n",
    "    node_reference = [0] * n_node  # placeholder\n",
    "    root = convert_theta_to_tree_helper(theta, node_reference, None)\n",
    "    return root, node_reference\n",
    "\n",
    "def convert_theta_to_tree_helper(theta, node_reference, parent, is_left_child=True):\n",
    "    # find and return parent's left/right child node\n",
    "    if parent is None:\n",
    "        n_taxa = theta.shape[1]\n",
    "        node_taxa = np.arange(n_taxa)\n",
    "    else:\n",
    "        parent_taxon_idx = parent.inode_idx\n",
    "        assert parent_taxon_idx is not None\n",
    "        theta_node = theta[parent_taxon_idx]\n",
    "        if is_left_child:\n",
    "            node_taxa = np.where(theta_node == +1)[0]\n",
    "        else:\n",
    "            node_taxa = np.where(theta_node == -1)[0]\n",
    "    \n",
    "    if len(node_taxa) == 1:\n",
    "        taxon_idx = node_taxa[0]\n",
    "        n_inode = theta.shape[0]  # number of internal nodes\n",
    "        node_idx = n_inode + taxon_idx\n",
    "        child = Tree(parent=parent, taxon_idx=taxon_idx, node_idx=node_idx, b=0)  # taxon nodes cannot break\n",
    "        node_reference[node_idx] = child\n",
    "    else:\n",
    "        inode_idx = -1\n",
    "        for i, theta_i in enumerate(theta):\n",
    "            leaves = np.where(theta_i != 0)[0]\n",
    "            if len(leaves) == len(node_taxa) and (leaves == node_taxa).all():\n",
    "                inode_idx = i\n",
    "                break\n",
    "        \n",
    "        child = Tree(parent=parent, inode_idx=inode_idx, node_idx=inode_idx)\n",
    "        child.left = convert_theta_to_tree_helper(theta, node_reference, child, is_left_child=True)\n",
    "        child.right = convert_theta_to_tree_helper(theta, node_reference, child, is_left_child=False)\n",
    "        node_reference[inode_idx] = child\n",
    "\n",
    "    return child"
   ]
  },
  {
   "cell_type": "code",
   "execution_count": 510,
   "metadata": {},
   "outputs": [],
   "source": [
    "def get_p_i(n_inode, root):\n",
    "    p_i = np.empty(n_inode)\n",
    "    get_p_i_helper(p_i, root, 1)\n",
    "    return p_i\n",
    "\n",
    "def get_p_i_helper(p_i, node, p_ancestors_break):\n",
    "    if node.is_taxon():\n",
    "        return\n",
    "    node_idx = node.node_idx\n",
    "    p_ancestors_break *= node.b\n",
    "    p_i[node_idx] = p_ancestors_break\n",
    "    get_p_i_helper(p_i, node.left, p_ancestors_break)\n",
    "    get_p_i_helper(p_i, node.right, p_ancestors_break)"
   ]
  },
  {
   "cell_type": "code",
   "execution_count": 511,
   "metadata": {},
   "outputs": [],
   "source": [
    "def get_between_group_p_j_given_i(n_node, n_inode, root):\n",
    "    p_j_given_i = np.empty((n_inode, n_node))\n",
    "    get_between_group_p_j_given_i_helper(p_j_given_i, n_node, root, root)\n",
    "    return p_j_given_i\n",
    "\n",
    "def get_between_group_p_j_given_i_helper(p_j_given_i, n_node, root, node):\n",
    "    # node: inode i\n",
    "    if node.is_taxon():\n",
    "        return\n",
    "    b_copy = node.b\n",
    "    node.b = 1\n",
    "    p_j_given_inode = np.empty(n_node)\n",
    "    # iterate over j=0:n_node-1\n",
    "    get_between_group_p_j_given_inode_helper(p_j_given_inode, root, 1)\n",
    "    get_between_group_p_j_given_i_helper(p_j_given_i, n_node, root, node.left)\n",
    "    get_between_group_p_j_given_i_helper(p_j_given_i, n_node, root, node.right)\n",
    "\n",
    "    inode_idx = node.inode_idx\n",
    "    p_j_given_i[inode_idx] = p_j_given_inode\n",
    "    node.b = b_copy\n",
    "    \n",
    "def get_between_group_p_j_given_inode_helper(p_j_given_inode, node, p_ancestors_break):\n",
    "    if node is None:\n",
    "        return\n",
    "    node_idx = node.node_idx\n",
    "    p_j_given_inode[node_idx] = p_ancestors_break * (1 - node.b)\n",
    "    get_between_group_p_j_given_inode_helper(p_j_given_inode, node.left, p_ancestors_break * node.b)\n",
    "    get_between_group_p_j_given_inode_helper(p_j_given_inode, node.right, p_ancestors_break * node.b)"
   ]
  },
  {
   "cell_type": "code",
   "execution_count": 512,
   "metadata": {},
   "outputs": [],
   "source": [
    "def get_in_group_p_j_given_i(n_node, n_inode, root):\n",
    "    p_j_given_i = np.empty((n_inode, n_node))\n",
    "    get_in_group_p_j_given_i_initialization(root)\n",
    "    get_in_group_p_j_given_i_helper(p_j_given_i, n_node, root, root)\n",
    "    get_in_group_p_j_given_i_clean(root)\n",
    "    return p_j_given_i\n",
    "\n",
    "def get_in_group_p_j_given_i_initialization(root):\n",
    "    def helper(node):\n",
    "        node.is_ancestor_of_i = False\n",
    "        if not node.is_taxon():\n",
    "            helper(node.left)\n",
    "            helper(node.right)\n",
    "    helper(root)\n",
    "\n",
    "def get_in_group_p_j_given_i_clean(root):\n",
    "    def helper(node):\n",
    "        del node.is_ancestor_of_i\n",
    "        if not node.is_taxon():\n",
    "            helper(node.left)\n",
    "            helper(node.right)\n",
    "    helper(root)\n",
    "\n",
    "def get_in_group_p_j_given_i_helper(p_j_given_i, n_node, root, node):\n",
    "    # node: inode i\n",
    "    if node.is_taxon():\n",
    "        return\n",
    "\n",
    "    node.is_ancestor_of_i = True  # tmp value\n",
    "    p_j_given_inode = np.empty(n_node)\n",
    "    get_in_group_p_j_given_inode_helper(p_j_given_inode, root, 1)\n",
    "    inode_idx = node.inode_idx\n",
    "    p_j_given_i[inode_idx] = p_j_given_inode\n",
    "\n",
    "    get_in_group_p_j_given_i_helper(p_j_given_i, n_node, root, node.left)\n",
    "    get_in_group_p_j_given_i_helper(p_j_given_i, n_node, root, node.right)\n",
    "\n",
    "    node.is_ancestor_of_i = False\n",
    "\n",
    "def get_in_group_p_j_given_inode_helper(p_j_given_inode, node, p_common_ancestors_break):\n",
    "    node_idx = node.node_idx\n",
    "    if node.is_taxon():\n",
    "        p_j_given_inode[node_idx] = 1 - p_common_ancestors_break\n",
    "    else:\n",
    "        p_j_given_inode[node_idx] = 0.0\n",
    "        if node.is_ancestor_of_i:\n",
    "            p_common_ancestors_break *= node.b\n",
    "        get_in_group_p_j_given_inode_helper(p_j_given_inode, node.left, p_common_ancestors_break)\n",
    "        get_in_group_p_j_given_inode_helper(p_j_given_inode, node.right, p_common_ancestors_break)"
   ]
  },
  {
   "cell_type": "code",
   "execution_count": 513,
   "metadata": {},
   "outputs": [],
   "source": [
    "def set_b(reference, bs):\n",
    "    for i, b in enumerate(bs):\n",
    "        reference[i].b = b"
   ]
  },
  {
   "cell_type": "code",
   "execution_count": 514,
   "metadata": {},
   "outputs": [
    {
     "name": "stdout",
     "output_type": "stream",
     "text": [
      "pass test!\n"
     ]
    }
   ],
   "source": [
    "def test_dynamics():\n",
    "    theta3 = np.array([[+1, -1,  0,  0,  0,  0,  0,  0], \n",
    "                       [+1, +1, -1, -1, -1,  0,  0,  0],\n",
    "                       [ 0,  0, +1, -1, -1,  0,  0,  0],\n",
    "                       [ 0,  0,  0, +1, -1,  0,  0,  0], \n",
    "                       [+1, +1, +1, +1, +1, -1, -1, -1],\n",
    "                       [ 0,  0,  0,  0,  0, +1, -1, -1], \n",
    "                       [ 0,  0,  0,  0,  0,  0, +1, -1]])\n",
    "    # get tree\n",
    "    root3, reference3 = convert_theta_to_tree(theta3)\n",
    "    \n",
    "    b3 = np.array([0., 1., 1., 0., 1., 1., 0.])\n",
    "    set_b(reference3, b3)\n",
    "\n",
    "    p_i_3_true = np.array([0, 1, 1, 0, 1, 1, 0])\n",
    "    between_p_j_given_i_3_true = np.array([[0, 0, 0, 1, 0, 0, 1, 1, 1, 1, 0, 0, 1, 0, 0], \n",
    "                                           [1, 0, 0, 1, 0, 0, 1, 0, 0, 1, 0, 0, 1, 0, 0],\n",
    "                                           [1, 0, 0, 1, 0, 0, 1, 0, 0, 1, 0, 0, 1, 0, 0],\n",
    "                                           [1, 0, 0, 0, 0, 0, 1, 0, 0, 1, 1, 1, 1, 0, 0],\n",
    "                                           [1, 0, 0, 1, 0, 0, 1, 0, 0, 1, 0, 0, 1, 0, 0],\n",
    "                                           [1, 0, 0, 1, 0, 0, 1, 0, 0, 1, 0, 0, 1, 0, 0],\n",
    "                                           [1, 0, 0, 1, 0, 0, 0, 0, 0, 1, 0, 0, 1, 1, 1]])\n",
    "    in_p_j_given_i_3_true = np.array([[0, 0, 0, 0, 0, 0, 0, 1, 1, 0, 0, 0, 0, 0, 0], \n",
    "                                      [0, 0, 0, 0, 0, 0, 0, 0, 0, 0, 0, 0, 0, 0, 0],\n",
    "                                      [0, 0, 0, 0, 0, 0, 0, 0, 0, 0, 0, 0, 0, 0, 0],\n",
    "                                      [0, 0, 0, 0, 0, 0, 0, 0, 0, 0, 1, 1, 0, 0, 0],\n",
    "                                      [0, 0, 0, 0, 0, 0, 0, 0, 0, 0, 0, 0, 0, 0, 0],\n",
    "                                      [0, 0, 0, 0, 0, 0, 0, 0, 0, 0, 0, 0, 0, 0, 0],\n",
    "                                      [0, 0, 0, 0, 0, 0, 0, 0, 0, 0, 0, 0, 0, 1, 1]])\n",
    "\n",
    "    p_i_3 = get_p_i(theta3.shape[0], root3)\n",
    "    between_p_j_given_i_3 = get_between_group_p_j_given_i(theta3.shape[0] + theta3.shape[1], theta3.shape[0], root3)\n",
    "    in_p_j_given_i_3 = get_in_group_p_j_given_i(theta3.shape[0] + theta3.shape[1], theta3.shape[0], root3)\n",
    "    assert (p_i_3 == p_i_3_true).all()\n",
    "    assert (between_p_j_given_i_3 == between_p_j_given_i_3_true).all()\n",
    "    assert (in_p_j_given_i_3 == in_p_j_given_i_3_true).all()\n",
    "    print(\"pass test!\")\n",
    "\n",
    "test_dynamics()"
   ]
  },
  {
   "cell_type": "code",
   "execution_count": 515,
   "metadata": {},
   "outputs": [
    {
     "name": "stdout",
     "output_type": "stream",
     "text": [
      "pass test!\n"
     ]
    }
   ],
   "source": [
    "def test_soft_bs():\n",
    "    soft_bs = np.array([0.8, 0.2, 0.9, 0.1, 0.1])\n",
    "    hard_bs = np.array([1, 0, 1, 0, 0])\n",
    "    \n",
    "    # tree structue\n",
    "    theta = np.array([[+1, -1, -1,  0,  0,  0], \n",
    "                      [ 0, +1, -1,  0,  0,  0],\n",
    "                      [+1, +1, +1, -1, -1, -1],\n",
    "                      [ 0,  0,  0, +1, -1,  0],\n",
    "                      [ 0,  0,  0, +1, +1, -1]])\n",
    "\n",
    "    # get tree\n",
    "    root, reference = convert_theta_to_tree(theta)\n",
    "    n_inode = theta.shape[0]\n",
    "    n_node = theta.shape[0] + theta.shape[1]\n",
    "    \n",
    "    # use soft bs\n",
    "    set_b(reference, soft_bs)\n",
    "    p_i = get_p_i(n_inode, root)\n",
    "    between_p_j_given_i = get_between_group_p_j_given_i(n_node, n_inode, root)\n",
    "    between_mask_for_soft_A = p_i[:, None] * between_p_j_given_i\n",
    "    in_p_j_given_i = get_in_group_p_j_given_i(n_node, n_inode, root)\n",
    "    in_mask_for_soft_A = in_p_j_given_i\n",
    "    \n",
    "    # use hard bs\n",
    "    set_b(reference, hard_bs)\n",
    "    p_i = get_p_i(n_inode, root)\n",
    "    between_p_j_given_i = get_between_group_p_j_given_i(n_node, n_inode, root)\n",
    "    between_mask_for_hard_A = p_i[:, None] * between_p_j_given_i\n",
    "    in_p_j_given_i = get_in_group_p_j_given_i(n_node, n_inode, root)\n",
    "    in_mask_for_hard_A = in_p_j_given_i\n",
    "    # print(\"between_mask_for_soft_A = \")\n",
    "    # print(\"\\n\".join([\" \".join([\"{:>5.2f}\".format(ele) for ele in row]) for row in between_mask_for_soft_A]))\n",
    "    # print(\"between_mask_for_hard_A = \")\n",
    "    # print(\"\\n\".join([\" \".join([\"{:>5.2f}\".format(ele) for ele in row]) for row in between_mask_for_hard_A]))\n",
    "    # print(\"in_mask_for_soft_A = \")\n",
    "    # print(\"\\n\".join([\" \".join([\"{:>5.2f}\".format(ele) for ele in row]) for row in in_mask_for_soft_A]))\n",
    "    # print(\"in_mask_for_hard_A = \")\n",
    "    # print(\"\\n\".join([\" \".join([\"{:>5.2f}\".format(ele) for ele in row]) for row in in_mask_for_hard_A]))\n",
    "    assert (np.round(between_mask_for_soft_A) == between_mask_for_hard_A).all()\n",
    "    assert (np.round(in_mask_for_soft_A) == in_mask_for_hard_A).all()\n",
    "    print(\"pass test!\")\n",
    "\n",
    "test_soft_bs()"
   ]
  },
  {
   "cell_type": "code",
   "execution_count": 516,
   "metadata": {},
   "outputs": [],
   "source": [
    "def get_inode_relative_abundance(root, x_t, n_inode):\n",
    "    r_t_inode = np.empty(n_inode)\n",
    "    get_inode_relative_abundance_helper(r_t_inode, root, x_t)\n",
    "    return r_t_inode\n",
    "    \n",
    "def get_inode_relative_abundance_helper(r_t_inode, node, x_t):\n",
    "    if node.is_taxon():\n",
    "        return x_t[node.taxon_idx]\n",
    "    inode_idx = node.inode_idx\n",
    "    left_r_t = get_inode_relative_abundance_helper(r_t_inode, node.left, x_t)\n",
    "    right_r_t = get_inode_relative_abundance_helper(r_t_inode, node.right, x_t)\n",
    "    inode_r_t = left_r_t + right_r_t\n",
    "    r_t_inode[inode_idx] = inode_r_t\n",
    "    return inode_r_t    \n",
    "\n",
    "def simulate(root, psi, g_in, A_in, g_between, A_between, N, n_days, init_y_star, transition_sigma=0.0):\n",
    "    def transition_step(ystar_t):\n",
    "        \"\"\"\n",
    "        ystar_t: (D-1, )\n",
    "        return ystar_tp1: (D-1,)\n",
    "        \"\"\"\n",
    "        # (1, D-1) * (D-1, D) -> (1, D)\n",
    "        Dm1, = ystar_t.shape\n",
    "        x_t = inverse_ilr_transform(ystar_t, psi, w)\n",
    "        r_t_inode = get_inode_relative_abundance(root, x_t, len(ystar_t))\n",
    "        r_t = np.concatenate([r_t_inode, x_t])\n",
    "        ystar_tp1 = ystar_t + g_in + g_between + (A_in + A_between).dot(r_t) + transition_sigma * np.random.randn(Dm1)\n",
    "       \n",
    "        return ystar_tp1\n",
    "\n",
    "    def emission_step(ystar_t):\n",
    "        \"\"\"\n",
    "        ystar_t: (D-1, )\n",
    "        return c_t: (D)\n",
    "        \"\"\"\n",
    "        x_t = inverse_ilr_transform(ystar_t, psi, w)\n",
    "        logN = np.random.normal(loc=np.log(N), scale=0.5)\n",
    "        N_t = np.random.poisson(np.exp(logN))\n",
    "        c_t= np.random.multinomial(N_t, x_t).astype(float)\n",
    "        return x_t, c_t\n",
    "\n",
    "    n_inode, n_node = A_in.shape\n",
    "    n_taxa = n_node - n_inode\n",
    "    \n",
    "    #y_star = np.random.randn(n_inode) * init_variance\n",
    "    y_star = init_y_star\n",
    "\n",
    "    Y = []\n",
    "    X = []\n",
    "    C = []\n",
    "    for _ in range(n_days):\n",
    "        x, c = emission_step(y_star)\n",
    "        Y.append(y_star)\n",
    "        X.append(x)\n",
    "        C.append(c)\n",
    "        y_star = transition_step(y_star)\n",
    "        \n",
    "    return np.array(Y), np.array(X), np.array(C)"
   ]
  },
  {
   "cell_type": "markdown",
   "metadata": {},
   "source": [
    "# Simulate data"
   ]
  },
  {
   "cell_type": "code",
   "execution_count": 517,
   "metadata": {},
   "outputs": [],
   "source": [
    "# tree structure\n",
    "theta = np.array([[+1, -1, -1,  0,  0,  0], \n",
    "                  [ 0, +1, -1,  0,  0,  0],\n",
    "                  [+1, +1, +1, -1, -1, -1],\n",
    "                  [ 0,  0,  0, +1, -1,  0],\n",
    "                  [ 0,  0,  0, +1, +1, -1]])\n",
    "\n",
    "bs = np.array([1, 0, 1, 0, 0])"
   ]
  },
  {
   "cell_type": "code",
   "execution_count": 518,
   "metadata": {},
   "outputs": [],
   "source": [
    "theta = np.array([[+1, -1,  0,  0,  0,  0,  0,  0], \n",
    "                  [+1, +1, -1, -1, -1,  0,  0,  0],\n",
    "                  [ 0,  0, +1, -1, -1,  0,  0,  0],\n",
    "                  [ 0,  0,  0, +1, -1,  0,  0,  0], \n",
    "                  [+1, +1, +1, +1, +1, -1, -1, -1],\n",
    "                  [ 0,  0,  0 , 0,  0, +1, -1, -1], \n",
    "                  [ 0,  0,  0,  0,  0,  0, +1, -1]])\n",
    "\n",
    "bs = np.array([0., 1, 0, 1, 1, 1, 0])"
   ]
  },
  {
   "cell_type": "code",
   "execution_count": 519,
   "metadata": {},
   "outputs": [
    {
     "name": "stdout",
     "output_type": "stream",
     "text": [
      "[1 0 0 0 0 0 0 0 0 0 0 0 0 0 0]\n"
     ]
    }
   ],
   "source": [
    "granularity = 1\n",
    "theta = np.array([[+1, +1, +1, +1, +1, +1, +1, +1, -1, -1, -1, -1, -1, -1, -1, -1],\n",
    "                  [+1, +1, +1, +1, -1, -1, -1, -1,  0,  0,  0,  0,  0,  0,  0,  0],\n",
    "                  [ 0,  0,  0,  0,  0,  0,  0,  0, +1, +1, +1, +1, -1, -1, -1, -1],\n",
    "                  [+1, +1, -1, -1,  0,  0,  0,  0,  0,  0,  0,  0,  0,  0,  0,  0],\n",
    "                  [ 0,  0,  0 , 0, +1, +1, -1, -1,  0,  0,  0,  0,  0,  0,  0,  0],\n",
    "                  [ 0,  0,  0,  0,  0,  0,  0,  0, +1, +1, -1, -1,  0,  0,  0,  0],\n",
    "                  [ 0,  0,  0,  0,  0,  0,  0,  0,  0,  0,  0,  0, +1, +1, -1, -1],\n",
    "                  [+1, -1,  0,  0,  0,  0,  0,  0,  0,  0,  0,  0,  0,  0,  0,  0],\n",
    "                  [ 0,  0, +1, -1,  0,  0,  0,  0,  0,  0,  0,  0,  0,  0,  0,  0],\n",
    "                  [ 0,  0,  0,  0, +1, -1,  0,  0,  0,  0,  0,  0,  0,  0,  0,  0],\n",
    "                  [ 0,  0,  0,  0,  0,  0, +1, -1,  0,  0,  0,  0,  0,  0,  0,  0],\n",
    "                  [ 0,  0,  0,  0,  0,  0,  0,  0, +1, -1,  0,  0,  0,  0,  0,  0],\n",
    "                  [ 0,  0,  0,  0,  0,  0,  0,  0,  0,  0, +1, -1,  0,  0,  0,  0],\n",
    "                  [ 0,  0,  0,  0,  0,  0,  0,  0,  0,  0,  0,  0, +1, -1,  0,  0],\n",
    "                  [ 0,  0,  0,  0,  0,  0,  0,  0,  0,  0,  0,  0,  0,  0, +1, -1]])\n",
    "bs = np.array([0, 0, 0, 0, 0, 0, 0, 0, 0, 0, 0, 0, 0, 0, 0])\n",
    "n_breaks = 2 ** granularity - 1\n",
    "bs[:n_breaks] = np.ones(n_breaks)\n",
    "print(bs)\n",
    "\n",
    "g_in = np.array([0, 0, 0, 0, 0, 0, 0, 0, 0, 0, 0, 0, 0, 0, 0])\n",
    "A_in = np.array([[+1, +1, +1, +1, +1, +1, +1, +1, -1, -1, -1, -1, -1, -1, -1, -1],\n",
    "                 [-1, -1, -1, -1, +1, +1, +1, +1,  0,  0,  0,  0,  0,  0,  0,  0],\n",
    "                 [ 0,  0,  0,  0,  0,  0,  0,  0, -1, -1, -1, -1, +1, +1, +1, +1],\n",
    "                 [-1, -1, +1, +1,  0,  0,  0,  0,  0,  0,  0,  0,  0,  0,  0,  0],\n",
    "                 [ 0,  0,  0,  0, -1, -1, +1, +1,  0,  0,  0,  0,  0,  0,  0,  0],\n",
    "                 [ 0,  0,  0,  0,  0,  0,  0,  0, -1, -1, +1, +1,  0,  0,  0,  0],\n",
    "                 [ 0,  0,  0,  0,  0,  0,  0,  0,  0,  0,  0,  0, -1, -1, +1, +1],\n",
    "                 [-1, +1,  0,  0,  0,  0,  0,  0,  0,  0,  0,  0,  0,  0,  0,  0],\n",
    "                 [ 0,  0, -1, +1,  0,  0,  0,  0,  0,  0,  0,  0,  0,  0,  0,  0],\n",
    "                 [ 0,  0,  0,  0, -1, +1,  0,  0,  0,  0,  0,  0,  0,  0,  0,  0],\n",
    "                 [ 0,  0,  0,  0,  0,  0, -1, +1,  0,  0,  0,  0,  0,  0,  0,  0],\n",
    "                 [ 0,  0,  0,  0,  0,  0,  0,  0, -1, +1,  0,  0,  0,  0,  0,  0],\n",
    "                 [ 0,  0,  0,  0,  0,  0,  0,  0,  0,  0, -1, +1,  0,  0,  0,  0],\n",
    "                 [ 0,  0,  0,  0,  0,  0,  0,  0,  0,  0,  0,  0, -1, +1,  0,  0],\n",
    "                 [ 0,  0,  0,  0,  0,  0,  0,  0,  0,  0,  0,  0,  0,  0, -1, +1]])\n",
    "A_in = np.concatenate([np.zeros((15, 15)), A_in], axis=-1)\n",
    "g_between = np.array([0, 0, 0, 0, 0, 0, 0, 0, 0, 0, 0, 0, 0, 0, 0])\n",
    "A_between = np.array([[ 0, -1, +1, -1, -1, +1, +1, -1, -1, -1, -1, +1, +1, +1, +1],\n",
    "                      [ 0,  0,  0, -1, +1,  0,  0, -1, -1, +1, +1,  0,  0,  0,  0],\n",
    "                      [ 0,  0,  0,  0,  0, -1, +1,  0,  0,  0,  0, -1, -1, +1, +1],\n",
    "                      [ 0,  0,  0,  0,  0,  0,  0, -1, +1,  0,  0,  0,  0,  0,  0],\n",
    "                      [ 0,  0,  0,  0,  0,  0,  0,  0,  0, -1, +1,  0,  0,  0,  0],\n",
    "                      [ 0,  0,  0,  0,  0,  0,  0,  0,  0,  0,  0, -1, +1,  0,  0],\n",
    "                      [ 0,  0,  0,  0,  0,  0,  0,  0,  0,  0,  0,  0,  0, -1, +1],\n",
    "                      [ 0,  0,  0,  0,  0,  0,  0,  0,  0,  0,  0,  0,  0,  0,  0],\n",
    "                      [ 0,  0,  0,  0,  0,  0,  0,  0,  0,  0,  0,  0,  0,  0,  0],\n",
    "                      [ 0,  0,  0,  0,  0,  0,  0,  0,  0,  0,  0,  0,  0,  0,  0],\n",
    "                      [ 0,  0,  0,  0,  0,  0,  0,  0,  0,  0,  0,  0,  0,  0,  0],\n",
    "                      [ 0,  0,  0,  0,  0,  0,  0,  0,  0,  0,  0,  0,  0,  0,  0],\n",
    "                      [ 0,  0,  0,  0,  0,  0,  0,  0,  0,  0,  0,  0,  0,  0,  0],\n",
    "                      [ 0,  0,  0,  0,  0,  0,  0,  0,  0,  0,  0,  0,  0,  0,  0],\n",
    "                      [ 0,  0,  0,  0,  0,  0,  0,  0,  0,  0,  0,  0,  0,  0,  0]])\n",
    "A_between = np.concatenate([A_between, np.zeros((15, 16))], axis=-1)"
   ]
  },
  {
   "cell_type": "code",
   "execution_count": 520,
   "metadata": {},
   "outputs": [],
   "source": [
    "balance = 1\n",
    "theta = np.array([[+1, +1, +1, +1, +1, +1, -1, -1, -1, -1, -1, -1, -1, -1, -1, -1],\n",
    "                  [+1, +1, -1, -1, -1, -1,  0,  0,  0,  0,  0,  0,  0,  0,  0,  0],\n",
    "                  [ 0,  0,  0,  0,  0,  0, +1, +1, +1, +1, -1, -1, -1, -1, -1, -1],\n",
    "                  [+1, -1,  0,  0,  0,  0,  0,  0,  0,  0,  0,  0,  0,  0,  0,  0],\n",
    "                  [ 0,  0, +1, +1, -1, -1,  0,  0,  0,  0,  0,  0,  0,  0,  0,  0],\n",
    "                  [ 0,  0,  0,  0,  0,  0, +1, +1, -1, -1,  0,  0,  0,  0,  0,  0],\n",
    "                  [ 0,  0,  0,  0,  0,  0,  0,  0,  0,  0, +1, +1, -1, -1, -1, -1],\n",
    "                  [ 0,  0, +1, -1,  0,  0,  0,  0,  0,  0,  0,  0,  0,  0,  0,  0],\n",
    "                  [ 0,  0,  0,  0, +1, -1,  0,  0,  0,  0,  0,  0,  0,  0,  0,  0],\n",
    "                  [ 0,  0,  0,  0,  0,  0, +1, -1,  0,  0,  0,  0,  0,  0,  0,  0],\n",
    "                  [ 0,  0,  0,  0,  0,  0,  0,  0, +1, -1,  0,  0,  0,  0,  0,  0],\n",
    "                  [ 0,  0,  0,  0,  0,  0,  0,  0,  0,  0, +1, -1,  0,  0,  0,  0],\n",
    "                  [ 0,  0,  0,  0,  0,  0,  0,  0,  0,  0,  0,  0, +1, +1, -1, -1],\n",
    "                  [ 0,  0,  0,  0,  0,  0,  0,  0,  0,  0,  0,  0, +1, -1,  0,  0],\n",
    "                  [ 0,  0,  0,  0,  0,  0,  0,  0,  0,  0,  0,  0,  0,  0, +1, -1]])\n",
    "bs = np.array([1, 1, 1, 0, 1, 1, 1, 0, 0, 0, 0, 0, 1, 0, 0])\n",
    "\n",
    "g_in = np.array([0, 0, 0, 0, 0, 0, 0, 0, 0, 0, 0, 0, 0, 0, 0])\n",
    "A_in = -theta\n",
    "A_in = np.concatenate([np.zeros((15, 15)), A_in], axis=-1)\n",
    "g_between = np.array([0, 0, 0, 0, 0, 0, 0, 0, 0, 0, 0, 0, 0, 0, 0])\n",
    "A_between = np.array([[ 0,  0,  0, +1,  0,  0,  0, +1, +1, -1, -1, -1,  0, -1, -1],\n",
    "                      [ 0,  0,  0, +1,  0,  0,  0, -1, -1,  0,  0,  0,  0,  0,  0],\n",
    "                      [ 0,  0,  0,  0,  0,  0,  0,  0,  0, +1, +1, -1,  0, -1, -1],\n",
    "                      [ 0,  0,  0,  0,  0,  0,  0,  0,  0,  0,  0,  0,  0,  0,  0],\n",
    "                      [ 0,  0,  0,  0,  0,  0,  0, +1, -1,  0,  0,  0,  0,  0,  0],\n",
    "                      [ 0,  0,  0,  0,  0,  0,  0,  0,  0, +1, -1,  0,  0,  0,  0],\n",
    "                      [ 0,  0,  0,  0,  0,  0,  0,  0,  0,  0,  0, +1,  0, -1, -1],\n",
    "                      [ 0,  0,  0,  0,  0,  0,  0,  0,  0,  0,  0,  0,  0,  0,  0],\n",
    "                      [ 0,  0,  0,  0,  0,  0,  0,  0,  0,  0,  0,  0,  0,  0,  0],\n",
    "                      [ 0,  0,  0,  0,  0,  0,  0,  0,  0,  0,  0,  0,  0,  0,  0],\n",
    "                      [ 0,  0,  0,  0,  0,  0,  0,  0,  0,  0,  0,  0,  0,  0,  0],\n",
    "                      [ 0,  0,  0,  0,  0,  0,  0,  0,  0,  0,  0,  0,  0,  0,  0],\n",
    "                      [ 0,  0,  0,  0,  0,  0,  0,  0,  0,  0,  0,  0,  0, +1, -1],\n",
    "                      [ 0,  0,  0,  0,  0,  0,  0,  0,  0,  0,  0,  0,  0,  0,  0],\n",
    "                      [ 0,  0,  0,  0,  0,  0,  0,  0,  0,  0,  0,  0,  0,  0,  0]])\n",
    "A_between = -A_between\n",
    "A_between = np.concatenate([A_between, np.zeros((15, 16))], axis=-1)"
   ]
  },
  {
   "cell_type": "code",
   "execution_count": 521,
   "metadata": {},
   "outputs": [],
   "source": [
    "balance = 2\n",
    "theta = np.array([[+1, +1, +1, +1, +1, +1, -1, -1, -1, -1, -1, -1, -1, -1, -1, -1, -1, -1],\n",
    "                  [+1, +1, -1, -1, -1, -1,  0,  0,  0,  0,  0,  0,  0,  0,  0,  0,  0,  0],\n",
    "                  [ 0,  0,  0,  0,  0,  0, +1, +1, +1, +1, -1, -1, -1, -1, -1, -1, -1, -1],\n",
    "                  [+1, -1,  0,  0,  0,  0,  0,  0,  0,  0,  0,  0,  0,  0,  0,  0,  0,  0],\n",
    "                  [ 0,  0, +1, +1, -1, -1,  0,  0,  0,  0,  0,  0,  0,  0,  0,  0,  0,  0],\n",
    "                  [ 0,  0,  0,  0,  0,  0, +1, +1, -1, -1,  0,  0,  0,  0,  0,  0,  0,  0],\n",
    "                  [ 0,  0,  0,  0,  0,  0,  0,  0,  0,  0, +1, +1, -1, -1, -1, -1, -1, -1],\n",
    "                  [ 0,  0, +1, -1,  0,  0,  0,  0,  0,  0,  0,  0,  0,  0,  0,  0,  0,  0],\n",
    "                  [ 0,  0,  0,  0, +1, -1,  0,  0,  0,  0,  0,  0,  0,  0,  0,  0,  0,  0],\n",
    "                  [ 0,  0,  0,  0,  0,  0, +1, -1,  0,  0,  0,  0,  0,  0,  0,  0,  0,  0],\n",
    "                  [ 0,  0,  0,  0,  0,  0,  0,  0, +1, -1,  0,  0,  0,  0,  0,  0,  0,  0],\n",
    "                  [ 0,  0,  0,  0,  0,  0,  0,  0,  0,  0, +1, -1,  0,  0,  0,  0,  0,  0],\n",
    "                  [ 0,  0,  0,  0,  0,  0,  0,  0,  0,  0,  0,  0, +1, +1, -1, -1, -1, -1],\n",
    "                  [ 0,  0,  0,  0,  0,  0,  0,  0,  0,  0,  0,  0, +1, -1,  0,  0,  0,  0],\n",
    "                  [ 0,  0,  0,  0,  0,  0,  0,  0,  0,  0,  0,  0,  0,  0, +1, +1, -1, -1],\n",
    "                  [ 0,  0,  0,  0,  0,  0,  0,  0,  0,  0,  0,  0,  0,  0, +1, -1,  0,  0],\n",
    "                  [ 0,  0,  0,  0,  0,  0,  0,  0,  0,  0,  0,  0,  0,  0,  0,  0, +1, -1]])\n",
    "bs = np.array([1, 1, 1, 0, 1, 1, 1, 0, 0, 0, 0, 0, 1, 0, 1, 0, 0])\n",
    "\n",
    "g_in = np.array([0, 0, 0, 0, 0, 0, 0, 0, 0, 0, 0, 0, 0, 0, 0, 0, 0])\n",
    "A_in = -theta\n",
    "A_in = np.concatenate([np.zeros((17, 17)), A_in], axis=-1)\n",
    "g_between = np.array([0, 0, 0, 0, 0, 0, 0, 0, 0, 0, 0, 0, 0, 0, 0, 0, 0])\n",
    "A_between = np.array([[ 0,  0,  0, +1,  0,  0,  0, +1, +1, -1, -1, -1,  0, -1,  0, -1, -1],\n",
    "                      [ 0,  0,  0, +1,  0,  0,  0, -1, -1,  0,  0,  0,  0,  0,  0,  0,  0],\n",
    "                      [ 0,  0,  0,  0,  0,  0,  0,  0,  0, +1, +1, -1,  0, -1,  0, -1, -1],\n",
    "                      [ 0,  0,  0,  0,  0,  0,  0,  0,  0,  0,  0,  0,  0,  0,  0,  0,  0],\n",
    "                      [ 0,  0,  0,  0,  0,  0,  0, +1, -1,  0,  0,  0,  0,  0,  0,  0,  0],\n",
    "                      [ 0,  0,  0,  0,  0,  0,  0,  0,  0, +1, -1,  0,  0,  0,  0,  0,  0],\n",
    "                      [ 0,  0,  0,  0,  0,  0,  0,  0,  0,  0,  0, +1,  0, -1,  0, -1, -1],\n",
    "                      [ 0,  0,  0,  0,  0,  0,  0,  0,  0,  0,  0,  0,  0,  0,  0,  0,  0],\n",
    "                      [ 0,  0,  0,  0,  0,  0,  0,  0,  0,  0,  0,  0,  0,  0,  0,  0,  0],\n",
    "                      [ 0,  0,  0,  0,  0,  0,  0,  0,  0,  0,  0,  0,  0,  0,  0,  0,  0],\n",
    "                      [ 0,  0,  0,  0,  0,  0,  0,  0,  0,  0,  0,  0,  0,  0,  0,  0,  0],\n",
    "                      [ 0,  0,  0,  0,  0,  0,  0,  0,  0,  0,  0,  0,  0,  0,  0,  0,  0],\n",
    "                      [ 0,  0,  0,  0,  0,  0,  0,  0,  0,  0,  0,  0,  0, +1,  0, -1, -1],\n",
    "                      [ 0,  0,  0,  0,  0,  0,  0,  0,  0,  0,  0,  0,  0,  0,  0,  0,  0],\n",
    "                      [ 0,  0,  0,  0,  0,  0,  0,  0,  0,  0,  0,  0,  0,  0,  0, +1, -1],\n",
    "                      [ 0,  0,  0,  0,  0,  0,  0,  0,  0,  0,  0,  0,  0,  0,  0,  0,  0],\n",
    "                      [ 0,  0,  0,  0,  0,  0,  0,  0,  0,  0,  0,  0,  0,  0,  0,  0,  0]])\n",
    "A_between = -A_between\n",
    "A_between = np.concatenate([A_between, np.zeros((17, 18))], axis=-1)"
   ]
  },
  {
   "cell_type": "code",
   "execution_count": 522,
   "metadata": {},
   "outputs": [],
   "source": [
    "balance = 3\n",
    "theta = np.array([[+1, +1, +1, +1, -1, -1, -1, -1, -1, -1, -1, -1, -1, -1],\n",
    "                  [+1, +1, -1, -1,  0,  0,  0,  0,  0,  0,  0,  0,  0,  0],\n",
    "                  [ 0,  0,  0,  0, +1, +1, -1, -1, -1, -1, -1, -1, -1, -1],\n",
    "                  [+1, -1,  0,  0,  0,  0,  0,  0,  0,  0,  0,  0,  0,  0],\n",
    "                  [ 0,  0, +1, -1,  0,  0,  0,  0,  0,  0,  0,  0,  0,  0],\n",
    "                  [ 0,  0,  0,  0, +1, -1,  0,  0,  0,  0,  0,  0,  0,  0],\n",
    "                  [ 0,  0,  0,  0,  0,  0, +1, +1, -1, -1, -1, -1, -1, -1],\n",
    "                  [ 0,  0,  0,  0,  0,  0, +1, -1,  0,  0,  0,  0,  0,  0],\n",
    "                  [ 0,  0,  0,  0,  0,  0,  0,  0, +1, +1, -1, -1, -1, -1],\n",
    "                  [ 0,  0,  0,  0,  0,  0,  0,  0, +1, -1,  0,  0,  0,  0],\n",
    "                  [ 0,  0,  0,  0,  0,  0,  0,  0,  0,  0, +1, +1, -1, -1],\n",
    "                  [ 0,  0,  0,  0,  0,  0,  0,  0,  0,  0, +1, -1,  0,  0],\n",
    "                  [ 0,  0,  0,  0,  0,  0,  0,  0,  0,  0,  0,  0, +1, -1]])\n",
    "bs = np.array([1, 1, 1, 0, 0, 0, 1, 0, 1, 0, 1, 0, 0])\n",
    "\n",
    "g_in = np.array([0, 0, 0, 0, 0, 0, 0, 0, 0, 0, 0, 0, 0])\n",
    "A_in = -theta\n",
    "A_in = np.concatenate([np.zeros((13, 13)), A_in], axis=-1)\n",
    "g_between = np.array([0, 0, 0, 0, 0, 0, 0, 0, 0, 0, 0, 0, 0])\n",
    "A_between = np.array([[ 0,  0,  0, +1, +1, -1,  0, -1,  0, -1,  0, -1, -1],\n",
    "                      [ 0,  0,  0, +1, -1,  0,  0,  0,  0,  0,  0,  0,  0],\n",
    "                      [ 0,  0,  0,  0,  0, +1,  0, -1,  0, -1,  0, -1, -1],\n",
    "                      [ 0,  0,  0,  0,  0,  0,  0,  0,  0,  0,  0,  0,  0],\n",
    "                      [ 0,  0,  0,  0,  0,  0,  0,  0,  0,  0,  0,  0,  0],\n",
    "                      [ 0,  0,  0,  0,  0,  0,  0,  0,  0,  0,  0,  0,  0],\n",
    "                      [ 0,  0,  0,  0,  0,  0,  0, +1,  0, -1,  0, -1, -1],\n",
    "                      [ 0,  0,  0,  0,  0,  0,  0,  0,  0,  0,  0,  0,  0],\n",
    "                      [ 0,  0,  0,  0,  0,  0,  0,  0,  0, +1,  0, -1, -1],\n",
    "                      [ 0,  0,  0,  0,  0,  0,  0,  0,  0,  0,  0,  0,  0],\n",
    "                      [ 0,  0,  0,  0,  0,  0,  0,  0,  0,  0,  0, +1, -1],\n",
    "                      [ 0,  0,  0,  0,  0,  0,  0,  0,  0,  0,  0,  0,  0],\n",
    "                      [ 0,  0,  0,  0,  0,  0,  0,  0,  0,  0,  0,  0,  0]])\n",
    "A_between = -A_between\n",
    "A_between = np.concatenate([A_between, np.zeros((13, 14))], axis=-1)"
   ]
  },
  {
   "cell_type": "code",
   "execution_count": 523,
   "metadata": {},
   "outputs": [],
   "source": [
    "balance = 4\n",
    "theta = np.array([[+1, +1, +1, +1, -1, -1, -1, -1, -1, -1, -1, -1, -1, -1, -1, -1],\n",
    "                  [+1, +1, -1, -1,  0,  0,  0,  0,  0,  0,  0,  0,  0,  0,  0,  0],\n",
    "                  [ 0,  0,  0,  0, +1, +1, -1, -1, -1, -1, -1, -1, -1, -1, -1, -1],\n",
    "                  [+1, -1,  0,  0,  0,  0,  0,  0,  0,  0,  0,  0,  0,  0,  0,  0],\n",
    "                  [ 0,  0, +1, -1,  0,  0,  0,  0,  0,  0,  0,  0,  0,  0,  0,  0],\n",
    "                  [ 0,  0,  0,  0, +1, -1,  0,  0,  0,  0,  0,  0,  0,  0,  0,  0],\n",
    "                  [ 0,  0,  0,  0,  0,  0, +1, +1, -1, -1, -1, -1, -1, -1, -1, -1],\n",
    "                  [ 0,  0,  0,  0,  0,  0, +1, -1,  0,  0,  0,  0,  0,  0,  0,  0],\n",
    "                  [ 0,  0,  0,  0,  0,  0,  0,  0, +1, +1, -1, -1, -1, -1, -1, -1],\n",
    "                  [ 0,  0,  0,  0,  0,  0,  0,  0, +1, -1,  0,  0,  0,  0,  0,  0],\n",
    "                  [ 0,  0,  0,  0,  0,  0,  0,  0,  0,  0, +1, +1, -1, -1, -1, -1],\n",
    "                  [ 0,  0,  0,  0,  0,  0,  0,  0,  0,  0, +1, -1,  0,  0,  0,  0],\n",
    "                  [ 0,  0,  0,  0,  0,  0,  0,  0,  0,  0,  0,  0, +1, +1, -1, -1],\n",
    "                  [ 0,  0,  0,  0,  0,  0,  0,  0,  0,  0,  0,  0, +1, -1,  0,  0],\n",
    "                  [ 0,  0,  0,  0,  0,  0,  0,  0,  0,  0,  0,  0,  0,  0, +1, -1]])\n",
    "bs = np.array([1, 1, 1, 0, 0, 0, 1, 0, 1, 0, 1, 0, 1, 0, 0])\n",
    "\n",
    "g_in = np.array([0, 0, 0, 0, 0, 0, 0, 0, 0, 0, 0, 0, 0, 0, 0])\n",
    "A_in = -theta\n",
    "A_in = np.concatenate([np.zeros((15, 15)), A_in], axis=-1)\n",
    "g_between = np.array([0, 0, 0, 0, 0, 0, 0, 0, 0, 0, 0, 0, 0, 0, 0])\n",
    "A_between = np.array([[ 0,  0,  0, +1, +1, -1,  0, -1,  0, -1,  0, -1,  0, -1, -1],\n",
    "                      [ 0,  0,  0, +1, -1,  0,  0,  0,  0,  0,  0,  0,  0,  0,  0],\n",
    "                      [ 0,  0,  0,  0,  0, +1,  0, -1,  0, -1,  0, -1,  0, -1, -1],\n",
    "                      [ 0,  0,  0,  0,  0,  0,  0,  0,  0,  0,  0,  0,  0,  0,  0],\n",
    "                      [ 0,  0,  0,  0,  0,  0,  0,  0,  0,  0,  0,  0,  0,  0,  0],\n",
    "                      [ 0,  0,  0,  0,  0,  0,  0,  0,  0,  0,  0,  0,  0,  0,  0],\n",
    "                      [ 0,  0,  0,  0,  0,  0,  0, +1,  0, -1,  0, -1,  0, -1, -1],\n",
    "                      [ 0,  0,  0,  0,  0,  0,  0,  0,  0,  0,  0,  0,  0,  0,  0],\n",
    "                      [ 0,  0,  0,  0,  0,  0,  0,  0,  0, +1,  0, -1,  0, -1, -1],\n",
    "                      [ 0,  0,  0,  0,  0,  0,  0,  0,  0,  0,  0,  0,  0,  0,  0],\n",
    "                      [ 0,  0,  0,  0,  0,  0,  0,  0,  0,  0,  0, +1,  0, -1, -1],\n",
    "                      [ 0,  0,  0,  0,  0,  0,  0,  0,  0,  0,  0,  0,  0,  0,  0],\n",
    "                      [ 0,  0,  0,  0,  0,  0,  0,  0,  0,  0,  0,  0,  0, +1, -1],\n",
    "                      [ 0,  0,  0,  0,  0,  0,  0,  0,  0,  0,  0,  0,  0,  0,  0],\n",
    "                      [ 0,  0,  0,  0,  0,  0,  0,  0,  0,  0,  0,  0,  0,  0,  0]])\n",
    "A_between = -A_between\n",
    "A_between = np.concatenate([A_between, np.zeros((15, 16))], axis=-1)"
   ]
  },
  {
   "cell_type": "code",
   "execution_count": 524,
   "metadata": {},
   "outputs": [],
   "source": [
    "balance = 6\n",
    "theta = np.array([[+1, +1, -1, -1, -1, -1, -1, -1, -1, -1, -1, -1, -1, -1, -1, -1],\n",
    "                  [+1, -1,  0,  0,  0,  0,  0,  0,  0,  0,  0,  0,  0,  0,  0,  0],\n",
    "                  [ 0,  0, +1, +1, -1, -1, -1, -1, -1, -1, -1, -1, -1, -1, -1, -1],\n",
    "                  [ 0,  0, +1, -1,  0,  0,  0,  0,  0,  0,  0,  0,  0,  0,  0,  0],\n",
    "                  [ 0,  0,  0,  0, +1, +1, -1, -1, -1, -1, -1, -1, -1, -1, -1, -1],\n",
    "                  [ 0,  0,  0,  0, +1, -1,  0,  0,  0,  0,  0,  0,  0,  0,  0,  0],\n",
    "                  [ 0,  0,  0,  0,  0,  0, +1, +1, -1, -1, -1, -1, -1, -1, -1, -1],\n",
    "                  [ 0,  0,  0,  0,  0,  0, +1, -1,  0,  0,  0,  0,  0,  0,  0,  0],\n",
    "                  [ 0,  0,  0,  0,  0,  0,  0,  0, +1, +1, -1, -1, -1, -1, -1, -1],\n",
    "                  [ 0,  0,  0,  0,  0,  0,  0,  0, +1, -1,  0,  0,  0,  0,  0,  0],\n",
    "                  [ 0,  0,  0,  0,  0,  0,  0,  0,  0,  0, +1, +1, -1, -1, -1, -1],\n",
    "                  [ 0,  0,  0,  0,  0,  0,  0,  0,  0,  0, +1, -1,  0,  0,  0,  0],\n",
    "                  [ 0,  0,  0,  0,  0,  0,  0,  0,  0,  0,  0,  0, +1, +1, -1, -1],\n",
    "                  [ 0,  0,  0,  0,  0,  0,  0,  0,  0,  0,  0,  0, +1, -1,  0,  0],\n",
    "                  [ 0,  0,  0,  0,  0,  0,  0,  0,  0,  0,  0,  0,  0,  0, +1, -1]])\n",
    "bs = np.array([1, 0, 1, 0, 1, 0, 1, 0, 1, 0, 1, 0, 1, 0, 0])\n",
    "\n",
    "g_in = np.array([0, 0, 0, 0, 0, 0, 0, 0, 0, 0, 0, 0, 0, 0, 0])\n",
    "A_in = -theta\n",
    "A_in = np.concatenate([np.zeros((15, 15)), A_in], axis=-1)\n",
    "g_between = np.array([0, 0, 0, 0, 0, 0, 0, 0, 0, 0, 0, 0, 0, 0, 0])\n",
    "A_between = np.array([[ 0, +1,  0, -1,  0, -1,  0, -1,  0, -1,  0, -1,  0, -1, -1],\n",
    "                      [ 0,  0,  0,  0,  0,  0,  0,  0,  0,  0,  0,  0,  0,  0,  0],\n",
    "                      [ 0,  0,  0, +1,  0, -1,  0, -1,  0, -1,  0, -1,  0, -1, -1],\n",
    "                      [ 0,  0,  0,  0,  0,  0,  0,  0,  0,  0,  0,  0,  0,  0,  0],\n",
    "                      [ 0,  0,  0,  0,  0, +1,  0, -1,  0, -1,  0, -1,  0, -1, -1],\n",
    "                      [ 0,  0,  0,  0,  0,  0,  0,  0,  0,  0,  0,  0,  0,  0,  0],\n",
    "                      [ 0,  0,  0,  0,  0,  0,  0, +1,  0, -1,  0, -1,  0, -1, -1],\n",
    "                      [ 0,  0,  0,  0,  0,  0,  0,  0,  0,  0,  0,  0,  0,  0,  0],\n",
    "                      [ 0,  0,  0,  0,  0,  0,  0,  0,  0, +1,  0, -1,  0, -1, -1],\n",
    "                      [ 0,  0,  0,  0,  0,  0,  0,  0,  0,  0,  0,  0,  0,  0,  0],\n",
    "                      [ 0,  0,  0,  0,  0,  0,  0,  0,  0,  0,  0, +1,  0, -1, -1],\n",
    "                      [ 0,  0,  0,  0,  0,  0,  0,  0,  0,  0,  0,  0,  0,  0,  0],\n",
    "                      [ 0,  0,  0,  0,  0,  0,  0,  0,  0,  0,  0,  0,  0, +1, -1],\n",
    "                      [ 0,  0,  0,  0,  0,  0,  0,  0,  0,  0,  0,  0,  0,  0,  0],\n",
    "                      [ 0,  0,  0,  0,  0,  0,  0,  0,  0,  0,  0,  0,  0,  0,  0]])\n",
    "A_between = -A_between\n",
    "A_between = np.concatenate([A_between, np.zeros((15, 16))], axis=-1)"
   ]
  },
  {
   "cell_type": "code",
   "execution_count": 525,
   "metadata": {},
   "outputs": [],
   "source": [
    "balance = 5\n",
    "theta = np.array([[+1, +1, -1, -1, -1, -1, -1, -1, -1, -1, -1, -1, -1, -1],\n",
    "                  [+1, -1,  0,  0,  0,  0,  0,  0,  0,  0,  0,  0,  0,  0],\n",
    "                  [ 0,  0, +1, +1, -1, -1, -1, -1, -1, -1, -1, -1, -1, -1],\n",
    "                  [ 0,  0, +1, -1,  0,  0,  0,  0,  0,  0,  0,  0,  0,  0],\n",
    "                  [ 0,  0,  0,  0, +1, +1, -1, -1, -1, -1, -1, -1, -1, -1],\n",
    "                  [ 0,  0,  0,  0, +1, -1,  0,  0,  0,  0,  0,  0,  0,  0],\n",
    "                  [ 0,  0,  0,  0,  0,  0, +1, +1, -1, -1, -1, -1, -1, -1],\n",
    "                  [ 0,  0,  0,  0,  0,  0, +1, -1,  0,  0,  0,  0,  0,  0],\n",
    "                  [ 0,  0,  0,  0,  0,  0,  0,  0, +1, +1, -1, -1, -1, -1],\n",
    "                  [ 0,  0,  0,  0,  0,  0,  0,  0, +1, -1,  0,  0,  0,  0],\n",
    "                  [ 0,  0,  0,  0,  0,  0,  0,  0,  0,  0, +1, +1, -1, -1],\n",
    "                  [ 0,  0,  0,  0,  0,  0,  0,  0,  0,  0, +1, -1,  0,  0],\n",
    "                  [ 0,  0,  0,  0,  0,  0,  0,  0,  0,  0,  0,  0, +1, -1]])\n",
    "bs = np.array([1, 0, 1, 0, 1, 0, 1, 0, 1, 0, 1, 0, 0])\n",
    "\n",
    "g_in = np.array([0, 0, 0, 0, 0, 0, 0, 0, 0, 0, 0, 0, 0])\n",
    "A_in = -theta\n",
    "A_in = np.concatenate([np.zeros((13, 13)), A_in], axis=-1)\n",
    "g_between = np.array([0, 0, 0, 0, 0, 0, 0, 0, 0, 0, 0, 0, 0])\n",
    "A_between = np.array([[ 0, +1,  0, -1,  0, -1,  0, -1,  0, -1,  0, -1, -1],\n",
    "                      [ 0,  0,  0,  0,  0,  0,  0,  0,  0,  0,  0,  0,  0],\n",
    "                      [ 0,  0,  0, +1,  0, -1,  0, -1,  0, -1,  0, -1, -1],\n",
    "                      [ 0,  0,  0,  0,  0,  0,  0,  0,  0,  0,  0,  0,  0],\n",
    "                      [ 0,  0,  0,  0,  0, +1,  0, -1,  0, -1,  0, -1, -1],\n",
    "                      [ 0,  0,  0,  0,  0,  0,  0,  0,  0,  0,  0,  0,  0],\n",
    "                      [ 0,  0,  0,  0,  0,  0,  0, +1,  0, -1,  0, -1, -1],\n",
    "                      [ 0,  0,  0,  0,  0,  0,  0,  0,  0,  0,  0,  0,  0],\n",
    "                      [ 0,  0,  0,  0,  0,  0,  0,  0,  0, +1,  0, -1, -1],\n",
    "                      [ 0,  0,  0,  0,  0,  0,  0,  0,  0,  0,  0,  0,  0],\n",
    "                      [ 0,  0,  0,  0,  0,  0,  0,  0,  0,  0,  0, +1, -1],\n",
    "                      [ 0,  0,  0,  0,  0,  0,  0,  0,  0,  0,  0,  0,  0],\n",
    "                      [ 0,  0,  0,  0,  0,  0,  0,  0,  0,  0,  0,  0,  0]])\n",
    "A_between = -A_between\n",
    "A_between = np.concatenate([A_between, np.zeros((13, 14))], axis=-1)"
   ]
  },
  {
   "cell_type": "code",
   "execution_count": 526,
   "metadata": {},
   "outputs": [
    {
     "name": "stdout",
     "output_type": "stream",
     "text": [
      "node 0 inode 0\n",
      "   node 1 inode 1\n",
      "      node 13 taxon 0\n",
      "      node 14 taxon 1\n",
      "   node 2 inode 2\n",
      "      node 3 inode 3\n",
      "         node 15 taxon 2\n",
      "         node 16 taxon 3\n",
      "      node 4 inode 4\n",
      "         node 5 inode 5\n",
      "            node 17 taxon 4\n",
      "            node 18 taxon 5\n",
      "         node 6 inode 6\n",
      "            node 7 inode 7\n",
      "               node 19 taxon 6\n",
      "               node 20 taxon 7\n",
      "            node 8 inode 8\n",
      "               node 9 inode 9\n",
      "                  node 21 taxon 8\n",
      "                  node 22 taxon 9\n",
      "               node 10 inode 10\n",
      "                  node 11 inode 11\n",
      "                     node 23 taxon 10\n",
      "                     node 24 taxon 11\n",
      "                  node 12 inode 12\n",
      "                     node 25 taxon 12\n",
      "                     node 26 taxon 13\n"
     ]
    }
   ],
   "source": [
    "n_taxon = theta.shape[1]\n",
    "w = np.ones(n_taxon)\n",
    "\n",
    "# ilr transformation\n",
    "n_plus, n_minus = get_n_plus_and_n_minus(theta, w)\n",
    "psi = get_psi(theta, n_plus, n_minus)\n",
    "\n",
    "# get tree\n",
    "root, reference = convert_theta_to_tree(theta)\n",
    "root.print_tree()\n",
    "\n",
    "# set break scores\n",
    "set_b(reference, bs)"
   ]
  },
  {
   "cell_type": "code",
   "execution_count": 527,
   "metadata": {},
   "outputs": [],
   "source": [
    "# calcualte probs\n",
    "n_inode = theta.shape[0]\n",
    "n_node = theta.shape[0] + theta.shape[1]\n",
    "between_group_p_i = get_p_i(n_inode, root)\n",
    "between_group_p_j_given_i = get_between_group_p_j_given_i(n_node, n_inode, root)\n",
    "in_group_p_i = 1.0 - between_group_p_i\n",
    "in_group_p_j_given_i = get_in_group_p_j_given_i(n_node, n_inode, root)"
   ]
  },
  {
   "cell_type": "code",
   "execution_count": 528,
   "metadata": {},
   "outputs": [],
   "source": [
    "n_taxa = theta.shape[1]"
   ]
  },
  {
   "cell_type": "code",
   "execution_count": 529,
   "metadata": {
    "scrolled": false
   },
   "outputs": [
    {
     "name": "stdout",
     "output_type": "stream",
     "text": [
      "masked_g_in\n",
      " 0.00  0.00  0.00  0.00  0.00  0.00  0.00  0.00  0.00  0.00  0.00  0.00  0.00\n",
      "masked_A_in\n",
      " 0.00  0.00  0.00  0.00  0.00  0.00  0.00  0.00  0.00  0.00  0.00  0.00  0.00 -0.00 -0.00  0.00  0.00  0.00  0.00  0.00  0.00  0.00  0.00  0.00  0.00  0.00  0.00\n",
      " 0.00  0.00  0.00  0.00  0.00  0.00  0.00  0.00  0.00  0.00  0.00  0.00  0.00 -0.10  0.10  0.00  0.00  0.00  0.00  0.00  0.00  0.00  0.00  0.00  0.00  0.00  0.00\n",
      " 0.00  0.00  0.00  0.00  0.00  0.00  0.00  0.00  0.00  0.00  0.00  0.00  0.00  0.00  0.00 -0.00 -0.00  0.00  0.00  0.00  0.00  0.00  0.00  0.00  0.00  0.00  0.00\n",
      " 0.00  0.00  0.00  0.00  0.00  0.00  0.00  0.00  0.00  0.00  0.00  0.00  0.00  0.00  0.00 -0.10  0.10  0.00  0.00  0.00  0.00  0.00  0.00  0.00  0.00  0.00  0.00\n",
      " 0.00  0.00  0.00  0.00  0.00  0.00  0.00  0.00  0.00  0.00  0.00  0.00  0.00  0.00  0.00  0.00  0.00 -0.00 -0.00  0.00  0.00  0.00  0.00  0.00  0.00  0.00  0.00\n",
      " 0.00  0.00  0.00  0.00  0.00  0.00  0.00  0.00  0.00  0.00  0.00  0.00  0.00  0.00  0.00  0.00  0.00 -0.10  0.10  0.00  0.00  0.00  0.00  0.00  0.00  0.00  0.00\n",
      " 0.00  0.00  0.00  0.00  0.00  0.00  0.00  0.00  0.00  0.00  0.00  0.00  0.00  0.00  0.00  0.00  0.00  0.00  0.00 -0.00 -0.00  0.00  0.00  0.00  0.00  0.00  0.00\n",
      " 0.00  0.00  0.00  0.00  0.00  0.00  0.00  0.00  0.00  0.00  0.00  0.00  0.00  0.00  0.00  0.00  0.00  0.00  0.00 -0.10  0.10  0.00  0.00  0.00  0.00  0.00  0.00\n",
      " 0.00  0.00  0.00  0.00  0.00  0.00  0.00  0.00  0.00  0.00  0.00  0.00  0.00  0.00  0.00  0.00  0.00  0.00  0.00  0.00  0.00 -0.00 -0.00  0.00  0.00  0.00  0.00\n",
      " 0.00  0.00  0.00  0.00  0.00  0.00  0.00  0.00  0.00  0.00  0.00  0.00  0.00  0.00  0.00  0.00  0.00  0.00  0.00  0.00  0.00 -0.10  0.10  0.00  0.00  0.00  0.00\n",
      " 0.00  0.00  0.00  0.00  0.00  0.00  0.00  0.00  0.00  0.00  0.00  0.00  0.00  0.00  0.00  0.00  0.00  0.00  0.00  0.00  0.00  0.00  0.00 -0.00 -0.00  0.00  0.00\n",
      " 0.00  0.00  0.00  0.00  0.00  0.00  0.00  0.00  0.00  0.00  0.00  0.00  0.00  0.00  0.00  0.00  0.00  0.00  0.00  0.00  0.00  0.00  0.00 -0.10  0.10  0.00  0.00\n",
      " 0.00  0.00  0.00  0.00  0.00  0.00  0.00  0.00  0.00  0.00  0.00  0.00  0.00  0.00  0.00  0.00  0.00  0.00  0.00  0.00  0.00  0.00  0.00  0.00  0.00 -0.10  0.10\n",
      "masked_g_between\n",
      " 0.00  0.00  0.00  0.00  0.00  0.00  0.00  0.00  0.00  0.00  0.00  0.00  0.00\n",
      "masked_A_between\n",
      " 0.00 -0.50  0.00  0.50  0.00  0.50  0.00  0.50  0.00  0.50  0.00  0.50  0.50  0.00  0.00  0.00  0.00  0.00  0.00  0.00  0.00  0.00  0.00  0.00  0.00  0.00  0.00\n",
      " 0.00  0.00  0.00  0.00  0.00  0.00  0.00  0.00  0.00  0.00  0.00  0.00  0.00  0.00  0.00  0.00  0.00  0.00  0.00  0.00  0.00  0.00  0.00  0.00  0.00  0.00  0.00\n",
      " 0.00  0.00  0.00 -0.50  0.00  0.50  0.00  0.50  0.00  0.50  0.00  0.50  0.50  0.00  0.00  0.00  0.00  0.00  0.00  0.00  0.00  0.00  0.00  0.00  0.00  0.00  0.00\n",
      " 0.00  0.00  0.00  0.00  0.00  0.00  0.00  0.00  0.00  0.00  0.00  0.00  0.00  0.00  0.00  0.00  0.00  0.00  0.00  0.00  0.00  0.00  0.00  0.00  0.00  0.00  0.00\n",
      " 0.00  0.00  0.00  0.00  0.00 -0.50  0.00  0.50  0.00  0.50  0.00  0.50  0.50  0.00  0.00  0.00  0.00  0.00  0.00  0.00  0.00  0.00  0.00  0.00  0.00  0.00  0.00\n",
      " 0.00  0.00  0.00  0.00  0.00  0.00  0.00  0.00  0.00  0.00  0.00  0.00  0.00  0.00  0.00  0.00  0.00  0.00  0.00  0.00  0.00  0.00  0.00  0.00  0.00  0.00  0.00\n",
      " 0.00  0.00  0.00  0.00  0.00  0.00  0.00 -0.50  0.00  0.50  0.00  0.50  0.50  0.00  0.00  0.00  0.00  0.00  0.00  0.00  0.00  0.00  0.00  0.00  0.00  0.00  0.00\n",
      " 0.00  0.00  0.00  0.00  0.00  0.00  0.00  0.00  0.00  0.00  0.00  0.00  0.00  0.00  0.00  0.00  0.00  0.00  0.00  0.00  0.00  0.00  0.00  0.00  0.00  0.00  0.00\n",
      " 0.00  0.00  0.00  0.00  0.00  0.00  0.00  0.00  0.00 -0.50  0.00  0.50  0.50  0.00  0.00  0.00  0.00  0.00  0.00  0.00  0.00  0.00  0.00  0.00  0.00  0.00  0.00\n",
      " 0.00  0.00  0.00  0.00  0.00  0.00  0.00  0.00  0.00  0.00  0.00  0.00  0.00  0.00  0.00  0.00  0.00  0.00  0.00  0.00  0.00  0.00  0.00  0.00  0.00  0.00  0.00\n",
      " 0.00  0.00  0.00  0.00  0.00  0.00  0.00  0.00  0.00  0.00  0.00 -0.50  0.50  0.00  0.00  0.00  0.00  0.00  0.00  0.00  0.00  0.00  0.00  0.00  0.00  0.00  0.00\n",
      " 0.00  0.00  0.00  0.00  0.00  0.00  0.00  0.00  0.00  0.00  0.00  0.00  0.00  0.00  0.00  0.00  0.00  0.00  0.00  0.00  0.00  0.00  0.00  0.00  0.00  0.00  0.00\n",
      " 0.00  0.00  0.00  0.00  0.00  0.00  0.00  0.00  0.00  0.00  0.00  0.00  0.00  0.00  0.00  0.00  0.00  0.00  0.00  0.00  0.00  0.00  0.00  0.00  0.00  0.00  0.00\n"
     ]
    }
   ],
   "source": [
    "# set dynamics parameters\n",
    "exist_in_group_dynamics = True\n",
    "\n",
    "np.random.seed(0)\n",
    "# g_in = np.round(np.random.uniform(-5, 5, n_inode)) * 0.002\n",
    "# A_in = np.round(np.random.uniform(-6, 6, (n_inode, n_node))) * 0.1\n",
    "# g_between = np.round(np.random.uniform(-5, 5, n_inode)) * 0.002\n",
    "# A_between = np.round(np.random.uniform(-6, 6, (n_inode, n_node))) * 0.1\n",
    "A_in_scale = 0.1\n",
    "A_in = np.array(A_in, dtype=np.float64) * A_in_scale\n",
    "A_between = np.array(A_between, dtype=np.float64) * 0.5\n",
    "if not exist_in_group_dynamics:\n",
    "    g_in *= 0.0\n",
    "    A_in *= 0.0\n",
    "masked_g_in = in_group_p_i * g_in\n",
    "masked_A_in = in_group_p_j_given_i * A_in\n",
    "masked_g_between = between_group_p_i * g_between\n",
    "masked_A_between = between_group_p_i[:, None] * between_group_p_j_given_i * A_between\n",
    "\n",
    "print(\"masked_g_in\")\n",
    "print(\" \".join([\"{:>5.2f}\".format(ele) for ele in masked_g_in]))\n",
    "print(\"masked_A_in\")\n",
    "print(\"\\n\".join([\" \".join([\"{:>5.2f}\".format(ele) for ele in row]) for row in masked_A_in]))\n",
    "\n",
    "print(\"masked_g_between\")\n",
    "print(\" \".join([\"{:>5.2f}\".format(ele) for ele in masked_g_between]))\n",
    "print(\"masked_A_between\")\n",
    "print(\"\\n\".join([\" \".join([\"{:>5.2f}\".format(ele) for ele in row]) for row in masked_A_between]))"
   ]
  },
  {
   "cell_type": "code",
   "execution_count": 530,
   "metadata": {},
   "outputs": [],
   "source": [
    "N = 10000\n",
    "n_train, n_test = 300, 10\n",
    "\n",
    "n_days = 30\n",
    "days = np.arange(n_days)[:,None]"
   ]
  },
  {
   "cell_type": "code",
   "execution_count": 531,
   "metadata": {},
   "outputs": [],
   "source": [
    "x_train = []\n",
    "y_train = []\n",
    "input_train = []\n",
    "\n",
    "init_variance = 2\n",
    "transition_sigma = 0.25\n",
    "\n",
    "for i in range(n_train):\n",
    "    # init y_star\n",
    "    x = np.random.randn(n_taxa) * init_variance\n",
    "    x = np.exp(x) / np.sum(np.exp(x))\n",
    "    init_y_star = ilr_transform(x, w, theta, n_plus, n_minus)\n",
    "    \n",
    "    Y, X, C = simulate(root, psi, masked_g_in, masked_A_in, masked_g_between, masked_A_between, N, n_days, init_y_star, transition_sigma)\n",
    "    C_with_date_stamp = np.concatenate([days, C], axis=-1)\n",
    "    x_train.append(Y)\n",
    "    y_train.append(C_with_date_stamp)\n",
    "    input_train.append(days)\n",
    "    \n",
    "x_test = []\n",
    "y_test = []\n",
    "input_test = []\n",
    "for i in range(n_test):\n",
    "    # init y_star\n",
    "    x = np.random.randn(n_taxa) * init_variance\n",
    "    x = np.exp(x) / np.sum(np.exp(x))\n",
    "    init_y_star = ilr_transform(x, w, theta, n_plus, n_minus)\n",
    "    \n",
    "    Y, X, C = simulate(root, psi, masked_g_in, masked_A_in, masked_g_between, masked_A_between, N, n_days, init_y_star, transition_sigma)\n",
    "    C_with_date_stamp = np.concatenate([days, C], axis=-1)\n",
    "    x_test.append(Y)\n",
    "    y_test.append(C_with_date_stamp)\n",
    "    input_test.append(days)"
   ]
  },
  {
   "cell_type": "markdown",
   "metadata": {},
   "source": [
    "# save"
   ]
  },
  {
   "cell_type": "code",
   "execution_count": 532,
   "metadata": {},
   "outputs": [],
   "source": [
    "import pickle"
   ]
  },
  {
   "cell_type": "code",
   "execution_count": 533,
   "metadata": {},
   "outputs": [],
   "source": [
    "c_data = {}\n",
    "\n",
    "c_data['theta'] = theta\n",
    "c_data[\"b\"] = bs\n",
    "\n",
    "c_data['Ytrain'] = y_train  # count\n",
    "c_data['Ytest'] = y_test\n",
    "c_data['Xtrain'] = x_train # ystar\n",
    "c_data['Xtest'] = x_test\n",
    "\n",
    "c_data['Vtrain'] = input_train\n",
    "c_data['Vtest'] = input_test\n",
    "\n",
    "c_data[\"A_in\"] = A_in\n",
    "c_data[\"g_in\"] = g_in\n",
    "c_data[\"masked_A_in\"] = masked_A_in\n",
    "c_data[\"masked_g_in\"] = masked_g_in\n",
    "\n",
    "c_data[\"A_between\"] = A_between\n",
    "c_data[\"g_between\"] = g_between\n",
    "c_data[\"masked_A_between\"] = masked_A_between\n",
    "c_data[\"masked_g_between\"] = masked_g_between\n",
    "\n",
    "A_in_scale = int(A_in_scale / 0.5 * 100)\n",
    "with open(\"vary_balance/{}_taxa_balance_{}_mag_{:02d}.p\".format(n_taxon, balance, A_in_scale), \"wb\") as f:\n",
    "    pickle.dump(c_data, f)"
   ]
  },
  {
   "cell_type": "markdown",
   "metadata": {},
   "source": [
    "# visualize data"
   ]
  },
  {
   "cell_type": "code",
   "execution_count": 534,
   "metadata": {},
   "outputs": [],
   "source": [
    "import sys\n",
    "sys.path.append(\"../..\")\n",
    "from src.utils.data_interpolation import interpolate_data"
   ]
  },
  {
   "cell_type": "code",
   "execution_count": 535,
   "metadata": {},
   "outputs": [],
   "source": [
    "obs_train, obs_test = [], []\n",
    "for y in y_train:\n",
    "    days, counts = y[:, :1], y[:, 1:]\n",
    "    perc = counts / counts.sum(axis=-1, keepdims=True)\n",
    "    obs_train.append(np.concatenate([days, perc], axis=-1))\n",
    "for y in y_test:\n",
    "    days, counts = y[:, :1], y[:, 1:]\n",
    "    perc = counts / counts.sum(axis=-1, keepdims=True)\n",
    "    obs_test.append(np.concatenate([days, perc], axis=-1))\n",
    "extra_inputs_train = [None for _ in range(len(obs_train))]\n",
    "extra_inputs_test = [None for _ in range(len(obs_test))]"
   ]
  },
  {
   "cell_type": "code",
   "execution_count": 536,
   "metadata": {},
   "outputs": [],
   "source": [
    "def bar_plot(ax, obs, mask, to_normalize=True):\n",
    "    if to_normalize:\n",
    "        obs = obs / np.sum(obs, axis=-1, keepdims=True)\n",
    "\n",
    "    time, Dy = obs.shape\n",
    "\n",
    "    # make missing obs = 0\n",
    "    masked_obs = np.zeros_like(obs)\n",
    "    masked_obs[mask] = obs[mask]\n",
    "    \n",
    "    ax.set_xlabel(\"Time\")\n",
    "    bottom = np.zeros(time)\n",
    "    for j in range(Dy):\n",
    "        ax.bar(np.arange(time), masked_obs[:, j], bottom=bottom, edgecolor='white')\n",
    "        bottom += masked_obs[:, j]\n",
    "\n",
    "    ax.set_xticks(np.arange(time))\n",
    "    sns.despine()\n",
    "    \n",
    "\n",
    "def input_plot(ax, inputs):\n",
    "    time, Dv = inputs.shape\n",
    "    \n",
    "    for j in range(Dv):\n",
    "        has_inputs = inputs[:,j]== 1\n",
    "        idx = np.arange(time)[has_inputs]\n",
    "        ax.bar(idx, [1 for _ in idx], bottom=[j for _ in idx], color='blue')\n",
    "    \n",
    "    ax.set_xticks(np.arange(time))\n",
    "    ax.set_yticks(np.arange(Dv))\n",
    "    sns.despine()"
   ]
  },
  {
   "cell_type": "code",
   "execution_count": 537,
   "metadata": {},
   "outputs": [],
   "source": [
    "def plot_inputs_and_obs(inputs, obs, masks, i, to_normalize=True):\n",
    "    if inputs[0].shape[1] == 0:\n",
    "        plt.figure(figsize=(15,5))\n",
    "\n",
    "        ax2 = plt.gca()\n",
    "        bar_plot(ax2, obs[i], masks[i], to_normalize=to_normalize)\n",
    "        ax2.grid()\n",
    "    else:\n",
    "        plt.figure(figsize=(15,10))\n",
    "\n",
    "        ax1= plt.subplot(2,1,1)\n",
    "        input_plot(ax1, inputs[i])\n",
    "        ax1.grid()\n",
    "\n",
    "        ax2 = plt.subplot(2,1,2, sharex = ax1)\n",
    "        bar_plot(ax2, obs[i], masks[i], to_normalize=to_normalize)\n",
    "        ax2.grid()"
   ]
  },
  {
   "cell_type": "code",
   "execution_count": 538,
   "metadata": {},
   "outputs": [],
   "source": [
    "hidden_train, hidden_test = x_train, x_test"
   ]
  },
  {
   "cell_type": "code",
   "execution_count": 539,
   "metadata": {},
   "outputs": [],
   "source": [
    "hidden_train, hidden_test, obs_train, obs_test, input_train, input_test, _mask_train, _mask_test, time_interval_train, time_interval_test, extra_inputs_train, extra_input_test = \\\n",
    "    interpolate_data(hidden_train, hidden_test, obs_train, obs_test, input_train, input_test,\n",
    "                     extra_inputs_train, extra_inputs_test, interpolation_type=None)\n",
    "\n",
    "masks = _mask_train + _mask_test\n",
    "obs = obs_train + obs_test\n",
    "inputs = input_train + input_test"
   ]
  },
  {
   "cell_type": "code",
   "execution_count": 540,
   "metadata": {
    "scrolled": false
   },
   "outputs": [
    {
     "data": {
      "image/png": "[encoded data removed]",
      "text/plain": [
       "<Figure size 1080x360 with 1 Axes>"
      ]
     },
     "metadata": {
      "needs_background": "light"
     },
     "output_type": "display_data"
    },
    {
     "data": {
      "image/png": "[encoded data removed]",
      "text/plain": [
       "<Figure size 1080x360 with 1 Axes>"
      ]
     },
     "metadata": {
      "needs_background": "light"
     },
     "output_type": "display_data"
    },
    {
     "data": {
      "image/png": "[encoded data removed]",
      "text/plain": [
       "<Figure size 1080x360 with 1 Axes>"
      ]
     },
     "metadata": {
      "needs_background": "light"
     },
     "output_type": "display_data"
    },
    {
     "data": {
      "image/png": "[encoded data removed]",
      "text/plain": [
       "<Figure size 1080x360 with 1 Axes>"
      ]
     },
     "metadata": {
      "needs_background": "light"
     },
     "output_type": "display_data"
    },
    {
     "data": {
      "image/png": "[encoded data removed]",
      "text/plain": [
       "<Figure size 1080x360 with 1 Axes>"
      ]
     },
     "metadata": {
      "needs_background": "light"
     },
     "output_type": "display_data"
    },
    {
     "data": {
      "image/png": "[encoded data removed]",
      "text/plain": [
       "<Figure size 1080x360 with 1 Axes>"
      ]
     },
     "metadata": {
      "needs_background": "light"
     },
     "output_type": "display_data"
    },
    {
     "data": {
      "image/png": "[encoded data removed]",
      "text/plain": [
       "<Figure size 1080x360 with 1 Axes>"
      ]
     },
     "metadata": {
      "needs_background": "light"
     },
     "output_type": "display_data"
    },
    {
     "data": {
      "image/png": "[encoded data removed]",
      "text/plain": [
       "<Figure size 1080x360 with 1 Axes>"
      ]
     },
     "metadata": {
      "needs_background": "light"
     },
     "output_type": "display_data"
    },
    {
     "data": {
      "image/png": "[encoded data removed]",
      "text/plain": [
       "<Figure size 1080x360 with 1 Axes>"
      ]
     },
     "metadata": {
      "needs_background": "light"
     },
     "output_type": "display_data"
    },
    {
     "data": {
      "image/png": "[encoded data removed]",
      "text/plain": [
       "<Figure size 1080x360 with 1 Axes>"
      ]
     },
     "metadata": {
      "needs_background": "light"
     },
     "output_type": "display_data"
    }
   ],
   "source": [
    "for i in range(0, 10):\n",
    "    plot_inputs_and_obs(inputs, obs, masks, i)"
   ]
  }
 ],
 "metadata": {
  "kernelspec": {
   "display_name": "Python 3",
   "language": "python",
   "name": "python3"
  },
  "language_info": {
   "codemirror_mode": {
    "name": "ipython",
    "version": 3
   },
   "file_extension": ".py",
   "mimetype": "text/x-python",
   "name": "python",
   "nbconvert_exporter": "python",
   "pygments_lexer": "ipython3",
   "version": "3.6.2"
  }
 },
 "nbformat": 4,
 "nbformat_minor": 2
}
