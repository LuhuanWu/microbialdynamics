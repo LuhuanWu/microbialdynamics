{
 "cells": [
  {
   "cell_type": "code",
   "execution_count": 4,
   "metadata": {},
   "outputs": [],
   "source": [
    "import pickle\n",
    "import numpy as np"
   ]
  },
  {
   "cell_type": "code",
   "execution_count": 5,
   "metadata": {},
   "outputs": [
    {
     "data": {
      "text/plain": [
       "dict_keys(['Xtrue', 'Ytrain', 'Yvalid'])"
      ]
     },
     "execution_count": 5,
     "metadata": {},
     "output_type": "execute_result"
    }
   ],
   "source": [
    "with open(\"fhn_dirichlet_obs.p\", \"rb\") as f:\n",
    "    d = pickle.load(f)\n",
    "d.keys()"
   ]
  },
  {
   "cell_type": "code",
   "execution_count": 6,
   "metadata": {},
   "outputs": [
    {
     "name": "stdout",
     "output_type": "stream",
     "text": [
      "(240, 200, 2) (200, 200, 11) (40, 200, 11)\n"
     ]
    }
   ],
   "source": [
    "x = d['Xtrue']\n",
    "y_train = d['Ytrain']\n",
    "y_test = d['Yvalid']\n",
    "x_train = x[:len(y_train)]\n",
    "x_test = x[len(y_train):]\n",
    "print(x.shape, y_train.shape, y_test.shape)"
   ]
  },
  {
   "cell_type": "code",
   "execution_count": 7,
   "metadata": {},
   "outputs": [
    {
     "name": "stdout",
     "output_type": "stream",
     "text": [
      "(200, 200, 12) (40, 200, 12)\n",
      "[[0.00000000e+00 4.85006007e-04 3.94206805e-03 4.03809587e-01\n",
      "  4.64151866e-02 9.92533746e-02 2.09051320e-01 1.31066515e-01\n",
      "  1.98086308e-02 8.08765937e-03 6.89980457e-02 9.08260710e-03]\n",
      " [1.00000000e+00 7.96099640e-05 2.72677746e-03 3.81801545e-01\n",
      "  8.86917020e-03 3.36439118e-03 1.09892458e-01 3.43266689e-01\n",
      "  5.31109489e-02 1.94761649e-04 4.11680646e-02 5.55255849e-02]\n",
      " [2.00000000e+00 2.16449375e-02 3.81088935e-02 1.33266312e-01\n",
      "  6.76578112e-02 1.81963937e-01 8.32166717e-02 2.27035453e-01\n",
      "  1.16089252e-05 1.23819588e-01 2.55146447e-02 9.77601418e-02]\n",
      " [3.00000000e+00 1.76730916e-09 1.36653429e-02 1.33656055e-01\n",
      "  4.80006945e-03 1.05323789e-01 2.57071820e-02 2.67050669e-01\n",
      "  1.88218906e-02 9.23826337e-02 3.09314185e-03 3.35499224e-01]\n",
      " [4.00000000e+00 1.01767752e-08 8.11034690e-02 3.32498266e-01\n",
      "  8.29847202e-09 3.55059881e-02 1.51638242e-01 8.08513369e-02\n",
      "  3.88350149e-09 1.18237765e-01 1.69293895e-01 3.08710152e-02]\n",
      " [5.00000000e+00 1.67695949e-03 1.15303851e-01 9.30332458e-02\n",
      "  1.57653247e-03 2.48916400e-02 1.39067018e-01 2.23088837e-01\n",
      "  1.76233207e-01 1.34666363e-01 2.70775283e-06 9.04596380e-02]\n",
      " [6.00000000e+00 2.50405162e-22 1.53506552e-01 4.82580757e-01\n",
      "  6.31076638e-07 1.11190421e-01 9.82812032e-02 7.98691604e-03\n",
      "  3.23661087e-20 5.11036667e-02 7.75489382e-14 9.53498523e-02]\n",
      " [7.00000000e+00 5.22653356e-11 2.04521402e-01 1.31883549e-01\n",
      "  4.02967685e-04 1.68193245e-01 3.56742546e-01 8.81382886e-03\n",
      "  3.46172023e-53 7.13244166e-02 8.65289056e-39 5.81180443e-02]\n",
      " [8.00000000e+00 4.01022408e-08 7.64075757e-02 1.22375493e-01\n",
      "  1.24077698e-71 2.50198703e-01 1.91266413e-02 1.48558254e-09\n",
      "  3.21199615e-17 3.99072932e-01 2.32134836e-51 1.32818613e-01]\n",
      " [9.00000000e+00 1.45368271e-08 8.70870772e-02 7.29989992e-02\n",
      "  3.81581198e-57 2.32321653e-01 1.55776280e-01 1.31611556e-11\n",
      "  2.65837463e-07 4.51547829e-01 2.82061771e-13 2.67881771e-04]]\n"
     ]
    }
   ],
   "source": [
    "y_train_day = np.tile(np.arange(200)[np.newaxis, :], (len(y_train), 1))\n",
    "y_train_day = y_train_day[:, :, np.newaxis]\n",
    "y_train_new = np.concatenate((y_train_day, y_train), axis=-1)\n",
    "y_test_day = np.tile(np.arange(200)[np.newaxis, :], (len(y_test), 1))\n",
    "y_test_day = y_test_day[:, :, np.newaxis]\n",
    "y_test_new = np.concatenate((y_test_day, y_test), axis=-1)\n",
    "print(y_train_new.shape, y_test_new.shape)\n",
    "print(y_train_new[0, :10, :])"
   ]
  },
  {
   "cell_type": "code",
   "execution_count": 8,
   "metadata": {},
   "outputs": [
    {
     "name": "stdout",
     "output_type": "stream",
     "text": [
      "(200, 160, 12) (40, 160, 12)\n",
      "(200, 120, 12) (40, 120, 12)\n",
      "(200, 100, 12) (40, 100, 12)\n",
      "(200, 80, 12) (40, 80, 12)\n"
     ]
    }
   ],
   "source": [
    "# 20 % missing obs\n",
    "T = y_train_new.shape[1]\n",
    "for obs_percentage in [0.8, 0.6, 0.5, 0.4]:\n",
    "    y_train_tmp = []\n",
    "    y_test_tmp = []\n",
    "    for y in y_train_new:\n",
    "        obsed_days = np.random.choice(np.arange(T), int(T * obs_percentage), replace=False)\n",
    "        obsed_days = np.sort(obsed_days)\n",
    "        y_train_tmp.append(y[obsed_days])\n",
    "    for y in y_test_new:\n",
    "        obsed_days = np.random.choice(np.arange(T), int(T * obs_percentage), replace=False)\n",
    "        obsed_days = np.sort(obsed_days)\n",
    "        y_test_tmp.append(y[obsed_days])\n",
    "    y_train_tmp = np.stack(y_train_tmp)\n",
    "    y_test_tmp = np.stack(y_test_tmp)\n",
    "    print(y_train_tmp.shape, y_test_tmp.shape)\n",
    "    days = np.arange(T)[np.newaxis, :, np.newaxis]\n",
    "    v_train = np.concatenate([np.tile(days, (len(y_train_new), 1, 1)), np.zeros((len(y_train_new), T, 1))], axis=-1)\n",
    "    v_test = np.concatenate([np.tile(days, (len(y_test_new), 1, 1)), np.zeros((len(y_test_new), T, 1))], axis=-1)\n",
    "    with open(\"fhn_{}_dirichlet_obs.p\".format(obs_percentage), \"wb\") as f:\n",
    "        pickle.dump({'Ytrain': y_train_tmp, 'Ytest': y_test_tmp, 'Vtrain': v_train, 'Vtest': v_test}, f)"
   ]
  },
  {
   "cell_type": "code",
   "execution_count": 9,
   "metadata": {},
   "outputs": [
    {
     "name": "stdout",
     "output_type": "stream",
     "text": [
      "[[0. 0.]\n",
      " [1. 0.]\n",
      " [2. 0.]\n",
      " [3. 0.]\n",
      " [4. 0.]\n",
      " [5. 0.]\n",
      " [6. 0.]\n",
      " [7. 0.]\n",
      " [8. 0.]\n",
      " [9. 0.]]\n"
     ]
    }
   ],
   "source": [
    "print(v_train[0, :10])"
   ]
  }
 ],
 "metadata": {
  "kernelspec": {
   "display_name": "Python 3",
   "language": "python",
   "name": "python3"
  },
  "language_info": {
   "codemirror_mode": {
    "name": "ipython",
    "version": 3
   },
   "file_extension": ".py",
   "mimetype": "text/x-python",
   "name": "python",
   "nbconvert_exporter": "python",
   "pygments_lexer": "ipython3",
   "version": "3.6.2"
  }
 },
 "nbformat": 4,
 "nbformat_minor": 2
}
