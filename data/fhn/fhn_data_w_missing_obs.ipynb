{
 "cells": [
  {
   "cell_type": "code",
   "execution_count": 5,
   "metadata": {},
   "outputs": [],
   "source": [
    "import pickle\n",
    "import numpy as np"
   ]
  },
  {
   "cell_type": "code",
   "execution_count": 1,
   "metadata": {},
   "outputs": [
    {
     "data": {
      "text/plain": [
       "dict_keys(['time_list', 'a_b_c_I_dt_list', 'g_mat', 'g_cov', 'Xtrue', 'Ytrain', 'Yvalid'])"
      ]
     },
     "execution_count": 1,
     "metadata": {},
     "output_type": "execute_result"
    }
   ],
   "source": [
    "with open(\"datadict\", \"rb\") as f:\n",
    "    d = pickle.load(f)\n",
    "d.keys()"
   ]
  },
  {
   "cell_type": "code",
   "execution_count": 10,
   "metadata": {},
   "outputs": [
    {
     "name": "stdout",
     "output_type": "stream",
     "text": [
      "(240, 200, 2) (200, 200, 1) (40, 200, 1)\n"
     ]
    }
   ],
   "source": [
    "x = d['Xtrue']\n",
    "y_train = d['Ytrain']\n",
    "y_test = d['Yvalid']\n",
    "x_train = x[:len(y_train)]\n",
    "x_test = x[len(y_train):]\n",
    "print(x.shape, y_train.shape, y_test.shape)"
   ]
  },
  {
   "cell_type": "code",
   "execution_count": 11,
   "metadata": {},
   "outputs": [
    {
     "name": "stdout",
     "output_type": "stream",
     "text": [
      "(200, 200, 2) (40, 200, 2)\n",
      "[[-0.75991914  0.        ]\n",
      " [-0.94188864  1.        ]\n",
      " [-0.88082116  2.        ]\n",
      " [-0.9476135   3.        ]\n",
      " [-0.98917134  4.        ]\n",
      " [-1.01295341  5.        ]\n",
      " [-0.69137809  6.        ]\n",
      " [-0.74303678  7.        ]\n",
      " [-0.52540432  8.        ]\n",
      " [-0.37549246  9.        ]]\n"
     ]
    }
   ],
   "source": [
    "y_train_day = np.tile(np.arange(200)[np.newaxis, :], (len(y_train), 1))\n",
    "y_train_day = y_train_day[:, :, np.newaxis]\n",
    "y_train_new = np.concatenate((y_train, y_train_day), axis=-1)\n",
    "y_test_day = np.tile(np.arange(200)[np.newaxis, :], (len(y_test), 1))\n",
    "y_test_day = y_test_day[:, :, np.newaxis]\n",
    "y_test_new = np.concatenate((y_test, y_test_day), axis=-1)\n",
    "print(y_train_new.shape, y_test_new.shape)\n",
    "print(y_train_new[0, :10, :])"
   ]
  },
  {
   "cell_type": "code",
   "execution_count": 20,
   "metadata": {},
   "outputs": [
    {
     "name": "stdout",
     "output_type": "stream",
     "text": [
      "(200, 160, 2) (40, 160, 2)\n",
      "(200, 120, 2) (40, 120, 2)\n",
      "(200, 100, 2) (40, 100, 2)\n",
      "(200, 80, 2) (40, 80, 2)\n"
     ]
    }
   ],
   "source": [
    "# 20 % missing obs\n",
    "T = y_train_new.shape[1]\n",
    "for obs_percentage in [0.8, 0.6, 0.5, 0.4]:\n",
    "    y_train_tmp = []\n",
    "    y_test_tmp = []\n",
    "    for y in y_train_new:\n",
    "        obsed_days = np.random.choice(np.arange(T), int(T * obs_percentage), replace=False)\n",
    "        obsed_days = np.sort(obsed_days)\n",
    "        y_train_tmp.append(y[obsed_days])\n",
    "    for y in y_test_new:\n",
    "        obsed_days = np.random.choice(np.arange(T), int(T * obs_percentage), replace=False)\n",
    "        obsed_days = np.sort(obsed_days)\n",
    "        y_test_tmp.append(y[obsed_days])\n",
    "    y_train_tmp = np.stack(y_train_tmp)\n",
    "    y_test_tmp = np.stack(y_test_tmp)\n",
    "    print(y_train_tmp.shape, y_test_tmp.shape)\n",
    "    days = np.arange(T)[np.newaxis, :, np.newaxis]\n",
    "    v_train = np.concatenate([np.tile(days, (len(y_train_new), 1, 1)), np.zeros((len(y_train_new), T, 1))], axis=-1)\n",
    "    v_test = np.concatenate([np.tile(days, (len(y_test_new), 1, 1)), np.zeros((len(y_test_new), T, 1))], axis=-1)\n",
    "    with open(\"fhn_{}_obs.p\".format(obs_percentage), \"wb\") as f:\n",
    "        pickle.dump({'Ytrain': y_train_tmp, 'Ytest': y_test_tmp, 'Vtrain': v_train, 'Vtest': v_test}, f)"
   ]
  }
 ],
 "metadata": {
  "kernelspec": {
   "display_name": "Python 3",
   "language": "python",
   "name": "python3"
  },
  "language_info": {
   "codemirror_mode": {
    "name": "ipython",
    "version": 3
   },
   "file_extension": ".py",
   "mimetype": "text/x-python",
   "name": "python",
   "nbconvert_exporter": "python",
   "pygments_lexer": "ipython3",
   "version": "3.6.2"
  }
 },
 "nbformat": 4,
 "nbformat_minor": 2
}
