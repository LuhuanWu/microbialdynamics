{
 "cells": [
  {
   "cell_type": "code",
   "execution_count": 1,
   "metadata": {
    "collapsed": true
   },
   "outputs": [],
   "source": [
    "import numpy as np\n",
    "import pandas as pd"
   ]
  },
  {
   "cell_type": "code",
   "execution_count": 2,
   "metadata": {
    "collapsed": true
   },
   "outputs": [],
   "source": [
    "file1 = \"data/taur-events.csv\"\n",
    "file2 = \"data/taur-otu-table-15tpts.csv\""
   ]
  },
  {
   "cell_type": "code",
   "execution_count": 3,
   "metadata": {
    "collapsed": true
   },
   "outputs": [],
   "source": [
    "f1 = pd.read_csv(file1)\n",
    "f2 = pd.read_csv(file2, header=None)"
   ]
  },
  {
   "cell_type": "code",
   "execution_count": 4,
   "metadata": {
    "collapsed": true
   },
   "outputs": [],
   "source": [
    "data1 = f1.to_numpy()\n",
    "data2 = f2.to_numpy()"
   ]
  },
  {
   "cell_type": "code",
   "execution_count": 5,
   "metadata": {
    "collapsed": true
   },
   "outputs": [],
   "source": [
    "pid = np.array(f1['patientID'])"
   ]
  },
  {
   "cell_type": "markdown",
   "metadata": {},
   "source": [
    "# obs"
   ]
  },
  {
   "cell_type": "code",
   "execution_count": 6,
   "metadata": {
    "collapsed": true
   },
   "outputs": [],
   "source": [
    "measure_pid = f2.loc[0:0, 1:]\n",
    "measure_pid = np.array(measure_pid, dtype=int)\n",
    "measure_pid = measure_pid.reshape((-1))\n",
    "f2pid = np.unique(measure_pid)"
   ]
  },
  {
   "cell_type": "code",
   "execution_count": 7,
   "metadata": {
    "collapsed": false
   },
   "outputs": [
    {
     "name": "stdout",
     "output_type": "stream",
     "text": [
      "21 patients with id [ 26  31  97 447 515 530 531 537 551 642 694 697 698 704 708 721 747 753\n",
      " 763 765 769]\n"
     ]
    }
   ],
   "source": [
    "print(\"{} patients with id {}\".format(len(f2pid), f2pid))"
   ]
  },
  {
   "cell_type": "code",
   "execution_count": 8,
   "metadata": {
    "collapsed": false
   },
   "outputs": [
    {
     "name": "stdout",
     "output_type": "stream",
     "text": [
      "count shape (measures, microbio speicies): (405, 770)\n"
     ]
    }
   ],
   "source": [
    "count = data2[2:-1, 1:].T.astype(int)\n",
    "print(\"count shape (measures, microbio speicies):\", count.shape)\n",
    "count_sum_across_spieces = np.sum(count, axis=1, keepdims=True)\n",
    "percentage = count / count_sum_across_spieces"
   ]
  },
  {
   "cell_type": "code",
   "execution_count": 9,
   "metadata": {
    "collapsed": false
   },
   "outputs": [
    {
     "name": "stdout",
     "output_type": "stream",
     "text": [
      "top_k_spieces_idx: [281 291 411 326 284 441 731  15  25 261]\n",
      "top  0, idx  281, percentage_sum 98.14, name Bacteria;Firmicutes;Bacilli;Lactobacillales;Enterococcaceae;Enterococcus\n",
      "top  1, idx  291, percentage_sum 60.05, name Bacteria;Firmicutes;Bacilli;Lactobacillales;Streptococcaceae;Streptococcus\n",
      "top  2, idx  411, percentage_sum 34.52, name Bacteria;Firmicutes;Erysipelotrichia;Erysipelotrichales;Erysipelotrichaceae;Erysipelatoclostridium\n",
      "top  3, idx  326, percentage_sum 31.39, name Bacteria;Firmicutes;Clostridia;Clostridiales;Lachnospiraceae;Blautia\n",
      "top  4, idx  284, percentage_sum 18.89, name Bacteria;Firmicutes;Bacilli;Lactobacillales;Lactobacillaceae;Lactobacillus\n",
      "top  5, idx  441, percentage_sum 12.88, name Bacteria;Firmicutes;Negativicutes;Veillonellales;Veillonellaceae;Veillonella\n",
      "top  6, idx  731, percentage_sum 12.48, name Bacteria;Verrucomicrobia;Verrucomicrobiae;Verrucomicrobiales;Akkermansiaceae;Akkermansia\n",
      "top  7, idx   15, percentage_sum 11.00, name Bacteria;Actinobacteria;Actinobacteria;Actinomycetales;Actinomycetaceae;Actinomyces\n",
      "top  8, idx   25, percentage_sum 10.38, name Bacteria;Actinobacteria;Actinobacteria;Bifidobacteriales;Bifidobacteriaceae;Bifidobacterium\n",
      "top  9, idx  261, percentage_sum  8.40, name Bacteria;Firmicutes;Bacilli;Bacillales;Staphylococcaceae;Staphylococcus\n"
     ]
    }
   ],
   "source": [
    "percentage_sum_across_measures = np.sum(percentage, axis=0)\n",
    "spieces_name = data2[2:-1, 0]\n",
    "k = 10\n",
    "top_k_spieces_idx = np.argsort(percentage_sum_across_measures)[-k:][::-1]\n",
    "print(\"top_k_spieces_idx:\", top_k_spieces_idx)\n",
    "for i, idx in enumerate(top_k_spieces_idx):\n",
    "    print(\"top {:>2}, idx {:>4}, percentage_sum {:>5.2f}, name {}\".format(i, idx, percentage_sum_across_measures[idx], spieces_name[idx]))"
   ]
  },
  {
   "cell_type": "code",
   "execution_count": 10,
   "metadata": {
    "collapsed": false
   },
   "outputs": [],
   "source": [
    "dates = data2[1, 1:].astype(int)\n",
    "count_obs = np.zeros((count.shape[0], k + 2)) \n",
    "count_obs[:, 0] = dates\n",
    "count_obs[:, 1:-1] = count[:, top_k_spieces_idx]\n",
    "count_obs[:, -1] = count.sum(axis=-1) - count[:,top_k_spieces_idx].sum(axis=-1)"
   ]
  },
  {
   "cell_type": "code",
   "execution_count": 11,
   "metadata": {
    "collapsed": false
   },
   "outputs": [
    {
     "name": "stdout",
     "output_type": "stream",
     "text": [
      "21 (20, 12)\n"
     ]
    }
   ],
   "source": [
    "obs = []\n",
    "\n",
    "pid_measure_start = 0\n",
    "for pid in f2pid:\n",
    "    patient_obs = []\n",
    "    for i in range(pid_measure_start, len(measure_pid)):\n",
    "        if measure_pid[i] != pid:\n",
    "            pid_measure_start = i\n",
    "            break\n",
    "        patient_obs.append(count_obs[i])\n",
    "    obs.append(np.asarray(patient_obs))\n",
    "print(len(obs), obs[0].shape)"
   ]
  },
  {
   "cell_type": "code",
   "execution_count": 12,
   "metadata": {
    "collapsed": false
   },
   "outputs": [],
   "source": [
    "percentage_0 = obs[0][:,1:] / (obs[0][:,1:].sum(axis=-1)[:,None])"
   ]
  },
  {
   "cell_type": "code",
   "execution_count": null,
   "metadata": {
    "collapsed": false
   },
   "outputs": [],
   "source": []
  },
  {
   "cell_type": "markdown",
   "metadata": {},
   "source": [
    "# Inputs"
   ]
  },
  {
   "cell_type": "code",
   "execution_count": 13,
   "metadata": {
    "collapsed": false
   },
   "outputs": [
    {
     "name": "stdout",
     "output_type": "stream",
     "text": [
      "total 15 kinds of events: ['PCP prophylaxis agents', 'aminoglycosides', 'anti-VRE agents', 'anti-anaerobic agent', 'beta-lactamase inhibitors', 'carbapenems', 'first/second generation cephalosporins', 'fourth/fifth generation cephalosporins', 'glycopeptide', 'monobactams', 'penicillins', 'quinolones', 'surgery', 'tetracyclines', 'third generation cephalosporins']\n"
     ]
    }
   ],
   "source": [
    "event_pid, event, event_start, event_end = data1.T\n",
    "event_pid = np.array(event_pid, dtype=int)\n",
    "event_start = np.array(event_start, dtype=int)\n",
    "event_end = np.array(event_end, dtype=int)\n",
    "unique_event = list(np.unique(event))\n",
    "num_event = len(unique_event)\n",
    "print(\"total {} kinds of events: {}\".format(num_event, unique_event))"
   ]
  },
  {
   "cell_type": "code",
   "execution_count": 14,
   "metadata": {
    "collapsed": false
   },
   "outputs": [
    {
     "name": "stdout",
     "output_type": "stream",
     "text": [
      "21 (42, 16)\n"
     ]
    }
   ],
   "source": [
    "Input = []\n",
    "for pid in f2pid:\n",
    "    patient_event_idxs = np.where(event_pid == pid)[0]\n",
    "    input_start = min(event_start[patient_event_idxs])\n",
    "    input_end = max(event_end[patient_event_idxs])\n",
    "    input_len = input_end - input_start + 1\n",
    "    patient_input = np.zeros((input_len, num_event + 1))\n",
    "    patient_input[:, 0] = np.arange(input_start, input_end + 1)\n",
    "    for event_idx in patient_event_idxs:\n",
    "        patient_event = event[event_idx]\n",
    "        event_id = unique_event.index(patient_event) + 1\n",
    "        event_start_idx = event_start[event_idx] - input_start\n",
    "        event_end_idx = event_end[event_idx] - input_start + 1\n",
    "        patient_input[event_start_idx:event_end_idx, event_id] = np.ones(event_end_idx - event_start_idx)\n",
    "    Input.append(patient_input)\n",
    "print(len(Input), Input[0].shape)"
   ]
  },
  {
   "cell_type": "markdown",
   "metadata": {},
   "source": [
    "# counts"
   ]
  },
  {
   "cell_type": "code",
   "execution_count": 15,
   "metadata": {
    "collapsed": false
   },
   "outputs": [
    {
     "data": {
      "text/plain": [
       "21"
      ]
     },
     "execution_count": 15,
     "metadata": {},
     "output_type": "execute_result"
    }
   ],
   "source": [
    "len(obs)"
   ]
  },
  {
   "cell_type": "code",
   "execution_count": 16,
   "metadata": {
    "collapsed": false
   },
   "outputs": [],
   "source": [
    "counts = []\n",
    "for single_obs in obs:\n",
    "    single_counts = single_obs.sum(axis=-1)\n",
    "    counts.append(single_counts)"
   ]
  },
  {
   "cell_type": "code",
   "execution_count": 17,
   "metadata": {
    "collapsed": false
   },
   "outputs": [
    {
     "data": {
      "text/plain": [
       "(26,)"
      ]
     },
     "execution_count": 17,
     "metadata": {},
     "output_type": "execute_result"
    }
   ],
   "source": [
    "counts[1].shape"
   ]
  },
  {
   "cell_type": "code",
   "execution_count": 18,
   "metadata": {
    "collapsed": false
   },
   "outputs": [
    {
     "data": {
      "text/plain": [
       "(26, 12)"
      ]
     },
     "execution_count": 18,
     "metadata": {},
     "output_type": "execute_result"
    }
   ],
   "source": [
    "obs[1].shape"
   ]
  },
  {
   "cell_type": "markdown",
   "metadata": {},
   "source": [
    "# split into train & test and save"
   ]
  },
  {
   "cell_type": "code",
   "execution_count": 19,
   "metadata": {
    "collapsed": false
   },
   "outputs": [],
   "source": [
    "import os, pickle\n",
    "n_train = 17\n",
    "data = {}\n",
    "data[\"Ytrain\"] = obs[:n_train]\n",
    "data[\"Ytest\"] = obs[n_train:]\n",
    "data[\"Vtrain\"] = Input[:n_train]\n",
    "data[\"Vtest\"] = Input[n_train:]\n",
    "data[\"counts_train\"] = counts[:n_train]\n",
    "data[\"counts_test\"] = counts[n_train:]\n",
    "with open(os.path.join(\"data\", \"count_microbio.p\"), \"wb\") as f:\n",
    "    pickle.dump(data, f)"
   ]
  },
  {
   "cell_type": "code",
   "execution_count": 20,
   "metadata": {
    "collapsed": false
   },
   "outputs": [
    {
     "data": {
      "text/plain": [
       "dict_keys(['Ytrain', 'Ytest', 'Vtrain', 'Vtest', 'counts_train', 'counts_test'])"
      ]
     },
     "execution_count": 20,
     "metadata": {},
     "output_type": "execute_result"
    }
   ],
   "source": [
    "data.keys()"
   ]
  },
  {
   "cell_type": "markdown",
   "metadata": {},
   "source": [
    "# test runner"
   ]
  },
  {
   "cell_type": "code",
   "execution_count": 21,
   "metadata": {
    "collapsed": true
   },
   "outputs": [],
   "source": [
    "from src.utils.data_loader import load_data\n",
    "from src.utils.data_interpolation import interpolate_data"
   ]
  },
  {
   "cell_type": "code",
   "execution_count": 22,
   "metadata": {
    "collapsed": true
   },
   "outputs": [],
   "source": [
    "datadir = \"data/count_microbio.p\""
   ]
  },
  {
   "cell_type": "code",
   "execution_count": 23,
   "metadata": {
    "collapsed": true
   },
   "outputs": [],
   "source": [
    "Dx = 3"
   ]
  },
  {
   "cell_type": "code",
   "execution_count": 24,
   "metadata": {
    "collapsed": false
   },
   "outputs": [],
   "source": [
    "hidden_train, hidden_test, obs_train, obs_test, input_train, input_test, extra_inputs_train, extra_inputs_test = \\\n",
    "                load_data(datadir, Dx, False)\n",
    "            "
   ]
  },
  {
   "cell_type": "code",
   "execution_count": 25,
   "metadata": {
    "collapsed": false
   },
   "outputs": [],
   "source": [
    "hidden_train, hidden_test, obs_train, obs_test, input_train, input_test, _mask_train, _mask_test, time_interval_train, time_interval_test, extra_inputs_train, extra_inputs_test = \\\n",
    "                interpolate_data(hidden_train, hidden_test, obs_train, obs_test, input_train, input_test,\n",
    "                                 extra_inputs_train, extra_inputs_test, False)"
   ]
  },
  {
   "cell_type": "code",
   "execution_count": 26,
   "metadata": {
    "collapsed": false
   },
   "outputs": [
    {
     "data": {
      "text/plain": [
       "[array([119211., 119211.,  57969.,  57969.,  79237.,  58922.,  27552.,\n",
       "         27552.,  27552.,  27552.,  27552.,  27552.,  27552.,  27552.,\n",
       "         27552.,  27552.,  14404.,  14404.,  14787.,  14787.,  14787.,\n",
       "         14787.,  14787.,  14787.,  13289.,   6998.,  29619.,  29619.,\n",
       "         29619.,  12209.,  11605.,  23650.,  23650.,  10416.,  10416.,\n",
       "         10416.,  10416.,  12408.]),\n",
       " array([247339.,  79964.,  57209.,  57209.,  38596.,   4069.,   4069.,\n",
       "          4069.,  33809.,  92374., 109020.,  49130.,  89261.,  89261.,\n",
       "         89261.,  45048.,  35792.,  31792.,  28567.,  63525.,  63525.,\n",
       "         46655.,  60417.,  77563.,  42756.,  26556.,  33295.]),\n",
       " array([388758., 344191., 344191., 197936., 181335., 213836., 134485.,\n",
       "        193135., 189283., 457265., 187615., 187615., 187615., 213900.,\n",
       "        226571., 226571., 226571., 178110., 148345., 116465.,  82242.,\n",
       "         56388., 214796., 144261., 236219.]),\n",
       " array([41748., 41748., 41748.,  9356., 23468., 16079., 39699., 13029.,\n",
       "        13029., 13029., 13029., 13029.,  4462., 14688., 12314., 12314.,\n",
       "        12314., 23896., 31665., 22174., 18779., 18779., 18779., 20264.,\n",
       "        10041., 19538.])]"
      ]
     },
     "execution_count": 26,
     "metadata": {},
     "output_type": "execute_result"
    }
   ],
   "source": [
    "extra_inputs_test"
   ]
  },
  {
   "cell_type": "code",
   "execution_count": 32,
   "metadata": {
    "collapsed": false
   },
   "outputs": [
    {
     "data": {
      "text/plain": [
       "array([-5., -3., -1.,  0.,  1., 11., 13., 19., 20., 21., 24., 25., 26.,\n",
       "       28., 32.])"
      ]
     },
     "execution_count": 32,
     "metadata": {},
     "output_type": "execute_result"
    }
   ],
   "source": [
    "obs[-4][:,0]"
   ]
  },
  {
   "cell_type": "code",
   "execution_count": 30,
   "metadata": {
    "collapsed": false
   },
   "outputs": [
    {
     "data": {
      "text/plain": [
       "(15,)"
      ]
     },
     "execution_count": 30,
     "metadata": {},
     "output_type": "execute_result"
    }
   ],
   "source": [
    "data[\"counts_test\"][0].shape"
   ]
  },
  {
   "cell_type": "code",
   "execution_count": 27,
   "metadata": {
    "collapsed": false
   },
   "outputs": [
    {
     "data": {
      "text/plain": [
       "[array([119211.,  57969.,  79237.,  58922.,  27552.,  14404.,  14787.,\n",
       "         13289.,   6998.,  29619.,  12209.,  11605.,  23650.,  10416.,\n",
       "         12408.]),\n",
       " array([247339.,  79964.,  57209.,  38596.,   4069.,  33809.,  92374.,\n",
       "        109020.,  49130.,  89261.,  45048.,  35792.,  31792.,  28567.,\n",
       "         63525.,  46655.,  60417.,  77563.,  42756.,  26556.,  33295.]),\n",
       " array([388758., 344191., 197936., 181335., 213836., 134485., 193135.,\n",
       "        189283., 457265., 187615., 213900., 226571., 178110., 148345.,\n",
       "        116465.,  82242.,  56388., 214796., 144261., 236219.]),\n",
       " array([41748.,  9356., 23468., 16079., 39699., 13029.,  4462., 14688.,\n",
       "        12314., 23896., 31665., 22174., 18779., 20264., 10041., 19538.])]"
      ]
     },
     "execution_count": 27,
     "metadata": {},
     "output_type": "execute_result"
    }
   ],
   "source": [
    "data[\"counts_test\"]"
   ]
  },
  {
   "cell_type": "code",
   "execution_count": 33,
   "metadata": {
    "collapsed": false
   },
   "outputs": [
    {
     "data": {
      "text/plain": [
       "(42,)"
      ]
     },
     "execution_count": 33,
     "metadata": {},
     "output_type": "execute_result"
    }
   ],
   "source": [
    "extra_inputs_train[0].shape"
   ]
  },
  {
   "cell_type": "code",
   "execution_count": 34,
   "metadata": {
    "collapsed": false
   },
   "outputs": [
    {
     "data": {
      "text/plain": [
       "(47,)"
      ]
     },
     "execution_count": 34,
     "metadata": {},
     "output_type": "execute_result"
    }
   ],
   "source": [
    "extra_inputs_train[1].shape"
   ]
  },
  {
   "cell_type": "code",
   "execution_count": 35,
   "metadata": {
    "collapsed": false
   },
   "outputs": [
    {
     "data": {
      "text/plain": [
       "(42, 11)"
      ]
     },
     "execution_count": 35,
     "metadata": {},
     "output_type": "execute_result"
    }
   ],
   "source": [
    "obs_train[0].shape"
   ]
  },
  {
   "cell_type": "code",
   "execution_count": 36,
   "metadata": {
    "collapsed": false
   },
   "outputs": [
    {
     "data": {
      "text/plain": [
       "(47, 11)"
      ]
     },
     "execution_count": 36,
     "metadata": {},
     "output_type": "execute_result"
    }
   ],
   "source": [
    "obs_train[1].shape"
   ]
  },
  {
   "cell_type": "code",
   "execution_count": 38,
   "metadata": {
    "collapsed": true
   },
   "outputs": [],
   "source": [
    "for obs, extra_inputs in zip(obs_train, extra_inputs_train):\n",
    "    assert obs.shape[0] == extra_inputs.shape[0]"
   ]
  },
  {
   "cell_type": "code",
   "execution_count": null,
   "metadata": {
    "collapsed": true
   },
   "outputs": [],
   "source": []
  }
 ],
 "metadata": {
  "kernelspec": {
   "display_name": "SMC_venv",
   "language": "python",
   "name": "smc_venv"
  },
  "language_info": {
   "codemirror_mode": {
    "name": "ipython",
    "version": 3
   },
   "file_extension": ".py",
   "mimetype": "text/x-python",
   "name": "python",
   "nbconvert_exporter": "python",
   "pygments_lexer": "ipython3",
   "version": "3.6.8"
  }
 },
 "nbformat": 4,
 "nbformat_minor": 2
}
