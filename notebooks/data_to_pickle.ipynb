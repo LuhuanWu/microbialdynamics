{
 "cells": [
  {
   "cell_type": "code",
   "execution_count": 1,
   "metadata": {
    "collapsed": true
   },
   "outputs": [],
   "source": [
    "import numpy as np\n",
    "import pandas as pd"
   ]
  },
  {
   "cell_type": "code",
   "execution_count": 2,
   "metadata": {
    "collapsed": true
   },
   "outputs": [],
   "source": [
    "file1 = \"data/taur-events.csv\"\n",
    "file2 = \"data/taur-otu-table-15tpts.csv\""
   ]
  },
  {
   "cell_type": "code",
   "execution_count": 3,
   "metadata": {
    "collapsed": true
   },
   "outputs": [],
   "source": [
    "f1 = pd.read_csv(file1)\n",
    "f2 = pd.read_csv(file2, header=None)"
   ]
  },
  {
   "cell_type": "code",
   "execution_count": 4,
   "metadata": {
    "collapsed": true
   },
   "outputs": [],
   "source": [
    "data1 = f1.to_numpy()\n",
    "data2 = f2.to_numpy()"
   ]
  },
  {
   "cell_type": "code",
   "execution_count": 5,
   "metadata": {
    "collapsed": true
   },
   "outputs": [],
   "source": [
    "pid = np.array(f1['patientID'])"
   ]
  },
  {
   "cell_type": "markdown",
   "metadata": {},
   "source": [
    "### obs"
   ]
  },
  {
   "cell_type": "code",
   "execution_count": 6,
   "metadata": {
    "collapsed": true
   },
   "outputs": [],
   "source": [
    "measure_pid = f2.loc[0:0, 1:]\n",
    "measure_pid = np.array(measure_pid, dtype=int)\n",
    "measure_pid = measure_pid.reshape((-1))\n",
    "f2pid = np.unique(measure_pid)"
   ]
  },
  {
   "cell_type": "code",
   "execution_count": 7,
   "metadata": {},
   "outputs": [
    {
     "name": "stdout",
     "output_type": "stream",
     "text": [
      "21 patients with id [ 26  31  97 447 515 530 531 537 551 642 694 697 698 704 708 721 747 753\n",
      " 763 765 769]\n"
     ]
    }
   ],
   "source": [
    "print(\"{} patients with id {}\".format(len(f2pid), f2pid))"
   ]
  },
  {
   "cell_type": "code",
   "execution_count": 8,
   "metadata": {},
   "outputs": [
    {
     "name": "stdout",
     "output_type": "stream",
     "text": [
      "count shape (measures, microbio speicies): (405, 770)\n"
     ]
    }
   ],
   "source": [
    "count = data2[2:-1, 1:].T.astype(int)\n",
    "print(\"count shape (measures, microbio speicies):\", count.shape)\n",
    "count_sum_across_spieces = np.sum(count, axis=1, keepdims=True)\n",
    "percentage = count / count_sum_across_spieces"
   ]
  },
  {
   "cell_type": "code",
   "execution_count": 9,
   "metadata": {},
   "outputs": [
    {
     "name": "stdout",
     "output_type": "stream",
     "text": [
      "top_k_spieces_idx: [281 291 411 326 284 441 731  15  25 261]\n",
      "top  0, idx  281, percentage_sum 98.14, name Bacteria;Firmicutes;Bacilli;Lactobacillales;Enterococcaceae;Enterococcus\n",
      "top  1, idx  291, percentage_sum 60.05, name Bacteria;Firmicutes;Bacilli;Lactobacillales;Streptococcaceae;Streptococcus\n",
      "top  2, idx  411, percentage_sum 34.52, name Bacteria;Firmicutes;Erysipelotrichia;Erysipelotrichales;Erysipelotrichaceae;Erysipelatoclostridium\n",
      "top  3, idx  326, percentage_sum 31.39, name Bacteria;Firmicutes;Clostridia;Clostridiales;Lachnospiraceae;Blautia\n",
      "top  4, idx  284, percentage_sum 18.89, name Bacteria;Firmicutes;Bacilli;Lactobacillales;Lactobacillaceae;Lactobacillus\n",
      "top  5, idx  441, percentage_sum 12.88, name Bacteria;Firmicutes;Negativicutes;Veillonellales;Veillonellaceae;Veillonella\n",
      "top  6, idx  731, percentage_sum 12.48, name Bacteria;Verrucomicrobia;Verrucomicrobiae;Verrucomicrobiales;Akkermansiaceae;Akkermansia\n",
      "top  7, idx   15, percentage_sum 11.00, name Bacteria;Actinobacteria;Actinobacteria;Actinomycetales;Actinomycetaceae;Actinomyces\n",
      "top  8, idx   25, percentage_sum 10.38, name Bacteria;Actinobacteria;Actinobacteria;Bifidobacteriales;Bifidobacteriaceae;Bifidobacterium\n",
      "top  9, idx  261, percentage_sum  8.40, name Bacteria;Firmicutes;Bacilli;Bacillales;Staphylococcaceae;Staphylococcus\n"
     ]
    }
   ],
   "source": [
    "percentage_sum_across_measures = np.sum(percentage, axis=0)\n",
    "spieces_name = data2[2:-1, 0]\n",
    "k = 10\n",
    "top_k_spieces_idx = np.argsort(percentage_sum_across_measures)[-k:][::-1]\n",
    "print(\"top_k_spieces_idx:\", top_k_spieces_idx)\n",
    "for i, idx in enumerate(top_k_spieces_idx):\n",
    "    print(\"top {:>2}, idx {:>4}, percentage_sum {:>5.2f}, name {}\".format(i, idx, percentage_sum_across_measures[idx], spieces_name[idx]))"
   ]
  },
  {
   "cell_type": "code",
   "execution_count": 10,
   "metadata": {},
   "outputs": [
    {
     "ename": "NameError",
     "evalue": "name 'dates' is not defined",
     "output_type": "error",
     "traceback": [
      "\u001b[0;31m---------------------------------------------------------------------------\u001b[0m",
      "\u001b[0;31mNameError\u001b[0m                                 Traceback (most recent call last)",
      "\u001b[0;32m<ipython-input-10-266014ff617f>\u001b[0m in \u001b[0;36m<module>\u001b[0;34m\u001b[0m\n\u001b[0;32m----> 1\u001b[0;31m \u001b[0mprint\u001b[0m\u001b[0;34m(\u001b[0m\u001b[0mdates\u001b[0m\u001b[0;34m)\u001b[0m\u001b[0;34m\u001b[0m\u001b[0;34m\u001b[0m\u001b[0m\n\u001b[0m",
      "\u001b[0;31mNameError\u001b[0m: name 'dates' is not defined"
     ]
    }
   ],
   "source": [
    "print(dates)"
   ]
  },
  {
   "cell_type": "code",
   "execution_count": null,
   "metadata": {},
   "outputs": [],
   "source": [
    "obs = []\n",
    "\n",
    "dates = data2[1, 1:].astype(int)\n",
    "percentage_obs = np.zeros((percentage.shape[0], k + 2))\n",
    "percentage_obs[:, 0] = dates\n",
    "percentage_obs[:, 1:-1] = percentage[:, top_k_spieces_idx]\n",
    "percentage_obs[:, -1] = 1 - np.sum(percentage_obs[:, 1:], axis=-1)\n",
    "\n",
    "pid_measure_start = 0\n",
    "for pid in f2pid:\n",
    "    patient_obs = []\n",
    "    for i in range(pid_measure_start, len(measure_pid)):\n",
    "        if measure_pid[i] != pid:\n",
    "            pid_measure_start = i\n",
    "            break\n",
    "        patient_obs.append(percentage_obs[i])\n",
    "    obs.append(np.asarray(patient_obs))\n",
    "print(len(obs), obs[0].shape)"
   ]
  },
  {
   "cell_type": "markdown",
   "metadata": {},
   "source": [
    "### Input"
   ]
  },
  {
   "cell_type": "code",
   "execution_count": null,
   "metadata": {},
   "outputs": [],
   "source": [
    "event_pid, event, event_start, event_end = data1.T\n",
    "event_pid = np.array(event_pid, dtype=int)\n",
    "event_start = np.array(event_start, dtype=int)\n",
    "event_end = np.array(event_end, dtype=int)\n",
    "unique_event = list(np.unique(event))\n",
    "num_event = len(unique_event)\n",
    "print(\"total {} kinds of events: {}\".format(num_event, unique_event))"
   ]
  },
  {
   "cell_type": "code",
   "execution_count": null,
   "metadata": {},
   "outputs": [],
   "source": [
    "Input = []\n",
    "for pid in f2pid:\n",
    "    patient_event_idxs = np.where(event_pid == pid)[0]\n",
    "    input_start = min(event_start[patient_event_idxs])\n",
    "    input_end = max(event_end[patient_event_idxs])\n",
    "    input_len = input_end - input_start + 1\n",
    "    patient_input = np.zeros((input_len, num_event + 1))\n",
    "    patient_input[:, 0] = np.arange(input_start, input_end + 1)\n",
    "    for event_idx in patient_event_idxs:\n",
    "        patient_event = event[event_idx]\n",
    "        event_id = unique_event.index(patient_event) + 1\n",
    "        event_start_idx = event_start[event_idx] - input_start\n",
    "        event_end_idx = event_end[event_idx] - input_start + 1\n",
    "        patient_input[event_start_idx:event_end_idx, event_id] = np.ones(event_end_idx - event_start_idx)\n",
    "    Input.append(patient_input)\n",
    "print(len(Input), Input[0].shape)"
   ]
  },
  {
   "cell_type": "markdown",
   "metadata": {},
   "source": [
    "### split into train & test and save"
   ]
  },
  {
   "cell_type": "code",
   "execution_count": null,
   "metadata": {
    "collapsed": true
   },
   "outputs": [],
   "source": [
    "import os, pickle\n",
    "n_train = 17\n",
    "data = {}\n",
    "data[\"Ytrain\"] = obs[:n_train]\n",
    "data[\"Ytest\"] = obs[n_train:]\n",
    "data[\"Vtrain\"] = Input[:n_train]\n",
    "data[\"Vtest\"] = Input[n_train:]\n",
    "with open(os.path.join(\"data\", \"microbio.p\"), \"wb\") as f:\n",
    "    pickle.dump(data, f)"
   ]
  }
 ],
 "metadata": {
  "kernelspec": {
   "display_name": "Python 3",
   "language": "python",
   "name": "python3"
  },
  "language_info": {
   "codemirror_mode": {
    "name": "ipython",
    "version": 3
   },
   "file_extension": ".py",
   "mimetype": "text/x-python",
   "name": "python",
   "nbconvert_exporter": "python",
   "pygments_lexer": "ipython3",
   "version": "3.6.2"
  }
 },
 "nbformat": 4,
 "nbformat_minor": 2
}
