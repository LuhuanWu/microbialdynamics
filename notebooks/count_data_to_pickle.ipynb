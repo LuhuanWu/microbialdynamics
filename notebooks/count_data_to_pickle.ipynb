{
 "cells": [
  {
   "cell_type": "code",
   "execution_count": 1,
   "metadata": {},
   "outputs": [],
   "source": [
    "import numpy as np\n",
    "import pandas as pd"
   ]
  },
  {
   "cell_type": "code",
   "execution_count": 2,
   "metadata": {},
   "outputs": [],
   "source": [
    "file1 = \"../data/taur-events-0925.csv\"\n",
    "file2 = \"../data/taur-otu-table-15tpts-0925.csv\""
   ]
  },
  {
   "cell_type": "code",
   "execution_count": 3,
   "metadata": {},
   "outputs": [],
   "source": [
    "f1 = pd.read_csv(file1)\n",
    "f2 = pd.read_csv(file2, header=None)"
   ]
  },
  {
   "cell_type": "code",
   "execution_count": 4,
   "metadata": {},
   "outputs": [],
   "source": [
    "data1 = f1.to_numpy()\n",
    "data2 = f2.to_numpy()"
   ]
  },
  {
   "cell_type": "code",
   "execution_count": 5,
   "metadata": {},
   "outputs": [],
   "source": [
    "pid = np.array(f1['patientID'])"
   ]
  },
  {
   "cell_type": "markdown",
   "metadata": {},
   "source": [
    "# obs"
   ]
  },
  {
   "cell_type": "code",
   "execution_count": 6,
   "metadata": {},
   "outputs": [],
   "source": [
    "measure_pid = np.array(f2.loc[0, 1:], dtype=int)\n",
    "f2pid = np.unique(measure_pid)"
   ]
  },
  {
   "cell_type": "code",
   "execution_count": 7,
   "metadata": {},
   "outputs": [
    {
     "name": "stdout",
     "output_type": "stream",
     "text": [
      "108 patients with id [ 12  16  25  26  31  35  45  51  54  59  68  74  75  81  85  88  93  95\n",
      "  97 111 126 139 146 161 164 167 169 174 218 235 239 244 250 254 255 259\n",
      " 261 280 284 294 306 311 312 315 320 331 336 338 347 366 367 374 377 383\n",
      " 386 410 415 429 436 447 449 460 463 468 480 495 501 502 504 515 523 525\n",
      " 530 531 536 537 551 565 566 580 593 602 605 608 642 645 666 683 694 697\n",
      " 698 704 708 710 715 718 721 725 738 746 747 748 750 753 756 763 765 769]\n"
     ]
    }
   ],
   "source": [
    "print(\"{} patients with id {}\".format(len(f2pid), f2pid))"
   ]
  },
  {
   "cell_type": "code",
   "execution_count": 8,
   "metadata": {},
   "outputs": [
    {
     "name": "stdout",
     "output_type": "stream",
     "text": [
      "count shape (measures, microbio speicies): (1068, 50)\n"
     ]
    }
   ],
   "source": [
    "count = data2[2:-1, 1:].T.astype(int)\n",
    "print(\"count shape (measures, microbio speicies):\", count.shape)\n",
    "count_sum_across_spieces = np.sum(count, axis=1, keepdims=True)\n",
    "percentage = count / count_sum_across_spieces"
   ]
  },
  {
   "cell_type": "code",
   "execution_count": 9,
   "metadata": {},
   "outputs": [
    {
     "name": "stdout",
     "output_type": "stream",
     "text": [
      "top_k_spieces_idx: [0 1 2 3 4 6 5 7 8 9]\n",
      "top  0, idx    0, percentage_sum 246.22, name Bacteria;Firmicutes;Bacilli;Lactobacillales;Enterococcaceae;Enterococcus\n",
      "top  1, idx    1, percentage_sum 140.79, name Bacteria;Firmicutes;Bacilli;Lactobacillales;Streptococcaceae;Streptococcus\n",
      "top  2, idx    2, percentage_sum 105.49, name Bacteria;Firmicutes;Erysipelotrichia;Erysipelotrichales;Erysipelotrichaceae;Erysipelatoclostridium\n",
      "top  3, idx    3, percentage_sum 87.96, name Bacteria;Firmicutes;Clostridia;Clostridiales;Lachnospiraceae;Blautia\n",
      "top  4, idx    4, percentage_sum 61.11, name Bacteria;Firmicutes;Bacilli;Lactobacillales;Lactobacillaceae;Lactobacillus\n",
      "top  5, idx    6, percentage_sum 34.62, name Bacteria;Bacteroidetes;Bacteroidia;Bacteroidales;Bacteroidaceae;Bacteroides\n",
      "top  6, idx    5, percentage_sum 34.29, name Bacteria;Verrucomicrobia;Verrucomicrobiae;Verrucomicrobiales;Akkermansiaceae;Akkermansia\n",
      "top  7, idx    7, percentage_sum 27.33, name Bacteria;Firmicutes;Negativicutes;Veillonellales;Veillonellaceae;Veillonella\n",
      "top  8, idx    8, percentage_sum 24.77, name Bacteria;Actinobacteria;Actinobacteria;Actinomycetales;Actinomycetaceae;Actinomyces\n",
      "top  9, idx    9, percentage_sum 23.47, name Bacteria;Firmicutes;Clostridia;Clostridiales;Lachnospiraceae;Lachnoclostridium\n"
     ]
    }
   ],
   "source": [
    "percentage_sum_across_measures = np.sum(percentage, axis=0)\n",
    "spieces_name = data2[2:-1, 0]\n",
    "k = 10\n",
    "top_k_spieces_idx = np.argsort(percentage_sum_across_measures)[-k:][::-1]\n",
    "print(\"top_k_spieces_idx:\", top_k_spieces_idx)\n",
    "for i, idx in enumerate(top_k_spieces_idx):\n",
    "    print(\"top {:>2}, idx {:>4}, percentage_sum {:>5.2f}, name {}\".format(i, idx, percentage_sum_across_measures[idx], spieces_name[idx]))"
   ]
  },
  {
   "cell_type": "code",
   "execution_count": 10,
   "metadata": {},
   "outputs": [],
   "source": [
    "dates = data2[1, 1:].astype(int)\n",
    "count_obs = np.zeros((count.shape[0], k + 2)) \n",
    "count_obs[:, 0] = dates\n",
    "count_obs[:, 1:-1] = count[:, top_k_spieces_idx]\n",
    "count_obs[:, -1] = count.sum(axis=-1) - count[:,top_k_spieces_idx].sum(axis=-1)\n",
    "percentage_obs = np.copy(count_obs)\n",
    "percentage_obs[:, 1:-1] = count_obs[:, 1:-1] / np.sum(count_obs[:, 1:-1], axis=1, keepdims=True)"
   ]
  },
  {
   "cell_type": "code",
   "execution_count": 11,
   "metadata": {},
   "outputs": [
    {
     "data": {
      "text/plain": [
       "((1068,), (1068, 12), (1068, 12))"
      ]
     },
     "execution_count": 11,
     "metadata": {},
     "output_type": "execute_result"
    }
   ],
   "source": [
    "np.array(measure_pid).shape, np.array(count_obs).shape, np.array(percentage_obs).shape"
   ]
  },
  {
   "cell_type": "code",
   "execution_count": 12,
   "metadata": {},
   "outputs": [
    {
     "name": "stdout",
     "output_type": "stream",
     "text": [
      "108 (5, 12)\n"
     ]
    }
   ],
   "source": [
    "use_split = False\n",
    "\n",
    "Y = []\n",
    "percentage_Y = []\n",
    "obs_pid = []\n",
    "\n",
    "pid_measure_start = 0\n",
    "pid = measure_pid[0]\n",
    "while True:\n",
    "    patient_obs = []\n",
    "    patient_percentage_obs = []\n",
    "    for i in range(pid_measure_start, len(measure_pid)):\n",
    "        if measure_pid[i] != pid:\n",
    "            pid_measure_start = i\n",
    "            pid = measure_pid[i]\n",
    "            break\n",
    "        if use_split and i > pid_measure_start and dates[i] - dates[i - 1] > 8:\n",
    "            pid_measure_start = i\n",
    "            break\n",
    "        patient_obs.append(count_obs[i])\n",
    "        patient_percentage_obs.append(percentage_obs[i])\n",
    "    if len(patient_obs) > 2:\n",
    "        Y.append(np.asarray(patient_obs))\n",
    "        percentage_Y.append(np.asarray(patient_percentage_obs))\n",
    "        obs_pid.append(pid)\n",
    "    if i == len(measure_pid) - 1:\n",
    "        break\n",
    "        \n",
    "obs, percentage_obs = Y, percentage_Y\n",
    "print(len(obs), obs[0].shape)"
   ]
  },
  {
   "cell_type": "markdown",
   "metadata": {},
   "source": [
    "# Inputs"
   ]
  },
  {
   "cell_type": "code",
   "execution_count": 13,
   "metadata": {},
   "outputs": [
    {
     "name": "stdout",
     "output_type": "stream",
     "text": [
      "total 16 kinds of events: ['PCP prophylaxis agents', 'anti-VRE agents', 'anti-anaerobic agent', 'beta-lactamase inhibitors', 'carbapenems', 'first/second generation cephalosporins', 'fourth/fifth generation cephalosporins', 'glycopeptide', 'macrolides', 'miscellaneous antibiotics', 'monobactams', 'penicillins', 'quinolones', 'surgery', 'tetracyclines', 'third generation cephalosporins']\n"
     ]
    }
   ],
   "source": [
    "event_pid, event, event_start, event_end = data1.T\n",
    "event_pid = np.array(event_pid, dtype=int)\n",
    "event_start = np.array(event_start, dtype=int)\n",
    "event_end = np.array(event_end, dtype=int)\n",
    "unique_event = list(np.unique(event))\n",
    "num_event = len(unique_event)\n",
    "print(\"total {} kinds of events: {}\".format(num_event, unique_event))"
   ]
  },
  {
   "cell_type": "code",
   "execution_count": 14,
   "metadata": {},
   "outputs": [
    {
     "name": "stdout",
     "output_type": "stream",
     "text": [
      "108 (20, 17)\n"
     ]
    }
   ],
   "source": [
    "Input = []\n",
    "for pobs, pid in zip(obs, obs_pid):\n",
    "    patient_event_idxs = np.where(event_pid == pid)[0]\n",
    "    obs_start = int(pobs[0, 0])\n",
    "    obs_end = int(pobs[-1, 0])\n",
    "    patient_input = np.zeros((obs_end - obs_start + 1, num_event + 1))\n",
    "    patient_input[:, 0] = np.arange(obs_start, obs_end + 1)\n",
    "    \n",
    "    for event_idx in patient_event_idxs:\n",
    "        patient_event = event[event_idx]\n",
    "        event_id = unique_event.index(patient_event) + 1\n",
    "        if patient_event == \"surgery\":\n",
    "            surgery_start = min(patient_input.shape[0], max(0, 0 - obs_start))\n",
    "            patient_input[surgery_start:, event_id] = np.ones(patient_input.shape[0] - surgery_start)\n",
    "        else:\n",
    "            for i in range(event_start[event_idx], event_end[event_idx] + 1):\n",
    "                if not obs_start <= i <= obs_end:\n",
    "                    continue\n",
    "                patient_input[i - obs_start, event_id] = 1.0\n",
    "    Input.append(patient_input)\n",
    "print(len(Input), Input[0].shape)"
   ]
  },
  {
   "cell_type": "markdown",
   "metadata": {},
   "source": [
    "# explore inputs and observations"
   ]
  },
  {
   "cell_type": "code",
   "execution_count": 15,
   "metadata": {},
   "outputs": [
    {
     "data": {
      "text/plain": [
       "(20, 17)"
      ]
     },
     "execution_count": 15,
     "metadata": {},
     "output_type": "execute_result"
    }
   ],
   "source": [
    "Input[0].shape"
   ]
  },
  {
   "cell_type": "code",
   "execution_count": 16,
   "metadata": {},
   "outputs": [
    {
     "data": {
      "text/plain": [
       "(5, 12)"
      ]
     },
     "execution_count": 16,
     "metadata": {},
     "output_type": "execute_result"
    }
   ],
   "source": [
    "obs[0].shape"
   ]
  },
  {
   "cell_type": "code",
   "execution_count": 17,
   "metadata": {},
   "outputs": [
    {
     "data": {
      "text/plain": [
       "array([-4., -3., -2., -1.,  0.,  1.,  2.,  3.,  4.,  5.,  6.,  7.,  8.,\n",
       "        9., 10., 11., 12., 13., 14., 15.])"
      ]
     },
     "execution_count": 17,
     "metadata": {},
     "output_type": "execute_result"
    }
   ],
   "source": [
    "Input[0][:,0]"
   ]
  },
  {
   "cell_type": "code",
   "execution_count": 18,
   "metadata": {},
   "outputs": [
    {
     "data": {
      "text/plain": [
       "array([-4., -1.,  6., 10., 15.])"
      ]
     },
     "execution_count": 18,
     "metadata": {},
     "output_type": "execute_result"
    }
   ],
   "source": [
    "obs[0][:,0]"
   ]
  },
  {
   "cell_type": "markdown",
   "metadata": {},
   "source": [
    "# counts"
   ]
  },
  {
   "cell_type": "code",
   "execution_count": 19,
   "metadata": {},
   "outputs": [
    {
     "data": {
      "text/plain": [
       "(5, 11)"
      ]
     },
     "execution_count": 19,
     "metadata": {},
     "output_type": "execute_result"
    }
   ],
   "source": [
    "obs[0][:,1:].shape"
   ]
  },
  {
   "cell_type": "code",
   "execution_count": 20,
   "metadata": {},
   "outputs": [],
   "source": [
    "counts = []\n",
    "for single_obs in obs:\n",
    "    single_counts = single_obs[:,1:].sum(axis=-1)\n",
    "    counts.append(single_counts)"
   ]
  },
  {
   "cell_type": "code",
   "execution_count": 21,
   "metadata": {},
   "outputs": [
    {
     "data": {
      "text/plain": [
       "(7,)"
      ]
     },
     "execution_count": 21,
     "metadata": {},
     "output_type": "execute_result"
    }
   ],
   "source": [
    "counts[1].shape"
   ]
  },
  {
   "cell_type": "code",
   "execution_count": 22,
   "metadata": {},
   "outputs": [
    {
     "data": {
      "text/plain": [
       "108"
      ]
     },
     "execution_count": 22,
     "metadata": {},
     "output_type": "execute_result"
    }
   ],
   "source": [
    "len(counts)"
   ]
  },
  {
   "cell_type": "markdown",
   "metadata": {},
   "source": [
    "# split into train & test and save"
   ]
  },
  {
   "cell_type": "code",
   "execution_count": 23,
   "metadata": {},
   "outputs": [],
   "source": [
    "import os, pickle\n",
    "n_train = 90\n",
    "data = {}\n",
    "data[\"Ytrain\"] = obs[:n_train]\n",
    "data[\"Ytest\"] = obs[n_train:]\n",
    "data[\"Vtrain\"] = Input[:n_train]\n",
    "data[\"Vtest\"] = Input[n_train:]\n",
    "with open(os.path.join(\"..\", \"data\", \"count_microbio{}.p\".format(\"_split\" if use_split else \"\")), \"wb\") as f:\n",
    "    pickle.dump(data, f)\n",
    "data[\"Ytrain\"] = percentage_obs[:n_train]\n",
    "data[\"Ytest\"] = percentage_obs[n_train:]\n",
    "with open(os.path.join(\"..\", \"data\", \"microbio{}.p\".format(\"_split\" if use_split else \"\")), \"wb\") as f:\n",
    "    pickle.dump(data, f)"
   ]
  }
 ],
 "metadata": {
  "kernelspec": {
   "display_name": "Python 3",
   "language": "python",
   "name": "python3"
  },
  "language_info": {
   "codemirror_mode": {
    "name": "ipython",
    "version": 3
   },
   "file_extension": ".py",
   "mimetype": "text/x-python",
   "name": "python",
   "nbconvert_exporter": "python",
   "pygments_lexer": "ipython3",
   "version": "3.6.2"
  }
 },
 "nbformat": 4,
 "nbformat_minor": 2
}
