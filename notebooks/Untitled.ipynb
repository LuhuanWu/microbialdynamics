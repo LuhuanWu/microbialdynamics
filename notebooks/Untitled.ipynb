{
 "cells": [
  {
   "cell_type": "code",
   "execution_count": 2,
   "metadata": {
    "collapsed": true
   },
   "outputs": [],
   "source": [
    "import matplotlib.pyplot as plt\n",
    "import numpy as np"
   ]
  },
  {
   "cell_type": "code",
   "execution_count": null,
   "metadata": {
    "collapsed": true
   },
   "outputs": [],
   "source": [
    "# network = [32]"
   ]
  },
  {
   "cell_type": "code",
   "execution_count": 6,
   "metadata": {
    "collapsed": false
   },
   "outputs": [
    {
     "ename": "SyntaxError",
     "evalue": "invalid syntax (<ipython-input-6-a8f29d599c8a>, line 1)",
     "output_type": "error",
     "traceback": [
      "\u001b[0;36m  File \u001b[0;32m\"<ipython-input-6-a8f29d599c8a>\"\u001b[0;36m, line \u001b[0;32m1\u001b[0m\n\u001b[0;31m    mlp_dx2=\u001b[0m\n\u001b[0m             ^\u001b[0m\n\u001b[0;31mSyntaxError\u001b[0m\u001b[0;31m:\u001b[0m invalid syntax\n"
     ]
    }
   ],
   "source": [
    "mlp_dx2= \n",
    "Train, Valid k-step Rsq (original space):\n",
    " [0.85486984 0.23394781 0.19221199 0.19594347 0.18043679 0.1806671 ] \n",
    " [0.77405746 0.17163873 0.14021307 0.05151504 0.06163603 0.11575407]\n",
    "Train, Valid k-step Rsq (percent space):\n",
    " [ 0.73220816 -0.17271936 -0.28752041 -0.32475996 -0.36967337 -0.40752518] \n",
    " [ 0.7596622  -0.16103244 -0.27125776 -0.32062113 -0.34073579 -0.35254896]\n",
    "Train, Valid k-step Rsq (log percent space):\n",
    " [ 0.17253542 -0.97221935 -1.0608561  -1.04552412 -1.01453519 -1.02570438] \n",
    " [ 0.08456337 -1.05107212 -1.16120577 -1.17109942 -1.12044883 -1.11227322]"
   ]
  },
  {
   "cell_type": "code",
   "execution_count": null,
   "metadata": {
    "collapsed": true
   },
   "outputs": [],
   "source": [
    "linear_dx2 = \n",
    "Train, Valid k-step Rsq (original space):\n",
    " [ 8.54492754e-01  2.15800941e-01  1.28144979e-01  8.42081904e-02\n",
    "  3.10698748e-02 -7.17401505e-04] \n",
    " [ 0.79005845 -0.25070417 -0.34185624 -0.30719352 -0.45586789 -0.57290876]\n",
    "Train, Valid k-step Rsq (percent space):\n",
    " [ 0.74784082 -0.1470921  -0.25398755 -0.29778171 -0.34436226 -0.39573359] \n",
    " [ 0.78382882 -0.33797562 -0.44289291 -0.46775818 -0.56871545 -0.64958966]\n",
    "Train, Valid k-step Rsq (log percent space):\n",
    " [ 0.1561982  -0.7281239  -0.8629787  -0.96104097 -1.0239377  -1.10958886] "
   ]
  },
  {
   "cell_type": "code",
   "execution_count": null,
   "metadata": {
    "collapsed": true
   },
   "outputs": [],
   "source": [
    "clv_dx2 = \n",
    " [0.8421316  0.5127964  0.29515225 0.1928122  0.08714974 0.115659  ] \n",
    " [ 0.68076262  0.48980492  0.32352972  0.23142874  0.02662045 -0.04692388]\n",
    "Train, Valid k-step Rsq (percent space):\n",
    " [ 0.6995053   0.1569382  -0.01233828 -0.17444813 -0.23286378 -0.32065296] \n",
    " [ 0.71459952  0.15071869 -0.06556392 -0.1811614  -0.3227973  -0.39749289]\n",
    "Train, Valid k-step Rsq (log percent space):\n",
    " [ 0.19613332 -0.28779852 -0.43766022 -0.55579603 -0.65045273 -0.76286829] \n",
    " [ 0.02067757 -0.36293817 -0.5109576  -0.64882576 -0.80835474 -0.96603227]"
   ]
  },
  {
   "cell_type": "code",
   "execution_count": null,
   "metadata": {
    "collapsed": true
   },
   "outputs": [],
   "source": [
    "clv_original = \n",
    "Train, Valid k-step Rsq (original space):\n",
    " [0.84074926 0.50579754 0.26117247 0.2120738  0.1783483  0.16978043] \n",
    " [ 0.73935026  0.28171027  0.1116116   0.05508864 -0.02087379 -0.09753513]\n",
    "Train, Valid k-step Rsq (percent space):\n",
    " [ 0.75096077  0.08038962 -0.06344581 -0.13938057 -0.19327331 -0.23140156] \n",
    " [ 0.76634932  0.18002439 -0.04575491 -0.18135941 -0.21360838 -0.29728425]\n",
    "Train, Valid k-step Rsq (log percent space):\n",
    " [ 0.21222067 -0.35970056 -0.59766066 -0.68382621 -0.73939347 -0.79480064] \n",
    " [ 0.06902915 -0.35058093 -0.51622009 -0.58090079 -0.68759429 -0.80698013]"
   ]
  },
  {
   "cell_type": "code",
   "execution_count": null,
   "metadata": {
    "collapsed": true
   },
   "outputs": [],
   "source": [
    "mlp_dx6 = \n",
    "Train log_ZSMC: -7244.923, valid log_ZSMC: -34833.484\n",
    "Train, Valid k-step Rsq (original space):\n",
    " [ 0.97600355 -0.0857408  -0.09870195 -0.09908676 -0.10043299 -0.11037207] \n",
    " [ 0.94930053 -0.12865865 -0.1434288  -0.14583969 -0.15807021 -0.17523456]\n",
    "Train, Valid k-step Rsq (percent space):\n",
    " [ 0.9579016  -0.50411332 -0.50757027 -0.51131201 -0.52504492 -0.54818296] \n",
    " [ 0.95687527 -0.47991121 -0.49323535 -0.49206328 -0.50542367 -0.5143652 ]\n",
    "Train, Valid k-step Rsq (log percent space):\n",
    " [ 0.53663155 -1.17204642 -1.18370605 -1.19860935 -1.21409225 -1.25303602] \n",
    " [ 0.38781971 -1.20589304 -1.22229"
   ]
  },
  {
   "cell_type": "code",
   "execution_count": null,
   "metadata": {
    "collapsed": true
   },
   "outputs": [],
   "source": [
    "linear_dx6 = \n",
    "Train log_ZSMC: -7315.433, valid log_ZSMC: -35741.891\n",
    "Train, Valid k-step Rsq (original space):\n",
    " [0.97029898 0.31937498 0.29309922 0.27828562 0.27822691 0.28161925] \n",
    " [0.94517584 0.15403986 0.11425757 0.08728498 0.07873154 0.07777029]\n",
    "Train, Valid k-step Rsq (percent space):\n",
    " [ 0.94288277 -0.15881228 -0.17829275 -0.19479656 -0.20098293 -0.20835114] \n",
    " [ 0.93769429 -0.14127398 -0.19771361 -0.2303834  -0.23785508 -0.24457002]\n",
    "Train, Valid k-step Rsq (log percent space):\n",
    " [ 0.50668344 -1.03026962 -1.10810995 -1.14526153 -1.1560328  -1.18124652] "
   ]
  },
  {
   "cell_type": "code",
   "execution_count": null,
   "metadata": {
    "collapsed": true
   },
   "outputs": [],
   "source": [
    "clv_dx6 = \n",
    "Train log_ZSMC: -9792.334, valid log_ZSMC: -32971.363\n",
    "Train, Valid k-step Rsq (original space):\n",
    " [0.92787498 0.51346529 0.49854851 0.42728835 0.34291196 0.28240567] \n",
    " [0.97274851 0.34250832 0.20397156 0.1202594  0.09677607 0.03575188]\n",
    "Train, Valid k-step Rsq (percent space):\n",
    " [ 0.88815854  0.14028001  0.02203441 -0.10583496 -0.16642702 -0.23886335] \n",
    " [ 0.94070984  0.27759284  0.01670146 -0.10137236 -0.15917897 -0.28698444]\n",
    "Train, Valid k-step Rsq (log percent space):\n",
    " [ 0.54365069 -0.51207769 -0.68799019 -0.77289999 -0.85549581 -0.92677128] \n",
    " [ 0.42816806 -0.34733856 -0.7354387  -0.90047455 -0.96309328 -1.01746035]"
   ]
  },
  {
   "cell_type": "code",
   "execution_count": null,
   "metadata": {
    "collapsed": true
   },
   "outputs": [],
   "source": [
    "clv_original_dx6 = \n",
    "Train log_ZSMC: -6043.762, valid log_ZSMC: -47382.559\n",
    "Train, Valid k-step Rsq (original space):\n",
    " [ 0.96836633  0.41142583  0.18915844  0.12419522 -0.03794408 -0.13621616] \n",
    " [ 0.96342083  0.42769176  0.04962015 -0.0769366  -0.25523353 -0.38629484]\n",
    "Train, Valid k-step Rsq (percent space):\n",
    " [ 0.95072614  0.07629502 -0.19431102 -0.43318045 -0.60272467 -0.71397519] \n",
    " [ 0.93028698  0.20171136 -0.16344941 -0.37737572 -0.60460615 -0.64236999]\n",
    "Train, Valid k-step Rsq (log percent space):\n",
    " [ 0.54119211 -0.36192775 -0.56415069 -0.6819545  -0.75639844 -0.82705665] \n",
    " [ 0.32641798 -0.36742902 -0.60640419 -0.77273107 -0.89193237 -0.92250216]"
   ]
  },
  {
   "cell_type": "code",
   "execution_count": null,
   "metadata": {
    "collapsed": true
   },
   "outputs": [],
   "source": [
    "mlp_dx10 = \n",
    "Train log_ZSMC: -6031.875, valid log_ZSMC: -32117.352\n",
    "Train, Valid k-step Rsq (original space):\n",
    " [0.97615344 0.30228782 0.30340099 0.30386972 0.30273408 0.30481517] \n",
    " [0.98037174 0.15894794 0.13774472 0.13655573 0.12753779 0.12534589]\n",
    "Train, Valid k-step Rsq (percent space):\n",
    " [ 0.96506698 -0.16834641 -0.1724211  -0.17633927 -0.18681979 -0.20233572] \n",
    " [ 0.96329862 -0.11152005 -0.12083638 -0.12765574 -0.14031208 -0.14841294]\n",
    "Train, Valid k-step Rsq (log percent space):\n",
    " [ 0.63578853 -1.20002961 -1.20931482 -1.22041821 -1.23026609 -1.26233697] \n",
    " [ 0.49303216 -1.24902558 -1.25063396 -1.26617169 -1.26971507 -1.28809786]"
   ]
  },
  {
   "cell_type": "code",
   "execution_count": null,
   "metadata": {
    "collapsed": true
   },
   "outputs": [],
   "source": [
    "linear_dx10 = \n",
    "Train log_ZSMC: -6292.625, valid log_ZSMC: -28738.018\n",
    "Train, Valid k-step Rsq (original space):\n",
    " [0.98090755 0.25804293 0.28871471 0.20672804 0.2191332  0.22197533] \n",
    " [ 0.9860745  -0.04852819  0.00879884  0.044379    0.03357178  0.04631144]\n",
    "Train, Valid k-step Rsq (percent space):\n",
    " [ 0.96294728 -0.22872782 -0.23489141 -0.24952078 -0.26155233 -0.26922858] \n",
    " [ 0.96891426 -0.36095369 -0.3539505  -0.29774296 -0.27992105 -0.26898324]\n",
    "Train, Valid k-step Rsq (log percent space):\n",
    " [ 0.59768024 -0.93214059 -1.04484725 -1.13140798 -1.18954563 -1.23301864] \n",
    " [ 0.47731936 -1.14796233 -1.09567285 -1.21229219 -1.26838231 -1.29663467]"
   ]
  },
  {
   "cell_type": "code",
   "execution_count": null,
   "metadata": {
    "collapsed": true
   },
   "outputs": [],
   "source": [
    "clv_dx10 = \n",
    "Train log_ZSMC: -6894.878, valid log_ZSMC: -31754.320\n",
    "Train, Valid k-step Rsq (original space):\n",
    " [0.93789318 0.46455181 0.35251385 0.37806916 0.31714028 0.31139135] \n",
    " [0.96678915 0.61735335 0.41140437 0.28978056 0.16046441 0.01376289]\n",
    "Train, Valid k-step Rsq (percent space):\n",
    " [ 0.92553694  0.1582647   0.00741655 -0.10971773 -0.19821048 -0.2586323 ] \n",
    " [ 0.95601502  0.3355667   0.00467801 -0.14427936 -0.29601717 -0.40398395]\n",
    "Train, Valid k-step Rsq (log percent space):\n",
    " [ 0.54947406 -0.68780804 -0.80922329 -0.84713948 -0.88155997 -0.9213233 ] \n",
    " [ 0.45064616 -0.52414489 -0.82995903 -0.89530063 -1.02336621 -1.18447328]"
   ]
  },
  {
   "cell_type": "code",
   "execution_count": null,
   "metadata": {
    "collapsed": true
   },
   "outputs": [],
   "source": [
    "clv_original_dx10 = \n",
    "Train log_ZSMC: -5803.628, valid log_ZSMC: -28628.469\n",
    "Train, Valid k-step Rsq (original space):\n",
    " [0.9909463  0.38103431 0.09031659 0.04332006 0.11698955 0.16329104] \n",
    " [ 0.98146661  0.44351435  0.24993724  0.19046724  0.15269279 -0.01127112]\n",
    "Train, Valid k-step Rsq (percent space):\n",
    " [ 0.98162805 -0.01213801 -0.19229174 -0.27349758 -0.31513309 -0.37768626] \n",
    " [ 0.96946644  0.22105616 -0.04458392 -0.15141582 -0.29583168 -0.34218347]\n",
    "Train, Valid k-step Rsq (log percent space):\n",
    " [ 0.65114108 -0.55508757 -0.77517021 -0.91197658 -1.01287389 -1.09321356] \n",
    " [ 0.54413831 -0.36923885 -0.71739471 -0.87265158 -0.95651686 -1.06142354]"
   ]
  },
  {
   "cell_type": "code",
   "execution_count": null,
   "metadata": {
    "collapsed": true
   },
   "outputs": [],
   "source": [
    "mlp_dx14 = \n",
    "Train log_ZSMC: -4934.308, valid log_ZSMC: -23848.523\n",
    "Train, Valid k-step Rsq (original space):\n",
    " [ 0.99433936 -0.83584952 -0.82967234 -0.8301909  -0.83018923 -0.82424629] \n",
    " [ 0.99149816 -0.93660319 -0.92173231 -0.91932595 -0.91235471 -0.90337777]\n",
    "Train, Valid k-step Rsq (percent space):\n",
    " [ 0.98752837 -1.36612368 -1.36654282 -1.36922574 -1.3722775  -1.37791824] \n",
    " [ 0.9821357  -1.41694856 -1.40603089 -1.38803339 -1.39303112 -1.38913774]\n",
    "Train, Valid k-step Rsq (log percent space):\n",
    " [ 0.68716091 -1.04891133 -1.05908966 -1.07201815 -1.08361125 -1.11595774] \n",
    " [ 0.5534884  -1.14350033 -1.15361071 -1.16831279 -1.17318702 -1.1871779 ]"
   ]
  },
  {
   "cell_type": "code",
   "execution_count": null,
   "metadata": {
    "collapsed": true
   },
   "outputs": [],
   "source": [
    "linear_dx14 = \n",
    "Train log_ZSMC: -8273.407, valid log_ZSMC: -37032.422\n",
    "Train, Valid k-step Rsq (original space):\n",
    " [0.96219945 0.04318243 0.03726375 0.19873971 0.10270423 0.10588765] \n",
    " [ 0.95320622 -0.19805646 -0.60649371 -0.46179581 -0.76567495 -0.84577656]\n",
    "Train, Valid k-step Rsq (percent space):\n",
    " [ 0.93118089 -0.45596373 -0.43352163 -0.44857085 -0.52622402 -0.53294075] \n",
    " [ 0.95774911 -0.55138731 -0.65322363 -0.58667088 -0.80517912 -0.85566664]\n",
    "Train, Valid k-step Rsq (log percent space):\n",
    " [ 0.56280965 -0.98116314 -1.00913215 -1.03601241 -1.09069061 -1.13669014] "
   ]
  },
  {
   "cell_type": "code",
   "execution_count": null,
   "metadata": {
    "collapsed": true
   },
   "outputs": [],
   "source": [
    "clv_dx14 = \n",
    "Train log_ZSMC: -4955.263, valid log_ZSMC: -22287.877\n",
    "Train, Valid k-step Rsq (original space):\n",
    " [0.99326365 0.52576855 0.50383162 0.45346719 0.272807   0.08292246] \n",
    " [ 0.99073933  0.55511129  0.33173406  0.11170006 -0.06542158 -0.283252  ]\n",
    "Train, Valid k-step Rsq (percent space):\n",
    " [ 0.98762945  0.12807703 -0.02169132 -0.15101659 -0.2895     -0.42992985] \n",
    " [ 0.98355757  0.29580408 -0.0299741  -0.24981391 -0.48460233 -0.66137218]\n",
    "Train, Valid k-step Rsq (log percent space):\n",
    " [ 0.64176995 -0.22173464 -0.37336624 -0.50858831 -0.58658016 -0.6760304 ] \n",
    " [ 0.52351224 -0.16276646 -0.38597965 -0.5337708  -0.68999004 -0.74926662]"
   ]
  },
  {
   "cell_type": "code",
   "execution_count": null,
   "metadata": {
    "collapsed": true
   },
   "outputs": [],
   "source": [
    "clv_original_dx14 = \n",
    "Train log_ZSMC: -5801.226, valid log_ZSMC: -30170.650\n",
    "Train, Valid k-step Rsq (original space):\n",
    " [0.99473473 0.43032843 0.33383369 0.3524583  0.30556524 0.2296648 ] \n",
    " [0.96241634 0.49998158 0.3205511  0.28532147 0.26168293 0.14405507]\n",
    "Train, Valid k-step Rsq (percent space):\n",
    " [ 0.98593514 -0.0278461  -0.17675376 -0.24105358 -0.27040935 -0.30830145] \n",
    " [ 0.97570336  0.13435113 -0.06654882 -0.07617497 -0.15939903 -0.22075129]\n",
    "Train, Valid k-step Rsq (log percent space):\n",
    " [ 0.62517664 -0.58312404 -0.72652352 -0.81168842 -0.85600424 -0.93746471] \n",
    " [ 0.54981932 -0.39000738 -0.6655755  -0.73623419 -0.81460118 -0.89490426]"
   ]
  },
  {
   "cell_type": "code",
   "execution_count": null,
   "metadata": {
    "collapsed": true
   },
   "outputs": [],
   "source": [
    "mlp_dx18 = \n",
    "Train, Valid k-step Rsq (original space):\n",
    " [0.98692785 0.29573196 0.29765916 0.29848939 0.29789931 0.30083531] \n",
    " [0.98563392 0.21947104 0.20894015 0.20877451 0.20425427 0.20595646]\n",
    "Train, Valid k-step Rsq (percent space):\n",
    " [ 0.97912943 -0.14774716 -0.15118647 -0.15436709 -0.16350782 -0.1744746 ] \n",
    " [ 0.97286465 -0.07589114 -0.08164752 -0.08391142 -0.09032798 -0.09569752]\n",
    "Train, Valid k-step Rsq (log percent space):\n",
    " [ 0.67315042 -1.10127497 -1.11033201 -1.12124419 -1.13013983 -1.16009426] \n",
    " [ 0.52626151 -1.13990402 -1.1399281  -1.15424347 -1.15707469 -1.17394161]"
   ]
  },
  {
   "cell_type": "code",
   "execution_count": null,
   "metadata": {
    "collapsed": true
   },
   "outputs": [],
   "source": [
    "linear_dx18 = \n",
    "Train log_ZSMC: -6517.843, valid log_ZSMC: -37406.090\n",
    "Train, Valid k-step Rsq (original space):\n",
    " [ 0.9868643   0.11653471 -0.1956358  -0.06293738 -0.04821217 -0.21535373] \n",
    " [ 0.96961561  0.02410012 -0.29099667 -0.32790363 -0.20676064 -0.36595285]\n",
    "Train, Valid k-step Rsq (percent space):\n",
    " [ 0.96453559 -0.39352    -0.56275606 -0.52754056 -0.52715576 -0.64221919] \n",
    " [ 0.94878004 -0.56812108 -0.75789857 -0.7619381  -0.67447209 -0.77312565]\n",
    "Train, Valid k-step Rsq (log percent space):\n",
    " [ 0.57228464 -0.92671943 -1.17918754 -1.17530441 -1.16411066 -1.20531964] \n",
    " [ 0.43346459 -1.2627759  -1.72460651 -1.8635087  -1.82916403 -1.8375349 ]"
   ]
  },
  {
   "cell_type": "code",
   "execution_count": null,
   "metadata": {
    "collapsed": true
   },
   "outputs": [],
   "source": [
    "clv_dx18 = \n",
    "Train log_ZSMC: -4579.174, valid log_ZSMC: -20242.193\n",
    "Train, Valid k-step Rsq (original space):\n",
    " [0.99503538 0.50360543 0.41400421 0.34475869 0.22668594 0.05864799] \n",
    " [0.98576063 0.58683559 0.3836593  0.29590273 0.17231733 0.00580281]\n",
    "Train, Valid k-step Rsq (percent space):\n",
    " [ 0.98946565  0.29238474  0.20289034  0.14218026  0.04542667 -0.00673401] \n",
    " [ 0.98462557  0.4100889   0.19218904  0.11136758  0.02572083 -0.02380502]\n",
    "Train, Valid k-step Rsq (log percent space):\n",
    " [ 0.66398099 -0.37834096 -0.52848661 -0.64775991 -0.70817173 -0.73681867] \n",
    " [ 0.5752891  -0.29058301 -0.55793607 -0.65421915 -0.75735879 -0.76738882]"
   ]
  },
  {
   "cell_type": "code",
   "execution_count": null,
   "metadata": {
    "collapsed": true
   },
   "outputs": [],
   "source": [
    "clv_original_dx18 = \n",
    "Train log_ZSMC: -5299.977, valid log_ZSMC: -23038.395\n",
    "Train, Valid k-step Rsq (original space):\n",
    " [ 0.9805446   0.53015411  0.40354836  0.26183128  0.0341928  -0.07133877] \n",
    " [0.98076611 0.58665282 0.36886585 0.30580723 0.17474067 0.07273257]\n",
    "Train, Valid k-step Rsq (percent space):\n",
    " [ 0.96785843  0.28037339  0.02680725 -0.22998905 -0.42268193 -0.5660187 ] \n",
    " [ 0.96680608  0.38401723  0.15066808 -0.01232851 -0.17011023 -0.27546537]\n",
    "Train, Valid k-step Rsq (log percent space):\n",
    " [ 0.64506608 -0.22007263 -0.34556878 -0.49659812 -0.58110476 -0.63553953] \n",
    " [ 0.6057671  -0.11945987 -0.34993517 -0.53715467 -0.62919354 -0.69528067]"
   ]
  },
  {
   "cell_type": "code",
   "execution_count": null,
   "metadata": {
    "collapsed": true
   },
   "outputs": [],
   "source": []
  }
 ],
 "metadata": {
  "kernelspec": {
   "display_name": "SMC_venv",
   "language": "python",
   "name": "smc_venv"
  },
  "language_info": {
   "codemirror_mode": {
    "name": "ipython",
    "version": 3
   },
   "file_extension": ".py",
   "mimetype": "text/x-python",
   "name": "python",
   "nbconvert_exporter": "python",
   "pygments_lexer": "ipython3",
   "version": "3.6.8"
  }
 },
 "nbformat": 4,
 "nbformat_minor": 2
}
