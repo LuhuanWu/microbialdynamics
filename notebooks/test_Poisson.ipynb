{
 "cells": [
  {
   "cell_type": "code",
   "execution_count": 61,
   "metadata": {
    "collapsed": true
   },
   "outputs": [],
   "source": [
    "import numpy as np\n",
    "\n",
    "import tensorflow as tf\n",
    "from tensorflow_probability import distributions as tfd\n",
    "\n",
    "import matplotlib.pyplot as plt\n",
    "%matplotlib inline\n",
    "\n",
    "import pickle\n",
    "\n",
    "from src.utils.data_loader import load_data"
   ]
  },
  {
   "cell_type": "code",
   "execution_count": 44,
   "metadata": {
    "collapsed": false
   },
   "outputs": [],
   "source": [
    "data_dir = \"/Users/leah/Columbia/courses/19summer/microbialdynamics/data/microbio.p\""
   ]
  },
  {
   "cell_type": "code",
   "execution_count": 46,
   "metadata": {
    "collapsed": true
   },
   "outputs": [],
   "source": [
    "with open(data_dir, \"rb\") as handle:\n",
    "    data = pickle.load(handle)"
   ]
  },
  {
   "cell_type": "code",
   "execution_count": 58,
   "metadata": {
    "collapsed": true
   },
   "outputs": [],
   "source": [
    "Dx = 3"
   ]
  },
  {
   "cell_type": "code",
   "execution_count": 82,
   "metadata": {
    "collapsed": false
   },
   "outputs": [],
   "source": [
    "hidden_train, hidden_test, obs_train, obs_test, input_train, input_test = load_data(data_dir, Dx, False, False)"
   ]
  },
  {
   "cell_type": "code",
   "execution_count": 62,
   "metadata": {
    "collapsed": true
   },
   "outputs": [],
   "source": [
    "from sklearn.gaussian_process import GaussianProcessRegressor\n",
    "from sklearn.gaussian_process.kernels import RBF, ConstantKernel as C\n",
    "\n",
    "\n",
    "def interpolate_data(hidden_train, hidden_test, obs_train, obs_test, input_train, input_test, dirichlet_emission):\n",
    "    interpolated_hidden_train = []\n",
    "    interpolated_hidden_test = []\n",
    "    interpolated_obs_train = []\n",
    "    interpolated_obs_test = []\n",
    "    interpolated_input_train = []\n",
    "    interpolated_input_test = []\n",
    "    mask_train = []\n",
    "    mask_test = []\n",
    "    time_interval_train = []\n",
    "    time_interval_test = []\n",
    "\n",
    "    for hidden, obs, input in zip(hidden_train, obs_train, input_train):\n",
    "        hidden, obs, input, mask, time_interval = interpolate_datapoint(hidden, obs, input, dirichlet_emission)\n",
    "        interpolated_hidden_train.append(hidden)\n",
    "        interpolated_obs_train.append(obs)\n",
    "        interpolated_input_train.append(input)\n",
    "        mask_train.append(mask)\n",
    "        time_interval_train.append(time_interval)\n",
    "\n",
    "    for hidden, obs, input in zip(hidden_test, obs_test, input_test):\n",
    "        hidden, obs, input, mask, time_interval = interpolate_datapoint(hidden, obs, input, dirichlet_emission)\n",
    "        interpolated_hidden_test.append(hidden)\n",
    "        interpolated_obs_test.append(obs)\n",
    "        interpolated_input_test.append(input)\n",
    "        mask_test.append(mask)\n",
    "        time_interval_test.append(time_interval)\n",
    "\n",
    "    return interpolated_hidden_train, interpolated_hidden_test, \\\n",
    "           interpolated_obs_train, interpolated_obs_test, \\\n",
    "           interpolated_input_train, interpolated_input_test, \\\n",
    "           mask_train, mask_test, time_interval_train, time_interval_test\n",
    "\n",
    "\n",
    "def interpolate_datapoint(hidden, obs, input, dirichlet_emission):\n",
    "    \"\"\"\n",
    "\n",
    "    :param hidden: (n_obs, Dx)\n",
    "    :param obs: (n_obs, Dy + 1), [:, 0] records t of all obs\n",
    "    :param input: (n_inputs, Dy + 1], [:, 0] records t of all inputs\n",
    "    :return:\n",
    "    hidden: (time, Dx)\n",
    "    obs: (time, Dy)\n",
    "    interpolated_input: (time, Dv)\n",
    "    mask: (time, )\n",
    "    time_interval: (time, )\n",
    "    \"\"\"\n",
    "    days = obs[:, 0].astype(int)\n",
    "    time = days[-1] - days[0] + 1\n",
    "\n",
    "    mask = np.ones((time, ), dtype=bool)\n",
    "    time_interval = np.zeros((time, ))\n",
    "\n",
    "    i = 0\n",
    "    for t in np.arange(days[0], days[-1] + 1):\n",
    "        idx = t - days[0]\n",
    "        if t == days[i]:\n",
    "            i = i + 1\n",
    "            time_interval[idx] = 0\n",
    "        else:\n",
    "            mask[t - days[0]] = False\n",
    "            time_interval[idx] = time_interval[idx - 1] + 1\n",
    "\n",
    "    # hidden\n",
    "    hidden = np.zeros((time, hidden.shape[1]))\n",
    "\n",
    "    # obs\n",
    "    Dy = obs.shape[1] - 1\n",
    "    i = 0\n",
    "    if dirichlet_emission:\n",
    "        interpoated_obs = np.zeros((time, Dy))\n",
    "        last_valid_value = np.ones(Dy) / Dy\n",
    "        for t in np.arange(days[0], days[-1] + 1):\n",
    "            if t == days[i]:\n",
    "                smoothed_obs = obs[i, 1:]\n",
    "                smoothed_obs = smoothed_obs * (1 - 1e-6) + 1e-6 / Dy\n",
    "                interpoated_obs[t - days[0]] = smoothed_obs\n",
    "                last_valid_value = smoothed_obs\n",
    "                i += 1\n",
    "            else:\n",
    "                interpoated_obs[t - days[0]] = last_valid_value\n",
    "    else:\n",
    "        X = np.atleast_2d(days).T\n",
    "        y = obs[:, 1:]\n",
    "\n",
    "        kernel = C(1.0, (1e-3, 1e3)) * RBF(10, (1e-2, 1e2))\n",
    "        noise = 1e-2\n",
    "        gp = GaussianProcessRegressor(kernel=kernel, alpha=noise ** 2, n_restarts_optimizer=10)\n",
    "        gp.fit(X, y)\n",
    "\n",
    "        X_pred = np.atleast_2d(np.arange(days[0], days[-1] + 1)).T\n",
    "        interpoated_obs, sigma = gp.predict(X_pred, return_std=True)\n",
    "\n",
    "        # plt.figure()\n",
    "        # plt.plot(X_pred, interpoated_obs, 'b-', label='Prediction')\n",
    "        # plt.fill(np.concatenate([X_pred, X_pred[::-1]]),\n",
    "        #          np.concatenate([interpoated_obs - 1.9600 * sigma,\n",
    "        #                          (interpoated_obs + 1.9600 * sigma)[::-1]]),\n",
    "        #          alpha=.5, fc='b', ec='None', label='95% confidence interval')\n",
    "        # plt.xlabel('$x$')\n",
    "        # plt.ylabel('$y$')\n",
    "        # plt.legend(loc='upper left')\n",
    "        # plt.show()\n",
    "\n",
    "    # input\n",
    "    Dv = input.shape[1] - 1\n",
    "    interpoated_input = np.zeros((time, Dv))\n",
    "    for day_input in input:\n",
    "        day = int(day_input[0])\n",
    "        if days[0] <= day <= days[-1]:\n",
    "            interpoated_input[day - days[0]] = day_input[1:]\n",
    "\n",
    "    return hidden, interpoated_obs, interpoated_input, mask, time_interval\n",
    "\n",
    "\n",
    "\n",
    "\n",
    "\n"
   ]
  },
  {
   "cell_type": "code",
   "execution_count": 83,
   "metadata": {
    "collapsed": false
   },
   "outputs": [],
   "source": [
    "hidden_train, hidden_test, obs_train, obs_test, input_train, input_test, \\\n",
    "        _mask_train, _mask_test, time_interval_train, time_interval_test = \\\n",
    "            interpolate_data(hidden_train, hidden_test, obs_train, obs_test, input_train, input_test, dirichlet_emission=False)"
   ]
  },
  {
   "cell_type": "code",
   "execution_count": 84,
   "metadata": {
    "collapsed": false
   },
   "outputs": [
    {
     "data": {
      "text/plain": [
       "17"
      ]
     },
     "execution_count": 84,
     "metadata": {},
     "output_type": "execute_result"
    }
   ],
   "source": [
    "len(obs_train)"
   ]
  },
  {
   "cell_type": "code",
   "execution_count": 85,
   "metadata": {
    "collapsed": false
   },
   "outputs": [
    {
     "data": {
      "text/plain": [
       "(42, 11)"
      ]
     },
     "execution_count": 85,
     "metadata": {},
     "output_type": "execute_result"
    }
   ],
   "source": [
    "obs_train[0].shape"
   ]
  },
  {
   "cell_type": "code",
   "execution_count": 87,
   "metadata": {
    "collapsed": false
   },
   "outputs": [
    {
     "data": {
      "text/plain": [
       "(42, 11)"
      ]
     },
     "execution_count": 87,
     "metadata": {},
     "output_type": "execute_result"
    }
   ],
   "source": [
    "obs_train[0].shape"
   ]
  },
  {
   "cell_type": "code",
   "execution_count": 89,
   "metadata": {
    "collapsed": false
   },
   "outputs": [
    {
     "data": {
      "text/plain": [
       "(20, 12)"
      ]
     },
     "execution_count": 89,
     "metadata": {},
     "output_type": "execute_result"
    }
   ],
   "source": [
    "data['Ytrain'][0].shape"
   ]
  },
  {
   "cell_type": "code",
   "execution_count": 97,
   "metadata": {
    "collapsed": false
   },
   "outputs": [
    {
     "data": {
      "text/plain": [
       "array([1., 1., 1., 1., 1., 1., 1., 1., 1., 1., 1., 1., 1., 1., 1., 1., 1.,\n",
       "       1., 1., 1.])"
      ]
     },
     "execution_count": 97,
     "metadata": {},
     "output_type": "execute_result"
    }
   ],
   "source": [
    "data['Ytrain'][0][:,1:].sum(axis=-1)"
   ]
  },
  {
   "cell_type": "code",
   "execution_count": null,
   "metadata": {
    "collapsed": true
   },
   "outputs": [],
   "source": []
  },
  {
   "cell_type": "code",
   "execution_count": null,
   "metadata": {
    "collapsed": true
   },
   "outputs": [],
   "source": []
  },
  {
   "cell_type": "code",
   "execution_count": null,
   "metadata": {
    "collapsed": true
   },
   "outputs": [],
   "source": []
  },
  {
   "cell_type": "code",
   "execution_count": 4,
   "metadata": {
    "collapsed": true
   },
   "outputs": [],
   "source": [
    "T = 2\n",
    "Dy = 3\n",
    "\n",
    "lambdas = tf.placeholder(tf.float32, shape=(T, Dy))"
   ]
  },
  {
   "cell_type": "code",
   "execution_count": 5,
   "metadata": {
    "collapsed": true
   },
   "outputs": [],
   "source": [
    "poisson = tfd.Poisson(rate=lambdas,\n",
    "                                  validate_args=True,\n",
    "                                  allow_nan_stats=False)"
   ]
  },
  {
   "cell_type": "code",
   "execution_count": 6,
   "metadata": {
    "collapsed": true
   },
   "outputs": [],
   "source": [
    "lambdas_value = np.array([[1,1,1],[2,2,2]])"
   ]
  },
  {
   "cell_type": "code",
   "execution_count": 27,
   "metadata": {
    "collapsed": true
   },
   "outputs": [],
   "source": [
    "batch_size = 1\n",
    "samples = poisson.sample(1)"
   ]
  },
  {
   "cell_type": "code",
   "execution_count": 28,
   "metadata": {
    "collapsed": true
   },
   "outputs": [],
   "source": [
    "with tf.Session() as sess:\n",
    "    samples_val = sess.run(samples, feed_dict={lambdas: lambdas_value})"
   ]
  },
  {
   "cell_type": "code",
   "execution_count": 29,
   "metadata": {
    "collapsed": false
   },
   "outputs": [
    {
     "data": {
      "text/plain": [
       "(1, 2, 3)"
      ]
     },
     "execution_count": 29,
     "metadata": {},
     "output_type": "execute_result"
    }
   ],
   "source": [
    "samples_val.shape"
   ]
  },
  {
   "cell_type": "code",
   "execution_count": 30,
   "metadata": {
    "collapsed": false
   },
   "outputs": [
    {
     "data": {
      "text/plain": [
       "array([[[1., 1., 0.],\n",
       "        [4., 0., 2.]]], dtype=float32)"
      ]
     },
     "execution_count": 30,
     "metadata": {},
     "output_type": "execute_result"
    }
   ],
   "source": [
    "samples_val"
   ]
  },
  {
   "cell_type": "code",
   "execution_count": 15,
   "metadata": {
    "collapsed": false
   },
   "outputs": [
    {
     "data": {
      "image/png": "[encoded data removed]",
      "text/plain": [
       "<Figure size 432x288 with 1 Axes>"
      ]
     },
     "metadata": {
      "needs_background": "light"
     },
     "output_type": "display_data"
    }
   ],
   "source": [
    "plt.hist(samples_val[:,0,0], bins=100);"
   ]
  },
  {
   "cell_type": "code",
   "execution_count": 37,
   "metadata": {
    "collapsed": true
   },
   "outputs": [],
   "source": [
    "obs = tf.placeholder(tf.float32, shape=(T, Dy))\n",
    "\n",
    "log_probs = poisson.log_prob(obs)"
   ]
  },
  {
   "cell_type": "code",
   "execution_count": 39,
   "metadata": {
    "collapsed": false
   },
   "outputs": [],
   "source": [
    "with tf.Session() as sess:\n",
    "    log_probs_val = sess.run(log_probs, feed_dict={lambdas: lambdas_value, obs: samples_val[0]})"
   ]
  },
  {
   "cell_type": "code",
   "execution_count": 40,
   "metadata": {
    "collapsed": false
   },
   "outputs": [
    {
     "data": {
      "text/plain": [
       "(2, 3)"
      ]
     },
     "execution_count": 40,
     "metadata": {},
     "output_type": "execute_result"
    }
   ],
   "source": [
    "log_probs_val.shape"
   ]
  },
  {
   "cell_type": "code",
   "execution_count": 41,
   "metadata": {
    "collapsed": false
   },
   "outputs": [
    {
     "data": {
      "text/plain": [
       "array([[-1.       , -1.       , -1.       ],\n",
       "       [-2.4054651, -2.       , -1.3068528]], dtype=float32)"
      ]
     },
     "execution_count": 41,
     "metadata": {},
     "output_type": "execute_result"
    }
   ],
   "source": [
    "log_probs_val"
   ]
  },
  {
   "cell_type": "code",
   "execution_count": 99,
   "metadata": {
    "collapsed": false
   },
   "outputs": [
    {
     "data": {
      "text/plain": [
       "array([[0., 0., 0.],\n",
       "       [0., 0., 0.]])"
      ]
     },
     "execution_count": 99,
     "metadata": {},
     "output_type": "execute_result"
    }
   ],
   "source": [
    "np.zeros((2,3))"
   ]
  },
  {
   "cell_type": "code",
   "execution_count": 101,
   "metadata": {
    "collapsed": false
   },
   "outputs": [
    {
     "data": {
      "text/plain": [
       "array([0., 0.])"
      ]
     },
     "execution_count": 101,
     "metadata": {},
     "output_type": "execute_result"
    }
   ],
   "source": [
    "np.zeros((2,))"
   ]
  },
  {
   "cell_type": "code",
   "execution_count": 102,
   "metadata": {
    "collapsed": false
   },
   "outputs": [
    {
     "data": {
      "text/plain": [
       "<tf.Tensor 'Poisson_1/sample_5/Reshape:0' shape=(1, 2, 3) dtype=float32>"
      ]
     },
     "execution_count": 102,
     "metadata": {},
     "output_type": "execute_result"
    }
   ],
   "source": [
    "samples"
   ]
  },
  {
   "cell_type": "code",
   "execution_count": 103,
   "metadata": {
    "collapsed": false
   },
   "outputs": [
    {
     "data": {
      "text/plain": [
       "array([[[1., 1., 0.],\n",
       "        [4., 0., 2.]]], dtype=float32)"
      ]
     },
     "execution_count": 103,
     "metadata": {},
     "output_type": "execute_result"
    }
   ],
   "source": [
    "samples_val"
   ]
  },
  {
   "cell_type": "code",
   "execution_count": 104,
   "metadata": {
    "collapsed": false
   },
   "outputs": [
    {
     "ename": "AttributeError",
     "evalue": "module 'tensorflow' has no attribute 'sum'",
     "output_type": "error",
     "traceback": [
      "\u001b[0;31m---------------------------------------------------------------------------\u001b[0m",
      "\u001b[0;31mAttributeError\u001b[0m                            Traceback (most recent call last)",
      "\u001b[0;32m<ipython-input-104-932b2bab8a3c>\u001b[0m in \u001b[0;36m<module>\u001b[0;34m\u001b[0m\n\u001b[0;32m----> 1\u001b[0;31m \u001b[0mtf\u001b[0m\u001b[0;34m.\u001b[0m\u001b[0msum\u001b[0m\u001b[0;34m(\u001b[0m\u001b[0msample\u001b[0m\u001b[0;34m)\u001b[0m\u001b[0;34m\u001b[0m\u001b[0;34m\u001b[0m\u001b[0m\n\u001b[0m",
      "\u001b[0;31mAttributeError\u001b[0m: module 'tensorflow' has no attribute 'sum'"
     ]
    }
   ],
   "source": []
  },
  {
   "cell_type": "code",
   "execution_count": null,
   "metadata": {
    "collapsed": true
   },
   "outputs": [],
   "source": []
  }
 ],
 "metadata": {
  "kernelspec": {
   "display_name": "SMC_venv",
   "language": "python",
   "name": "smc_venv"
  },
  "language_info": {
   "codemirror_mode": {
    "name": "ipython",
    "version": 3
   },
   "file_extension": ".py",
   "mimetype": "text/x-python",
   "name": "python",
   "nbconvert_exporter": "python",
   "pygments_lexer": "ipython3",
   "version": "3.6.8"
  }
 },
 "nbformat": 4,
 "nbformat_minor": 2
}
